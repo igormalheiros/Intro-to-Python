{
 "cells": [
  {
   "cell_type": "markdown",
   "id": "570a425a",
   "metadata": {},
   "source": [
    "# Introdução à Programação para Ciência de Dados\n",
    "\n",
    "### Aula 17: Pandas I\n",
    "\n",
    "**Professor:** Igor Malheiros"
   ]
  },
  {
   "cell_type": "markdown",
   "id": "1b12a212",
   "metadata": {},
   "source": [
    "## Introdução\n",
    "\n",
    "Uma das mais importantes ferramentas para Ciência de Dados em Python é a biblioteca **Pandas**. Com essa ferramenta de código aberto é possível processar eficientemente dados tabulares de maneira similar à softwares de planilhas, tais como LibreOffice Calc, Microsoft Excel e Apple Numbers. O Pandas é amplamente utilizado nos domínios acadêmicos e comerciais em áreas que incluem Finanças, Neurociência, Economia, Estatística, Marketing e muito mais.\n",
    "\n",
    "Dentre as principais vantagens da utilização dessa ferramenta podemos citar:\n",
    "\n",
    "- Facilidade de acesso\n",
    "- Ferramenta de livre uso e modificação\n",
    "- Alta flexibilidade\n",
    "- Facilidade de uso\n",
    "- Eficiência\n",
    "\n",
    "Boa parte do Pandas foi construída utilizando a biblioteca Numpy, sendo esse um dos segredos da vantagem de eficiência dessa ferramenta em relação às estruturas de dados tradicionais fornecidas por Python.\n",
    "\n",
    "Nesse curso, nós estudaremos as duas principais estruturas de dados que o Pandas oferece. As *Series* e os *DataFrames*.\n",
    "\n",
    "### Pandas - Series\n",
    "\n",
    "Em um primeiro momento, podemos entender uma Series como sendo uma estrutura de dados muito similar às **listas** de Python, ou seja, temos um conjunto de elementos armazenados de forma sequencial. Assim, podemos utilizar os acessos à elementos com o operador de `[]`, para acessarmos de $0$ até $n-1$ as posições dos elementos armazenados nessa estrutura de dados. Os acessos de múltiplos elementos via *slicing* também são válidos nas Series, enquanto que os acessos via índices negativos **não são válidos**.\n",
    "\n",
    "Entretanto, podemos apontar algumas diferenças, a primeira delas é que, apesar de podermos mesclar elementos de tipos diferentes, as Series conseguem perceber se todos os elementos são de um mesmo tipo, permitindo uma melhor otimização da armazenação dos dados e, consequentemente, mais eficiência em seus processamentos. Uma outra diferença é que as Series podem possuir **nomes** ou **títulos** que a princípio podem não fazer muito sentido, mas elas serão úteis quando utilizarmos junto aos DataFrames.\n",
    "\n",
    "</br></br>\n",
    "\n",
    "```Python\n",
    "import pandas as pd\n",
    "import numpy as np\n",
    "\n",
    "# Criando uma Series do Pandas\n",
    "g7_pop = pd.Series(\n",
    "    [38388419, 65584518, 83883596, 60262770, 125584838, 68497907, 334805269], \n",
    "    name=\"POPULAÇÃO G7\"\n",
    ")\n",
    "\n",
    "print(g7_pop[0])   # -> 38388419\n",
    "print(g7_pop[2])   # -> 83883596\n",
    "print(g7_pop[-1])  # -> Erro!\n",
    "print(g7_pop[2:5]) # -> 83883596, 60262770, 125584838\n",
    "\n",
    "print(g7_pop.dtype)   # -> int64\n",
    "print(g7_pop.name)    # -> POPULAÇÃO G7\n",
    "```\n",
    "\n",
    "</br></br>\n",
    "\n",
    "### Acessos\n",
    "\n",
    "No exemplo anterior, os valores da Serie foram indexados por valores entre $0$ e $n-1$ que é o que acontece por padrão ao criarmos esse tipo de estrutura de dados. Entretanto, é possível determinar quais são os valores dos índices, o que inclui utilizar valores que estão fora desse intervalo, ou até mesmo outros tipos de valores (como strings, por exemplo). Quando isso acontece, podemos acessar um elemento da Serie pelo novo \"nome\" do seu índice. Dessa forma, as Series começam a se comportar de forma similar aos **dicionários** de Python.\n",
    "\n",
    "</br></br>\n",
    "\n",
    "```Python\n",
    "# Criando uma Series do Pandas\n",
    "g7_pop = pd.Series(\n",
    "    [38388419, 65584518, 83883596, 60262770, 125584838, 68497907, 334805269],\n",
    "    index=['Canada','France','Germany','Italy','Japan','United Kingdom','United States'],\n",
    "    name=\"POPULAÇÃO G7\"\n",
    ")\n",
    "\n",
    "print(g7_pop['Canada']) # -> 38388419\n",
    "print(g7_pop['Germany']) # -> 83883596\n",
    "print(g7_pop['Germany':'Japan']) # -> 83883596, 60262770, 125584838\n",
    "```\n",
    "\n",
    "</br></br>\n",
    "\n",
    "Outra forma de acessarmos os elementos de uma Serie é utilizando o atributo `iloc` junto ao operador `[]`. O atributo `iloc` vai funcionar como os acessos de índices que já conhecemos das *listas* em Python ou dos *arrays* em Numpy mesmo que essas posições já possuam algum nome associado. Assim, é possível acessar de forma posicional cada elemento, ou via slicing ou até mesmo via índices negativos.\n",
    "\n",
    "</br></br>\n",
    "\n",
    "```Python\n",
    "print(g7_pop.iloc[0])   # -> 38388419\n",
    "print(g7_pop.iloc[2])   # -> 83883596\n",
    "print(g7_pop.iloc[-1])  # -> 334805269\n",
    "print(g7_pop.iloc[2:5]) # -> 83883596, 60262770, 125584838\n",
    "```\n",
    "\n",
    "</br></br>\n",
    "\n",
    "Por último, nós também podemos escolher acessar apenas **alguns elementos específicos** da nossa Serie. Para isso, podemos passar uma lista com os nomes associados aos elementos que queremos acessar ou as posições dos elementos que queremos acessar via `iloc`.\n",
    "\n",
    "</br></br>\n",
    "\n",
    "```Python\n",
    "print(g7_pop[['Canada', 'Italy', 'United Kingdom']])  # -> 38388419, 60262770, 68497907\n",
    "print(g7_pop.iloc[[0, 3, 5]])   # -> 38388419, 60262770, 68497907\n",
    "```\n",
    "\n",
    "</br></br>"
   ]
  },
  {
   "cell_type": "code",
   "execution_count": 1,
   "id": "5fbcc2b1",
   "metadata": {},
   "outputs": [
    {
     "data": {
      "text/plain": [
       "0     38388419\n",
       "1     65584518\n",
       "2     83883596\n",
       "3     60262770\n",
       "4    125584838\n",
       "5     68497907\n",
       "6    334805269\n",
       "Name: POPULAÇÃO G7, dtype: int64"
      ]
     },
     "execution_count": 1,
     "metadata": {},
     "output_type": "execute_result"
    }
   ],
   "source": [
    "import pandas as pd\n",
    "import numpy as np\n",
    "\n",
    "g7_pop = pd.Series(\n",
    "    [38388419, 65584518, 83883596, 60262770, 125584838, 68497907, 334805269],\n",
    "    name=\"POPULAÇÃO G7\"\n",
    ")\n",
    "\n",
    "g7_pop"
   ]
  },
  {
   "cell_type": "code",
   "execution_count": 5,
   "id": "73f3ed01",
   "metadata": {},
   "outputs": [
    {
     "data": {
      "text/plain": [
       "65584518"
      ]
     },
     "execution_count": 5,
     "metadata": {},
     "output_type": "execute_result"
    }
   ],
   "source": [
    "# Acesso aos elementos\n",
    "g7_pop[1]"
   ]
  },
  {
   "cell_type": "code",
   "execution_count": 6,
   "id": "cc8920d1",
   "metadata": {},
   "outputs": [
    {
     "data": {
      "text/plain": [
       "2     83883596\n",
       "3     60262770\n",
       "4    125584838\n",
       "Name: POPULAÇÃO G7, dtype: int64"
      ]
     },
     "execution_count": 6,
     "metadata": {},
     "output_type": "execute_result"
    }
   ],
   "source": [
    "# Acesso via slicing\n",
    "g7_pop[2:5]"
   ]
  },
  {
   "cell_type": "code",
   "execution_count": 7,
   "id": "18c059b0",
   "metadata": {},
   "outputs": [
    {
     "data": {
      "text/plain": [
       "dtype('int64')"
      ]
     },
     "execution_count": 7,
     "metadata": {},
     "output_type": "execute_result"
    }
   ],
   "source": [
    "# Tipo dos elementos - .dtype\n",
    "g7_pop.dtype"
   ]
  },
  {
   "cell_type": "code",
   "execution_count": 8,
   "id": "49f34dbd",
   "metadata": {},
   "outputs": [
    {
     "data": {
      "text/plain": [
       "'POPULAÇÃO G7'"
      ]
     },
     "execution_count": 8,
     "metadata": {},
     "output_type": "execute_result"
    }
   ],
   "source": [
    "# Nome da Serie - .name\n",
    "g7_pop.name"
   ]
  },
  {
   "cell_type": "code",
   "execution_count": 32,
   "id": "45a1ce3a",
   "metadata": {},
   "outputs": [
    {
     "data": {
      "text/plain": [
       "Canada             38388419\n",
       "France             65584518\n",
       "Germany            83883596\n",
       "Italy              60262770\n",
       "Japan             125584838\n",
       "United Kingdom     68497907\n",
       "United States     334805269\n",
       "Name: POPULAÇÃO G7, dtype: int64"
      ]
     },
     "execution_count": 32,
     "metadata": {},
     "output_type": "execute_result"
    }
   ],
   "source": [
    "g7_pop = pd.Series(\n",
    "    [38388419, 65584518, 83883596, 60262770, 125584838, 68497907, 334805269],\n",
    "    index=['Canada','France','Germany','Italy','Japan','United Kingdom','United States'],\n",
    "    name=\"POPULAÇÃO G7\"\n",
    ")\n",
    "\n",
    "g7_pop"
   ]
  },
  {
   "cell_type": "code",
   "execution_count": 11,
   "id": "cf00982c",
   "metadata": {},
   "outputs": [
    {
     "data": {
      "text/plain": [
       "125584838"
      ]
     },
     "execution_count": 11,
     "metadata": {},
     "output_type": "execute_result"
    }
   ],
   "source": [
    "# Acesso via nome\n",
    "g7_pop['Japan']"
   ]
  },
  {
   "cell_type": "code",
   "execution_count": 12,
   "id": "5fc14198",
   "metadata": {},
   "outputs": [
    {
     "data": {
      "text/plain": [
       "France      65584518\n",
       "Germany     83883596\n",
       "Italy       60262770\n",
       "Japan      125584838\n",
       "Name: POPULAÇÃO G7, dtype: int64"
      ]
     },
     "execution_count": 12,
     "metadata": {},
     "output_type": "execute_result"
    }
   ],
   "source": [
    "# Acesso via slicing\n",
    "g7_pop['France':'Japan']"
   ]
  },
  {
   "cell_type": "code",
   "execution_count": 14,
   "id": "e862423e",
   "metadata": {},
   "outputs": [
    {
     "data": {
      "text/plain": [
       "83883596"
      ]
     },
     "execution_count": 14,
     "metadata": {},
     "output_type": "execute_result"
    }
   ],
   "source": [
    "# Acesso via .iloc[]\n",
    "g7_pop.iloc[2]"
   ]
  },
  {
   "cell_type": "code",
   "execution_count": 16,
   "id": "e6ea1f4d",
   "metadata": {},
   "outputs": [
    {
     "data": {
      "text/plain": [
       "68497907"
      ]
     },
     "execution_count": 16,
     "metadata": {},
     "output_type": "execute_result"
    }
   ],
   "source": [
    "# Acesso via .iloc[] com índice negativo\n",
    "g7_pop.iloc[-2]"
   ]
  },
  {
   "cell_type": "code",
   "execution_count": 17,
   "id": "514b65d0",
   "metadata": {},
   "outputs": [
    {
     "data": {
      "text/plain": [
       "Germany     83883596\n",
       "Italy       60262770\n",
       "Japan      125584838\n",
       "Name: POPULAÇÃO G7, dtype: int64"
      ]
     },
     "execution_count": 17,
     "metadata": {},
     "output_type": "execute_result"
    }
   ],
   "source": [
    "# Acesso via iloc[] com slicing\n",
    "g7_pop.iloc[2:5]"
   ]
  },
  {
   "cell_type": "code",
   "execution_count": 18,
   "id": "d98ab3c3",
   "metadata": {},
   "outputs": [
    {
     "data": {
      "text/plain": [
       "Canada     38388419\n",
       "Japan     125584838\n",
       "Italy      60262770\n",
       "Name: POPULAÇÃO G7, dtype: int64"
      ]
     },
     "execution_count": 18,
     "metadata": {},
     "output_type": "execute_result"
    }
   ],
   "source": [
    "# Acesso via lista de nomes\n",
    "g7_pop[['Canada', 'Japan', 'Italy']]"
   ]
  },
  {
   "cell_type": "code",
   "execution_count": 19,
   "id": "e86c43fa",
   "metadata": {},
   "outputs": [
    {
     "data": {
      "text/plain": [
       "Canada            38388419\n",
       "Italy             60262770\n",
       "United Kingdom    68497907\n",
       "Name: POPULAÇÃO G7, dtype: int64"
      ]
     },
     "execution_count": 19,
     "metadata": {},
     "output_type": "execute_result"
    }
   ],
   "source": [
    "# Acesso via lista de posições\n",
    "g7_pop.iloc[[0, 3, 5]]"
   ]
  },
  {
   "cell_type": "markdown",
   "id": "483de6f2",
   "metadata": {},
   "source": [
    "### Operações aritméticas e booleanas\n",
    "\n",
    "Devido as similaridades entre as Series e os arrays Numpy, é possível realizar operações aritméticas e booleanas entre os valores de uma Serie e um valor escalar. A operação será aplicada elemento por elemento, assim como nos arrays Numpy.\n",
    "\n",
    "</br></br>\n",
    "\n",
    "```Python\n",
    "print(g7_pop / 1000000)   # -> 38.388419, 65.584518, 83.883596, 60.262770, 125.584838, 68.497907, 334.805269\n",
    "print(g7_pop < 70000000)  # -> True, True, False, True, False, True, False\n",
    "\n",
    "nova_variavel = g7_pop < 70000000\n",
    "\n",
    "print(g7_pop > 100000000) # -> False, False, False, False, True, False, True\n",
    "```\n",
    "\n",
    "</br></br>\n",
    "\n",
    "É importante destacar que essas operações não modificam a Serie original.\n",
    "\n",
    "### Filtros\n",
    "\n",
    "Assim como estudamos nos arrays Numpy, podemos utilizar operações booleanas para filtrar alguns valores da nossa Serie. Além disso, nós também podemos utilizar os operadores `&` (e), `|` (ou), `~` (não) junto aos operadores lógicos para formar expressões mais complexas. Os filtros são de extrema importância para selecionar dados ou para o processo de limpeza de dados, sendo muito utilizado para resolver problemas práticos.\n",
    "\n",
    "</br></br>\n",
    "\n",
    "```Python\n",
    "print(g7_pop[g7_pop < 70000000])  # -> 38388419, 65584518, 60262770, 68497907\n",
    "print(g7_pop[(g7_pop > 65000000) & (g7_pop < 100000000)]) # -> 65584518, 83883596, 68497907\n",
    "```\n",
    "\n",
    "</br></br>\n",
    "\n",
    "### Modificando elementos\n",
    "\n",
    "Podemos modificar os elementos de uma Serie fazendo atribuições diretas via os acessos que estudamos anteriormente. Além disso, podemos também modificar os valores resultado de uma filtragem.\n",
    "\n",
    "</br></br>\n",
    "\n",
    "```Python\n",
    "g7_pop['Canada'] =  40388419\n",
    "g7_pop.iloc[-1] = 340000000\n",
    "g7_pop[g7_pop > 100000000] = 100000000\n",
    "g7_pop = g7_pop / 1000000\n",
    "```\n",
    "\n",
    "</br></br>"
   ]
  },
  {
   "cell_type": "code",
   "execution_count": 22,
   "id": "3724d4a3",
   "metadata": {},
   "outputs": [
    {
     "data": {
      "text/plain": [
       "Canada             38.388419\n",
       "France             65.584518\n",
       "Germany            83.883596\n",
       "Italy              60.262770\n",
       "Japan             125.584838\n",
       "United Kingdom     68.497907\n",
       "United States     334.805269\n",
       "Name: POPULAÇÃO G7, dtype: float64"
      ]
     },
     "execution_count": 22,
     "metadata": {},
     "output_type": "execute_result"
    }
   ],
   "source": [
    "# Aritméticas entre Serie e escalar\n",
    "g7_pop / 1000000"
   ]
  },
  {
   "cell_type": "code",
   "execution_count": 23,
   "id": "c60506c9",
   "metadata": {},
   "outputs": [
    {
     "data": {
      "text/plain": [
       "Canada            False\n",
       "France            False\n",
       "Germany            True\n",
       "Italy             False\n",
       "Japan              True\n",
       "United Kingdom    False\n",
       "United States      True\n",
       "Name: POPULAÇÃO G7, dtype: bool"
      ]
     },
     "execution_count": 23,
     "metadata": {},
     "output_type": "execute_result"
    }
   ],
   "source": [
    "# Booleana entre Serie e escalar\n",
    "g7_pop > 70000000"
   ]
  },
  {
   "cell_type": "code",
   "execution_count": 26,
   "id": "562cae4e",
   "metadata": {},
   "outputs": [
    {
     "data": {
      "text/plain": [
       "Germany           83883596\n",
       "Japan            125584838\n",
       "United States    334805269\n",
       "Name: POPULAÇÃO G7, dtype: int64"
      ]
     },
     "execution_count": 26,
     "metadata": {},
     "output_type": "execute_result"
    }
   ],
   "source": [
    "# Filtro\n",
    "g7_pop[g7_pop > 70000000]"
   ]
  },
  {
   "cell_type": "code",
   "execution_count": 27,
   "id": "2253c849",
   "metadata": {},
   "outputs": [
    {
     "data": {
      "text/plain": [
       "Germany     83883596\n",
       "Japan      125584838\n",
       "Name: POPULAÇÃO G7, dtype: int64"
      ]
     },
     "execution_count": 27,
     "metadata": {},
     "output_type": "execute_result"
    }
   ],
   "source": [
    "# Filtro complexo\n",
    "g7_pop[(g7_pop > 70000000) & (g7_pop < 200000000)]"
   ]
  },
  {
   "cell_type": "code",
   "execution_count": 28,
   "id": "748a0202",
   "metadata": {},
   "outputs": [
    {
     "data": {
      "text/plain": [
       "Canada             40000000\n",
       "France             65584518\n",
       "Germany            83883596\n",
       "Italy              60262770\n",
       "Japan             125584838\n",
       "United Kingdom     68497907\n",
       "United States     334805269\n",
       "Name: POPULAÇÃO G7, dtype: int64"
      ]
     },
     "execution_count": 28,
     "metadata": {},
     "output_type": "execute_result"
    }
   ],
   "source": [
    "# Modificação via nome\n",
    "g7_pop['Canada'] = 40000000\n",
    "g7_pop"
   ]
  },
  {
   "cell_type": "code",
   "execution_count": 29,
   "id": "28c45dad",
   "metadata": {},
   "outputs": [
    {
     "data": {
      "text/plain": [
       "Canada             40000000\n",
       "France             65584518\n",
       "Germany            83883596\n",
       "Italy              60262770\n",
       "Japan             125584838\n",
       "United Kingdom     68497907\n",
       "United States     340000000\n",
       "Name: POPULAÇÃO G7, dtype: int64"
      ]
     },
     "execution_count": 29,
     "metadata": {},
     "output_type": "execute_result"
    }
   ],
   "source": [
    "# Modificação via posição\n",
    "g7_pop.iloc[-1] = 340000000\n",
    "g7_pop"
   ]
  },
  {
   "cell_type": "code",
   "execution_count": 30,
   "id": "bbc6d7ca",
   "metadata": {},
   "outputs": [
    {
     "data": {
      "text/plain": [
       "Canada             40000000\n",
       "France             65584518\n",
       "Germany            83883596\n",
       "Italy              60262770\n",
       "Japan             100000000\n",
       "United Kingdom     68497907\n",
       "United States     100000000\n",
       "Name: POPULAÇÃO G7, dtype: int64"
      ]
     },
     "execution_count": 30,
     "metadata": {},
     "output_type": "execute_result"
    }
   ],
   "source": [
    "# Modificação via filtro\n",
    "g7_pop[g7_pop > 100000000] = 100000000\n",
    "g7_pop"
   ]
  },
  {
   "cell_type": "code",
   "execution_count": 33,
   "id": "a025e343",
   "metadata": {},
   "outputs": [
    {
     "data": {
      "text/plain": [
       "Canada             38.388419\n",
       "France             65.584518\n",
       "Germany            83.883596\n",
       "Italy              60.262770\n",
       "Japan             125.584838\n",
       "United Kingdom     68.497907\n",
       "United States     334.805269\n",
       "Name: POPULAÇÃO G7, dtype: float64"
      ]
     },
     "execution_count": 33,
     "metadata": {},
     "output_type": "execute_result"
    }
   ],
   "source": [
    "# Modificação via operação aritimética\n",
    "g7_pop = g7_pop / 1000000\n",
    "g7_pop"
   ]
  },
  {
   "cell_type": "markdown",
   "id": "5ad2eee4",
   "metadata": {},
   "source": [
    "## DataFrame\n",
    "\n",
    "O DataFrame é a estrutura de dados mais importante do Pandas, elas funcionam de forma muito similar às planilhas. \n",
    "\n",
    "A maneira mais comum e direta para criar um DataFrame é importando alguma planilha com extensão `.csv`, entretanto, criaremos nosso primeiro DataFrame manualmente, passando informações de cada coluna. Assim, a estrutura receberá um dicionário Python em que cada chave é uma coluna da tabela e o valor de cada chave será uma lista Python contendo os valores referentes às linhas da tabela. Por último, passamos como propriedade `columns` uma lista com os nomes de cada coluna e como propriedade `index` uma lista com os nomes de cada linha da tabela."
   ]
  },
  {
   "cell_type": "code",
   "execution_count": 35,
   "id": "c424dda5",
   "metadata": {},
   "outputs": [
    {
     "data": {
      "text/html": [
       "<div>\n",
       "<style scoped>\n",
       "    .dataframe tbody tr th:only-of-type {\n",
       "        vertical-align: middle;\n",
       "    }\n",
       "\n",
       "    .dataframe tbody tr th {\n",
       "        vertical-align: top;\n",
       "    }\n",
       "\n",
       "    .dataframe thead th {\n",
       "        text-align: right;\n",
       "    }\n",
       "</style>\n",
       "<table border=\"1\" class=\"dataframe\">\n",
       "  <thead>\n",
       "    <tr style=\"text-align: right;\">\n",
       "      <th></th>\n",
       "      <th>População</th>\n",
       "      <th>PIB</th>\n",
       "      <th>IDH</th>\n",
       "      <th>Continente</th>\n",
       "    </tr>\n",
       "  </thead>\n",
       "  <tbody>\n",
       "    <tr>\n",
       "      <th>Canada</th>\n",
       "      <td>38388419</td>\n",
       "      <td>1785387</td>\n",
       "      <td>0.913</td>\n",
       "      <td>America</td>\n",
       "    </tr>\n",
       "    <tr>\n",
       "      <th>France</th>\n",
       "      <td>65584518</td>\n",
       "      <td>2833687</td>\n",
       "      <td>0.888</td>\n",
       "      <td>Europa</td>\n",
       "    </tr>\n",
       "    <tr>\n",
       "      <th>Germany</th>\n",
       "      <td>83883596</td>\n",
       "      <td>3874437</td>\n",
       "      <td>0.916</td>\n",
       "      <td>Europa</td>\n",
       "    </tr>\n",
       "    <tr>\n",
       "      <th>Italy</th>\n",
       "      <td>60262770</td>\n",
       "      <td>2167744</td>\n",
       "      <td>0.873</td>\n",
       "      <td>Europa</td>\n",
       "    </tr>\n",
       "    <tr>\n",
       "      <th>Japan</th>\n",
       "      <td>125584838</td>\n",
       "      <td>4602367</td>\n",
       "      <td>0.891</td>\n",
       "      <td>Asia</td>\n",
       "    </tr>\n",
       "    <tr>\n",
       "      <th>United Kingdom</th>\n",
       "      <td>68497907</td>\n",
       "      <td>2950039</td>\n",
       "      <td>0.907</td>\n",
       "      <td>Europa</td>\n",
       "    </tr>\n",
       "    <tr>\n",
       "      <th>United States</th>\n",
       "      <td>334805269</td>\n",
       "      <td>17348075</td>\n",
       "      <td>0.915</td>\n",
       "      <td>America</td>\n",
       "    </tr>\n",
       "  </tbody>\n",
       "</table>\n",
       "</div>"
      ],
      "text/plain": [
       "                População       PIB    IDH Continente\n",
       "Canada           38388419   1785387  0.913    America\n",
       "France           65584518   2833687  0.888     Europa\n",
       "Germany          83883596   3874437  0.916     Europa\n",
       "Italy            60262770   2167744  0.873     Europa\n",
       "Japan           125584838   4602367  0.891       Asia\n",
       "United Kingdom   68497907   2950039  0.907     Europa\n",
       "United States   334805269  17348075  0.915    America"
      ]
     },
     "execution_count": 35,
     "metadata": {},
     "output_type": "execute_result"
    }
   ],
   "source": [
    "# Criando um DataFrame manualmente\n",
    "\n",
    "df = pd.DataFrame({\n",
    "    'População': [38388419, 65584518, 83883596, 60262770, 125584838, 68497907, 334805269],\n",
    "    'PIB': [\n",
    "        1785387,\n",
    "        2833687,\n",
    "        3874437,\n",
    "        2167744,\n",
    "        4602367,\n",
    "        2950039,\n",
    "        17348075\n",
    "    ],\n",
    "    'IDH': [\n",
    "        0.913,\n",
    "        0.888,\n",
    "        0.916,\n",
    "        0.873,\n",
    "        0.891,\n",
    "        0.907,\n",
    "        0.915\n",
    "    ],\n",
    "    'Continente': [\n",
    "        'America',\n",
    "        'Europa',\n",
    "        'Europa',\n",
    "        'Europa',\n",
    "        'Asia',\n",
    "        'Europa',\n",
    "        'America'\n",
    "    ]\n",
    "}, columns=['População', 'PIB', 'IDH', 'Continente'],\n",
    "index=['Canada','France','Germany','Italy','Japan','United Kingdom','United States'])\n",
    "\n",
    "df"
   ]
  },
  {
   "cell_type": "markdown",
   "id": "77e16217",
   "metadata": {},
   "source": [
    "### Acessos\n",
    "\n",
    "Para acessarmos uma **coluna** qualquer no nosso DataFrame, basta utilizarmos o nome da coluna entre `[]` e receberemos todas as linhas da coluna escolhida.\n",
    "\n",
    "É importante destacar que o retorno é uma estrutura do tipo Series, isso significa que podemos acessar cada elemento individualmente pelo seu nome, ou pela sua posição (via `iloc`).\n",
    "\n",
    "Para acessarmos uma **linha** qualquer no nosso DataFrame, utilizaremos a propriedade `loc` seguida do operador de `[]` onde acessamos pelo nome do índice da linha. Também é possível acessar via propriedade `iloc` passando a posição do índice que se deseja acessar.\n",
    "\n",
    "É importante destacar que o retorno aqui também é uma estrutura do tipo Series, isso significa que podemos acessar cada elemento individualmente pelo seu nome, ou pela sua posição (via `iloc`)."
   ]
  },
  {
   "cell_type": "code",
   "execution_count": 36,
   "id": "6ee41e2e",
   "metadata": {},
   "outputs": [
    {
     "data": {
      "text/plain": [
       "Canada             38388419\n",
       "France             65584518\n",
       "Germany            83883596\n",
       "Italy              60262770\n",
       "Japan             125584838\n",
       "United Kingdom     68497907\n",
       "United States     334805269\n",
       "Name: População, dtype: int64"
      ]
     },
     "execution_count": 36,
     "metadata": {},
     "output_type": "execute_result"
    }
   ],
   "source": [
    "# Acessando uma coluna\n",
    "df['População']"
   ]
  },
  {
   "cell_type": "code",
   "execution_count": 37,
   "id": "3a230de4",
   "metadata": {},
   "outputs": [
    {
     "data": {
      "text/plain": [
       "38388419"
      ]
     },
     "execution_count": 37,
     "metadata": {},
     "output_type": "execute_result"
    }
   ],
   "source": [
    "# Acessando um elemento de uma coluna específica via nome\n",
    "df['População']['Canada']"
   ]
  },
  {
   "cell_type": "code",
   "execution_count": 38,
   "id": "88dd165f",
   "metadata": {},
   "outputs": [
    {
     "data": {
      "text/plain": [
       "334805269"
      ]
     },
     "execution_count": 38,
     "metadata": {},
     "output_type": "execute_result"
    }
   ],
   "source": [
    "# Acessando um elemento de uma coluna específica via iloc\n",
    "df['População'].iloc[-1]"
   ]
  },
  {
   "cell_type": "code",
   "execution_count": 39,
   "id": "9e75c156",
   "metadata": {},
   "outputs": [
    {
     "data": {
      "text/plain": [
       "Germany     83883596\n",
       "Italy       60262770\n",
       "Japan      125584838\n",
       "Name: População, dtype: int64"
      ]
     },
     "execution_count": 39,
     "metadata": {},
     "output_type": "execute_result"
    }
   ],
   "source": [
    "# Acessando elementos de uma coluna específica via slicing\n",
    "df['População'].iloc[2:5]"
   ]
  },
  {
   "cell_type": "code",
   "execution_count": 152,
   "id": "1b0af521",
   "metadata": {},
   "outputs": [
    {
     "data": {
      "text/plain": [
       "Japan     125584838\n",
       "Canada     38388419\n",
       "Italy      60262770\n",
       "Name: População, dtype: int64"
      ]
     },
     "execution_count": 152,
     "metadata": {},
     "output_type": "execute_result"
    }
   ],
   "source": [
    "# Acessando elementos de uma coluna específica via índices específicos\n",
    "df['População'][['Japan', 'Canada', 'Italy']]"
   ]
  },
  {
   "cell_type": "code",
   "execution_count": 40,
   "id": "a3ee8613",
   "metadata": {},
   "outputs": [
    {
     "data": {
      "text/plain": [
       "População     125584838\n",
       "PIB             4602367\n",
       "IDH               0.891\n",
       "Continente         Asia\n",
       "Name: Japan, dtype: object"
      ]
     },
     "execution_count": 40,
     "metadata": {},
     "output_type": "execute_result"
    }
   ],
   "source": [
    "# Acessando uma linha\n",
    "df.loc['Japan']"
   ]
  },
  {
   "cell_type": "code",
   "execution_count": 41,
   "id": "456710b5",
   "metadata": {},
   "outputs": [
    {
     "data": {
      "text/plain": [
       "0.891"
      ]
     },
     "execution_count": 41,
     "metadata": {},
     "output_type": "execute_result"
    }
   ],
   "source": [
    "# Acessando um elemento de uma linha específica via nome\n",
    "df.loc['Japan']['IDH']"
   ]
  },
  {
   "cell_type": "code",
   "execution_count": 42,
   "id": "bd6169f3",
   "metadata": {},
   "outputs": [
    {
     "data": {
      "text/plain": [
       "'Asia'"
      ]
     },
     "execution_count": 42,
     "metadata": {},
     "output_type": "execute_result"
    }
   ],
   "source": [
    "# Acessando um elemento de uma linha específica via iloc\n",
    "df.loc['Japan'].iloc[-1]"
   ]
  },
  {
   "cell_type": "code",
   "execution_count": 43,
   "id": "6bfcf844",
   "metadata": {},
   "outputs": [
    {
     "data": {
      "text/plain": [
       "PIB    4602367\n",
       "IDH      0.891\n",
       "Name: Japan, dtype: object"
      ]
     },
     "execution_count": 43,
     "metadata": {},
     "output_type": "execute_result"
    }
   ],
   "source": [
    "# Acessando elementos de uma linha específica via slicing\n",
    "df.loc['Japan'].iloc[1:3]"
   ]
  },
  {
   "cell_type": "code",
   "execution_count": 44,
   "id": "243b579d",
   "metadata": {},
   "outputs": [
    {
     "data": {
      "text/plain": [
       "IDH             0.891\n",
       "PIB           4602367\n",
       "Continente       Asia\n",
       "Name: Japan, dtype: object"
      ]
     },
     "execution_count": 44,
     "metadata": {},
     "output_type": "execute_result"
    }
   ],
   "source": [
    "# Acessando elementos de uma linha específica via índices específicos\n",
    "df.loc['Japan'][['IDH', 'PIB', 'Continente']]"
   ]
  },
  {
   "cell_type": "code",
   "execution_count": 47,
   "id": "2937850b",
   "metadata": {},
   "outputs": [
    {
     "name": "stdout",
     "output_type": "stream",
     "text": [
      "(1, 6)\n",
      "(2, 7)\n",
      "(3, 8)\n",
      "(4, 9)\n"
     ]
    }
   ],
   "source": [
    "l1 = [1, 2, 3, 4]\n",
    "l2 = [6, 7, 8, 9]\n",
    "\n",
    "\n",
    "for a in zip(l1, l2):\n",
    "    print(a)"
   ]
  },
  {
   "cell_type": "code",
   "execution_count": null,
   "id": "ca1d4f71",
   "metadata": {},
   "outputs": [],
   "source": []
  }
 ],
 "metadata": {
  "kernelspec": {
   "display_name": "Python 3",
   "language": "python",
   "name": "python3"
  },
  "language_info": {
   "codemirror_mode": {
    "name": "ipython",
    "version": 3
   },
   "file_extension": ".py",
   "mimetype": "text/x-python",
   "name": "python",
   "nbconvert_exporter": "python",
   "pygments_lexer": "ipython3",
   "version": "3.9.7"
  }
 },
 "nbformat": 4,
 "nbformat_minor": 5
}
