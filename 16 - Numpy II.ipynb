{
 "cells": [
  {
   "cell_type": "markdown",
   "id": "3a46e8bb",
   "metadata": {},
   "source": [
    "# Introdução à Programação para Ciência de Dados\n",
    "\n",
    "### Aula 16: Numpy II\n",
    "\n",
    "**Professor:** Igor Malheiros"
   ]
  },
  {
   "cell_type": "markdown",
   "id": "44f3c7a2",
   "metadata": {},
   "source": [
    "## Operações aritméticas com array e escalar\n",
    "\n",
    "As operações entre um array (ou matriz) Numpy e um escalar são feitas elemento por elemento.\n",
    "\n",
    "### Arrays\n",
    "\n",
    "\n",
    "\\begin{equation}\n",
    "AX = [x_{1}, x_{2}, x_{3}]\n",
    "\\end{equation}\n",
    "\n",
    "\\begin{equation}\n",
    "escalar = e\n",
    "\\end{equation}\n",
    "\n",
    "- Soma\n",
    "\n",
    "\\begin{equation}\n",
    "AX + e = [x_{1} + e, x_{2} + e, x_{3} + e]\n",
    "\\end{equation}\n",
    "\n",
    "- Subtração\n",
    "\n",
    "\\begin{equation}\n",
    "AX - e = [x_{1} - e, x_{2} - e, x_{3} - e]\n",
    "\\end{equation}\n",
    "\n",
    "- Multiplicação\n",
    "\n",
    "\\begin{equation}\n",
    "AX * e = [x_{1} * e, x_{2} * e, x_{3} * e]\n",
    "\\end{equation}\n",
    "\n",
    "- Divisão\n",
    "\n",
    "\\begin{equation}\n",
    "AX / e = [x_{1} / e, x_{2} / e, x_{3} / e]\n",
    "\\end{equation}\n",
    "\n",
    "</br></br>\n",
    "\n",
    "```Python\n",
    "AX = np.array([1,2,3])\n",
    "e = 3\n",
    "\n",
    "AX + e # array([4, 5, 6])\n",
    "AX - e # array([-2, -1,  0])\n",
    "AX * e # array([3, 6, 9])\n",
    "AX / e # array([0.33333333, 0.66666667, 1.])\n",
    "```\n",
    "\n",
    "</br></br>\n",
    "\n",
    "### Matrizes\n",
    "\n",
    "\\begin{equation}\n",
    "MX =\n",
    "\\begin{bmatrix}\n",
    "    x_{11}   &  x_{12} \\\\\n",
    "    x_{21}   &  x_{22} \\\\\n",
    "    x_{31}   &  x_{32} \\\\\n",
    "\\end{bmatrix}\n",
    "\\end{equation}\n",
    "\n",
    "- Soma\n",
    "\n",
    "\\begin{equation}\n",
    "MX + e =\n",
    "\\begin{bmatrix}\n",
    "    x_{11} + e   &  x_{12} + e \\\\\n",
    "    x_{21} + e   &  x_{22} + e \\\\\n",
    "    x_{31} + e   &  x_{32} + e \\\\\n",
    "\\end{bmatrix}\n",
    "\\end{equation}\n",
    "\n",
    "- Subtração\n",
    "\n",
    "\\begin{equation}\n",
    "MX - e =\n",
    "\\begin{bmatrix}\n",
    "    x_{11} - e   &  x_{12} - e \\\\\n",
    "    x_{21} - e   &  x_{22} - e \\\\\n",
    "    x_{31} - e   &  x_{32} - e \\\\\n",
    "\\end{bmatrix}\n",
    "\\end{equation}\n",
    "\n",
    "- Multiplicação\n",
    "\n",
    "\\begin{equation}\n",
    "MX * e =\n",
    "\\begin{bmatrix}\n",
    "    x_{11} * e   &  x_{12} * e \\\\\n",
    "    x_{21} * e   &  x_{22} * e \\\\\n",
    "    x_{31} * e   &  x_{32} * e \\\\\n",
    "\\end{bmatrix}\n",
    "\\end{equation}\n",
    "\n",
    "- Divisão\n",
    "\n",
    "\\begin{equation}\n",
    "MX / e =\n",
    "\\begin{bmatrix}\n",
    "    x_{11} / e   &  x_{12} / e \\\\\n",
    "    x_{21} / e   &  x_{22} / e \\\\\n",
    "    x_{31} / e   &  x_{32} / e \\\\\n",
    "\\end{bmatrix}\n",
    "\\end{equation}\n",
    "\n",
    "</br></br>\n",
    "\n",
    "```Python\n",
    "MX = np.array(\n",
    "[[1, 2, 3],\n",
    " [6, 5, 4],\n",
    " [7, 8, 9]]\n",
    ")\n",
    "\n",
    "e = 3\n",
    "\n",
    "MX + e\n",
    "# array([[ 4,  5,  6],\n",
    "#        [ 9,  8,  7],\n",
    "#        [10, 11, 12]])\n",
    "\n",
    "MX - e\n",
    "# array([[-2, -1,  0],\n",
    "#        [ 3,  2,  1],\n",
    "#        [ 4,  5,  6]])\n",
    "\n",
    "MX * e\n",
    "# array([[ 3,  6,  9],\n",
    "#        [18, 15, 12],\n",
    "#        [21, 24, 27]])\n",
    "\n",
    "MX / e\n",
    "# array([[0.33333333, 0.66666667, 1.        ],\n",
    "#        [2.        , 1.66666667, 1.33333333],\n",
    "#        [2.33333333, 2.66666667, 3.        ]])\n",
    "```\n",
    "\n",
    "</br></br>"
   ]
  },
  {
   "cell_type": "code",
   "execution_count": 1,
   "id": "3a47246d",
   "metadata": {},
   "outputs": [],
   "source": [
    "import numpy as np\n",
    "\n",
    "AX = np.array([1,2,3])\n",
    "MX = np.array(\n",
    "[[1, 2, 3],\n",
    " [6, 5, 4],\n",
    " [7, 8, 9]]\n",
    ")\n",
    "e = 3"
   ]
  },
  {
   "cell_type": "code",
   "execution_count": 5,
   "id": "9cd5bd09",
   "metadata": {},
   "outputs": [
    {
     "data": {
      "text/plain": [
       "array([4, 5, 6])"
      ]
     },
     "execution_count": 5,
     "metadata": {},
     "output_type": "execute_result"
    }
   ],
   "source": [
    "# AX + e\n",
    "AX + e"
   ]
  },
  {
   "cell_type": "code",
   "execution_count": 6,
   "id": "911b781c",
   "metadata": {},
   "outputs": [
    {
     "data": {
      "text/plain": [
       "array([-2, -1,  0])"
      ]
     },
     "execution_count": 6,
     "metadata": {},
     "output_type": "execute_result"
    }
   ],
   "source": [
    "# AX - e\n",
    "AX - e"
   ]
  },
  {
   "cell_type": "code",
   "execution_count": 7,
   "id": "5ad0ae0a",
   "metadata": {},
   "outputs": [
    {
     "data": {
      "text/plain": [
       "array([3, 6, 9])"
      ]
     },
     "execution_count": 7,
     "metadata": {},
     "output_type": "execute_result"
    }
   ],
   "source": [
    "# AX * e\n",
    "AX * e"
   ]
  },
  {
   "cell_type": "code",
   "execution_count": 8,
   "id": "7e5d9234",
   "metadata": {},
   "outputs": [
    {
     "data": {
      "text/plain": [
       "array([0.33333333, 0.66666667, 1.        ])"
      ]
     },
     "execution_count": 8,
     "metadata": {},
     "output_type": "execute_result"
    }
   ],
   "source": [
    "# AX / e\n",
    "AX / e"
   ]
  },
  {
   "cell_type": "code",
   "execution_count": 9,
   "id": "6b3d7abb",
   "metadata": {},
   "outputs": [
    {
     "data": {
      "text/plain": [
       "array([[ 4,  5,  6],\n",
       "       [ 9,  8,  7],\n",
       "       [10, 11, 12]])"
      ]
     },
     "execution_count": 9,
     "metadata": {},
     "output_type": "execute_result"
    }
   ],
   "source": [
    "# MX + e\n",
    "MX + e"
   ]
  },
  {
   "cell_type": "code",
   "execution_count": 10,
   "id": "015d9a11",
   "metadata": {},
   "outputs": [
    {
     "data": {
      "text/plain": [
       "array([[-2, -1,  0],\n",
       "       [ 3,  2,  1],\n",
       "       [ 4,  5,  6]])"
      ]
     },
     "execution_count": 10,
     "metadata": {},
     "output_type": "execute_result"
    }
   ],
   "source": [
    "# MX - e\n",
    "MX - e"
   ]
  },
  {
   "cell_type": "code",
   "execution_count": 11,
   "id": "d281c1cd",
   "metadata": {},
   "outputs": [
    {
     "data": {
      "text/plain": [
       "array([[ 3,  6,  9],\n",
       "       [18, 15, 12],\n",
       "       [21, 24, 27]])"
      ]
     },
     "execution_count": 11,
     "metadata": {},
     "output_type": "execute_result"
    }
   ],
   "source": [
    "# MX * e\n",
    "MX * e"
   ]
  },
  {
   "cell_type": "code",
   "execution_count": 12,
   "id": "655cb520",
   "metadata": {},
   "outputs": [
    {
     "data": {
      "text/plain": [
       "array([[0.33333333, 0.66666667, 1.        ],\n",
       "       [2.        , 1.66666667, 1.33333333],\n",
       "       [2.33333333, 2.66666667, 3.        ]])"
      ]
     },
     "execution_count": 12,
     "metadata": {},
     "output_type": "execute_result"
    }
   ],
   "source": [
    "# MX / e\n",
    "MX / e"
   ]
  },
  {
   "cell_type": "markdown",
   "id": "ae6c99db",
   "metadata": {},
   "source": [
    "## Operações lógicas com array e escalar\n",
    "\n",
    "As operações lógicas entre um array (ou matriz) Numpy e um escalar também são feitas elemento por elemento. Porém, o resultado para cada elemento é o resultado do operador lógico (`True` ou `False`) aplicado em cada elemento.\n",
    "\n",
    "### Arrays\n",
    "\n",
    "- Igualdade\n",
    "\n",
    "\\begin{equation}\n",
    "AX = e = [x_{1} = e, x_{2} = e, x_{3} = e]\n",
    "\\end{equation}\n",
    "\n",
    "- Diferença\n",
    "\n",
    "\\begin{equation}\n",
    "AX \\neq e = [x_{1} \\neq e, x_{2} \\neq e, x_{3} \\neq e]\n",
    "\\end{equation}\n",
    "\n",
    "- Menor (menor ou igual)\n",
    "\n",
    "\\begin{equation}\n",
    "AX \\leq e = [x_{1} \\leq e, x_{2} \\leq e, x_{3} \\leq e]\n",
    "\\end{equation}\n",
    "\n",
    "- Maior (maior ou igual)\n",
    "\n",
    "\\begin{equation}\n",
    "AX \\geq e = [x_{1} \\geq e, x_{2} \\geq e, x_{3} \\geq e]\n",
    "\\end{equation}\n",
    "</br></br>\n",
    "\n",
    "```Python\n",
    "AX = np.array([1,2,3])\n",
    "e = 3\n",
    "\n",
    "AX == e # array([False, False, True])\n",
    "AX != e # array([True, True,  False])\n",
    "AX < e  # array([True, True, False])\n",
    "AX >= e # array([False, False, True])\n",
    "```\n",
    "\n",
    "</br></br>\n",
    "\n",
    "\n",
    "### Matrizes\n",
    "\n",
    "- Igualdade\n",
    "\n",
    "\\begin{equation}\n",
    "MX = e =\n",
    "\\begin{bmatrix}\n",
    "    x_{11} = e   &  x_{12} = e \\\\\n",
    "    x_{21} = e   &  x_{22} = e \\\\\n",
    "    x_{31} = e   &  x_{32} = e \\\\\n",
    "\\end{bmatrix}\n",
    "\\end{equation}\n",
    "\n",
    "- Diferença\n",
    "\n",
    "\\begin{equation}\n",
    "MX \\neq e =\n",
    "\\begin{bmatrix}\n",
    "    x_{11} \\neq e   &  x_{12} \\neq e \\\\\n",
    "    x_{21} \\neq e   &  x_{22} \\neq e \\\\\n",
    "    x_{31} \\neq e   &  x_{32} \\neq e \\\\\n",
    "\\end{bmatrix}\n",
    "\\end{equation}\n",
    "\n",
    "- Menor (menor ou igual)\n",
    "\n",
    "\\begin{equation}\n",
    "MX \\leq e =\n",
    "\\begin{bmatrix}\n",
    "    x_{11} \\leq e   &  x_{12} \\leq e \\\\\n",
    "    x_{21} \\leq e   &  x_{22} \\leq e \\\\\n",
    "    x_{31} \\leq e   &  x_{32} \\leq e \\\\\n",
    "\\end{bmatrix}\n",
    "\\end{equation}\n",
    "\n",
    "- Maior (maior ou igual)\n",
    "\n",
    "\\begin{equation}\n",
    "MX \\geq e =\n",
    "\\begin{bmatrix}\n",
    "    x_{11} \\geq e   &  x_{12} \\geq e \\\\\n",
    "    x_{21} \\geq e   &  x_{22} \\geq e \\\\\n",
    "    x_{31} \\geq e   &  x_{32} \\geq e \\\\\n",
    "\\end{bmatrix}\n",
    "\\end{equation}\n",
    "\n",
    "</br></br>\n",
    "\n",
    "```Python\n",
    "MX == e\n",
    "# array([[False, False,  True],\n",
    "#        [False, False, False],\n",
    "#        [False, False, False]])\n",
    "\n",
    "MX != e\n",
    "# array([[ True,  True, False],\n",
    "#        [ True,  True,  True],\n",
    "#        [ True,  True,  True]])\n",
    "\n",
    "MX < e\n",
    "# array([[ True,  True, False],\n",
    "#        [False, False, False],\n",
    "#        [False, False, False]])\n",
    "\n",
    "MX >= e\n",
    "# array([[False, False,  True],\n",
    "#        [ True,  True,  True],\n",
    "#        [ True,  True,  True]])\n",
    "```\n",
    "\n",
    "</br></br>"
   ]
  },
  {
   "cell_type": "code",
   "execution_count": 14,
   "id": "b87eb8ec",
   "metadata": {},
   "outputs": [
    {
     "data": {
      "text/plain": [
       "array([False, False,  True])"
      ]
     },
     "execution_count": 14,
     "metadata": {},
     "output_type": "execute_result"
    }
   ],
   "source": [
    "# AX == e\n",
    "AX == e"
   ]
  },
  {
   "cell_type": "code",
   "execution_count": 15,
   "id": "9feaa075",
   "metadata": {},
   "outputs": [
    {
     "data": {
      "text/plain": [
       "array([ True,  True, False])"
      ]
     },
     "execution_count": 15,
     "metadata": {},
     "output_type": "execute_result"
    }
   ],
   "source": [
    "# AX != e\n",
    "AX != e"
   ]
  },
  {
   "cell_type": "code",
   "execution_count": 16,
   "id": "01e784c8",
   "metadata": {},
   "outputs": [
    {
     "data": {
      "text/plain": [
       "array([ True,  True, False])"
      ]
     },
     "execution_count": 16,
     "metadata": {},
     "output_type": "execute_result"
    }
   ],
   "source": [
    "# AX < e\n",
    "AX < e"
   ]
  },
  {
   "cell_type": "code",
   "execution_count": 17,
   "id": "bf509a38",
   "metadata": {},
   "outputs": [
    {
     "data": {
      "text/plain": [
       "array([False, False,  True])"
      ]
     },
     "execution_count": 17,
     "metadata": {},
     "output_type": "execute_result"
    }
   ],
   "source": [
    "# AX >= e\n",
    "AX >= e"
   ]
  },
  {
   "cell_type": "code",
   "execution_count": 19,
   "id": "cb154aba",
   "metadata": {},
   "outputs": [
    {
     "data": {
      "text/plain": [
       "array([[False, False,  True],\n",
       "       [False, False, False],\n",
       "       [False, False, False]])"
      ]
     },
     "execution_count": 19,
     "metadata": {},
     "output_type": "execute_result"
    }
   ],
   "source": [
    "# MX == e\n",
    "MX == e"
   ]
  },
  {
   "cell_type": "code",
   "execution_count": 20,
   "id": "b603dfdc",
   "metadata": {},
   "outputs": [
    {
     "data": {
      "text/plain": [
       "array([[ True,  True, False],\n",
       "       [ True,  True,  True],\n",
       "       [ True,  True,  True]])"
      ]
     },
     "execution_count": 20,
     "metadata": {},
     "output_type": "execute_result"
    }
   ],
   "source": [
    "# MX != e\n",
    "MX != e"
   ]
  },
  {
   "cell_type": "code",
   "execution_count": 21,
   "id": "40b4836e",
   "metadata": {},
   "outputs": [
    {
     "data": {
      "text/plain": [
       "array([[ True,  True, False],\n",
       "       [False, False, False],\n",
       "       [False, False, False]])"
      ]
     },
     "execution_count": 21,
     "metadata": {},
     "output_type": "execute_result"
    }
   ],
   "source": [
    "# MX < e\n",
    "MX < e"
   ]
  },
  {
   "cell_type": "code",
   "execution_count": 22,
   "id": "15fbdaf5",
   "metadata": {},
   "outputs": [
    {
     "data": {
      "text/plain": [
       "array([[False, False,  True],\n",
       "       [ True,  True,  True],\n",
       "       [ True,  True,  True]])"
      ]
     },
     "execution_count": 22,
     "metadata": {},
     "output_type": "execute_result"
    }
   ],
   "source": [
    "# MX >= e\n",
    "MX >= e"
   ]
  },
  {
   "cell_type": "markdown",
   "id": "9be952af",
   "metadata": {},
   "source": [
    "## Any e All\n",
    "\n",
    "As funções `any()` e `all()` são muito úteis para checagens do tipo \"existe algum elemento\" ou \"todos os elementos são\" em arrays Numpy. A função `any()` checa se ao menos um elemento do array Numpy é `True`. Enquanto que a função `all()` checa se todos os elementos de um array Numpy é `True`\n",
    "\n",
    "</br></br>\n",
    "\n",
    "```Python\n",
    "alltrue = np.array([True, True, True, True, True])\n",
    "onetrue = np.array([False, False, True, False, False])\n",
    "allfalse = np.array([False, False, False, False, False])\n",
    "onefalse = np.array([True, True, False, True, True])\n",
    "\n",
    "np.all(alltrue) # true\n",
    "np.all(onetrue) # false\n",
    "np.all(allfalse) # false\n",
    "np.all(onefalse) # false\n",
    "\n",
    "np.any(alltrue) # true\n",
    "np.any(onetrue) # true\n",
    "np.any(allfalse) # false\n",
    "np.any(onefalse) # true\n",
    "\n",
    "```\n",
    "\n",
    "</br></br>\n",
    "\n",
    "Essas funções podem ser muito úteis com as operações lógicas entre arrays Numpy e escalares.\n",
    "\n",
    "## Filtros (Masks)\n",
    "\n",
    "Uma operação poderosa nos arrays numpy é a filtragem de elementos. Podemos utilizar os operadores lógicos para filtrar os elementos de um array ou matriz numpy.\n",
    "\n",
    "\n",
    "</br>\n",
    "\n",
    "```Python\n",
    "nparr = np.array([[ 0, 19,  0],\n",
    "                  [17, 19, 13],\n",
    "                  [16,  6, 15],\n",
    "                  [18,  8, 19]])\n",
    "\n",
    "nparr[nparr >= 10] # array([19, 17, 19, 13, 16, 15, 18, 19])\n",
    "nparr[(nparr > 5) & (nparr <= 12)] # array([6,  8])\n",
    "```"
   ]
  },
  {
   "cell_type": "code",
   "execution_count": 23,
   "id": "757db901",
   "metadata": {},
   "outputs": [],
   "source": [
    "alltrue = np.array([True, True, True, True, True])\n",
    "onetrue = np.array([False, False, True, False, False])\n",
    "allfalse = np.array([False, False, False, False, False])\n",
    "onefalse = np.array([True, True, False, True, True])\n",
    "\n",
    "nparr = np.array([[ 0, 19,  0],\n",
    "                  [17, 19, 13],\n",
    "                  [16,  6, 15],\n",
    "                  [18,  8, 19]])"
   ]
  },
  {
   "cell_type": "code",
   "execution_count": 28,
   "id": "0d254e3e",
   "metadata": {},
   "outputs": [
    {
     "data": {
      "text/plain": [
       "True"
      ]
     },
     "execution_count": 28,
     "metadata": {},
     "output_type": "execute_result"
    }
   ],
   "source": [
    "# Funcao any()\n",
    "np.any(onefalse)"
   ]
  },
  {
   "cell_type": "code",
   "execution_count": 31,
   "id": "c39215c5",
   "metadata": {},
   "outputs": [
    {
     "data": {
      "text/plain": [
       "True"
      ]
     },
     "execution_count": 31,
     "metadata": {},
     "output_type": "execute_result"
    }
   ],
   "source": [
    "# Funcao all()\n",
    "np.all(alltrue)"
   ]
  },
  {
   "cell_type": "code",
   "execution_count": 34,
   "id": "9c8cc6e6",
   "metadata": {},
   "outputs": [
    {
     "data": {
      "text/plain": [
       "array([19, 17, 19, 16, 18, 19])"
      ]
     },
     "execution_count": 34,
     "metadata": {},
     "output_type": "execute_result"
    }
   ],
   "source": [
    "# Filtro\n",
    "nparr[nparr > 15]"
   ]
  },
  {
   "cell_type": "code",
   "execution_count": 37,
   "id": "70b6c393",
   "metadata": {},
   "outputs": [
    {
     "data": {
      "text/plain": [
       "array([13, 16,  6, 15,  8])"
      ]
     },
     "execution_count": 37,
     "metadata": {},
     "output_type": "execute_result"
    }
   ],
   "source": [
    "# Filtrando por Intervalo\n",
    "# nparr[(nparr > 5) and (nparr <= 16)] # não funciona!\n",
    "nparr[(nparr > 5) & (nparr <= 16)] # não funciona!"
   ]
  },
  {
   "cell_type": "markdown",
   "id": "1c5442de",
   "metadata": {},
   "source": [
    "## Operações entre Arrays (Matrizes)\n",
    "\n",
    "As operações em arrays ou matrizes Numpy são feitas elemento por elemento. Por isso, os `shapes` das duas matrizes ou o tamanho dos arrays devem ser os mesmos.\n",
    "\n",
    "### Arrays\n",
    "\n",
    "\\begin{equation}\n",
    "A = [x_{1}, x_{2}, x_{3}]\n",
    "\\end{equation}\n",
    "\n",
    "\\begin{equation}\n",
    "B = [y_{1}, y_{2}, y_{3}]\n",
    "\\end{equation}\n",
    "\n",
    "- Soma\n",
    "\n",
    "\\begin{equation}\n",
    "A + B = [x_{1} + y_{1}, x_{2} + y_{2}, x_{3} + y_{3}]\n",
    "\\end{equation}\n",
    "\n",
    "- Subtração\n",
    "\n",
    "\\begin{equation}\n",
    "A - B = [x_{1} - y_{1}, x_{2} - y_{2}, x_{3} - y_{3}]\n",
    "\\end{equation}\n",
    "\n",
    "- Multiplicação\n",
    "\n",
    "\\begin{equation}\n",
    "AB = [x_{1}y_{1}, x_{2}y_{2}, x_{3}y_{3}]\n",
    "\\end{equation}\n",
    "\n",
    "- Divisão\n",
    "\n",
    "\\begin{equation}\n",
    "A / B = [x_{1} / y_{1}, x_{2} / y_{2}, x_{3} / y_{3}]\n",
    "\\end{equation}\n",
    "\n",
    "- Igualdade\n",
    "\n",
    "\\begin{equation}\n",
    "A = B = [x_{1} = y_{1}, x_{2} = y_{2}, x_{3} = y_{3}]\n",
    "\\end{equation}\n",
    "\n",
    "</br></br>\n",
    "\n",
    "```Python\n",
    "A = np.array([1,2,3])\n",
    "B = np.array([4,5,6])\n",
    "\n",
    "A + B  # array([5, 7, 9])\n",
    "A - B  # array([-3, -3, -3])\n",
    "A * B  # array([ 4, 10, 18])\n",
    "A / B  # array([0.25, 0.4 , 0.5 ])\n",
    "A == B # array([False, False, False])\n",
    "```\n",
    "\n",
    "</br></br>\n",
    "\n",
    "### Matrizes\n",
    "\n",
    "\\begin{equation}\n",
    "MA =\n",
    "\\begin{bmatrix}\n",
    "    x_{11}   &  x_{12} \\\\\n",
    "    x_{21}   &  x_{22} \\\\\n",
    "    x_{31}   &  x_{32} \\\\\n",
    "\\end{bmatrix}\n",
    "\\end{equation}\n",
    "\n",
    "\n",
    "\\begin{equation}\n",
    "MB =\n",
    "\\begin{bmatrix}\n",
    "    y_{11}   &  y_{12} \\\\\n",
    "    y_{21}   &  y_{22} \\\\\n",
    "    y_{31}   &  y_{32} \\\\\n",
    "\\end{bmatrix}\n",
    "\\end{equation}\n",
    "\n",
    "\n",
    "- Soma\n",
    "\n",
    "\\begin{equation}\n",
    "MA + MB =\n",
    "\\begin{bmatrix}\n",
    "    x_{11} + y_{11}   &  x_{12} + y_{12} \\\\\n",
    "    x_{21} + y_{21}   &  x_{22} + y_{22} \\\\\n",
    "    x_{31} + y_{31}   &  x_{23} + y_{23} \\\\\n",
    "\\end{bmatrix}\n",
    "\\end{equation}\n",
    "\n",
    "- Subtração\n",
    "\n",
    "\\begin{equation}\n",
    "MA - MB =\n",
    "\\begin{bmatrix}\n",
    "    x_{11} - y_{11}   &  x_{12} - y_{12} \\\\\n",
    "    x_{21} - y_{21}   &  x_{22} - y_{22} \\\\\n",
    "    x_{31} - y_{31}   &  x_{23} - y_{23} \\\\\n",
    "\\end{bmatrix}\n",
    "\\end{equation}\n",
    "\n",
    "- Multiplicação\n",
    "\n",
    "\\begin{equation}\n",
    "MA * MB =\n",
    "\\begin{bmatrix}\n",
    "    x_{11} * y_{11}   &  x_{12} * y_{12} \\\\\n",
    "    x_{21} * y_{21}   &  x_{22} * y_{22} \\\\\n",
    "    x_{31} * y_{31}   &  x_{23} * y_{23} \\\\\n",
    "\\end{bmatrix}\n",
    "\\end{equation}\n",
    "\n",
    "- Divisão\n",
    "\n",
    "\\begin{equation}\n",
    "MA / MB =\n",
    "\\begin{bmatrix}\n",
    "    x_{11} / y_{11}   &  x_{12} / y_{12} \\\\\n",
    "    x_{21} / y_{21}   &  x_{22} / y_{22} \\\\\n",
    "    x_{31} / y_{31}   &  x_{23} / y_{23} \\\\\n",
    "\\end{bmatrix}\n",
    "\\end{equation}\n",
    "\n",
    "- Igualdade\n",
    "\n",
    "\\begin{equation}\n",
    "MA = MB =\n",
    "\\begin{bmatrix}\n",
    "    x_{11} = y_{11}   &  x_{12} = y_{12} \\\\\n",
    "    x_{21} = y_{21}   &  x_{22} = y_{22} \\\\\n",
    "    x_{31} = y_{31}   &  x_{23} = y_{23} \\\\\n",
    "\\end{bmatrix}\n",
    "\\end{equation}\n",
    "\n",
    "\n",
    "</br></br>\n",
    "\n",
    "```Python\n",
    "MA = np.array(\n",
    "[[11, 12, 13],\n",
    " [21, 22, 23],\n",
    " [31, 32, 33]])\n",
    "\n",
    "MB = np.array(\n",
    "[[41, 42, 43],\n",
    " [51, 52, 53],\n",
    " [61, 62, 63]])\n",
    "\n",
    "MA + MB\n",
    "# array([[52, 54, 56],\n",
    "#        [72, 74, 76],\n",
    "#        [92, 94, 96]])\n",
    "\n",
    "MA - MB\n",
    "# array([[-30, -30, -30],\n",
    "#        [-30, -30, -30],\n",
    "#        [-30, -30, -30]])\n",
    "\n",
    "MA * MB\n",
    "# array([[ 451,  504,  559],\n",
    "#        [1071, 1144, 1219],\n",
    "#        [1891, 1984, 2079]])\n",
    "\n",
    "MA / MB\n",
    "# array([[0.26829268, 0.28571429, 0.30232558],\n",
    "#        [0.41176471, 0.42307692, 0.43396226],\n",
    "#        [0.50819672, 0.51612903, 0.52380952]])\n",
    "\n",
    "MA == MB\n",
    "# array([[False, False, False],\n",
    "#        [False, False, False],\n",
    "#        [False, False, False]])\n",
    "```\n",
    "\n",
    "</br></br>"
   ]
  },
  {
   "cell_type": "code",
   "execution_count": 38,
   "id": "6dcd0c9e",
   "metadata": {},
   "outputs": [],
   "source": [
    "A = np.array([1,2,3])\n",
    "B = np.array([4,5,6])\n",
    "\n",
    "MA = np.array(\n",
    "[[11, 12, 13],\n",
    " [21, 22, 23],\n",
    " [31, 32, 33]])\n",
    "\n",
    "MB = np.array(\n",
    "[[41, 42, 43],\n",
    " [51, 52, 53],\n",
    " [61, 62, 63]])"
   ]
  },
  {
   "cell_type": "code",
   "execution_count": 39,
   "id": "c5c68279",
   "metadata": {},
   "outputs": [
    {
     "data": {
      "text/plain": [
       "array([5, 7, 9])"
      ]
     },
     "execution_count": 39,
     "metadata": {},
     "output_type": "execute_result"
    }
   ],
   "source": [
    "# A + B\n",
    "A + B"
   ]
  },
  {
   "cell_type": "code",
   "execution_count": 40,
   "id": "a29b3483",
   "metadata": {},
   "outputs": [
    {
     "data": {
      "text/plain": [
       "array([-3, -3, -3])"
      ]
     },
     "execution_count": 40,
     "metadata": {},
     "output_type": "execute_result"
    }
   ],
   "source": [
    "# A - B\n",
    "A - B"
   ]
  },
  {
   "cell_type": "code",
   "execution_count": 41,
   "id": "a80ecd26",
   "metadata": {},
   "outputs": [
    {
     "data": {
      "text/plain": [
       "array([ 4, 10, 18])"
      ]
     },
     "execution_count": 41,
     "metadata": {},
     "output_type": "execute_result"
    }
   ],
   "source": [
    "# A * B\n",
    "A * B"
   ]
  },
  {
   "cell_type": "code",
   "execution_count": 42,
   "id": "eed500b1",
   "metadata": {},
   "outputs": [
    {
     "data": {
      "text/plain": [
       "array([0.25, 0.4 , 0.5 ])"
      ]
     },
     "execution_count": 42,
     "metadata": {},
     "output_type": "execute_result"
    }
   ],
   "source": [
    "# A / B\n",
    "A / B"
   ]
  },
  {
   "cell_type": "code",
   "execution_count": 43,
   "id": "093148c5",
   "metadata": {},
   "outputs": [
    {
     "data": {
      "text/plain": [
       "array([False, False, False])"
      ]
     },
     "execution_count": 43,
     "metadata": {},
     "output_type": "execute_result"
    }
   ],
   "source": [
    "# A == B\n",
    "A == B"
   ]
  },
  {
   "cell_type": "code",
   "execution_count": 44,
   "id": "dc4c8081",
   "metadata": {},
   "outputs": [
    {
     "data": {
      "text/plain": [
       "array([[52, 54, 56],\n",
       "       [72, 74, 76],\n",
       "       [92, 94, 96]])"
      ]
     },
     "execution_count": 44,
     "metadata": {},
     "output_type": "execute_result"
    }
   ],
   "source": [
    "# MA + MB\n",
    "MA + MB"
   ]
  },
  {
   "cell_type": "code",
   "execution_count": 45,
   "id": "b6f16f47",
   "metadata": {},
   "outputs": [
    {
     "data": {
      "text/plain": [
       "array([[-30, -30, -30],\n",
       "       [-30, -30, -30],\n",
       "       [-30, -30, -30]])"
      ]
     },
     "execution_count": 45,
     "metadata": {},
     "output_type": "execute_result"
    }
   ],
   "source": [
    "# MA - MB\n",
    "MA - MB"
   ]
  },
  {
   "cell_type": "code",
   "execution_count": 46,
   "id": "78568916",
   "metadata": {},
   "outputs": [
    {
     "data": {
      "text/plain": [
       "array([[ 451,  504,  559],\n",
       "       [1071, 1144, 1219],\n",
       "       [1891, 1984, 2079]])"
      ]
     },
     "execution_count": 46,
     "metadata": {},
     "output_type": "execute_result"
    }
   ],
   "source": [
    "# MA * MB\n",
    "MA * MB"
   ]
  },
  {
   "cell_type": "code",
   "execution_count": 47,
   "id": "3e6d30b5",
   "metadata": {},
   "outputs": [
    {
     "data": {
      "text/plain": [
       "array([[0.26829268, 0.28571429, 0.30232558],\n",
       "       [0.41176471, 0.42307692, 0.43396226],\n",
       "       [0.50819672, 0.51612903, 0.52380952]])"
      ]
     },
     "execution_count": 47,
     "metadata": {},
     "output_type": "execute_result"
    }
   ],
   "source": [
    "# MA / MB\n",
    "MA / MB"
   ]
  },
  {
   "cell_type": "code",
   "execution_count": 48,
   "id": "8a70d186",
   "metadata": {},
   "outputs": [
    {
     "data": {
      "text/plain": [
       "array([[False, False, False],\n",
       "       [False, False, False],\n",
       "       [False, False, False]])"
      ]
     },
     "execution_count": 48,
     "metadata": {},
     "output_type": "execute_result"
    }
   ],
   "source": [
    "# MA == MB\n",
    "MA == MB"
   ]
  },
  {
   "cell_type": "markdown",
   "id": "dabc474d",
   "metadata": {},
   "source": [
    "## Produto interno\n",
    "\n",
    "### Arrays\n",
    "\n",
    "\\begin{equation}\n",
    "A = [x_{1}, x_{2}, x_{3}]\n",
    "\\end{equation}\n",
    "\n",
    "\\begin{equation}\n",
    "B = [y_{1}, y_{2}, y_{3}]\n",
    "\\end{equation}\n",
    "\n",
    "\\begin{equation}\n",
    "A \\cdot B =\n",
    "\\begin{bmatrix}\n",
    "    x_{1}   &  x_{2} & x_3\n",
    "\\end{bmatrix}\n",
    "\\cdot\n",
    "\\begin{bmatrix}\n",
    "    y_{1} \\\\\n",
    "    y_{2} \\\\\n",
    "    y_{3} \\\\\n",
    "\\end{bmatrix}\n",
    "\\end{equation}\n",
    "\n",
    "\\begin{equation}\n",
    "A \\cdot B = x_{1}y_{1} + x_{2}y_{2} + x_{3}y_{3}\n",
    "\\end{equation}\n",
    "\n",
    "### Matrizes\n",
    "\n",
    "Para realizar a operação de produto interno $MA \\cdot MB$ é necessário uma compatibilidade entre as dimensões de $MA$ e $MB$. A compatibilidade é, se a matriz $MA$ tem dimensão $nXm$ para a operação de produto do interno a matriz $MB$ deve possuir dimensões $mXn$, $n$ e $m$ podem ter valores iguais (caso de matrizes quadradas).\n",
    "\n",
    "\\begin{equation}\n",
    "MA =\n",
    "\\begin{bmatrix}\n",
    "    x_{11}   &  x_{12}  \\\\\n",
    "    x_{21}   &  x_{22}  \\\\\n",
    "    x_{31}   &  x_{32}  \\\\\n",
    "\\end{bmatrix}\n",
    "\\end{equation}\n",
    "\n",
    "\\begin{equation}\n",
    "MB =\n",
    "\\begin{bmatrix}\n",
    "    y_{11}   &  y_{12} & y_{13} \\\\\n",
    "    y_{21}   &  y_{22} & y_{23} \\\\\n",
    "\\end{bmatrix}\n",
    "\\end{equation}\n",
    "\n",
    "\\begin{equation}\n",
    "MA \\cdot MB =\n",
    "\\begin{bmatrix}\n",
    "    (x_{11}y_{11} + x_{12}y_{21})   &  \n",
    "    (x_{11}y_{12} + x_{12}y_{22})   &\n",
    "    (x_{11}y_{13} + x_{12}y_{23})  \\\\\n",
    "    (x_{21}y_{11} + x_{22}y_{21})   &  \n",
    "    (x_{21}y_{12} + x_{22}y_{22})   &\n",
    "    (x_{21}y_{13} + x_{22}y_{23})  \\\\\n",
    "    (x_{31}y_{11} + x_{32}y_{21})   &  \n",
    "    (x_{31}y_{12} + x_{32}y_{22})   &\n",
    "    (x_{31}y_{13} + x_{32}y_{23})  \\\\\n",
    "\\end{bmatrix}\n",
    "\\end{equation}\n",
    "\n",
    "</br> </br>\n",
    "\n",
    "```Python\n",
    "\n",
    "A @ B   # 32\n",
    "MA @ MB\n",
    "# array([[1856, 1892, 1928],\n",
    "#        [3386, 3452, 3518],\n",
    "#        [4916, 5012, 5108]])\n",
    "```\n",
    "\n",
    "</br> </br>\n",
    "\n",
    "\n",
    "## Produto Vetorial\n",
    "\n",
    "\\begin{equation}\n",
    "A = [x_{1}, x_{2}, x_{3}]\n",
    "\\end{equation}\n",
    "\n",
    "\\begin{equation}\n",
    "B = [y_{1}, y_{2}, y_{3}]\n",
    "\\end{equation}\n",
    "\n",
    "\\begin{equation}\n",
    "A \\times B =\n",
    "\\begin{bmatrix}\n",
    "    (x_{2}y_{3} - x_{3}y_{2})   &  \n",
    "    (x_{3}y_{1} - x_{1}y_{3})   &\n",
    "    (x_{1}y_{2} - x_{2}y_{1})   \\\\\n",
    "\\end{bmatrix}\n",
    "\\end{equation}\n",
    "\n",
    "</br> </br>\n",
    "\n",
    "```Python\n",
    "np.cross(A, B) # array([-3,  6, -3])\n",
    "```"
   ]
  },
  {
   "cell_type": "code",
   "execution_count": 50,
   "id": "048cc3a5",
   "metadata": {},
   "outputs": [
    {
     "data": {
      "text/plain": [
       "32"
      ]
     },
     "execution_count": 50,
     "metadata": {},
     "output_type": "execute_result"
    }
   ],
   "source": [
    "# A @ B\n",
    "A @ B"
   ]
  },
  {
   "cell_type": "code",
   "execution_count": 51,
   "id": "46095f24",
   "metadata": {},
   "outputs": [
    {
     "data": {
      "text/plain": [
       "array([[1856, 1892, 1928],\n",
       "       [3386, 3452, 3518],\n",
       "       [4916, 5012, 5108]])"
      ]
     },
     "execution_count": 51,
     "metadata": {},
     "output_type": "execute_result"
    }
   ],
   "source": [
    "# MA @ MB\n",
    "MA @ MB"
   ]
  },
  {
   "cell_type": "code",
   "execution_count": 52,
   "id": "ae69c3e4",
   "metadata": {},
   "outputs": [
    {
     "data": {
      "text/plain": [
       "array([-3,  6, -3])"
      ]
     },
     "execution_count": 52,
     "metadata": {},
     "output_type": "execute_result"
    }
   ],
   "source": [
    "# np.cross(A, B)\n",
    "np.cross(A, B)"
   ]
  },
  {
   "cell_type": "markdown",
   "id": "d33fc272",
   "metadata": {},
   "source": [
    "## Exercício 1\n",
    "\n",
    "Construa dois arrays numpy com `25` valores aleatórios inteiros variando no intervalo `[1, 20]`. Em seguida, verifique se existe algum elemento igual e na mesma posição entre os dois arrays."
   ]
  },
  {
   "cell_type": "code",
   "execution_count": 64,
   "id": "5a66c132",
   "metadata": {},
   "outputs": [
    {
     "name": "stdout",
     "output_type": "stream",
     "text": [
      "[ 9  9 18 18  5  6 18 15  6  8  8  6 16  2 11  7  1 12  2 10  1 17  8  4\n",
      "  6]\n",
      "[ 9  1  2 18  6  9  4 19 12 12 18  3 15  9 20 20  8  1 14 10  2 12  4  5\n",
      " 17]\n"
     ]
    },
    {
     "data": {
      "text/plain": [
       "True"
      ]
     },
     "execution_count": 64,
     "metadata": {},
     "output_type": "execute_result"
    }
   ],
   "source": [
    "a = np.random.randint(1, 21, 25)\n",
    "b = np.random.randint(1, 21, 25)\n",
    "print(a)\n",
    "print(b)\n",
    "\n",
    "np.any(a == b)"
   ]
  },
  {
   "cell_type": "markdown",
   "id": "7cb706f9",
   "metadata": {},
   "source": [
    "## Exercício 2\n",
    "\n",
    "Construa uma função que determina se dois vetores são **ortogonais**."
   ]
  },
  {
   "cell_type": "code",
   "execution_count": 67,
   "id": "b2f15e1d",
   "metadata": {},
   "outputs": [
    {
     "name": "stdout",
     "output_type": "stream",
     "text": [
      "True\n",
      "False\n",
      "True\n"
     ]
    }
   ],
   "source": [
    "def eh_ortogonal(vetor_1, vetor_2):\n",
    "    if (vetor_1 @ vetor_2) == 0.0:\n",
    "        return True\n",
    "    else:\n",
    "        return False\n",
    "    \n",
    "\n",
    "    \n",
    "print(eh_ortogonal(np.array([1, 0]), np.array([0, 1])))\n",
    "print(eh_ortogonal(np.array([1, 5]), np.array([4, 1])))\n",
    "print(eh_ortogonal(np.array([2, -2]), np.array([2, 2])))"
   ]
  },
  {
   "cell_type": "markdown",
   "id": "851d58c9",
   "metadata": {},
   "source": [
    "## Exercício 3\n",
    "\n",
    "A norma de um vetor é obtida por meio do cálculo do comprimento desse vetor. Sabendo que\n",
    "\n",
    "\\begin{equation}\n",
    "A = [x_{1}, x_{2}, x_{3}]\n",
    "\\end{equation}\n",
    "\n",
    "\\begin{equation}\n",
    "\\lVert A \\rVert = \\sqrt{x_{1}^{2} +x_{2}^{2} + x_{3}^{2}}\n",
    "\\end{equation}\n",
    "\n",
    "\\begin{equation}\n",
    "\\lVert A \\rVert = \\sqrt{A \\cdot A}\n",
    "\\end{equation}\n",
    "\n",
    "Faça uma função que recebe um vetor e calcula sua **norma**."
   ]
  },
  {
   "cell_type": "code",
   "execution_count": 81,
   "id": "4dc8fe87",
   "metadata": {},
   "outputs": [
    {
     "name": "stdout",
     "output_type": "stream",
     "text": [
      "5.0\n"
     ]
    }
   ],
   "source": [
    "def norma(vetor):\n",
    "    return ((vetor @ vetor) ** (1/2))\n",
    "\n",
    "\n",
    "print(norma(np.array([3, -4])))"
   ]
  },
  {
   "cell_type": "code",
   "execution_count": 54,
   "id": "73572dd9",
   "metadata": {},
   "outputs": [
    {
     "data": {
      "text/plain": [
       "1330"
      ]
     },
     "execution_count": 54,
     "metadata": {},
     "output_type": "execute_result"
    }
   ],
   "source": [
    "# Determinante:\n",
    "\n",
    "a = np.array([[50, 29], [30, 44]])\n",
    "int(np.linalg.det(a))"
   ]
  },
  {
   "cell_type": "code",
   "execution_count": null,
   "id": "cd8df08c",
   "metadata": {},
   "outputs": [],
   "source": []
  }
 ],
 "metadata": {
  "kernelspec": {
   "display_name": "Python 3",
   "language": "python",
   "name": "python3"
  },
  "language_info": {
   "codemirror_mode": {
    "name": "ipython",
    "version": 3
   },
   "file_extension": ".py",
   "mimetype": "text/x-python",
   "name": "python",
   "nbconvert_exporter": "python",
   "pygments_lexer": "ipython3",
   "version": "3.9.7"
  }
 },
 "nbformat": 4,
 "nbformat_minor": 5
}
