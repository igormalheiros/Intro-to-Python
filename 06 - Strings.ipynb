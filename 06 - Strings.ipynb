{
 "cells": [
  {
   "cell_type": "markdown",
   "id": "98070434",
   "metadata": {},
   "source": [
    "# Introdução à Programação para Ciência de Dados\n",
    "\n",
    "### Aula 6: Strings I\n",
    "\n",
    "**Professor:** Igor Malheiros"
   ]
  },
  {
   "cell_type": "markdown",
   "id": "1acc6ec5",
   "metadata": {},
   "source": [
    "## Strings\n",
    "\n",
    "Nós já utilizamos strings desde aulas passadas, em funções como `input()` e `print()`. Além disso, nós estudamos algumas operações de conversões de outros tipos para string e vice-versa. Finalmente, nós utilizamos algumas operações possíveis em strings como o operador `+` que realiza concatenação entre duas strings e também vimos que esse operador não funciona quando os operandos são uma string e um valor numérico.\n",
    "\n",
    "### Caracteres\n",
    "\n",
    "A string é formada por uma **sequência de caracteres**. O caractere é uma unidade da string. Por exemplo, na string `\"Python\"`, temos que `'P'` é o primeiro caractere, `'y'` é o segundo caractere, `'t'` é o terceiro caractere, `'h'` é o quarto caractere, `'o'` o quinto caractere e `'n'` é o sexto caractere. Ou seja, a string `\"Python\"` é formada por essa sequência de caracteres (`'P'`, `'y'`, `'t'`, `'h'`, `'o'` e `'n'`).\n",
    "\n",
    "Os caracteres não precisam ser apenas letras maiúsculas e minúsculas, elas também podem ser números (`'1'`, `'4'`, `'100'`, `'-20'`), símbolos (`'!'`, `'+'`, `'%'`, `'@'`) ou caracteres especiais (`' '`, `'\\n'`, `'\\t'`, `'\\b'`).\n",
    "\n",
    "Quando uma string não possui nenhum caractere, chamamos essa string de **string vazia**."
   ]
  },
  {
   "cell_type": "code",
   "execution_count": 1,
   "id": "5439ce96",
   "metadata": {},
   "outputs": [
    {
     "name": "stdout",
     "output_type": "stream",
     "text": [
      "abcde\n"
     ]
    }
   ],
   "source": [
    "# string apenas com letras\n",
    "string = \"abcde\"\n",
    "print(string)"
   ]
  },
  {
   "cell_type": "code",
   "execution_count": 2,
   "id": "91498dde",
   "metadata": {},
   "outputs": [
    {
     "name": "stdout",
     "output_type": "stream",
     "text": [
      "abcd123\n"
     ]
    }
   ],
   "source": [
    "# string com letras e números\n",
    "string = \"abcd123\"\n",
    "print(string)"
   ]
  },
  {
   "cell_type": "code",
   "execution_count": 4,
   "id": "e8383cdc",
   "metadata": {},
   "outputs": [
    {
     "name": "stdout",
     "output_type": "stream",
     "text": [
      "abcde1234)%*\n"
     ]
    }
   ],
   "source": [
    "# strings com letras, números, símbolos\n",
    "string = 'abcde1234)%*'\n",
    "print(string)"
   ]
  },
  {
   "cell_type": "code",
   "execution_count": 5,
   "id": "a2de04a4",
   "metadata": {},
   "outputs": [
    {
     "name": "stdout",
     "output_type": "stream",
     "text": [
      "Eu amo Python\n"
     ]
    }
   ],
   "source": [
    "# string com ' '\n",
    "string = \"Eu amo Python\"\n",
    "print(string)"
   ]
  },
  {
   "cell_type": "code",
   "execution_count": 6,
   "id": "3fba66a8",
   "metadata": {},
   "outputs": [
    {
     "name": "stdout",
     "output_type": "stream",
     "text": [
      "Eu\n",
      "amo\n",
      "Python\n"
     ]
    }
   ],
   "source": [
    "# string com '\\n'\n",
    "string = \"Eu\\namo\\nPython\"\n",
    "print(string)"
   ]
  },
  {
   "cell_type": "code",
   "execution_count": 7,
   "id": "94fb86c6",
   "metadata": {},
   "outputs": [
    {
     "name": "stdout",
     "output_type": "stream",
     "text": [
      "Eu\tamo\tPython\n"
     ]
    }
   ],
   "source": [
    "# string com '\\t'\n",
    "string = \"Eu\\tamo\\tPython\"\n",
    "print(string)"
   ]
  },
  {
   "cell_type": "code",
   "execution_count": 8,
   "id": "85ee7490",
   "metadata": {},
   "outputs": [
    {
     "name": "stdout",
     "output_type": "stream",
     "text": [
      "Eu\bamo\bPython\n"
     ]
    }
   ],
   "source": [
    "# string com '\\b'\n",
    "string = \"Eu\\bamo\\bPython\"\n",
    "print(string)"
   ]
  },
  {
   "cell_type": "code",
   "execution_count": 10,
   "id": "fef287f8",
   "metadata": {},
   "outputs": [
    {
     "name": "stdout",
     "output_type": "stream",
     "text": [
      "\n"
     ]
    }
   ],
   "source": [
    "# string vazia\n",
    "string = \"\"\n",
    "print(string)"
   ]
  },
  {
   "cell_type": "markdown",
   "id": "5a1e3ce0",
   "metadata": {},
   "source": [
    "### Acessando cada caractere\n",
    "\n",
    "É possível acessar cada caractere de uma string individualmente utilizando posição de um caractere da sequência entre colchetes `[3]`. É importante destacar que utilizamos a contagem começando de **`0`**!\n",
    "\n",
    "| P | y | t | h | o | n |\n",
    "|:-:|:-:|:-:|:-:|:-:|:-:|\n",
    "| 0 | 1 | 2 | 3 | 4 | 5 |\n",
    "\n",
    "```Python\n",
    "string = \"Python\"\n",
    "\n",
    "print(string[0]) # -> 'P'\n",
    "print(string[4]) # -> 'o'\n",
    "```\n",
    "\n",
    "Os índices também podem ser expressões ou variáveis que resultem em um valor inteiro.\n",
    "\n",
    "```Python\n",
    "string = \"Python\"\n",
    "i = 2\n",
    "\n",
    "print(string[i]) # -> 't'\n",
    "print(string[2*2]) # -> 'o'\n",
    "```\n",
    "\n",
    "Caso um número maior do que o último índice seja acessado, será gerado um *bug*, conhecido como *index out of range* (índice fora do intervalo).\n",
    "\n",
    "```Python\n",
    "string = \"Python\"\n",
    "\n",
    "print(string[4*2]) # -> Erro!\n",
    "print(string[10]) # -> Erro!\n",
    "```\n",
    "\n",
    "Caso o índice seja acessado por um número negativo, o acesso será feito de trás pra frente.\n",
    "\n",
    "```Python\n",
    "string = \"Python\"\n",
    "\n",
    "print(string[-1]) # -> 'n'\n",
    "print(string[-3]) # -> 'h'\n",
    "print(string[-6]) # -> 'P'\n",
    "```\n",
    "\n",
    "Se o índice negativo for menor do que o primeiro caractere na contagem invertida, será gerado *bug* do *index out of range*. Ou seja, o menor caractere negativo que podemos acessar é o tamanho da string multiplicado por `-1`.\n",
    "\n",
    "```Python\n",
    "string = \"Python\"\n",
    "\n",
    "print(string[-7]) # -> Erro!\n",
    "```\n",
    "\n",
    "Apesar de conseguirmos acessar cada caractere de uma string, **não se pode modificá-los diretamente!**\n",
    "\n",
    "```Python\n",
    "string = \"Python\"\n",
    "string[0] = 'X' # -> Erro!\n",
    "```"
   ]
  },
  {
   "cell_type": "code",
   "execution_count": 13,
   "id": "05ece685",
   "metadata": {},
   "outputs": [
    {
     "name": "stdout",
     "output_type": "stream",
     "text": [
      "P\n"
     ]
    }
   ],
   "source": [
    "# Acessando string com inteiros positivos\n",
    "string = \"Eu amo Python\"\n",
    "print(string[7])"
   ]
  },
  {
   "cell_type": "code",
   "execution_count": 16,
   "id": "7931de3b",
   "metadata": {},
   "outputs": [
    {
     "name": "stdout",
     "output_type": "stream",
     "text": [
      "h\n"
     ]
    }
   ],
   "source": [
    "# Acessando string com inteiros negativos\n",
    "print(string[-3])"
   ]
  },
  {
   "cell_type": "code",
   "execution_count": 18,
   "id": "f1c855c7",
   "metadata": {},
   "outputs": [
    {
     "ename": "IndexError",
     "evalue": "string index out of range",
     "output_type": "error",
     "traceback": [
      "\u001b[0;31m---------------------------------------------------------------------------\u001b[0m",
      "\u001b[0;31mIndexError\u001b[0m                                Traceback (most recent call last)",
      "\u001b[0;32m/tmp/ipykernel_6763/3664395839.py\u001b[0m in \u001b[0;36m<module>\u001b[0;34m\u001b[0m\n\u001b[1;32m      1\u001b[0m \u001b[0;31m# Acessando string maior ou igual ao tamanho (bug)\u001b[0m\u001b[0;34m\u001b[0m\u001b[0;34m\u001b[0m\u001b[0m\n\u001b[0;32m----> 2\u001b[0;31m \u001b[0mprint\u001b[0m\u001b[0;34m(\u001b[0m\u001b[0mstring\u001b[0m\u001b[0;34m[\u001b[0m\u001b[0;36m13\u001b[0m\u001b[0;34m]\u001b[0m\u001b[0;34m)\u001b[0m\u001b[0;34m\u001b[0m\u001b[0;34m\u001b[0m\u001b[0m\n\u001b[0m",
      "\u001b[0;31mIndexError\u001b[0m: string index out of range"
     ]
    }
   ],
   "source": [
    "# Acessando string maior ou igual ao tamanho (bug)\n",
    "print(string[13])"
   ]
  },
  {
   "cell_type": "code",
   "execution_count": 24,
   "id": "7df1fb58",
   "metadata": {},
   "outputs": [
    {
     "ename": "IndexError",
     "evalue": "string index out of range",
     "output_type": "error",
     "traceback": [
      "\u001b[0;31m---------------------------------------------------------------------------\u001b[0m",
      "\u001b[0;31mIndexError\u001b[0m                                Traceback (most recent call last)",
      "\u001b[0;32m/tmp/ipykernel_6763/1530280773.py\u001b[0m in \u001b[0;36m<module>\u001b[0;34m\u001b[0m\n\u001b[1;32m      1\u001b[0m \u001b[0;31m# Acessando string menor do que o tamanho * -1 (bug)\u001b[0m\u001b[0;34m\u001b[0m\u001b[0;34m\u001b[0m\u001b[0m\n\u001b[0;32m----> 2\u001b[0;31m \u001b[0mprint\u001b[0m\u001b[0;34m(\u001b[0m\u001b[0mstring\u001b[0m\u001b[0;34m[\u001b[0m\u001b[0;34m-\u001b[0m\u001b[0;36m14\u001b[0m\u001b[0;34m]\u001b[0m\u001b[0;34m)\u001b[0m\u001b[0;34m\u001b[0m\u001b[0;34m\u001b[0m\u001b[0m\n\u001b[0m",
      "\u001b[0;31mIndexError\u001b[0m: string index out of range"
     ]
    }
   ],
   "source": [
    "# Acessando string menor do que o tamanho * -1 (bug)\n",
    "print(string[-14])"
   ]
  },
  {
   "cell_type": "code",
   "execution_count": 25,
   "id": "2fc87d8a",
   "metadata": {},
   "outputs": [
    {
     "ename": "TypeError",
     "evalue": "'str' object does not support item assignment",
     "output_type": "error",
     "traceback": [
      "\u001b[0;31m---------------------------------------------------------------------------\u001b[0m",
      "\u001b[0;31mTypeError\u001b[0m                                 Traceback (most recent call last)",
      "\u001b[0;32m/tmp/ipykernel_6763/3114297991.py\u001b[0m in \u001b[0;36m<module>\u001b[0;34m\u001b[0m\n\u001b[1;32m      1\u001b[0m \u001b[0;31m# Modificando um caractere (bug)\u001b[0m\u001b[0;34m\u001b[0m\u001b[0;34m\u001b[0m\u001b[0m\n\u001b[0;32m----> 2\u001b[0;31m \u001b[0mstring\u001b[0m\u001b[0;34m[\u001b[0m\u001b[0;36m0\u001b[0m\u001b[0;34m]\u001b[0m \u001b[0;34m=\u001b[0m \u001b[0;34m'X'\u001b[0m\u001b[0;34m\u001b[0m\u001b[0;34m\u001b[0m\u001b[0m\n\u001b[0m",
      "\u001b[0;31mTypeError\u001b[0m: 'str' object does not support item assignment"
     ]
    }
   ],
   "source": [
    "# Modificando um caractere (bug)\n",
    "string[0] = 'X'"
   ]
  },
  {
   "cell_type": "markdown",
   "id": "ca07d8f4",
   "metadata": {},
   "source": [
    "### Função len()\n",
    "\n",
    "As **funções** são porções de códigos que realizam uma determinada tarefa e podemos utilizar ao longo dos nossos programas. Em geral, nós vamos entrar com algum dado e a função retornará algum resultado dependendo do valor de entrada.\n",
    "\n",
    "Algumas dessas funções já são **nativas** de Python e podemos utilizá-las quando quisermos, `print()`, `input()`, `int()`, `float()` e `str()` são exemplos de funções nativas que já utilizamos em aulas passadas. Existem algumas funções que **não são nativas** e precisamos explicitamente dizer de onde estamos utilizando. Além disso, nós também podemos criar nossas próprias funções. Nós vamos nos aprofundar mais em funções em aulas futuras.\n",
    "\n",
    "A função `len()` é uma função que vai receber uma string e vai retornar o tamanho dessa string.\n",
    "\n",
    "```Python\n",
    "print(len(\"Python\")) # -> 6\n",
    "print(len(\"casa\")) # -> 4\n",
    "print(len(\"   \")) # -> 3\n",
    "print(len(\"\")) # -> 0\n",
    "```\n",
    "\n",
    "### Loop while em Strings\n",
    "\n",
    "Uma operação muito comum em strings é quando queremos iterar sobre os caracteres de uma string. Podemos utilizar o laço de repetição `while` com a função `len()` para realizar essa tarefa.\n",
    "\n",
    "```Python\n",
    "string = \"Python\"\n",
    "indice = 0\n",
    "\n",
    "while indice < len(string):\n",
    "    caractere = string[indice]\n",
    "    print(caractere)\n",
    "    indice = indice + 1\n",
    "\n",
    "```"
   ]
  },
  {
   "cell_type": "code",
   "execution_count": 27,
   "id": "79f535f5",
   "metadata": {},
   "outputs": [
    {
     "name": "stdout",
     "output_type": "stream",
     "text": [
      "* P\n",
      "* y\n",
      "* t\n",
      "* h\n",
      "* o\n",
      "* n\n"
     ]
    }
   ],
   "source": [
    "# Exemplo while\n",
    "string = \"Python\"\n",
    "indice = 0\n",
    "\n",
    "while indice < len(string):\n",
    "    caractere = string[indice]\n",
    "    print(\"* \" + caractere)\n",
    "    indice = indice + 1"
   ]
  },
  {
   "cell_type": "markdown",
   "id": "e9309a19",
   "metadata": {},
   "source": [
    "### Loop for em Strings\n",
    "\n",
    "Uma outra forma de iterar sobre os caracteres de uma string é utilizando o laço de repetição `for`. Para o `for`, nós não precisamos utilizar a função `len()`, pois podemos definir exatamente os elementos que o iterador pode assumir.\n",
    "\n",
    "```Python\n",
    "string = \"Python\"\n",
    "\n",
    "for caractere in string:\n",
    "    print(caractere)\n",
    "```\n",
    "\n",
    "O operador `in` quando aplicado em uma string no `for`, faz com que o iterador assuma os valores de cada caractere da string."
   ]
  },
  {
   "cell_type": "code",
   "execution_count": 29,
   "id": "2aec7d45",
   "metadata": {},
   "outputs": [
    {
     "name": "stdout",
     "output_type": "stream",
     "text": [
      "* P\n",
      "* y\n",
      "* t\n",
      "* h\n",
      "* o\n",
      "* n\n"
     ]
    }
   ],
   "source": [
    "# Exemplo for\n",
    "s = \"Python\"\n",
    "for c in s:\n",
    "    print(\"* \" + c)"
   ]
  },
  {
   "cell_type": "markdown",
   "id": "2b7e8f20",
   "metadata": {},
   "source": [
    "## Exercício 1\n",
    "\n",
    "Faça um programa que lê uma string digitada pelo usuário e imprime o primeiro e o último caractere."
   ]
  },
  {
   "cell_type": "code",
   "execution_count": 34,
   "id": "41a9ffd1",
   "metadata": {},
   "outputs": [
    {
     "name": "stdout",
     "output_type": "stream",
     "text": [
      "Digite uma string qualquerPython\n",
      "O primeiro elemento eh:  P\n",
      "O ultimo elemento eh:  n\n"
     ]
    }
   ],
   "source": [
    "s = input(\"Digite uma string qualquer\")\n",
    "print(\"O primeiro elemento eh: \", s[0])\n",
    "print(\"O ultimo elemento eh: \", s[len(s)-1])"
   ]
  },
  {
   "cell_type": "markdown",
   "id": "09b4a2f4",
   "metadata": {},
   "source": [
    "## Exercício 2\n",
    "\n",
    "Faça um programa que lê uma string digitada pelo usuário e imprime cada caractere seguido pela sua posição na string."
   ]
  },
  {
   "cell_type": "code",
   "execution_count": 36,
   "id": "414e20c4",
   "metadata": {},
   "outputs": [
    {
     "name": "stdout",
     "output_type": "stream",
     "text": [
      "Digite uma string qualquerPython\n",
      "P 0\n",
      "y 1\n",
      "t 2\n",
      "h 3\n",
      "o 4\n",
      "n 5\n"
     ]
    }
   ],
   "source": [
    "s = input(\"Digite uma string qualquer\")\n",
    "indice = 0\n",
    "\n",
    "while indice < len(s):\n",
    "    c = s[indice]\n",
    "    print(c, indice)\n",
    "    indice = indice + 1"
   ]
  },
  {
   "cell_type": "markdown",
   "id": "558cfee9",
   "metadata": {},
   "source": [
    "## Exercício 3\n",
    "\n",
    "Faça um programa que lê uma string digitada e conta quantas vezes o caractere `'a'` apareceu nessa string."
   ]
  },
  {
   "cell_type": "code",
   "execution_count": 41,
   "id": "2f4c8117",
   "metadata": {},
   "outputs": [
    {
     "name": "stdout",
     "output_type": "stream",
     "text": [
      "Digite uma string qualquerCASA\n",
      "2\n"
     ]
    }
   ],
   "source": [
    "s = input(\"Digite uma string qualquer\")\n",
    "\n",
    "cnt = 0\n",
    "\n",
    "for c in s:\n",
    "    if c == 'a' or c == 'A':\n",
    "        cnt = cnt + 1\n",
    "        \n",
    "print(cnt)"
   ]
  },
  {
   "cell_type": "code",
   "execution_count": 32,
   "id": "0d0da6d0",
   "metadata": {},
   "outputs": [
    {
     "name": "stdout",
     "output_type": "stream",
     "text": [
      "*P*y*t*h*o*n\n"
     ]
    }
   ],
   "source": [
    "s = \"Python\"\n",
    "s_result = \"\"\n",
    "# *P*y*t*h*o*n\n",
    "for c in s:\n",
    "    s_result = s_result + (\"*\" + c)\n",
    "    \n",
    "# 1 concatenacao \"\" + (\"*\" + \"P\") -> \"*P\"\n",
    "# 2 concatenacao \"*P\" + (\"*\" + \"y\") -> \"*P*y\"\n",
    "# 3 concatenacao \"*P*y\" + (\"*\" + \"t\") -> \"*P*y*t\"\n",
    "# ...\n",
    "# \"*P*y*t*h*o*n\"\n",
    "print(s_result)"
   ]
  },
  {
   "cell_type": "code",
   "execution_count": null,
   "id": "1e698d60",
   "metadata": {},
   "outputs": [],
   "source": []
  }
 ],
 "metadata": {
  "kernelspec": {
   "display_name": "Python 3",
   "language": "python",
   "name": "python3"
  },
  "language_info": {
   "codemirror_mode": {
    "name": "ipython",
    "version": 3
   },
   "file_extension": ".py",
   "mimetype": "text/x-python",
   "name": "python",
   "nbconvert_exporter": "python",
   "pygments_lexer": "ipython3",
   "version": "3.9.7"
  }
 },
 "nbformat": 4,
 "nbformat_minor": 5
}
