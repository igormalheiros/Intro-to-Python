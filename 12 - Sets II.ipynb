{
 "cells": [
  {
   "cell_type": "markdown",
   "id": "bb15828d",
   "metadata": {},
   "source": [
    "# Introdução à Programação para Ciência de Dados\n",
    "\n",
    "### Aula 12: Sets II\n",
    "\n",
    "**Professor:** Igor Malheiros"
   ]
  },
  {
   "cell_type": "markdown",
   "id": "53ad14a7",
   "metadata": {},
   "source": [
    "## Operações com Sets\n",
    "\n",
    "Até agora, a nossa utilização dos *sets* foi similar ao uso de listas, com algumas poucas vantagens como a remoção elementos duplicados. Entretanto, essa estrutura de dados se mostrou muito limitada, uma vez que não é possível acessar elementos por indexação e ainda armazena os elementos de forma não-ordenada.\n",
    "\n",
    "Apesar de parecerem restritos, os *sets* são muito úteis e eficientes para resolver problemas relacionados à teoria dos conjuntos na matemática. A linguagem Python traz a facilidade de representarmos e resolvermos esses tipos de problemas com diversas funções\n",
    "\n",
    "### União entre Sets - ($A \\cup B$)\n",
    "\n",
    "Resulta na união dos elementos em $A$ e em $B$. Podemos realizar essa operação da seguinte forma:\n",
    "\n",
    "<img src=\"assets/setunion.png\">\n",
    "\n",
    "- Utilizando a função `union()`. Nesse caso, um novo *set* é criado.\n",
    "\n",
    "```Python\n",
    "A = {1, 2, 3, 4, 5}\n",
    "B = {4, 5, 6, 7, 8}\n",
    "\n",
    "C = A.union(B)\n",
    "print(A) # -> {1, 2, 3, 4, 5}\n",
    "print(B) # -> {4, 5, 6, 7, 8}\n",
    "print(C) # -> {1, 2, 3, 4, 5, 6, 7, 8}\n",
    "```\n",
    "\n",
    "- Utilizando o operador `|`. Nesse caso, um novo *set* também é criado.\n",
    "\n",
    "```Python\n",
    "A = {1, 2, 3, 4, 5}\n",
    "B = {4, 5, 6, 7, 8}\n",
    "\n",
    "C = A | B\n",
    "print(A) # -> {1, 2, 3, 4, 5}\n",
    "print(B) # -> {4, 5, 6, 7, 8}\n",
    "print(C) # -> {1, 2, 3, 4, 5, 6, 7, 8}\n",
    "```\n",
    "\n",
    "- Utilizando a função `update()`. Nesse caso, o primeiro *set* é modificado.\n",
    "\n",
    "```Python\n",
    "A = {1, 2, 3, 4, 5}\n",
    "B = {4, 5, 6, 7, 8}\n",
    "\n",
    "A.update(B)\n",
    "print(A) # -> {1, 2, 3, 4, 5, 6, 7, 8}\n",
    "print(B) # -> {4, 5, 6, 7, 8}\n",
    "```\n",
    "\n",
    "- Utilizando o operador `|` seguido de uma atribuição `=` para um código mais compacto. Nesse caso, o primeiro *set* é modificado.\n",
    "\n",
    "```Python\n",
    "A = {1, 2, 3, 4, 5}\n",
    "B = {4, 5, 6, 7, 8}\n",
    "\n",
    "A |= B\n",
    "print(A) # -> {1, 2, 3, 4, 5, 6, 7, 8}\n",
    "print(B) # -> {4, 5, 6, 7, 8}\n",
    "```"
   ]
  },
  {
   "cell_type": "code",
   "execution_count": 1,
   "id": "643033ad",
   "metadata": {},
   "outputs": [
    {
     "name": "stdout",
     "output_type": "stream",
     "text": [
      "{1, 2, 3, 4, 5}\n",
      "{4, 5, 6, 7, 8}\n",
      "{1, 2, 3, 4, 5, 6, 7, 8}\n"
     ]
    }
   ],
   "source": [
    "# União utilizando union()\n",
    "A = {1, 2, 3, 4, 5}\n",
    "B = {4, 5, 6, 7, 8}\n",
    "\n",
    "C = A.union(B)\n",
    "\n",
    "print(A)\n",
    "print(B)\n",
    "print(C)"
   ]
  },
  {
   "cell_type": "code",
   "execution_count": 2,
   "id": "42d0298c",
   "metadata": {},
   "outputs": [
    {
     "name": "stdout",
     "output_type": "stream",
     "text": [
      "{1, 2, 3, 4, 5}\n",
      "{4, 5, 6, 7, 8}\n",
      "{1, 2, 3, 4, 5, 6, 7, 8}\n"
     ]
    }
   ],
   "source": [
    "# União utilizando |\n",
    "A = {1, 2, 3, 4, 5}\n",
    "B = {4, 5, 6, 7, 8}\n",
    "\n",
    "C = A | B\n",
    "\n",
    "print(A)\n",
    "print(B)\n",
    "print(C)"
   ]
  },
  {
   "cell_type": "code",
   "execution_count": 3,
   "id": "0fbc60de",
   "metadata": {},
   "outputs": [
    {
     "name": "stdout",
     "output_type": "stream",
     "text": [
      "{1, 2, 3, 4, 5, 6, 7, 8}\n",
      "{4, 5, 6, 7, 8}\n"
     ]
    }
   ],
   "source": [
    "# União utilizando update()\n",
    "A = {1, 2, 3, 4, 5}\n",
    "B = {4, 5, 6, 7, 8}\n",
    "\n",
    "A.update(B)\n",
    "\n",
    "print(A)\n",
    "print(B)"
   ]
  },
  {
   "cell_type": "code",
   "execution_count": 4,
   "id": "307de88a",
   "metadata": {},
   "outputs": [
    {
     "name": "stdout",
     "output_type": "stream",
     "text": [
      "{1, 2, 3, 4, 5, 6, 7, 8}\n",
      "{4, 5, 6, 7, 8}\n"
     ]
    }
   ],
   "source": [
    "# União utilizando |=\n",
    "A = {1, 2, 3, 4, 5}\n",
    "B = {4, 5, 6, 7, 8}\n",
    "\n",
    "A |= B\n",
    "\n",
    "print(A)\n",
    "print(B)"
   ]
  },
  {
   "cell_type": "markdown",
   "id": "8d4a7d4b",
   "metadata": {},
   "source": [
    "\n",
    "### Interseção entre Sets - ($A \\cap B$)\n",
    "\n",
    "Resulta no conjunto com os elementos comuns entre $A$ e $B$. Podemos realizar essa operação da seguinte forma:\n",
    "\n",
    "<img src=\"assets/setintersection.png\">\n",
    "\n",
    "- Utilizando a função `intersection()`. Nesse caso, um novo *set* é criado.\n",
    "\n",
    "```Python\n",
    "A = {1, 2, 3, 4, 5}\n",
    "B = {4, 5, 6, 7, 8}\n",
    "\n",
    "C = A.intersection(B)\n",
    "print(A) # -> {1, 2, 3, 4, 5}\n",
    "print(B) # -> {4, 5, 6, 7, 8}\n",
    "print(C) # -> {4, 5}\n",
    "```\n",
    "\n",
    "- Utilizando o operador `&`. Nesse caso, um novo *set* também é criado.\n",
    "\n",
    "```Python\n",
    "A = {1, 2, 3, 4, 5}\n",
    "B = {4, 5, 6, 7, 8}\n",
    "\n",
    "C = A & B\n",
    "print(A) # -> {1, 2, 3, 4, 5}\n",
    "print(B) # -> {4, 5, 6, 7, 8}\n",
    "print(C) # -> {4, 5}\n",
    "```\n",
    "\n",
    "- Utilizando a função `intersection_update()`. Nesse caso, o primeiro *set* é modificado.\n",
    "\n",
    "```Python\n",
    "A = {1, 2, 3, 4, 5}\n",
    "B = {4, 5, 6, 7, 8}\n",
    "\n",
    "A.intersection_update(B)\n",
    "print(A) # -> {4, 5}\n",
    "print(B) # -> {4, 5, 6, 7, 8}\n",
    "```\n",
    "\n",
    "- Utilizando o operador `&` seguido de uma atribuição `=` para um código mais compacto. Nesse caso, o primeiro *set* é modificado.\n",
    "\n",
    "```Python\n",
    "A = {1, 2, 3, 4, 5}\n",
    "B = {4, 5, 6, 7, 8}\n",
    "\n",
    "A &= B\n",
    "print(A) # -> {4, 5}\n",
    "print(B) # -> {4, 5, 6, 7, 8}\n",
    "```"
   ]
  },
  {
   "cell_type": "code",
   "execution_count": 5,
   "id": "93cc8520",
   "metadata": {},
   "outputs": [
    {
     "name": "stdout",
     "output_type": "stream",
     "text": [
      "{1, 2, 3, 4, 5}\n",
      "{4, 5, 6, 7, 8}\n",
      "{4, 5}\n"
     ]
    }
   ],
   "source": [
    "# Interseção utilizando intersection()\n",
    "A = {1, 2, 3, 4, 5}\n",
    "B = {4, 5, 6, 7, 8}\n",
    "\n",
    "C = A.intersection(B)\n",
    "\n",
    "print(A)\n",
    "print(B)\n",
    "print(C)"
   ]
  },
  {
   "cell_type": "code",
   "execution_count": 6,
   "id": "7143c310",
   "metadata": {},
   "outputs": [
    {
     "name": "stdout",
     "output_type": "stream",
     "text": [
      "{1, 2, 3, 4, 5}\n",
      "{4, 5, 6, 7, 8}\n",
      "{4, 5}\n"
     ]
    }
   ],
   "source": [
    "# Interseção utilizando &\n",
    "A = {1, 2, 3, 4, 5}\n",
    "B = {4, 5, 6, 7, 8}\n",
    "\n",
    "C = A & B\n",
    "\n",
    "print(A)\n",
    "print(B)\n",
    "print(C)"
   ]
  },
  {
   "cell_type": "code",
   "execution_count": 7,
   "id": "43c52f6a",
   "metadata": {},
   "outputs": [
    {
     "name": "stdout",
     "output_type": "stream",
     "text": [
      "{4, 5}\n",
      "{4, 5, 6, 7, 8}\n"
     ]
    }
   ],
   "source": [
    "# Interseção utilizando intersection_update()\n",
    "A = {1, 2, 3, 4, 5}\n",
    "B = {4, 5, 6, 7, 8}\n",
    "\n",
    "A.intersection_update(B)\n",
    "\n",
    "print(A)\n",
    "print(B)"
   ]
  },
  {
   "cell_type": "code",
   "execution_count": 8,
   "id": "78acc889",
   "metadata": {},
   "outputs": [
    {
     "name": "stdout",
     "output_type": "stream",
     "text": [
      "{4, 5}\n",
      "{4, 5, 6, 7, 8}\n"
     ]
    }
   ],
   "source": [
    "# Interseção utilizando &=\n",
    "A = {1, 2, 3, 4, 5}\n",
    "B = {4, 5, 6, 7, 8}\n",
    "\n",
    "A &= B\n",
    "\n",
    "print(A)\n",
    "print(B)"
   ]
  },
  {
   "cell_type": "markdown",
   "id": "d5b0d239",
   "metadata": {},
   "source": [
    "### Diferença entre Sets - ($A \\setminus B$)\n",
    "\n",
    "Resulta no conjunto com os elementos que existem em $A$ e não existem em $B$. Podemos realizar essa operação da seguinte forma:\n",
    "\n",
    "<img src=\"assets/setdiff.png\">\n",
    "\n",
    "- Utilizando a função `difference()`. Nesse caso, um novo *set* é criado.\n",
    "\n",
    "```Python\n",
    "A = {1, 2, 3, 4, 5}\n",
    "B = {4, 5, 6, 7, 8}\n",
    "\n",
    "C = A.difference(B)\n",
    "print(A) # -> {1, 2, 3, 4, 5}\n",
    "print(B) # -> {4, 5, 6, 7, 8}\n",
    "print(C) # -> {1, 2, 3}\n",
    "```\n",
    "\n",
    "- Utilizando o operador `-`. Nesse caso, um novo *set* também é criado.\n",
    "\n",
    "```Python\n",
    "A = {1, 2, 3, 4, 5}\n",
    "B = {4, 5, 6, 7, 8}\n",
    "\n",
    "C = A - B\n",
    "print(A) # -> {1, 2, 3, 4, 5}\n",
    "print(B) # -> {4, 5, 6, 7, 8}\n",
    "print(C) # -> {1, 2, 3}\n",
    "```\n",
    "\n",
    "- Utilizando a função `difference_update()`. Nesse caso, o primeiro *set* é modificado.\n",
    "\n",
    "```Python\n",
    "A = {1, 2, 3, 4, 5}\n",
    "B = {4, 5, 6, 7, 8}\n",
    "\n",
    "A.difference_update(B)\n",
    "print(A) # -> {1, 2, 3}\n",
    "print(B) # -> {4, 5, 6, 7, 8}\n",
    "```\n",
    "\n",
    "- Utilizando o operador `-` seguido de uma atribuição `=` para um código mais compacto. Nesse caso, o primeiro *set* é modificado.\n",
    "\n",
    "```Python\n",
    "A = {1, 2, 3, 4, 5}\n",
    "B = {4, 5, 6, 7, 8}\n",
    "\n",
    "A -= B\n",
    "print(A) # -> {1, 2, 3}\n",
    "print(B) # -> {4, 5, 6, 7, 8}\n",
    "```"
   ]
  },
  {
   "cell_type": "code",
   "execution_count": 9,
   "id": "f2ad8a83",
   "metadata": {},
   "outputs": [
    {
     "name": "stdout",
     "output_type": "stream",
     "text": [
      "{1, 2, 3, 4, 5}\n",
      "{4, 5, 6, 7, 8}\n",
      "{1, 2, 3}\n"
     ]
    }
   ],
   "source": [
    "# Interseção utilizando difference()\n",
    "A = {1, 2, 3, 4, 5}\n",
    "B = {4, 5, 6, 7, 8}\n",
    "\n",
    "C = A.difference(B)\n",
    "\n",
    "print(A)\n",
    "print(B)\n",
    "print(C)"
   ]
  },
  {
   "cell_type": "code",
   "execution_count": 10,
   "id": "d298fd79",
   "metadata": {},
   "outputs": [
    {
     "name": "stdout",
     "output_type": "stream",
     "text": [
      "{1, 2, 3, 4, 5}\n",
      "{4, 5, 6, 7, 8}\n",
      "{1, 2, 3}\n"
     ]
    }
   ],
   "source": [
    "# Interseção utilizando -\n",
    "A = {1, 2, 3, 4, 5}\n",
    "B = {4, 5, 6, 7, 8}\n",
    "\n",
    "C = A - B\n",
    "\n",
    "print(A)\n",
    "print(B)\n",
    "print(C)"
   ]
  },
  {
   "cell_type": "code",
   "execution_count": 11,
   "id": "7caebd76",
   "metadata": {},
   "outputs": [
    {
     "name": "stdout",
     "output_type": "stream",
     "text": [
      "{1, 2, 3}\n",
      "{4, 5, 6, 7, 8}\n"
     ]
    }
   ],
   "source": [
    "# Interseção utilizando difference_update()\n",
    "A = {1, 2, 3, 4, 5}\n",
    "B = {4, 5, 6, 7, 8}\n",
    "\n",
    "A.difference_update(B)\n",
    "\n",
    "print(A)\n",
    "print(B)"
   ]
  },
  {
   "cell_type": "code",
   "execution_count": 12,
   "id": "2e07a7ce",
   "metadata": {},
   "outputs": [
    {
     "name": "stdout",
     "output_type": "stream",
     "text": [
      "{1, 2, 3}\n",
      "{4, 5, 6, 7, 8}\n"
     ]
    }
   ],
   "source": [
    "# Interseção utilizando -=\n",
    "A = {1, 2, 3, 4, 5}\n",
    "B = {4, 5, 6, 7, 8}\n",
    "\n",
    "A -= B\n",
    "\n",
    "print(A)\n",
    "print(B)"
   ]
  },
  {
   "cell_type": "markdown",
   "id": "8c961bac",
   "metadata": {},
   "source": [
    "### Diferença simétrica entre Sets - ($A \\triangle B$)\n",
    "\n",
    "Resulta no conjunto com os elementos que não são comuns entre $A$ e $B$. Podemos realizar essa operação da seguinte forma:\n",
    "\n",
    "<img src=\"assets/setsymmdiff.png\">\n",
    "\n",
    "- Utilizando a função `symmetric_difference()`. Nesse caso, um novo *set* é criado.\n",
    "\n",
    "```Python\n",
    "A = {1, 2, 3, 4, 5}\n",
    "B = {4, 5, 6, 7, 8}\n",
    "\n",
    "C = A.symmetric_difference(B)\n",
    "print(A) # -> {1, 2, 3, 4, 5}\n",
    "print(B) # -> {4, 5, 6, 7, 8}\n",
    "print(C) # -> {1, 2, 3, 6, 7, 8}\n",
    "```\n",
    "\n",
    "- Utilizando o operador `^`. Nesse caso, um novo *set* também é criado.\n",
    "\n",
    "```Python\n",
    "A = {1, 2, 3, 4, 5}\n",
    "B = {4, 5, 6, 7, 8}\n",
    "\n",
    "C = A ^ B\n",
    "print(A) # -> {1, 2, 3, 4, 5}\n",
    "print(B) # -> {4, 5, 6, 7, 8}\n",
    "print(C) # -> {1, 2, 3, 6, 7, 8}\n",
    "```\n",
    "\n",
    "- Utilizando a função `symmetric_difference_update()`. Nesse caso, o primeiro *set* é modificado.\n",
    "\n",
    "```Python\n",
    "A = {1, 2, 3, 4, 5}\n",
    "B = {4, 5, 6, 7, 8}\n",
    "\n",
    "A.symmetric_difference_update(B)\n",
    "print(A) # -> {1, 2, 3, 6, 7, 8}\n",
    "print(B) # -> {4, 5, 6, 7, 8}\n",
    "```\n",
    "\n",
    "- Utilizando o operador `^` seguido de uma atribuição `=` para um código mais compacto. Nesse caso, o primeiro *set* é modificado.\n",
    "\n",
    "```Python\n",
    "A = {1, 2, 3, 4, 5}\n",
    "B = {4, 5, 6, 7, 8}\n",
    "\n",
    "A ^= B\n",
    "print(A) # -> {1, 2, 3, 6, 7, 8}\n",
    "print(B) # -> {4, 5, 6, 7, 8}\n",
    "```\n",
    "\n",
    "A diferença simétrica pode ser interpretada como a união entre as duas diferenças entre os dois conjuntos. Ou seja:\n",
    "\n",
    "$A \\triangle B \\Leftrightarrow (A \\setminus B) \\cup (B \\setminus A)$"
   ]
  },
  {
   "cell_type": "code",
   "execution_count": 13,
   "id": "f1243a83",
   "metadata": {},
   "outputs": [
    {
     "name": "stdout",
     "output_type": "stream",
     "text": [
      "{1, 2, 3, 4, 5}\n",
      "{4, 5, 6, 7, 8}\n",
      "{1, 2, 3, 6, 7, 8}\n"
     ]
    }
   ],
   "source": [
    "# Interseção utilizando symmetric_difference()\n",
    "A = {1, 2, 3, 4, 5}\n",
    "B = {4, 5, 6, 7, 8}\n",
    "\n",
    "C = A.symmetric_difference(B)\n",
    "\n",
    "print(A)\n",
    "print(B)\n",
    "print(C)"
   ]
  },
  {
   "cell_type": "code",
   "execution_count": 14,
   "id": "0eec01c4",
   "metadata": {},
   "outputs": [
    {
     "name": "stdout",
     "output_type": "stream",
     "text": [
      "{1, 2, 3, 4, 5}\n",
      "{4, 5, 6, 7, 8}\n",
      "{1, 2, 3, 6, 7, 8}\n"
     ]
    }
   ],
   "source": [
    "# Interseção utilizando ^\n",
    "A = {1, 2, 3, 4, 5}\n",
    "B = {4, 5, 6, 7, 8}\n",
    "\n",
    "C = A ^ B\n",
    "\n",
    "print(A)\n",
    "print(B)\n",
    "print(C)"
   ]
  },
  {
   "cell_type": "code",
   "execution_count": 15,
   "id": "4365f566",
   "metadata": {},
   "outputs": [
    {
     "name": "stdout",
     "output_type": "stream",
     "text": [
      "{1, 2, 3, 6, 7, 8}\n",
      "{4, 5, 6, 7, 8}\n"
     ]
    }
   ],
   "source": [
    "# Interseção utilizando symmetric_difference_update()\n",
    "A = {1, 2, 3, 4, 5}\n",
    "B = {4, 5, 6, 7, 8}\n",
    "\n",
    "A.symmetric_difference_update(B)\n",
    "\n",
    "print(A)\n",
    "print(B)"
   ]
  },
  {
   "cell_type": "code",
   "execution_count": 16,
   "id": "dc49cbee",
   "metadata": {},
   "outputs": [
    {
     "name": "stdout",
     "output_type": "stream",
     "text": [
      "{1, 2, 3, 6, 7, 8}\n",
      "{4, 5, 6, 7, 8}\n"
     ]
    }
   ],
   "source": [
    "# Interseção utilizando ^=\n",
    "A = {1, 2, 3, 4, 5}\n",
    "B = {4, 5, 6, 7, 8}\n",
    "\n",
    "A ^= B\n",
    "\n",
    "print(A)\n",
    "print(B)"
   ]
  },
  {
   "cell_type": "markdown",
   "id": "5961d2c5",
   "metadata": {},
   "source": [
    "### Subconjunto - ($A \\subseteq B$)\n",
    "\n",
    "Determina se todos os elementos de $A$ estão contidos em $B$, incluindo o caso em que $A$ e $B$ são conjuntos idênticos. Podemos realizar essa operação da seguinte forma:\n",
    "\n",
    "- Utilizando a função `issubset()`.\n",
    "\n",
    "```Python\n",
    "A = {1, 2, 3, 4, 5}\n",
    "B = {1, 2, 3, 4, 5, 6, 7, 8}\n",
    "C = {1, 2, 3, 4, 5}\n",
    "\n",
    "A.issubset(C) # -> True\n",
    "A.issubset(B) # -> True\n",
    "B.issubset(C) # -> False\n",
    "```\n",
    "\n",
    "- Utilizando o operador `<=`.\n",
    "\n",
    "```Python\n",
    "A = {1, 2, 3, 4, 5}\n",
    "B = {1, 2, 3, 4, 5, 6, 7, 8}\n",
    "C = {1, 2, 3, 4, 5}\n",
    "\n",
    "A <= C # -> True\n",
    "A <= B # -> True\n",
    "B <= C # -> False\n",
    "```"
   ]
  },
  {
   "cell_type": "code",
   "execution_count": 18,
   "id": "7dfc4379",
   "metadata": {},
   "outputs": [
    {
     "name": "stdout",
     "output_type": "stream",
     "text": [
      "True\n",
      "True\n",
      "False\n"
     ]
    }
   ],
   "source": [
    "# Subconjunto com issubset()\n",
    "A = {1, 2, 3, 4, 5}\n",
    "B = {1, 2, 3, 4, 5, 6, 7, 8}\n",
    "C = {1, 2, 3, 4, 5}\n",
    "\n",
    "print(A.issubset(C))\n",
    "print(A.issubset(B))\n",
    "print(B.issubset(C))"
   ]
  },
  {
   "cell_type": "code",
   "execution_count": 19,
   "id": "93faad5f",
   "metadata": {},
   "outputs": [
    {
     "name": "stdout",
     "output_type": "stream",
     "text": [
      "True\n",
      "True\n",
      "False\n"
     ]
    }
   ],
   "source": [
    "# Subconjunto com <=\n",
    "A = {1, 2, 3, 4, 5}\n",
    "B = {1, 2, 3, 4, 5, 6, 7, 8}\n",
    "C = {1, 2, 3, 4, 5}\n",
    "\n",
    "print(A <= C)\n",
    "print(A <= B)\n",
    "print(B <= C)"
   ]
  },
  {
   "cell_type": "markdown",
   "id": "d3c153f8",
   "metadata": {},
   "source": [
    "### Subconjunto próprio - ($A \\subset B$)\n",
    "\n",
    "Determina se todos os elementos de $A$ estão contidos em $B$, **não** inclui o caso em que $A$ e $B$ são conjuntos idênticos Podemos realizar essa operação da seguinte forma:\n",
    "\n",
    "- Utilizando o operador `<`.\n",
    "\n",
    "```Python\n",
    "A = {1, 2, 3, 4, 5}\n",
    "B = {1, 2, 3, 4, 5, 6, 7, 8}\n",
    "C = {1, 2, 3, 4, 5}\n",
    "\n",
    "A < C # -> False\n",
    "A < B # -> True\n",
    "B < C # -> False\n",
    "```"
   ]
  },
  {
   "cell_type": "code",
   "execution_count": 20,
   "id": "a9a8fd67",
   "metadata": {},
   "outputs": [
    {
     "name": "stdout",
     "output_type": "stream",
     "text": [
      "False\n",
      "True\n",
      "False\n"
     ]
    }
   ],
   "source": [
    "# Subconjunto próprio com <\n",
    "A = {1, 2, 3, 4, 5}\n",
    "B = {1, 2, 3, 4, 5, 6, 7, 8}\n",
    "C = {1, 2, 3, 4, 5}\n",
    "\n",
    "print(A < C)\n",
    "print(A < B)\n",
    "print(B < C)"
   ]
  },
  {
   "cell_type": "markdown",
   "id": "870284e2",
   "metadata": {},
   "source": [
    "### Superconjunto - ($A \\supseteq B$)\n",
    "\n",
    "Determina se $A$ contém todos os elementos de $B$, incluindo o caso em que $A$ e $B$ são conjuntos idênticos. Podemos realizar essa operação da seguinte forma:\n",
    "\n",
    "- Utilizando a função `issuperset()`.\n",
    "\n",
    "```Python\n",
    "A = {1, 2, 3, 4, 5}\n",
    "B = {1, 2, 3, 4, 5, 6, 7, 8}\n",
    "C = {1, 2, 3, 4, 5}\n",
    "\n",
    "A.issuperset(C) # -> True\n",
    "A.issuperset(B) # -> False\n",
    "B.issuperset(C) # -> True\n",
    "```\n",
    "\n",
    "- Utilizando o operador `>=`.\n",
    "\n",
    "```Python\n",
    "A = {1, 2, 3, 4, 5}\n",
    "B = {1, 2, 3, 4, 5, 6, 7, 8}\n",
    "C = {1, 2, 3, 4, 5}\n",
    "\n",
    "A >= C # -> True\n",
    "A >= B # -> False\n",
    "B >= C # -> True\n",
    "```"
   ]
  },
  {
   "cell_type": "code",
   "execution_count": 21,
   "id": "d0afddcf",
   "metadata": {},
   "outputs": [
    {
     "name": "stdout",
     "output_type": "stream",
     "text": [
      "True\n",
      "False\n",
      "True\n"
     ]
    }
   ],
   "source": [
    "# Superconjunto com issuperset()\n",
    "A = {1, 2, 3, 4, 5}\n",
    "B = {1, 2, 3, 4, 5, 6, 7, 8}\n",
    "C = {1, 2, 3, 4, 5}\n",
    "\n",
    "print(A.issuperset(C))\n",
    "print(A.issuperset(B))\n",
    "print(B.issuperset(C))"
   ]
  },
  {
   "cell_type": "code",
   "execution_count": 22,
   "id": "066c1dda",
   "metadata": {},
   "outputs": [
    {
     "name": "stdout",
     "output_type": "stream",
     "text": [
      "True\n",
      "False\n",
      "True\n"
     ]
    }
   ],
   "source": [
    "# Superconjunto próprio com >=\n",
    "A = {1, 2, 3, 4, 5}\n",
    "B = {1, 2, 3, 4, 5, 6, 7, 8}\n",
    "C = {1, 2, 3, 4, 5}\n",
    "\n",
    "print(A >= C)\n",
    "print(A >= B)\n",
    "print(B >= C)"
   ]
  },
  {
   "cell_type": "markdown",
   "id": "b0f0dded",
   "metadata": {},
   "source": [
    "### Superconjunto próprio - ($A \\supset B$)\n",
    "\n",
    "Determina se $A$ contém todos os elementos de $B$, **não** inclui o caso em que $A$ e $B$ são conjuntos idênticos. Podemos realizar essa operação da seguinte forma:\n",
    "\n",
    "- Utilizando o operador `>`.\n",
    "\n",
    "```Python\n",
    "A = {1, 2, 3, 4, 5}\n",
    "B = {1, 2, 3, 4, 5, 6, 7, 8}\n",
    "C = {1, 2, 3, 4, 5}\n",
    "\n",
    "A > C # -> False\n",
    "A > B # -> False\n",
    "B > C # -> True\n",
    "```"
   ]
  },
  {
   "cell_type": "code",
   "execution_count": 24,
   "id": "98bd0ce1",
   "metadata": {},
   "outputs": [
    {
     "name": "stdout",
     "output_type": "stream",
     "text": [
      "False\n",
      "False\n",
      "True\n"
     ]
    }
   ],
   "source": [
    "# Superconjunto próprio com >=\n",
    "A = {1, 2, 3, 4, 5}\n",
    "B = {1, 2, 3, 4, 5, 6, 7, 8}\n",
    "C = {1, 2, 3, 4, 5}\n",
    "\n",
    "print(A > C)\n",
    "print(A > B)\n",
    "print(B > C)"
   ]
  },
  {
   "cell_type": "markdown",
   "id": "0ee6b9dc",
   "metadata": {},
   "source": [
    "### Disjunção - ($A \\cap B = \\emptyset$)\n",
    "\n",
    "Determina se $A$ e $B$ não possuem nenhum elemento em comum. Podemos realizar essa operação da seguinte forma:\n",
    "\n",
    "- Utilizando a função `isdisjoint()`\n",
    "\n",
    "```Python\n",
    "A = {1, 2, 3}\n",
    "B = {1, 2, 3, 4, 5, 6, 7, 8}\n",
    "C = {4, 5}\n",
    "\n",
    "A.isdisjoint(C) # -> True\n",
    "A.isdisjoint(B) # -> False\n",
    "B.isdisjoint(C) # -> False\n",
    "```"
   ]
  },
  {
   "cell_type": "code",
   "execution_count": 25,
   "id": "4e4dd0f0",
   "metadata": {},
   "outputs": [
    {
     "name": "stdout",
     "output_type": "stream",
     "text": [
      "True\n",
      "False\n",
      "False\n"
     ]
    }
   ],
   "source": [
    "# Disjunção com isdisjoint()\n",
    "A = {1, 2, 3}\n",
    "B = {1, 2, 3, 4, 5, 6, 7, 8}\n",
    "C = {4, 5}\n",
    "\n",
    "print(A.isdisjoint(C))\n",
    "print(A.isdisjoint(B))\n",
    "print(B.isdisjoint(C))"
   ]
  },
  {
   "cell_type": "markdown",
   "id": "85397bf2",
   "metadata": {},
   "source": [
    "### Pertinência - ($\\in$ e $\\notin$)\n",
    "\n",
    "Determina se um elemento $a$ pertence ao conjunto $A$. Podemos realizar essa operação da seguinte forma:\n",
    "\n",
    "- Utilizando o operador `in` ou `not in`\n",
    "\n",
    "```Python\n",
    "A = {1, 2, 3}\n",
    "a_1 = 1\n",
    "a_2 = 5\n",
    "\n",
    "a_1 in A # -> True\n",
    "a_2 in A # -> False\n",
    "a_1 not in A # -> False\n",
    "a_2 not in A # -> True\n",
    "```"
   ]
  },
  {
   "cell_type": "code",
   "execution_count": 26,
   "id": "29d04db0",
   "metadata": {},
   "outputs": [
    {
     "name": "stdout",
     "output_type": "stream",
     "text": [
      "True\n",
      "False\n",
      "False\n",
      "True\n"
     ]
    }
   ],
   "source": [
    "# Pertinência com in e not in\n",
    "A = {1, 2, 3}\n",
    "a_1 = 1\n",
    "a_2 = 5\n",
    "\n",
    "print(a_1 in A)\n",
    "print(a_2 in A)\n",
    "print(a_1 not in A)\n",
    "print(a_2 not in A)"
   ]
  },
  {
   "cell_type": "markdown",
   "id": "c550930f",
   "metadata": {},
   "source": [
    "## Exercício 1\n",
    "\n",
    "Implemente uma operação de **diferença simétrica** sem utilizar os operadores / funções: `^`, `^=`, `symmetric_difference_update()` ou `symmetric_difference()`"
   ]
  },
  {
   "cell_type": "code",
   "execution_count": 27,
   "id": "b274191d",
   "metadata": {},
   "outputs": [
    {
     "name": "stdout",
     "output_type": "stream",
     "text": [
      "{1, 2, 3, 6, 7, 8}\n"
     ]
    }
   ],
   "source": [
    "A = {1, 2, 3, 4, 5}\n",
    "B = {4, 5, 6, 7, 8}\n",
    "\n",
    "C = (A - B) | (B - A)\n",
    "print(C)"
   ]
  },
  {
   "cell_type": "markdown",
   "id": "8936b02e",
   "metadata": {},
   "source": [
    "## Exercício 2\n",
    "\n",
    "Dado um conjunto principal e uma lista de conjuntos. Determine se essa lista de conjuntos representa uma **cobertura** do conjunto principal.\n",
    "\n",
    "**Exemplo**\n",
    "\n",
    "*input:*\n",
    "\n",
    "```Python\n",
    "conjunto_principal = {1, 2, 3, 4, 5}\n",
    "\n",
    "lista_conjuntos = [{1, 2}, {2, 3}, {3, 4, 5}]\n",
    "```\n",
    "\n",
    "*output:*\n",
    "\n",
    "`Representa uma cobertura!`\n",
    "\n",
    "*input:*\n",
    "\n",
    "```Python\n",
    "conjunto_principal = {1, 2, 3, 4, 5}\n",
    "\n",
    "lista_conjuntos = [{1, 2}, {3}, {3, 4}]\n",
    "```\n",
    "\n",
    "*output:*\n",
    "\n",
    "`Não representa uma cobertura!`"
   ]
  },
  {
   "cell_type": "code",
   "execution_count": 29,
   "id": "0120f216",
   "metadata": {},
   "outputs": [
    {
     "name": "stdout",
     "output_type": "stream",
     "text": [
      "não é cobertura\n"
     ]
    }
   ],
   "source": [
    "conjunto_principal = {1, 2, 3, 4, 5}\n",
    "lista_conjuntos = [{1, 2}, {3}, {3, 4}]\n",
    "\n",
    "# {} | {1,2}\n",
    "# {1, 2} | {2, 3}\n",
    "# {1, 2, 3} | {3, 4, 5}\n",
    "# {1, 2, 3, 4, 5}\n",
    "cobertura = set()\n",
    "for conjunto in lista_conjuntos:\n",
    "    cobertura |= conjunto\n",
    "    \n",
    "if cobertura == conjunto_principal:\n",
    "    print(\"é cobertura\")\n",
    "else:\n",
    "    print(\"não é cobertura\")"
   ]
  },
  {
   "cell_type": "code",
   "execution_count": null,
   "id": "45e287af",
   "metadata": {},
   "outputs": [],
   "source": []
  }
 ],
 "metadata": {
  "kernelspec": {
   "display_name": "Python 3",
   "language": "python",
   "name": "python3"
  },
  "language_info": {
   "codemirror_mode": {
    "name": "ipython",
    "version": 3
   },
   "file_extension": ".py",
   "mimetype": "text/x-python",
   "name": "python",
   "nbconvert_exporter": "python",
   "pygments_lexer": "ipython3",
   "version": "3.9.7"
  }
 },
 "nbformat": 4,
 "nbformat_minor": 5
}
