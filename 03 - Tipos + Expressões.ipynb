{
 "cells": [
  {
   "cell_type": "markdown",
   "id": "db4409e5",
   "metadata": {},
   "source": [
    "# Introdução à Programação para Ciência de Dados\n",
    "\n",
    "### Aula 3: Tipos + Expressões\n",
    "\n",
    "**Professor:** Igor Malheiros"
   ]
  },
  {
   "cell_type": "markdown",
   "id": "606b5689",
   "metadata": {},
   "source": [
    "## Tipos de dados\n",
    "\n",
    "Os tipos de dados são uma forma de **categorização** dos dados que utilizamos. Esses tipos especificam quais valores esses dados podem assumir, quais operações podem ser realizadas com esses dados e qual o comportamento esperado dessas operações.\n",
    "\n",
    "Por enquanto, nós vamos utilizar quatro tipos primitivos de Python.\n",
    "\n",
    "**int**: grupo com os números inteiros (`-1`, `0`, `1`, `50`, `-121`, ...)\n",
    "\n",
    "**float**: grupo com os números reais (`1.25`, `0.0`, `-32.4`, `3.14`, ...)\n",
    "\n",
    "**bool**: grupo com os valores lógicos (`True` e `False`)\n",
    "\n",
    "**str**: grupo com as *strings* (`\"casa\"`, `\"João\"`, `\"Python\"`, `\"Um texto muito muito muito grande.\"`, ...)\n",
    "\n",
    "Existem outros tipos primitivos e ainda outros tipos que nós podemos criar, mas isso será assunto para outras aulas.\n",
    "\n",
    "Em Python, uma mesma variável pode assumir diferentes tipos ao longo do código. Por isso, a linguagem é classificada como sendo *dinamicamente tipada*."
   ]
  },
  {
   "cell_type": "code",
   "execution_count": 31,
   "id": "790aa427",
   "metadata": {},
   "outputs": [
    {
     "name": "stdout",
     "output_type": "stream",
     "text": [
      "10\n",
      "Python\n",
      "3.14\n"
     ]
    }
   ],
   "source": [
    "# x = 10, x = \"Python\", x = 3.14\n",
    "x = 10\n",
    "print(x)\n",
    "x = \"Python\"\n",
    "print(x)\n",
    "x = 3.14\n",
    "print(x)"
   ]
  },
  {
   "cell_type": "markdown",
   "id": "4091b50c",
   "metadata": {},
   "source": [
    "Uma variável que recebe diferentes tipos ao longo do código pode ser sujeito à erros. Por isso, identificar qual é o tipo de uma variável pode ajudar no processo de *debug* do programa. Em Python, nós utilizamos a função `type()` para identificar o tipo de uma variável."
   ]
  },
  {
   "cell_type": "code",
   "execution_count": 33,
   "id": "de2219dc",
   "metadata": {},
   "outputs": [
    {
     "name": "stdout",
     "output_type": "stream",
     "text": [
      "10\n",
      "<class 'int'>\n",
      "Python\n",
      "<class 'str'>\n",
      "3.14\n",
      "<class 'float'>\n"
     ]
    },
    {
     "data": {
      "text/plain": [
       "3.14"
      ]
     },
     "execution_count": 33,
     "metadata": {},
     "output_type": "execute_result"
    }
   ],
   "source": [
    "# type(), x = 10, x = \"Python\", x = 3.14\n",
    "\n",
    "x = 10\n",
    "print(x)\n",
    "print(type(x))\n",
    "\n",
    "x = \"Python\"\n",
    "print(x)\n",
    "print(type(x))\n",
    "\n",
    "x = 3.14\n",
    "print(x)\n",
    "print(type(x))"
   ]
  },
  {
   "cell_type": "markdown",
   "id": "0ae9a31b",
   "metadata": {},
   "source": [
    "## Expressões\n",
    "\n",
    "Uma expressão é uma combinação de constantes, variáveis e operadores que resultam em um valor.\n",
    "\n",
    "- `2 * n + 1`\n",
    "- `2 * pi * r`\n",
    "\n",
    "Uma constante ou uma variável por si só também é considerada como uma expressão e seu resultado é o valor da constante/variável.\n",
    "\n",
    "- `42`\n",
    "- `True`\n",
    "- `\"Python\"`\n",
    "\n",
    "Um importante elemento das expressões são os **operadores**, eles vão indicar que tipo de operação será realizada sob os **operandos**.\n",
    "\n",
    "Exemplo\n",
    "\n",
    "```Python\n",
    "10 + 50\n",
    "\n",
    "# 10 é o primeiro operando\n",
    "# + é o operador, que realiza uma operação de soma\n",
    "# 50 é o segundo operando\n",
    "# O resultado é a soma de 10 e 50, 60\n",
    "```\n",
    "\n",
    "### Expressões numéricas\n",
    "\n",
    "As expressões numéricas se comportam de forma parecida com a que já estamos acostumados na matemática tradicional. Entretanto, devido à limitações do teclado, são utilizados outros símbolos para expressar operações clássicas da matemática.\n",
    "\n",
    "| Operador | Operação|\n",
    "|:---:|:---:|\n",
    "| +  | Adição           |\n",
    "| -  | Subtração        |\n",
    "| *  | Multiplicação    |\n",
    "| /  | Divisão          |\n",
    "| ** | Exponenciação    |\n",
    "| %  | Resto da divisão |"
   ]
  },
  {
   "cell_type": "code",
   "execution_count": 34,
   "id": "dbf8a2e0",
   "metadata": {},
   "outputs": [
    {
     "data": {
      "text/plain": [
       "60"
      ]
     },
     "execution_count": 34,
     "metadata": {},
     "output_type": "execute_result"
    }
   ],
   "source": [
    "# adição inteiros\n",
    "10 + 50"
   ]
  },
  {
   "cell_type": "code",
   "execution_count": 35,
   "id": "c826ab90",
   "metadata": {},
   "outputs": [
    {
     "data": {
      "text/plain": [
       "5.9"
      ]
     },
     "execution_count": 35,
     "metadata": {},
     "output_type": "execute_result"
    }
   ],
   "source": [
    "# adição floats\n",
    "2.5 + 3.4"
   ]
  },
  {
   "cell_type": "code",
   "execution_count": 37,
   "id": "362d32b1",
   "metadata": {},
   "outputs": [
    {
     "data": {
      "text/plain": [
       "-5"
      ]
     },
     "execution_count": 37,
     "metadata": {},
     "output_type": "execute_result"
    }
   ],
   "source": [
    "# subtração inteiros\n",
    "10 - 15"
   ]
  },
  {
   "cell_type": "code",
   "execution_count": 38,
   "id": "34df4648",
   "metadata": {},
   "outputs": [
    {
     "data": {
      "text/plain": [
       "-0.8999999999999999"
      ]
     },
     "execution_count": 38,
     "metadata": {},
     "output_type": "execute_result"
    }
   ],
   "source": [
    "# subtração floats\n",
    "2.5 - 3.4"
   ]
  },
  {
   "cell_type": "code",
   "execution_count": 39,
   "id": "e8fcfcb8",
   "metadata": {},
   "outputs": [
    {
     "data": {
      "text/plain": [
       "6"
      ]
     },
     "execution_count": 39,
     "metadata": {},
     "output_type": "execute_result"
    }
   ],
   "source": [
    "# multiplicação inteiros\n",
    "2 * 3"
   ]
  },
  {
   "cell_type": "code",
   "execution_count": 40,
   "id": "badffa25",
   "metadata": {},
   "outputs": [
    {
     "data": {
      "text/plain": [
       "3.0"
      ]
     },
     "execution_count": 40,
     "metadata": {},
     "output_type": "execute_result"
    }
   ],
   "source": [
    "# multiplicação floats\n",
    "1.2 * 2.5"
   ]
  },
  {
   "cell_type": "code",
   "execution_count": 41,
   "id": "4a3da8e8",
   "metadata": {},
   "outputs": [
    {
     "data": {
      "text/plain": [
       "8"
      ]
     },
     "execution_count": 41,
     "metadata": {},
     "output_type": "execute_result"
    }
   ],
   "source": [
    "# exponenciação\n",
    "2 ** 3"
   ]
  },
  {
   "cell_type": "code",
   "execution_count": 43,
   "id": "4b1d2d44",
   "metadata": {},
   "outputs": [
    {
     "data": {
      "text/plain": [
       "1"
      ]
     },
     "execution_count": 43,
     "metadata": {},
     "output_type": "execute_result"
    }
   ],
   "source": [
    "# resto de divisão\n",
    "5 % 2"
   ]
  },
  {
   "cell_type": "markdown",
   "id": "9285865d",
   "metadata": {},
   "source": [
    "Para evitar ambiguidade de qual **ordem** deve-se executar as operações em uma expressão, os operadores possuem a propriedade de **precedência**.\n",
    "\n",
    "`x = 1 + 2 * 10`\n",
    "\n",
    "Em geral, os operadores seguem uma ordem de precedência muito parecida com a que já conhecemos na matemática. Nós também podemos utilizar os parênteses `()` para evitar erros.\n",
    "\n",
    "`x = 1 + (2 * 10)`\n",
    "\n",
    "| Operadores | Precedência|\n",
    "|:---:|:---:|\n",
    "| () |1|\n",
    "| ** |2|\n",
    "| *  |3|\n",
    "| /  |3|\n",
    "| %  |3|\n",
    "| +  |4|\n",
    "| -  |4|\n",
    "\n",
    "Quando dois operadores possuem o mesmo nível de precedência, utilizamos a ordem da **esquerda para direita**, assim como na matemática."
   ]
  },
  {
   "cell_type": "code",
   "execution_count": 45,
   "id": "8a84f9c0",
   "metadata": {},
   "outputs": [
    {
     "data": {
      "text/plain": [
       "33.0"
      ]
     },
     "execution_count": 45,
     "metadata": {},
     "output_type": "execute_result"
    }
   ],
   "source": [
    "# Qual resultado da expressão?\n",
    "# 5 + 3 * 10 - 16 / 2 ** 3\n",
    "(5 + (3 * 10)) - (16 / (2 ** 3))"
   ]
  },
  {
   "cell_type": "markdown",
   "id": "fdf0b75f",
   "metadata": {},
   "source": [
    "### Operadores em tipos diferentes\n",
    "\n",
    "Um mesmo operador pode ter comportamentos diferentes quando os operandos tem **tipos** diferentes. Vejamos como o operador `+` se comporta com alguns dos tipos primitivos que já conhecemos."
   ]
  },
  {
   "cell_type": "code",
   "execution_count": 46,
   "id": "3f8bebcd",
   "metadata": {},
   "outputs": [
    {
     "data": {
      "text/plain": [
       "60"
      ]
     },
     "execution_count": 46,
     "metadata": {},
     "output_type": "execute_result"
    }
   ],
   "source": [
    "# + com inteiros\n",
    "10 + 50"
   ]
  },
  {
   "cell_type": "code",
   "execution_count": 48,
   "id": "727a81ba",
   "metadata": {},
   "outputs": [
    {
     "data": {
      "text/plain": [
       "5.5"
      ]
     },
     "execution_count": 48,
     "metadata": {},
     "output_type": "execute_result"
    }
   ],
   "source": [
    "# + com floats\n",
    "3 + 2.5"
   ]
  },
  {
   "cell_type": "code",
   "execution_count": 51,
   "id": "692504ca",
   "metadata": {},
   "outputs": [
    {
     "data": {
      "text/plain": [
       "2"
      ]
     },
     "execution_count": 51,
     "metadata": {},
     "output_type": "execute_result"
    }
   ],
   "source": [
    "# + com bool\n",
    "True + True\n",
    "# True: 1\n",
    "# False: 0"
   ]
  },
  {
   "cell_type": "code",
   "execution_count": 54,
   "id": "5f92cd00",
   "metadata": {},
   "outputs": [
    {
     "data": {
      "text/plain": [
       "'Eu amo Python'"
      ]
     },
     "execution_count": 54,
     "metadata": {},
     "output_type": "execute_result"
    }
   ],
   "source": [
    "# + com str\n",
    "\n",
    "\"Eu amo \" + \"Python\""
   ]
  },
  {
   "cell_type": "markdown",
   "id": "d64f547a",
   "metadata": {},
   "source": [
    "Nos valores booleanos, o Python converteu os valores `False` para `0` e o `True` para `1`. Enquanto que nas strings, houve uma operação junção das duas strings, chamamos isso em programação de **concatenação**.\n",
    "\n",
    "### Conversões de tipos\n",
    "\n",
    "Alguns operadores permitem realizar suas operações em operandos de diferentes tipos. Em geral, o resultado da operação é o tipo mais genérico dentre os dois operandos."
   ]
  },
  {
   "cell_type": "code",
   "execution_count": 55,
   "id": "e1467cc0",
   "metadata": {},
   "outputs": [
    {
     "data": {
      "text/plain": [
       "15.5"
      ]
     },
     "execution_count": 55,
     "metadata": {},
     "output_type": "execute_result"
    }
   ],
   "source": [
    "# int e float\n",
    "10 + 5.5"
   ]
  },
  {
   "cell_type": "code",
   "execution_count": 56,
   "id": "537b7fdb",
   "metadata": {},
   "outputs": [
    {
     "data": {
      "text/plain": [
       "11"
      ]
     },
     "execution_count": 56,
     "metadata": {},
     "output_type": "execute_result"
    }
   ],
   "source": [
    "# int e bool\n",
    "True + 10"
   ]
  },
  {
   "cell_type": "code",
   "execution_count": 57,
   "id": "3eadbe9d",
   "metadata": {},
   "outputs": [
    {
     "data": {
      "text/plain": [
       "6.5"
      ]
     },
     "execution_count": 57,
     "metadata": {},
     "output_type": "execute_result"
    }
   ],
   "source": [
    "# float e bool\n",
    "5.5 + True"
   ]
  },
  {
   "cell_type": "code",
   "execution_count": 59,
   "id": "cfc58caa",
   "metadata": {},
   "outputs": [
    {
     "data": {
      "text/plain": [
       "'ola 3'"
      ]
     },
     "execution_count": 59,
     "metadata": {},
     "output_type": "execute_result"
    }
   ],
   "source": [
    "# string e int\n",
    "\"ola \" + \"3\""
   ]
  },
  {
   "cell_type": "markdown",
   "id": "8e2ff203",
   "metadata": {},
   "source": [
    "A **divisão** em Python é um caso curioso, quando ela é aplicada em operandos inteiros, o seu resultado é do tipo float, mesmo que a divisão seja exata."
   ]
  },
  {
   "cell_type": "code",
   "execution_count": 61,
   "id": "a20e0799",
   "metadata": {},
   "outputs": [
    {
     "data": {
      "text/plain": [
       "2.0"
      ]
     },
     "execution_count": 61,
     "metadata": {},
     "output_type": "execute_result"
    }
   ],
   "source": [
    "# divisao exata entre ints\n",
    "4 / 2"
   ]
  },
  {
   "cell_type": "code",
   "execution_count": 62,
   "id": "fdb1f91f",
   "metadata": {},
   "outputs": [
    {
     "data": {
      "text/plain": [
       "1.3333333333333333"
      ]
     },
     "execution_count": 62,
     "metadata": {},
     "output_type": "execute_result"
    }
   ],
   "source": [
    "# divisao não exata entre ints\n",
    "4 / 3"
   ]
  },
  {
   "cell_type": "code",
   "execution_count": 72,
   "id": "7513db89",
   "metadata": {},
   "outputs": [
    {
     "data": {
      "text/plain": [
       "3"
      ]
     },
     "execution_count": 72,
     "metadata": {},
     "output_type": "execute_result"
    }
   ],
   "source": [
    "# divisão com //\n",
    "10 // 3"
   ]
  },
  {
   "cell_type": "code",
   "execution_count": 64,
   "id": "ef0a6465",
   "metadata": {},
   "outputs": [
    {
     "data": {
      "text/plain": [
       "2.15"
      ]
     },
     "execution_count": 64,
     "metadata": {},
     "output_type": "execute_result"
    }
   ],
   "source": [
    "# divisão entre floats\n",
    "4.3/2.0"
   ]
  },
  {
   "cell_type": "markdown",
   "id": "0d847903",
   "metadata": {},
   "source": [
    "Nós também podemos utilizar algumas funções para **conversão** direta de tipos."
   ]
  },
  {
   "cell_type": "code",
   "execution_count": 65,
   "id": "3084c671",
   "metadata": {},
   "outputs": [
    {
     "data": {
      "text/plain": [
       "5.0"
      ]
     },
     "execution_count": 65,
     "metadata": {},
     "output_type": "execute_result"
    }
   ],
   "source": [
    "# int pra float - float()\n",
    "float(5)"
   ]
  },
  {
   "cell_type": "code",
   "execution_count": 69,
   "id": "9ad4af87",
   "metadata": {},
   "outputs": [
    {
     "data": {
      "text/plain": [
       "4"
      ]
     },
     "execution_count": 69,
     "metadata": {},
     "output_type": "execute_result"
    }
   ],
   "source": [
    "# float pra int - int()\n",
    "int(4.9)"
   ]
  },
  {
   "cell_type": "code",
   "execution_count": 77,
   "id": "752982de",
   "metadata": {},
   "outputs": [
    {
     "data": {
      "text/plain": [
       "True"
      ]
     },
     "execution_count": 77,
     "metadata": {},
     "output_type": "execute_result"
    }
   ],
   "source": [
    "# float pra bool - bool()\n",
    "bool(-10)"
   ]
  },
  {
   "cell_type": "code",
   "execution_count": 80,
   "id": "6752b90c",
   "metadata": {},
   "outputs": [
    {
     "data": {
      "text/plain": [
       "'42.5'"
      ]
     },
     "execution_count": 80,
     "metadata": {},
     "output_type": "execute_result"
    }
   ],
   "source": [
    "# float pra str - str()\n",
    "str(42.5)"
   ]
  },
  {
   "cell_type": "code",
   "execution_count": 87,
   "id": "b31d9a69",
   "metadata": {},
   "outputs": [
    {
     "data": {
      "text/plain": [
       "True"
      ]
     },
     "execution_count": 87,
     "metadata": {},
     "output_type": "execute_result"
    }
   ],
   "source": [
    "# str para bool (True) - bool()\n",
    "bool(\"algo\")"
   ]
  },
  {
   "cell_type": "code",
   "execution_count": 88,
   "id": "a6b16ce5",
   "metadata": {},
   "outputs": [
    {
     "data": {
      "text/plain": [
       "False"
      ]
     },
     "execution_count": 88,
     "metadata": {},
     "output_type": "execute_result"
    }
   ],
   "source": [
    "# str para bool (False)\n",
    "bool(\"\")"
   ]
  },
  {
   "cell_type": "code",
   "execution_count": 90,
   "id": "9eb7ca0c",
   "metadata": {},
   "outputs": [
    {
     "data": {
      "text/plain": [
       "'False'"
      ]
     },
     "execution_count": 90,
     "metadata": {},
     "output_type": "execute_result"
    }
   ],
   "source": [
    "# bool pra str - str()\n",
    "str(False)"
   ]
  },
  {
   "cell_type": "code",
   "execution_count": 96,
   "id": "850b4b05",
   "metadata": {},
   "outputs": [
    {
     "data": {
      "text/plain": [
       "10.0"
      ]
     },
     "execution_count": 96,
     "metadata": {},
     "output_type": "execute_result"
    }
   ],
   "source": [
    "# str para float - float()\n",
    "float(\"10\")"
   ]
  },
  {
   "cell_type": "markdown",
   "id": "7cd9f1e4",
   "metadata": {},
   "source": [
    "## Exercício 1\n",
    "\n",
    "Faça um programa que solicita ao usuário um valor em polegadas e converte para centímetros, dado que 1 polegada é 2.54 centímetros."
   ]
  },
  {
   "cell_type": "code",
   "execution_count": 100,
   "id": "4f6ce3af",
   "metadata": {},
   "outputs": [
    {
     "name": "stdout",
     "output_type": "stream",
     "text": [
      "Digite o valor em polegadas 2\n",
      "O valor em centímetros é:  5.08\n"
     ]
    }
   ],
   "source": [
    "polegadas = float(input(\"Digite o valor em polegadas \"))\n",
    "centimetros = polegadas * 2.54\n",
    "print(\"O valor em centímetros é: \", centimetros)"
   ]
  },
  {
   "cell_type": "markdown",
   "id": "4cc06e40",
   "metadata": {},
   "source": [
    "## Exercício 2\n",
    "\n",
    "Faça um programa que solicita ao usuário um valor em reais e calcula a quantidade de litros de gasolina. Dado que 1 litro de gasolina é 7.19 reais."
   ]
  },
  {
   "cell_type": "code",
   "execution_count": 101,
   "id": "f517f443",
   "metadata": {},
   "outputs": [
    {
     "name": "stdout",
     "output_type": "stream",
     "text": [
      "Digite o valor em reais 100\n",
      "Esse valor corresponde a  13.908205841446453  litros\n"
     ]
    }
   ],
   "source": [
    "reais = float(input(\"Digite o valor em reais \"))\n",
    "gasolina = reais / 7.19\n",
    "print(\"Esse valor corresponde a \", gasolina, \" litros\")"
   ]
  },
  {
   "cell_type": "markdown",
   "id": "662db9f3",
   "metadata": {},
   "source": [
    "## Exercício 3\n",
    "\n",
    "Faça um programa que solicita ao usuário dois números que são os valores para os catetos de um triângulo retângulo e calcule o valor da hipotenusa."
   ]
  },
  {
   "cell_type": "code",
   "execution_count": 104,
   "id": "54ed5413",
   "metadata": {},
   "outputs": [
    {
     "name": "stdout",
     "output_type": "stream",
     "text": [
      "Cateto 1: 3\n",
      "Cateto 2: 4\n",
      "5.0\n"
     ]
    }
   ],
   "source": [
    "import math\n",
    "# a ** 2 = b**2 + c**2\n",
    "\n",
    "cateto_1 = float(input(\"Cateto 1: \"))\n",
    "cateto_2 = float(input(\"Cateto 2: \"))\n",
    "\n",
    "hipotenusa = math.sqrt((cateto_1 ** 2) + (cateto_2 **2))\n",
    "print(hipotenusa)"
   ]
  },
  {
   "cell_type": "code",
   "execution_count": null,
   "id": "7db143a0",
   "metadata": {},
   "outputs": [],
   "source": []
  }
 ],
 "metadata": {
  "kernelspec": {
   "display_name": "Python 3",
   "language": "python",
   "name": "python3"
  },
  "language_info": {
   "codemirror_mode": {
    "name": "ipython",
    "version": 3
   },
   "file_extension": ".py",
   "mimetype": "text/x-python",
   "name": "python",
   "nbconvert_exporter": "python",
   "pygments_lexer": "ipython3",
   "version": "3.9.7"
  }
 },
 "nbformat": 4,
 "nbformat_minor": 5
}
