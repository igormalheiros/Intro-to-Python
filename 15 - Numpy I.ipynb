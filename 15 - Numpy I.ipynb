{
 "cells": [
  {
   "cell_type": "markdown",
   "id": "d974b040",
   "metadata": {},
   "source": [
    "# Introdução à Programação para Ciência de Dados\n",
    "\n",
    "### Aula 15: Numpy\n",
    "\n",
    "**Professor:** Igor Malheiros"
   ]
  },
  {
   "cell_type": "markdown",
   "id": "2cbaf60a",
   "metadata": {},
   "source": [
    "## Numpy\n",
    "\n",
    "Numpy, (*Numeric Python*) é a principal biblioteca de Python para computação científica. Ela oferece diversas ferramentas de alta performance para serem trabalhados em Arrays e Matrizes.\n",
    "\n",
    "O Numpy possui ferramentas para se trabalhar com álgebra linear, ciência de dados, cálculo numérico, etc.\n",
    "\n",
    "Além de fornecer uma vasta opção de ferramentas, uma operação utilizando Numpy pode ser até 50 vezes mais rápida do que a mesma operação utilizando `list` em Python. Isso se deve pela forma como o Numpy é implementado, os dados são sempre alocados de forma contígua na memória do computador. Além disso, o Numpy é foi feito em cima da linguagem **C** que é mais eficiente do que Python.\n",
    "\n",
    "Em um primeiro momento pode ser questionado o motivo de querermos utilizar algo diferente, mas que pode realizar a mesma tarefa. Se não tivermos muita atenção quanto ao tempo que usamos para resolver um problema, nosso programa pode passar horas ou até anos em execução até encontrar uma resposta. Isso acontece principalmente quando estamos trabalhando com operações complexas (como operações em matrizes) ou com um grande volume de dados (comuns em ciência de dados). Assim, o uso de ferramentas mais eficientes são necessárias para resolvermos os problemas em um tempo útil.\n",
    "\n",
    "### Criando arrays numpy\n",
    "\n",
    "O numpy fornece diversas formas para criarmos arrays e matrizes, utilizando alguns padrões ou não. Estudaremos algumas delas.\n",
    "\n",
    "- A primeira que vamos aprender é utilizando uma *lista* de Python.\n",
    "\n",
    "</br>\n",
    "\n",
    "```Python\n",
    "import numpy as np\n",
    "\n",
    "# Criando array de uma lista diretamente\n",
    "npl = np.array([1,2,3,4,5])\n",
    "\n",
    "# Criando array 2D por uma lista de listas diretamente\n",
    "npm = np.array([[1, 2, 3], [4, 5, 6], [7, 8, 9]])\n",
    "```\n",
    "\n",
    "- Outra forma é utilizar a função `arange(start, stop, step)` passando um valor inicial `start` um valor final `stop` e o intervalo entre os valores `step`.\n",
    "\n",
    "```Python\n",
    "import numpy as np\n",
    "\n",
    "# Criando array em um intervalo np.arange(start, stop, step)\n",
    "nparange = np.arange(10, 21, 2)\n",
    "# array([10, 12, 14, 16, 18, 20])\n",
    "```\n",
    "\n",
    "</br>\n",
    "\n",
    "- Podemos também utilizar a função `linspace(start, end, num)` que cria um array numpy com `num` elementos começando em `start` e terminando em `end`, o intervalo entre os elementos é sempre constante.\n",
    "\n",
    "</br>\n",
    "\n",
    "```Python\n",
    "import numpy as np\n",
    "\n",
    "# Criando um array igualmente espaçado np.linspace(start, end, num)\n",
    "nplin = np.linspace(10, 100, 10)\n",
    "# array([ 10.,  20.,  30.,  40.,  50.,  60.,  70.,  80.,  90., 100.])\n",
    "```\n",
    "\n",
    "</br>\n",
    "\n",
    "- Uma forma simples para criarmos uma lista de tamanho `n` com valores aleatórios é utilizando a função `random.rand(n)`, os valores aleatórios serão entre $0$ e $1$. Se quisermos criar um array multi-dimensional com `random.rand()`, basta acrescentarmos mais dimensões na chamada da função. Para valores inteiros, podemos utilizar a função `random.randint(menor, maior, n)`, onde o array criado possui valores inteiros aleatórios entre `menor` e `maior`, o tamanho do array é `n`. Se quisermos criar um array multi-dimensional com `random.randint()`, em vez de `n`, passaremos uma tupla `(dim1, dim2)` para indicar as dimensões da matriz.\n",
    "\n",
    "</br>\n",
    "\n",
    "```Python\n",
    "import numpy as np\n",
    "\n",
    "# Criando um array 1D com valores aleatórios np.random.rand(n)\n",
    "rand_1 = np.random.rand(5)\n",
    "# array([0.6592339 , 0.81193336, 0.51086174, 0.68363204])\n",
    "\n",
    "# Criando um array 2D com valores aleatórios np.random.rand(dim1, dim2)\n",
    "rand_2 = np.random.rand(2, 3)\n",
    "# array([[0.67427651, 0.30781065, 0.70036505],\n",
    "#        [0.06415093, 0.22410801, 0.85031702]])\n",
    "\n",
    "# Criando um array 1D com valores aleatórios np.random.randint(menor, maior, n)\n",
    "randint_1 = np.random.randint(1, 10, 8)\n",
    "# array([1, 4, 1, 4, 8, 1, 6, 2])\n",
    "\n",
    "# Criando um array 2D com valores aleatórios np.random.randint(menor, maior, (dim1, dim2))\n",
    "randint_2 = np.random.randint(1, 10, (2, 3))\n",
    "# array([[4, 9, 8],\n",
    "#        [9, 3, 6]])\n",
    "```\n",
    "\n",
    "</br>\n",
    "\n",
    "- Outro tipo de array/matriz muito comum é quando precisamos de um array com valores zerados ou iguais à $1$. Para isso, podemos utilizar as funções `zeros(n)`/`zeros((dim1, dim2))` e `ones(n)`/`ones((dim1, dim2)`, onde passaremos a quantidade de elementos/dimensões do array que queremos criar.\n",
    "\n",
    "</br>\n",
    "\n",
    "```Python\n",
    "# Criando array 1D com valores 0 np.zeros(n)\n",
    "npzeros_1 = np.zeros(7)\n",
    "# array([0., 0., 0., 0., 0., 0., 0.])\n",
    "\n",
    "# Criando array 2D com valores 0 np.zeros((dim1, dim2))\n",
    "npzeros_2 = np.zeros((4, 2))\n",
    "# array([[0., 0.],\n",
    "#        [0., 0.],\n",
    "#        [0., 0.],\n",
    "#        [0., 0.]])\n",
    "\n",
    "\n",
    "# Criando array 1D com valores 1 np.ones(n)\n",
    "npones_1 = np.ones(7)\n",
    "# array([1., 1., 1., 1., 1., 1., 1.])\n",
    "\n",
    "# Criando array 2D com valores 1 np.ones((dim1, dim2))\n",
    "npones_2 = np.ones((4, 2))\n",
    "# array([[1., 1.],\n",
    "#        [1., 1.],\n",
    "#        [1., 1.],\n",
    "#        [1., 1.]])\n",
    "```\n",
    "\n",
    "</br>\n",
    "\n",
    "- Caso seja necessário criar um array/matriz com o mesmo valor que seja diferente de $0$ ou $1$, podemos utilizar a função `full(n, valor)`/`full((dim1, dim2), valor)` para criarmos um array/matriz de `n`/`(dim1,dim2)` com valores iguais a `valor`.\n",
    "\n",
    "</br>\n",
    "\n",
    "```Python\n",
    "# Criando array 1D com valores v np.full(5, 12)\n",
    "npdoze_1 = np.full(5, 12)\n",
    "# array([12, 12, 12, 12, 12])\n",
    "\n",
    "# Criando array 2D com valores v np.full((2, 2), 12)\n",
    "npdoze_2 = np.full((2, 2), 12)\n",
    "# array([[12, 12],\n",
    "#        [12, 12]])\n",
    "```\n",
    "\n",
    "</br>\n",
    "\n",
    "- Por último, podemos criar uma matriz identidade com a função `eye(n)`, passando a dimensão da matriz pelo valor `n`.\n",
    "\n",
    "</br>\n",
    "\n",
    "```Python\n",
    "# Criando matriz identidade np.eye(n)\n",
    "ident = np.eye(5)\n",
    "# array([[1., 0., 0., 0., 0.],\n",
    "#        [0., 1., 0., 0., 0.],\n",
    "#        [0., 0., 1., 0., 0.],\n",
    "#        [0., 0., 0., 1., 0.],\n",
    "#        [0., 0., 0., 0., 1.]])\n",
    "```"
   ]
  },
  {
   "cell_type": "code",
   "execution_count": 36,
   "id": "64d32bbb",
   "metadata": {},
   "outputs": [
    {
     "data": {
      "text/plain": [
       "array([1, 2, 3, 4, 5])"
      ]
     },
     "execution_count": 36,
     "metadata": {},
     "output_type": "execute_result"
    }
   ],
   "source": [
    "# Criando array de uma lista diretamente\n",
    "l = [1, 2, 3, 4, 5]\n",
    "npa = np.array(l)\n",
    "npa"
   ]
  },
  {
   "cell_type": "code",
   "execution_count": 38,
   "id": "b4bccd71",
   "metadata": {},
   "outputs": [
    {
     "data": {
      "text/plain": [
       "array([[1, 2, 3],\n",
       "       [4, 5, 6],\n",
       "       [7, 8, 9]])"
      ]
     },
     "execution_count": 38,
     "metadata": {},
     "output_type": "execute_result"
    }
   ],
   "source": [
    "# Criando array 2D por uma lista de listas diretamente\n",
    "npm = np.array([[1, 2, 3], [4, 5, 6], [7, 8, 9]])\n",
    "npm"
   ]
  },
  {
   "cell_type": "code",
   "execution_count": 40,
   "id": "65b49710",
   "metadata": {},
   "outputs": [
    {
     "data": {
      "text/plain": [
       "array([0, 3, 6, 9])"
      ]
     },
     "execution_count": 40,
     "metadata": {},
     "output_type": "execute_result"
    }
   ],
   "source": [
    "# Criando array em um intervalo np.arange(start, stop, step)\n",
    "\n",
    "nparange = np.arange(0, 10, 3)\n",
    "nparange"
   ]
  },
  {
   "cell_type": "code",
   "execution_count": 44,
   "id": "5f955556",
   "metadata": {},
   "outputs": [
    {
     "data": {
      "text/plain": [
       "array([ 10.,  19.,  28.,  37.,  46.,  55.,  64.,  73.,  82.,  91., 100.])"
      ]
     },
     "execution_count": 44,
     "metadata": {},
     "output_type": "execute_result"
    }
   ],
   "source": [
    "# Criando um array igualmente espaçado np.linspace(start, end, num)\n",
    "nplinspace = np.linspace(10, 100, 11)\n",
    "nplinspace"
   ]
  },
  {
   "cell_type": "code",
   "execution_count": 45,
   "id": "e938b68b",
   "metadata": {},
   "outputs": [
    {
     "data": {
      "text/plain": [
       "array([0.90406245, 0.98977145, 0.67633142, 0.75975777, 0.48902466])"
      ]
     },
     "execution_count": 45,
     "metadata": {},
     "output_type": "execute_result"
    }
   ],
   "source": [
    "# Criando um array 1D com valores aleatórios np.random.rand(n)\n",
    "nparand = np.random.rand(5)\n",
    "nparand"
   ]
  },
  {
   "cell_type": "code",
   "execution_count": 46,
   "id": "913b7b4a",
   "metadata": {},
   "outputs": [
    {
     "data": {
      "text/plain": [
       "array([[0.30241781, 0.96049331, 0.7757788 ],\n",
       "       [0.45865407, 0.13238635, 0.20988818]])"
      ]
     },
     "execution_count": 46,
     "metadata": {},
     "output_type": "execute_result"
    }
   ],
   "source": [
    "# Criando um array 2D com valores aleatórios np.random.rand(dim1, dim2)\n",
    "npmrand = np.random.rand(2, 3)\n",
    "npmrand"
   ]
  },
  {
   "cell_type": "code",
   "execution_count": 47,
   "id": "4b26a2be",
   "metadata": {},
   "outputs": [
    {
     "data": {
      "text/plain": [
       "array([ 8, 14,  2, 11, 11])"
      ]
     },
     "execution_count": 47,
     "metadata": {},
     "output_type": "execute_result"
    }
   ],
   "source": [
    "# Criando um array 1D com valores aleatórios np.random.randint(menor, maior, n)\n",
    "nparandint = np.random.randint(0, 20, 5)\n",
    "nparandint"
   ]
  },
  {
   "cell_type": "code",
   "execution_count": 48,
   "id": "d299960b",
   "metadata": {},
   "outputs": [
    {
     "data": {
      "text/plain": [
       "array([[ 0, 19,  0],\n",
       "       [17, 19, 13],\n",
       "       [16,  6, 15],\n",
       "       [18,  8, 19]])"
      ]
     },
     "execution_count": 48,
     "metadata": {},
     "output_type": "execute_result"
    }
   ],
   "source": [
    "# Criando um array 2D com valores aleatórios np.random.randint(menor, maior, (dim1, dim2))\n",
    "npmrandint = np.random.randint(0, 20, (4, 3))\n",
    "npmrandint"
   ]
  },
  {
   "cell_type": "code",
   "execution_count": 49,
   "id": "44b35331",
   "metadata": {},
   "outputs": [
    {
     "data": {
      "text/plain": [
       "array([0., 0., 0., 0., 0., 0., 0.])"
      ]
     },
     "execution_count": 49,
     "metadata": {},
     "output_type": "execute_result"
    }
   ],
   "source": [
    "# Criando array 1D com valores 0 np.zeros(n)\n",
    "npazeros = np.zeros(7)\n",
    "npazeros"
   ]
  },
  {
   "cell_type": "code",
   "execution_count": 50,
   "id": "3ea43ff1",
   "metadata": {},
   "outputs": [
    {
     "data": {
      "text/plain": [
       "array([[0., 0., 0.],\n",
       "       [0., 0., 0.]])"
      ]
     },
     "execution_count": 50,
     "metadata": {},
     "output_type": "execute_result"
    }
   ],
   "source": [
    "# Criando array 2D com valores 0 np.zeros((dim1, dim2))\n",
    "npmzeros = np.zeros((2, 3))\n",
    "npmzeros"
   ]
  },
  {
   "cell_type": "code",
   "execution_count": 51,
   "id": "15cdb813",
   "metadata": {},
   "outputs": [
    {
     "data": {
      "text/plain": [
       "array([1., 1., 1., 1., 1., 1.])"
      ]
     },
     "execution_count": 51,
     "metadata": {},
     "output_type": "execute_result"
    }
   ],
   "source": [
    "# Criando array 1D com valores 1 np.ones(n)\n",
    "npaones = np.ones(6)\n",
    "npaones"
   ]
  },
  {
   "cell_type": "code",
   "execution_count": 52,
   "id": "39306012",
   "metadata": {},
   "outputs": [
    {
     "data": {
      "text/plain": [
       "array([[1., 1., 1., 1.],\n",
       "       [1., 1., 1., 1.],\n",
       "       [1., 1., 1., 1.],\n",
       "       [1., 1., 1., 1.]])"
      ]
     },
     "execution_count": 52,
     "metadata": {},
     "output_type": "execute_result"
    }
   ],
   "source": [
    "# Criando array 2D com valores 1 np.ones((dim1, dim2))\n",
    "npmones = np.ones((4, 4))\n",
    "npmones"
   ]
  },
  {
   "cell_type": "code",
   "execution_count": 53,
   "id": "9a067e95",
   "metadata": {},
   "outputs": [
    {
     "data": {
      "text/plain": [
       "array([14, 14, 14, 14, 14])"
      ]
     },
     "execution_count": 53,
     "metadata": {},
     "output_type": "execute_result"
    }
   ],
   "source": [
    "# Criando array 1D com valores v np.full(5, 12)\n",
    "npafull = np.full(5, 14)\n",
    "npafull"
   ]
  },
  {
   "cell_type": "code",
   "execution_count": 54,
   "id": "330da9b0",
   "metadata": {},
   "outputs": [
    {
     "data": {
      "text/plain": [
       "array([[12, 12],\n",
       "       [12, 12]])"
      ]
     },
     "execution_count": 54,
     "metadata": {},
     "output_type": "execute_result"
    }
   ],
   "source": [
    "# Criando array 2D com valores v np.full((2, 2), 12)\n",
    "npmfull = np.full((2, 2), 12)\n",
    "npmfull"
   ]
  },
  {
   "cell_type": "code",
   "execution_count": 55,
   "id": "283f8072",
   "metadata": {},
   "outputs": [
    {
     "data": {
      "text/plain": [
       "array([[1., 0., 0., 0., 0.],\n",
       "       [0., 1., 0., 0., 0.],\n",
       "       [0., 0., 1., 0., 0.],\n",
       "       [0., 0., 0., 1., 0.],\n",
       "       [0., 0., 0., 0., 1.]])"
      ]
     },
     "execution_count": 55,
     "metadata": {},
     "output_type": "execute_result"
    }
   ],
   "source": [
    "# Criando matriz identidade np.eye(n)\n",
    "ident = np.eye(5)\n",
    "ident"
   ]
  },
  {
   "cell_type": "markdown",
   "id": "0e781266",
   "metadata": {},
   "source": [
    "### Dimensões e Forma\n",
    "\n",
    "Podemos identificar a quantidade de dimensões de um array numpy acessamos o campo `ndim` e para a forma do array acessamos o campo `shape.\n",
    "\n",
    "```Python\n",
    "npones_2 = np.ones((4, 2))\n",
    "\n",
    "print(npones_2.ndim)   # 2\n",
    "print(npones_2.shape)  # (4, 2)\n",
    "```"
   ]
  },
  {
   "cell_type": "code",
   "execution_count": 58,
   "id": "91912148",
   "metadata": {},
   "outputs": [
    {
     "name": "stdout",
     "output_type": "stream",
     "text": [
      "(4, 3)\n"
     ]
    }
   ],
   "source": [
    "# Acessando dimensões e forma\n",
    "npones = np.ones((4, 3))\n",
    "\n",
    "print(npones.shape)"
   ]
  },
  {
   "cell_type": "markdown",
   "id": "078e346a",
   "metadata": {},
   "source": [
    "### Acessando elementos\n",
    "\n",
    "Os acessos aos elementos ou às linhas/colunas de um array numpy funciona de forma similar ao que já conhecemos em listas. A principal diferença é que para matrizes, separaremos os índices de acesso às dimensões por uma vírgula, em vez de abrir novos `[]`.\n",
    "\n",
    "</br>\n",
    "\n",
    "```Python\n",
    "npl = np.array([1, 2, 3, 4, 5])\n",
    "\n",
    "print(npl[0])  # 1\n",
    "print(npl[2])  # 3\n",
    "print(npl[-1]) # 5\n",
    "\n",
    "npm = np.array([[1, 2, 3, 4, 5], \n",
    "                [6, 7, 8, 9, 10], \n",
    "                [11, 12, 13, 14, 15]])\n",
    "\n",
    "print(npm[0, 0])   # 1\n",
    "print(npm[2, 1])   # 12\n",
    "print(npm[-1, -1]) # 15\n",
    "```\n",
    "\n",
    "</br>\n",
    "\n",
    "Similar às listas, é possível fazer acessos via *slices* nos arrays e matrizes numpy.\n",
    "\n",
    "</br>\n",
    "\n",
    "```Python\n",
    "npl = np.array([1, 2, 3, 4, 5])\n",
    "\n",
    "print(npl[2:4])  # [3, 4]\n",
    "print(npl[:2])   # [1, 2] \n",
    "print(npl[2:])   # [3, 4, 5] \n",
    "\n",
    "npm = np.array([[1, 2, 3, 4, 5], \n",
    "                [6, 7, 8, 9, 10], \n",
    "                [11, 12, 13, 14, 15]])\n",
    "\n",
    "print(npm[0:2, 2:4])   # [[3, 4], [8, 9]]\n",
    "print(npm[:2, :2])     # [[1, 2], [6, 7]]\n",
    "```"
   ]
  },
  {
   "cell_type": "code",
   "execution_count": 61,
   "id": "5a35b5e9",
   "metadata": {},
   "outputs": [
    {
     "data": {
      "text/plain": [
       "3"
      ]
     },
     "execution_count": 61,
     "metadata": {},
     "output_type": "execute_result"
    }
   ],
   "source": [
    "# Acessando elementos array 1D\n",
    "npl = np.array([1, 2, 3, 4, 5])\n",
    "\n",
    "npl[2]"
   ]
  },
  {
   "cell_type": "code",
   "execution_count": 64,
   "id": "9a43cbeb",
   "metadata": {},
   "outputs": [
    {
     "data": {
      "text/plain": [
       "15"
      ]
     },
     "execution_count": 64,
     "metadata": {},
     "output_type": "execute_result"
    }
   ],
   "source": [
    "# Acessando elementos array 2D\n",
    "npm = np.array([[1, 2, 3, 4, 5], \n",
    "                [6, 7, 8, 9, 10], \n",
    "                [11, 12, 13, 14, 15]])\n",
    "\n",
    "npm[-1, -1]"
   ]
  },
  {
   "cell_type": "code",
   "execution_count": 66,
   "id": "f94e173f",
   "metadata": {},
   "outputs": [
    {
     "data": {
      "text/plain": [
       "array([3, 4])"
      ]
     },
     "execution_count": 66,
     "metadata": {},
     "output_type": "execute_result"
    }
   ],
   "source": [
    "# Acessando slices 1D\n",
    "npa[2:4]"
   ]
  },
  {
   "cell_type": "code",
   "execution_count": 67,
   "id": "55f9faeb",
   "metadata": {},
   "outputs": [
    {
     "data": {
      "text/plain": [
       "array([[1, 2],\n",
       "       [6, 7]])"
      ]
     },
     "execution_count": 67,
     "metadata": {},
     "output_type": "execute_result"
    }
   ],
   "source": [
    "# Acessando slices 2D\n",
    "npm[:2, :2]"
   ]
  },
  {
   "cell_type": "markdown",
   "id": "5f5719f9",
   "metadata": {},
   "source": [
    "### Modificando elementos\n",
    "\n",
    "Os arrays de numpy são mutáveis, ou seja, podemos modificar seus elementos. Além de alterarmos elemento por elemento como já estamos acostumados, podemos fazer alterações de slices de uma só vez, ou seja, podemos modificar linhas, colunas ou submatrizes inteiras de uma só vez.\n",
    "\n",
    "</br>\n",
    "\n",
    "```Python\n",
    "npm = np.array([[1, 2, 3, 4, 5], \n",
    "                [6, 7, 8, 9, 10], \n",
    "                [11, 12, 13, 14, 15]])\n",
    "\n",
    "npm[2, 1] = 100\n",
    "# array([[  1,   2,   3,   4,   5],\n",
    "#        [  6,   7,   8,   9,  10],\n",
    "#        [ 11, 100,  13,  14,  15]])\n",
    "\n",
    "npm[0, :] = 0\n",
    "# array([[  0,   0,   0,   0,   0],\n",
    "#        [  6,   7,   8,   9,  10],\n",
    "#        [ 11, 100,  13,  14,  15]])\n",
    "\n",
    "npm[:, 4] = 2\n",
    "# array([[  0,   0,   0,   0,   2],\n",
    "#        [  6,   7,   8,   9,   2],\n",
    "#        [ 11, 100,  13,  14,   2]])\n",
    "```"
   ]
  },
  {
   "cell_type": "code",
   "execution_count": 68,
   "id": "27ddeb9d",
   "metadata": {},
   "outputs": [
    {
     "data": {
      "text/plain": [
       "array([[   1,    2,    3,    4,    5],\n",
       "       [   6,    7,    8,    9,   10],\n",
       "       [  11, 1000,   13,   14,   15]])"
      ]
     },
     "execution_count": 68,
     "metadata": {},
     "output_type": "execute_result"
    }
   ],
   "source": [
    "# Modificando um elemento\n",
    "npm = np.array([[1, 2, 3, 4, 5], \n",
    "                [6, 7, 8, 9, 10], \n",
    "                [11, 12, 13, 14, 15]])\n",
    "\n",
    "npm[2, 1] = 1000\n",
    "npm"
   ]
  },
  {
   "cell_type": "code",
   "execution_count": 69,
   "id": "ec8fc06f",
   "metadata": {},
   "outputs": [
    {
     "data": {
      "text/plain": [
       "array([[ 0,  0,  0,  0,  0],\n",
       "       [ 6,  7,  8,  9, 10],\n",
       "       [11, 12, 13, 14, 15]])"
      ]
     },
     "execution_count": 69,
     "metadata": {},
     "output_type": "execute_result"
    }
   ],
   "source": [
    "# Modificando uma linha\n",
    "npm = np.array([[1, 2, 3, 4, 5], \n",
    "                [6, 7, 8, 9, 10], \n",
    "                [11, 12, 13, 14, 15]])\n",
    "\n",
    "npm[0, :] = 0\n",
    "npm"
   ]
  },
  {
   "cell_type": "code",
   "execution_count": 70,
   "id": "e6f3f59e",
   "metadata": {},
   "outputs": [
    {
     "data": {
      "text/plain": [
       "array([[ 1,  5,  3,  4,  5],\n",
       "       [ 6,  5,  8,  9, 10],\n",
       "       [11,  5, 13, 14, 15]])"
      ]
     },
     "execution_count": 70,
     "metadata": {},
     "output_type": "execute_result"
    }
   ],
   "source": [
    "# Modificando uma coluna\n",
    "npm = np.array([[1, 2, 3, 4, 5], \n",
    "                [6, 7, 8, 9, 10], \n",
    "                [11, 12, 13, 14, 15]])\n",
    "npm[:, 1] = 5\n",
    "npm"
   ]
  },
  {
   "cell_type": "markdown",
   "id": "60b09d8e",
   "metadata": {},
   "source": [
    "## Exercício 1\n",
    "\n",
    "Construa uma matriz numpy com `10x10` com valores `1`, mas a borda desse array deve ter valores `0`."
   ]
  },
  {
   "cell_type": "code",
   "execution_count": 77,
   "id": "62b0590d",
   "metadata": {},
   "outputs": [
    {
     "data": {
      "text/plain": [
       "5"
      ]
     },
     "execution_count": 77,
     "metadata": {},
     "output_type": "execute_result"
    }
   ],
   "source": [
    "matriz = np.ones((10, 10))\n",
    "matriz[0, :] = 0\n",
    "matriz[:, 0] = 0\n",
    "matriz[-1,:] = 0\n",
    "matriz[:, -1] = 0\n",
    "# matriz\n",
    "\n",
    "l = [1, 2, 3, 4, 5]\n",
    "l[len(l) - 1]"
   ]
  },
  {
   "cell_type": "code",
   "execution_count": null,
   "id": "e8f5fa9f",
   "metadata": {},
   "outputs": [],
   "source": []
  }
 ],
 "metadata": {
  "kernelspec": {
   "display_name": "Python 3",
   "language": "python",
   "name": "python3"
  },
  "language_info": {
   "codemirror_mode": {
    "name": "ipython",
    "version": 3
   },
   "file_extension": ".py",
   "mimetype": "text/x-python",
   "name": "python",
   "nbconvert_exporter": "python",
   "pygments_lexer": "ipython3",
   "version": "3.9.7"
  }
 },
 "nbformat": 4,
 "nbformat_minor": 5
}
