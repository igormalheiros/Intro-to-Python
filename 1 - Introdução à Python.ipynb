{
 "cells": [
  {
   "cell_type": "markdown",
   "id": "e5ec8916",
   "metadata": {},
   "source": [
    "# Introdução à Programação para Ciência de Dados\n",
    "\n",
    "### Aula 1: Introdução à Python\n",
    "\n",
    "**Professor:** Igor Malheiros"
   ]
  },
  {
   "cell_type": "markdown",
   "id": "b349b298",
   "metadata": {},
   "source": [
    "## Introdução\n",
    "\n",
    "\n",
    "### Por quê programar?\n",
    "\n",
    "Em geral, os computadores foram construídos para nos servir. Entretanto, nós precisamos falar a \"língua\" dos computadores para dizer o que nós queremos.\n",
    "\n",
    "Como **usuários** de diversas tecnologias, nós utilizamos programas e aplicativos de acordo com o que eles propõem fazer, sem entender conceitos do seu funcionamento. Não compreender esses funcionamentos pode parecer estranho e até perigoso, pois estamos cercados por programas e aplicativos.\n",
    "\n",
    "Uma vez que aprendemos a linguagem por trás dos computadores e seus fundamentos, nós podemos ser muito mais do que meros usuários, podemos ser **desenvolvedores**. Desenvolver programas abre um leque muito maior de possibilidades, uma vez que podemos construir soluções novas para problemas pessoais ou para problemas ainda não resolvidos. Saímos de uma perspectiva de *usuário* em que o uso é limitado pelos limites de um aplicativo para um *desenvolvedor*, onde cabe a nós mesmos definir esses limites.\n",
    "\n",
    "O **código** (ou linguagem de programação) é a maneira na qual nós damos instruções para o computador. O programador, deve gerenciar os recursos do computador, tais como memória, velocidade do processador, gasto de energia, conexão com Internet, de forma que as instruções dadas realizem uma determinada tarefa."
   ]
  },
  {
   "cell_type": "code",
   "execution_count": 4,
   "id": "98964bf8",
   "metadata": {},
   "outputs": [
    {
     "name": "stdout",
     "output_type": "stream",
     "text": [
      "O resultado da soma a + b é:  50\n"
     ]
    }
   ],
   "source": [
    "# Isso é um código\n",
    "\n",
    "a = 10\n",
    "b = 40\n",
    "soma = a + b\n",
    "print(\"O resultado da soma a + b é: \", soma)"
   ]
  },
  {
   "cell_type": "markdown",
   "id": "5d3e1aeb",
   "metadata": {},
   "source": [
    "### Algoritmo\n",
    "\n",
    "O computador interpreta uma sequência de comandos em códigos digitadas pelo desenvolvedor e os executa. O computador não sabe exatamente o propósito do código até lê-lo, isso é papel do programador.\n",
    "\n",
    "O exemplo de humano para humano de uma sequência de comandos parecida com a que usamos entre humanos e computadores é quando seguimos uma receita para fazer alguma comida. Geralmente, as instruções na receita seguem uma sequência de passos que devem ser obedecidas, assim como os ingredientes utilizados (e suas proporções). Para que não aconteçam problemas, as instruções devem ser extremamente **precisas** para evitar erros. Na programação de computadores, nós também precisamos fornecer instruções **precisas** aos computadores, pois eles não são capazes de detectar nuances das nossas ideias, isso pode ser um dos fatores mais frustrantes e difíceis da programação. Pois, inúmeras vezes nós sabemos o que queremos, mas não sabemos expressar exatamente isso à um computador.\n",
    "\n",
    "Quando possuímos uma sequência finita de comandos não-ambíguas com intuito de resolver um problema, dizemos que temos um **algoritmo** para o problema. O **algoritmo** não precisa estar escrito em código, pois ele é um conceito mais genérico. Porém, nós podemos traduzir esse algoritmo para forma de código e executá-los em um computador.\n",
    "\n",
    "<img src=\"https://www.pressprintparty.com/wp-content/uploads/2019/03/Chocolate-Cake-recipe-pin3.jpg\" width=35%/>\n"
   ]
  },
  {
   "cell_type": "code",
   "execution_count": 1,
   "id": "56989064",
   "metadata": {},
   "outputs": [
    {
     "name": "stderr",
     "output_type": "stream",
     "text": [
      "/home/igor/anaconda3/lib/python3.9/site-packages/IPython/core/display.py:724: UserWarning: Consider using IPython.display.IFrame instead\n",
      "  warnings.warn(\"Consider using IPython.display.IFrame instead\")\n"
     ]
    },
    {
     "data": {
      "text/html": [
       "<iframe width=\"600\" height=\"315\" src=\"https://www.youtube.com/embed/pdhqwbUWf4U?rel=0&amp;controls=0&amp;showinfo=0\" frameborder=\"0\" allowfullscreen></iframe>"
      ],
      "text/plain": [
       "<IPython.core.display.HTML object>"
      ]
     },
     "execution_count": 1,
     "metadata": {},
     "output_type": "execute_result"
    }
   ],
   "source": [
    "from IPython.display import HTML\n",
    "HTML('<iframe width=\"600\" height=\"315\" src=\"https://www.youtube.com/embed/pdhqwbUWf4U?rel=0&amp;controls=0&amp;showinfo=0\" frameborder=\"0\" allowfullscreen></iframe>')"
   ]
  },
  {
   "cell_type": "markdown",
   "id": "437ea142",
   "metadata": {},
   "source": [
    "### Humano X Computador\n",
    "Os programas de computadores são capazes de resolver alguns problemas muito melhor do que os seres humanos. Entretanto, outros problemas podem ser facilmente resolvidos por nós e com muita dificuldade (ou não conseguir) pelos computadores. Por exemplo, **qual palavra do texto abaixo tem maior frequência?**\n",
    "<br>\n",
    "<br>\n",
    "<br>\n",
    "<br>\n",
    "<br>\n",
    "<br>\n",
    "No meio do caminho tinha uma pedra <br>\n",
    "tinha uma pedra no meio do caminho <br>\n",
    "tinha uma pedra <br>\n",
    "no meio do caminho tinha uma pedra. <br>\n",
    "<br>\n",
    "Nunca me esquecerei desse acontecimento <br>\n",
    "na vida de minhas retinas tão fatigadas. <br>\n",
    "Nunca me esquecerei que no meio do caminho <br>\n",
    "tinha uma pedra <br>\n",
    "tinha uma pedra no meio do caminho <br>\n",
    "no meio do caminho tinha uma pedra. <br>\n",
    "&ensp;&ensp;&ensp;&ensp;&ensp;&ensp;&ensp;&ensp;&ensp;(Carlos Drummond de Andrade) <br>\n",
    "<br>\n",
    "<br>\n",
    "<br>\n",
    "<br>\n",
    "<br>\n",
    "<br>\n",
    "Esse tipo de problema (e muitos outros) pode ser resolvido com pouquíssimas instruções em Python. Uma vez que temos o código para o problema, o computador é capaz de resolvê-lo (e até de textos muito maiores) em uma fração de segundos.\n",
    "\n",
    "### Arquitetura de Hardware\n",
    "\n",
    "É importante que conheçamos alguns dos principais componentes dos computadores, pois eles podem ser mencionados ao longo da disciplina.\n",
    "\n",
    "- **Dispositivos de Entrada**\n",
    "\n",
    "São os periféricos que utilizamos para fornecer informação do mundo real para o computador. Por exemplo, teclado, mouse, microfone, câmera e touchpad.\n",
    "\n",
    "- **Dispositivos de Saída**\n",
    "\n",
    "São os periféricos que utilizamos para receber informação do computador vinda do computador. Por exemplo, monitor, caixas de som e impressora.\n",
    "\n",
    "- **Memória Secundária**\n",
    "\n",
    "<img src=\"https://encrypted-tbn0.gstatic.com/images?q=tbn:ANd9GcQqUDEUlGirOl5YRIurGkK2LDhOly3LuqsiJA&usqp=CAU\" width=35%/>\n",
    "\n",
    "Componente do computador onde ficam armazenados os dados, como fotos, vídeos, músicas, documentos e instalações. Quando o computador é desligado, esses dados continuam gravados nele. Por isso, esses componentes são usados para armazenamento de dados em massa. O Hard Disk (HD) tradicional (como o da foto) funciona de forma mecânica, parecida com uma vitrola. Enquanto que os HDs Solid State Drive não possuem acessos mecânicos.\n",
    "\n",
    "- **Random Access Memory (Memória RAM)**\n",
    "\n",
    "<img src=\"https://br.crucial.com/content/dam/crucial/dram-products/desktop/images/product/ddr4-udimm-dynamic-right.psd.transform/small-jpg/img.jpg\" width=35%/>\n",
    "\n",
    "Quando executamos um aplicativo ou programa, os dados relacionados ao programa passam da memória secundária para a memória RAM. Os acessos nesse tipo de memória são muito mais rápidos do que na memória secundária. Entretanto, as memórias RAM possuem capacidades muito menores, além disso, elas são memórias em que os dados são apagados quando desligamos o computador. Seu principal objetivo é fazer com que os programas fiquem temporariamente neles para que as operações sejam realizadas de forma mais rápida, em vez de precisar fazer acessos à memória secundária.\n",
    "\n",
    "\n",
    "- **Central Processing Unit (CPU)**\n",
    "\n",
    "<img src=\"https://signal.avg.com/hubfs/Blog_Content/Avg/Signal/AVG%20Signal%20Images/How%20to%20Stress%20Test%20Your%20CPU/How_to_stress_test_your_CPU-Hero.jpg\" width=35%/>\n",
    "\n",
    "A unidade centro de processamento **CPU** é o principal hardware do computador, também pode ser chamado de processador. A principal função da CPU é realizar operações matemáticas e lógicas do computador. O processador sempre pergunta para memória RAM: *qual o próximo passo?* e a memória RAM vai rapidamente passar a instrução seguinte ao processador. Essa comunicação entre RAM e CPU tem a grandeza de por volta de 3 bilhões de operações por segundo!\n",
    "\n",
    "A CPU apenas interpreta instruções **Booleanas** (0s e 1s). Ao final, os computadores interpretam apenas 0s e 1s, escrever um programa inteiro apenas utilizando essa linguagem é extremamente difícil. Por isso, os cientistas da computação criaram as *linguagem de programação* (Python, C, Java, etc.) para facilitar o processo de desenvolvimento de futuros programadores. Entretanto, em um certo momento o seu código é traduzido para a linguagem Booleana.\n",
    "\n",
    "\n",
    "<img src=\"https://thumbs.dreamstime.com/b/ireland-cork-university-college-cork-ucc-memorial-marble-bronze-portrait-famous-mathematician-george-boole-129866233.jpg\" width=25%>\n",
    "\n",
    "### Python\n",
    "\n",
    "Python é uma das linguagens de programação mais populares hoje em dia, utilizada tanto para iniciantes (nós!) como em sistemas de ponta (Google). A sua criação começou no final da década de 80 por *Guido Van Rossum* nos Países Baixos. Apesar do nome e símbolo ser a cobra Píton, Van Rossum escolheu esse nome em homenagem ao grupo britânico de comédia Monty Python.\n",
    "\n",
    "A linguagem engloba diversos paradigmas de programação (orientada a objeto, programação estruturada, programação funcional, etc.), possui *tipagem dinâmica* (não precisamos definir tipo de variáveis) e possui o *garbage collector* (deletar memória não utilizada automaticamente). Além disso, o Python é muito expressivo, ou seja, podemos realizar diversas etapas de um algoritmo com poucas linhas de código. Um dos principais pontos da filosofia Pytônica é a simplicidade e legibilidade. As indentações são obrigatórias, forçando os programadores iniciantes a se acostumarem com códigos mais legíveis. Por isso, Python é uma ótima linguagem para programadores iniciantes.\n",
    "\n",
    "<img src=\"https://upload.wikimedia.org/wikipedia/commons/thumb/9/94/Guido_van_Rossum_OSCON_2006_cropped.png/150px-Guido_van_Rossum_OSCON_2006_cropped.png\" width=25%>\n"
   ]
  },
  {
   "cell_type": "code",
   "execution_count": 7,
   "id": "f4638142",
   "metadata": {},
   "outputs": [],
   "source": [
    "# Resposta da quantidade de palavras no poema:\n",
    "\n",
    "{\n",
    "    'no': 6, \n",
    "    'meio': 6, \n",
    "    'do': 6, \n",
    "    'caminho': 6, \n",
    "    'tinha': 7, \n",
    "    'uma': 7, \n",
    "    'pedra': 7, \n",
    "    'nunca': 2, \n",
    "    'me': 2, \n",
    "    'esquecerei': 2, \n",
    "    'desse': 1, \n",
    "    'acontecimento': 1, \n",
    "    'na': 1, \n",
    "    'vida': 1, \n",
    "    'de': 1, \n",
    "    'minhas': 1, \n",
    "    'retinas': 1, \n",
    "    'tão': 1, \n",
    "    'fatigadas': 1,\n",
    "    'que': 1\n",
    "}\n"
   ]
  }
 ],
 "metadata": {
  "kernelspec": {
   "display_name": "Python 3",
   "language": "python",
   "name": "python3"
  },
  "language_info": {
   "codemirror_mode": {
    "name": "ipython",
    "version": 3
   },
   "file_extension": ".py",
   "mimetype": "text/x-python",
   "name": "python",
   "nbconvert_exporter": "python",
   "pygments_lexer": "ipython3",
   "version": "3.9.7"
  }
 },
 "nbformat": 4,
 "nbformat_minor": 5
}
