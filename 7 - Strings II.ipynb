{
 "cells": [
  {
   "cell_type": "markdown",
   "id": "06b75ab6",
   "metadata": {},
   "source": [
    "# Introdução à Programação para Ciência de Dados\n",
    "\n",
    "### Aula 7: Strings II\n",
    "\n",
    "**Professor:** Igor Malheiros"
   ]
  },
  {
   "cell_type": "markdown",
   "id": "747e0375",
   "metadata": {},
   "source": [
    "## Aprofundando em strings\n",
    "\n",
    "Python fornece muitas funções nativas para tratar strings, além de possibilidade de utilizar alguns operadores para fazer tarefas que em outras linguagens de programação podem ser muito complexas. Estudaremos alguns desses operadores e algumas dessas funções.\n",
    "\n",
    "### Slicing Strings\n",
    "\n",
    "Uma operação que pode ser útil para resolver problemas com string é partir (*slice*) a string em pedaços. Chamamos essa parte menor da string de **substring** da string maior.\n",
    "\n",
    "<br>\n",
    "\n",
    "| M | o | n | t | y |   | P | y | t | h | o | n |\n",
    "|:-:|:-:|:-:|:-:|:-:|:-:|:-:|:-:|:-:|:-:|:-:|:-:|\n",
    "| 0 | 1 | 2 | 3 | 4 | 5 | 6 | 7 | 8 | 9 |10 |11 |\n",
    "\n",
    "<br>\n",
    "\n",
    "```Python\n",
    "string = \"Monty Python\"\n",
    "substring_1 = \"Monty\"\n",
    "substring_2 = \"Python\"\n",
    "```\n",
    "\n",
    "É possível extrair exatamente uma substring utilizando o operador `[]` junto ao intervalo das posições desejadas na string original.\n",
    "\n",
    "```Python\n",
    "string = \"Monty Python\"\n",
    "substring_1 = string[0:5]  # Não inclui a posição 5\n",
    "substring_2 = string[6:12] # Não inclui a posição 12\n",
    "```\n",
    "\n",
    "**A última posição do intervalo não faz parte da substring!**\n",
    "\n",
    "Pode-se **omitir** um dos lados do intervalo, para pegar do começo da string até um certo índice ou de um certo índice até o final da string.\n",
    "\n",
    "```Python\n",
    "string = \"Monty Python\"\n",
    "substring_1 = string[:5]  # Mesmo que de 0:5\n",
    "substring_2 = string[6:] # Mesmo que de 6:12\n",
    "```\n",
    "\n",
    "Se omitirmos os dois lados, o resultado é a string inteira.\n",
    "\n",
    "```Python\n",
    "string = \"Monty Python\"\n",
    "substring = string[:]  # -> \"Monty Python\"\n",
    "```"
   ]
  },
  {
   "cell_type": "code",
   "execution_count": 11,
   "id": "eba0332f",
   "metadata": {},
   "outputs": [
    {
     "name": "stdout",
     "output_type": "stream",
     "text": [
      "Monty\n",
      "------- \n",
      "Python\n"
     ]
    }
   ],
   "source": [
    "# Exemplo de slice\n",
    "s = \"Monty Python\"\n",
    "\n",
    "subs_1 = s[0:5]\n",
    "print(subs_1)\n",
    "\n",
    "print(\"------- \")\n",
    "\n",
    "subs_2 = s[6:12]\n",
    "print(subs_2)"
   ]
  },
  {
   "cell_type": "code",
   "execution_count": 12,
   "id": "70fd7014",
   "metadata": {},
   "outputs": [
    {
     "name": "stdout",
     "output_type": "stream",
     "text": [
      "o\n"
     ]
    }
   ],
   "source": [
    "# apenas um caractere: [n:(n+1)]\n",
    "s = \"Monty Python\"\n",
    "\n",
    "caractere = s[1:2] # s[1]\n",
    "print(caractere)"
   ]
  },
  {
   "cell_type": "code",
   "execution_count": 13,
   "id": "7655a543",
   "metadata": {},
   "outputs": [
    {
     "name": "stdout",
     "output_type": "stream",
     "text": [
      "\n"
     ]
    }
   ],
   "source": [
    "# vazio: [n:n]\n",
    "s = \"Monty Python\"\n",
    "\n",
    "caractere = s[1:1]\n",
    "print(caractere)"
   ]
  },
  {
   "cell_type": "code",
   "execution_count": 15,
   "id": "5cb75831",
   "metadata": {},
   "outputs": [
    {
     "name": "stdout",
     "output_type": "stream",
     "text": [
      " Python\n"
     ]
    }
   ],
   "source": [
    "# Não existe limite\n",
    "s = \"Monty Python\"\n",
    "\n",
    "subs = s[5:100]\n",
    "print(subs)"
   ]
  },
  {
   "cell_type": "code",
   "execution_count": 16,
   "id": "d1a56845",
   "metadata": {},
   "outputs": [
    {
     "name": "stdout",
     "output_type": "stream",
     "text": [
      "Monty \n"
     ]
    }
   ],
   "source": [
    "# Omitindo do lado esquerdo\n",
    "s = \"Monty Python\"\n",
    "\n",
    "subs = s[:6]\n",
    "print(subs)"
   ]
  },
  {
   "cell_type": "code",
   "execution_count": 17,
   "id": "f6e80a99",
   "metadata": {},
   "outputs": [
    {
     "name": "stdout",
     "output_type": "stream",
     "text": [
      "Python\n"
     ]
    }
   ],
   "source": [
    "# Omitindo do lado direito\n",
    "s = \"Monty Python\"\n",
    "\n",
    "subs = s[6:]\n",
    "print(subs)"
   ]
  },
  {
   "cell_type": "code",
   "execution_count": 18,
   "id": "7c049d00",
   "metadata": {},
   "outputs": [
    {
     "name": "stdout",
     "output_type": "stream",
     "text": [
      "Monty Python\n"
     ]
    }
   ],
   "source": [
    "# Omitindo dos dois lados\n",
    "s = \"Monty Python\"\n",
    "\n",
    "subs = s[:]\n",
    "print(subs)"
   ]
  },
  {
   "cell_type": "markdown",
   "id": "28d3b942",
   "metadata": {},
   "source": [
    "### Concatenação de strings\n",
    "\n",
    "A concatenação é uma das operações mais comuns entre strings, essa operação junta duas strings em uma nova string. Utilizando apenas o operador de `+` podemos concatenar duas strings em Python.\n",
    "\n",
    "```Python\n",
    "string_1 = \"Monty\"\n",
    "string_2 = \"Python\"\n",
    "\n",
    "string_resultado = string_1 + string_2\n",
    "print(string_resultado)\n",
    "```\n",
    "\n",
    "O resultado do exemplo acima é `\"MontyPython\"`, as duas palavras foram adicionadas **sem nenhum espaço entre elas**. Podemos utilizar diretamente o caractere de espaço na expressão para gerarmos a string da forma desejada.\n",
    "\n",
    "```Python\n",
    "string_1 = \"Monty\"\n",
    "string_2 = \"Python\"\n",
    "\n",
    "string_resultado = string_1 + \" \" + string_2\n",
    "print(string_resultado)\n",
    "```"
   ]
  },
  {
   "cell_type": "code",
   "execution_count": 21,
   "id": "886e5f30",
   "metadata": {},
   "outputs": [
    {
     "name": "stdout",
     "output_type": "stream",
     "text": [
      " Monty -> Python\n"
     ]
    }
   ],
   "source": [
    "# Exemplo concatenação\n",
    "string_1 = \" Monty\"\n",
    "string_2 = \"Python\"\n",
    "\n",
    "string_resultado = string_1 + \" -> \" + string_2\n",
    "print(string_resultado)"
   ]
  },
  {
   "cell_type": "markdown",
   "id": "8158a961",
   "metadata": {},
   "source": [
    "### `in` em Strings\n",
    "\n",
    "A palavra reservada `in` em Python funciona em strings como um operador lógico. Ou seja, retorna valores como `True` ou `False`. Podemos usá-la para identificarmos se uma string é substring de outra.\n",
    "\n",
    "```Python\n",
    "string = \"Monty Python\"\n",
    "substring = \"Monty\"\n",
    "\n",
    "if substring in string:\n",
    "    print(\"é substring\")\n",
    "else:\n",
    "    print(\"não é substring\")\n",
    "```"
   ]
  },
  {
   "cell_type": "code",
   "execution_count": 23,
   "id": "0db5cd14",
   "metadata": {},
   "outputs": [
    {
     "name": "stdout",
     "output_type": "stream",
     "text": [
      "nao eh substring!\n"
     ]
    }
   ],
   "source": [
    "# Exemplo in\n",
    "string = \"Monty Python\"\n",
    "substring = \"casa\"\n",
    "\n",
    "if substring in string:\n",
    "    print(\"eh substring!\")\n",
    "else:\n",
    "    print(\"nao eh substring!\")"
   ]
  },
  {
   "cell_type": "markdown",
   "id": "3d6500f5",
   "metadata": {},
   "source": [
    "### Função `lower()`\n",
    "\n",
    "Transforma toda a string em letras minúsculas (se houverem letras maiúsculas). Essa função não modifica a string, em vez disso, ela vai criar e retornar uma nova string modificada.\n",
    "\n",
    "```Python\n",
    "nome = \"José da Silva\"\n",
    "nome_minusculo = nome.lower() # Note que utilizaremos o .\n",
    "print(nome_minusculo)\n",
    "\n",
    "print(\"CPF\".lower()) # Podemos usar diretamente a string, sem atribuir em uma variável\n",
    "\n",
    "print(\"1a2b3c\".lower())\n",
    "```"
   ]
  },
  {
   "cell_type": "code",
   "execution_count": 26,
   "id": "383b6bca",
   "metadata": {},
   "outputs": [
    {
     "name": "stdout",
     "output_type": "stream",
     "text": [
      "José da Silva\n",
      "josé da silva\n",
      "cpf\n",
      "1a2b3c\n"
     ]
    }
   ],
   "source": [
    "# Exemplo lower()\n",
    "nome = \"José da Silva\"\n",
    "nome_minusculo = nome.lower()\n",
    "print(nome)\n",
    "print(nome_minusculo)\n",
    "\n",
    "print(\"CPF\".lower())\n",
    "\n",
    "print(\"1a2b3c\".lower())"
   ]
  },
  {
   "cell_type": "markdown",
   "id": "c93c07cf",
   "metadata": {},
   "source": [
    "### Função `upper()`\n",
    "\n",
    "Transforma toda a string em letras maiúsculas (se houverem letras minúsculas). Essa função não modifica a string, em vez disso, ela vai criar e retornar uma nova string modificada.\n",
    "\n",
    "```Python\n",
    "nome = \"José da Silva\"\n",
    "nome_maiusculo = nome.upper() # Note que utilizaremos o .\n",
    "print(nome_maiusculo)\n",
    "\n",
    "print(\"1a2b3c\".upper()) # Podemos usar diretamente a string, sem atribuir em uma variável\n",
    "\n",
    "print(\"CPF\".upper()) \n",
    "```"
   ]
  },
  {
   "cell_type": "code",
   "execution_count": 28,
   "id": "ef6605c3",
   "metadata": {},
   "outputs": [
    {
     "name": "stdout",
     "output_type": "stream",
     "text": [
      "José da Silva\n",
      "JOSÉ DA SILVA\n",
      "1A2B3C\n",
      "CPF\n"
     ]
    }
   ],
   "source": [
    "# exemplo upper()\n",
    "nome = \"José da Silva\"\n",
    "nome_maiusculo = nome.upper() # Note que utilizaremos o .\n",
    "print(nome)\n",
    "print(nome_maiusculo)\n",
    "\n",
    "print(\"1a2b3c\".upper())\n",
    "\n",
    "print(\"CPF\".upper())"
   ]
  },
  {
   "cell_type": "markdown",
   "id": "527d273d",
   "metadata": {},
   "source": [
    "### Função `find()`\n",
    "\n",
    "A função `find()` é utilizada para buscar uma substring em outra string. Ela vai procurar a primeira ocorrência da substring (esquerda para direita) e retornar a posição encontrada. Caso a substring não seja encontrada (não é substring) a posição retornada é `-1`.\n",
    "\n",
    "<br>\n",
    "\n",
    "| b | a | n | a | n | a |\n",
    "|:-:|:-:|:-:|:-:|:-:|:-:|\n",
    "| 0 | 1 | 2 | 3 | 4 | 5 |\n",
    "\n",
    "<br>\n",
    "\n",
    "```Python\n",
    "string = \"banana\"\n",
    "\n",
    "# Queremos procurar a posição da primeira ocorrência de \"na\" em \"banana\"\n",
    "pos = string.find(\"na\")\n",
    "\n",
    "# Queremos procurar a posição da primeira ocorrência de \"zx\" em \"banana\"\n",
    "pos = string.find(\"zx\")\n",
    "```"
   ]
  },
  {
   "cell_type": "code",
   "execution_count": 30,
   "id": "b9d3e1ec",
   "metadata": {},
   "outputs": [
    {
     "name": "stdout",
     "output_type": "stream",
     "text": [
      "2\n",
      "-1\n"
     ]
    }
   ],
   "source": [
    "# Exemplo find()\n",
    "string = \"banana\"\n",
    "\n",
    "pos = string.find(\"na\")\n",
    "print(pos)\n",
    "\n",
    "pos = string.find(\"xz\")\n",
    "print(pos)"
   ]
  },
  {
   "cell_type": "markdown",
   "id": "d6e55b23",
   "metadata": {},
   "source": [
    "### Função `replace()`\n",
    "\n",
    "Essa função procura e substitui **todas** as ocorrências de uma substring por outra substring em uma string original. Esse tipo de operação é muito útil para **normalizar** dados.\n",
    "\n",
    "```Python\n",
    "string_1 = \"banana\"\n",
    "replaced_string_1 = string_1.replace(\"a\", \"x\")\n",
    "\n",
    "string_2 = \"Sua nota foi dez\"\n",
    "replaced_string_2 = string_2.replace(\"dez\", \"10\")\n",
    "```"
   ]
  },
  {
   "cell_type": "code",
   "execution_count": 36,
   "id": "654c3ba6",
   "metadata": {},
   "outputs": [
    {
     "name": "stdout",
     "output_type": "stream",
     "text": [
      "banana\n",
      "bxnxnx\n",
      "Sua nota foi dez\n",
      "Sua nota foi 10\n",
      " b a n a n a \n",
      "banana\n"
     ]
    }
   ],
   "source": [
    "# Exemplo replace()\n",
    "string_1 = \"banana\"\n",
    "replaced_string_1 = string_1.replace(\"a\", \"x\")\n",
    "\n",
    "print(string_1)\n",
    "print(replaced_string_1)\n",
    "\n",
    "string_2 = \"Sua nota foi dez\"\n",
    "replaced_string_2 = string_2.replace(\"dez\", \"10\")\n",
    "\n",
    "print(string_2)\n",
    "print(replaced_string_2)\n",
    "\n",
    "string_3 = \" b a n a n a \"\n",
    "replaced_string_3 = string_3.replace(\" \", \"\")\n",
    "\n",
    "print(string_3)\n",
    "print(replaced_string_3)"
   ]
  },
  {
   "cell_type": "markdown",
   "id": "0b78bc20",
   "metadata": {},
   "source": [
    "## Exercício 1\n",
    "\n",
    "Faça um programa que lê uma string e substitui todos os $o$s por $0$s e todos os $i$s por $1$s."
   ]
  },
  {
   "cell_type": "code",
   "execution_count": 40,
   "id": "cba380c9",
   "metadata": {},
   "outputs": [
    {
     "name": "stdout",
     "output_type": "stream",
     "text": [
      "Digite uma stringbiscoito\n",
      "b1sc01t0\n"
     ]
    }
   ],
   "source": [
    "s = input(\"Digite uma string\")\n",
    "\n",
    "s_o = s.replace(\"o\", \"0\")\n",
    "s_i = s_o.replace(\"i\", \"1\")\n",
    "\n",
    "print(s_i)"
   ]
  },
  {
   "cell_type": "markdown",
   "id": "d4dd7777",
   "metadata": {},
   "source": [
    "## Exercício 2\n",
    "\n",
    "Faça um programa que lê uma string (pode conter letras maiúsculas e minúsculas) e diz quantas vogais ela possui."
   ]
  },
  {
   "cell_type": "code",
   "execution_count": 42,
   "id": "55a5ba9d",
   "metadata": {},
   "outputs": [
    {
     "name": "stdout",
     "output_type": "stream",
     "text": [
      "Digite uma stringbiscoito\n",
      "4\n"
     ]
    }
   ],
   "source": [
    "s = input(\"Digite uma string\")\n",
    "cnt = 0\n",
    "\n",
    "for c in s:\n",
    "    if c in \"aeiouAEIOU\":\n",
    "        cnt = cnt + 1\n",
    "\n",
    "print(cnt)"
   ]
  },
  {
   "cell_type": "markdown",
   "id": "10952a23",
   "metadata": {},
   "source": [
    "## Desafio 1\n",
    "\n",
    "Faça um programa que traduza a mensagem abaixo, sabendo que:\n",
    "\n",
    "$0$ -> $o$ <br>\n",
    "$1$ -> $i$ <br>\n",
    "$3$ -> $e$ <br>\n",
    "$4$ -> $a$ <br>\n",
    "$5$ -> $s$<br>\n",
    "$7$ -> $t$ <br>\n",
    "$9$ -> $g$\n",
    "\n",
    "\"Th15 53m3573r, 1 4m l34rn1n9 pyth0n f0r d474 5c13nc3!\""
   ]
  },
  {
   "cell_type": "code",
   "execution_count": null,
   "id": "4bece6b0",
   "metadata": {},
   "outputs": [],
   "source": []
  }
 ],
 "metadata": {
  "kernelspec": {
   "display_name": "Python 3",
   "language": "python",
   "name": "python3"
  },
  "language_info": {
   "codemirror_mode": {
    "name": "ipython",
    "version": 3
   },
   "file_extension": ".py",
   "mimetype": "text/x-python",
   "name": "python",
   "nbconvert_exporter": "python",
   "pygments_lexer": "ipython3",
   "version": "3.9.7"
  }
 },
 "nbformat": 4,
 "nbformat_minor": 5
}
