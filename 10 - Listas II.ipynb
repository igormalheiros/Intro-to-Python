{
 "cells": [
  {
   "cell_type": "markdown",
   "id": "e077fb67",
   "metadata": {},
   "source": [
    "# Introdução à Programação para Ciência de Dados\n",
    "\n",
    "### Aula 10: Listas II\n",
    "\n",
    "**Professor:** Igor Malheiros"
   ]
  },
  {
   "cell_type": "markdown",
   "id": "fa10e561",
   "metadata": {},
   "source": [
    "## Listas e Strings\n",
    "\n",
    "Com os assuntos abordados nas últimas aulas, podemos concluir que strings e listas tem diversas similaridades. Como os dados são organizados, como os elementos são acessados, as operações possíveis e as funções disponíveis. Várias delas funcionam de forma muito parecida.\n",
    "\n",
    "As duas estruturas não são iguais, mas podemos utilizar ambas para fazer operações mais complexas. Python fornece diversas funções nativas para podermos utilizar strings e listas, e assim, resolvermos problemas mais complexos.\n",
    "\n",
    "### Função `split()`\n",
    "\n",
    "Podemos utilizar a função `split()` para transformarmos um string do tipo `\"Eu amo Python\"` (com espaços) em uma lista de strings, onde cada elemento é uma palavra da frase `[\"Eu\", \"amo\", \"Python\"]`.\n",
    "\n",
    "Com essa lista, podemos acessar e utilizar qualquer uma das palavras (strings) em particular.\n",
    "\n",
    "```Python\n",
    "frase = \"Eu amo Python\"\n",
    "palavras = frase.split()\n",
    "\n",
    "print(palavras)\n",
    "\n",
    "for palavra in palavras:\n",
    "    print(palavra, \"é uma palavra da frase\")\n",
    "```\n",
    "\n",
    "- Essa função também separa se houver múltiplos espaços.\n",
    "\n",
    "```Python\n",
    "frase = \"  Eu      amo    Python    \"\n",
    "palavras = frase.split()\n",
    "print(palavras) # -> [\"Eu\", \"amo\", \"Python\"]\n",
    "```\n",
    "\n",
    "- Podemos definir o caractere (ou string) separador das strings passando como argumento da função `split()`.\n",
    "\n",
    "```Python\n",
    "frase_1 = \"Eu amo Python\"\n",
    "palavras_1 = frase_1.split() # -> [\"Eu\", \"amo\", \"Python\"]\n",
    "print(palavras_1)\n",
    "\n",
    "frase_2 = \"1+2+3+4+5\"\n",
    "palavras_2 = frase_2.split(\"+\") # -> [\"1\", \"2\", \"3\", \"4\", \"5\"]\n",
    "print(palavras_2)\n",
    "\n",
    "frase_3 = \"um, dois, três, quatro\"\n",
    "palavras_3 = frase_3.split(\", \") # -> [\"um\", \"dois\", \"três\", \"quatro\"]\n",
    "print(palavras_3)\n",
    "```"
   ]
  },
  {
   "cell_type": "code",
   "execution_count": 19,
   "id": "22cd25f3",
   "metadata": {},
   "outputs": [
    {
     "name": "stdout",
     "output_type": "stream",
     "text": [
      "['Eu', 'amo', 'Python']\n",
      "Eu  é uma palavra\n",
      "amo  é uma palavra\n",
      "Python  é uma palavra\n"
     ]
    }
   ],
   "source": [
    "# split() simples - \"Eu amo Python\"\n",
    "frase_1 = \"Eu amo Python\"\n",
    "palavras_1 = frase_1.split()\n",
    "print(palavras_1)\n",
    "\n",
    "for palavra in palavras_1:\n",
    "    print(palavra, \" é uma palavra\")"
   ]
  },
  {
   "cell_type": "code",
   "execution_count": 15,
   "id": "292c3773",
   "metadata": {},
   "outputs": [
    {
     "name": "stdout",
     "output_type": "stream",
     "text": [
      "['1', '2', '3', '4', '5']\n"
     ]
    }
   ],
   "source": [
    "# split() com \"+\" - \"1+2+3+4+5\"\n",
    "frase_2 = \"1+2+3+4+5\"\n",
    "palavras_2 = frase_2.split(\"+\")\n",
    "\n",
    "print(palavras_2)\n"
   ]
  },
  {
   "cell_type": "code",
   "execution_count": 16,
   "id": "7110dd91",
   "metadata": {},
   "outputs": [
    {
     "name": "stdout",
     "output_type": "stream",
     "text": [
      "['um', 'dois', 'três', 'quatro']\n"
     ]
    }
   ],
   "source": [
    "# split() com padrão \", \" - \"um, dois, três, quatro\"\n",
    "frase_3 = \"um, dois, três, quatro\"\n",
    "palavras_3 = frase_3.split(\", \")\n",
    "print(palavras_3)"
   ]
  },
  {
   "cell_type": "markdown",
   "id": "e2bd4a2c",
   "metadata": {},
   "source": [
    "### Função `join()`\n",
    "\n",
    "Para fazer o processo inverso, transformar uma lista de strings em uma única string, utilizaremos a função `join()`. A função `join()` é uma função exclusiva de strings, por isso, para chamá-la utilizaremos o operador `.`.\n",
    "\n",
    "A lógica aqui é diferente, por isso precisamos de **atenção!**. A string que chama a função `join()` significa o padrão que será inserido entre as strings da lista. Enquanto que a lista de strings é passada como argumento da função.\n",
    "\n",
    "```Python\n",
    "palavras_1 = [\"1\", \"2\", \"3\", \"4\", \"5\"]\n",
    "frase_1 = \"+\".join(palavras_1) # -> \"1+2+3+4+5\"\n",
    "print(frase_1)\n",
    "\n",
    "palavras_2 = [\"Eu\", \"amo\", \"Python\"]\n",
    "frase_2 =  \" \".join(palavras_2) # -> \"Eu amo Python\"\n",
    "print(frase_2)\n",
    "\n",
    "palavras_3 = [\"um\", \"dois\", \"três\", \"quatro\"]\n",
    "frase_3 =  \", \".join(palavras_3) # - > \"um, dois, três, quatro\"\n",
    "print(frase_3)\n",
    "```"
   ]
  },
  {
   "cell_type": "code",
   "execution_count": 20,
   "id": "ad0160bc",
   "metadata": {},
   "outputs": [
    {
     "name": "stdout",
     "output_type": "stream",
     "text": [
      "1+2+3+4+5\n"
     ]
    }
   ],
   "source": [
    "# .join() para o \"+\" - [\"1\", \"2\", \"3\", \"4\", \"5\"]\n",
    "palavras_1 = [\"1\", \"2\", \"3\", \"4\", \"5\"]\n",
    "frase_1 = \"+\".join(palavras_1)\n",
    "print(frase_1)"
   ]
  },
  {
   "cell_type": "code",
   "execution_count": 22,
   "id": "6d7ef2ae",
   "metadata": {},
   "outputs": [
    {
     "name": "stdout",
     "output_type": "stream",
     "text": [
      "Eu amo Python\n"
     ]
    }
   ],
   "source": [
    "# .join() para o \" \" - [\"Eu\", \"amo\", \"Python\"]\n",
    "palavras_2 = [\"Eu\", \"amo\", \"Python\"]\n",
    "frase_2 = \" \".join(palavras_2)\n",
    "print(frase_2)"
   ]
  },
  {
   "cell_type": "code",
   "execution_count": 23,
   "id": "e71b7d67",
   "metadata": {},
   "outputs": [
    {
     "name": "stdout",
     "output_type": "stream",
     "text": [
      "um, dois, três, quatro\n"
     ]
    }
   ],
   "source": [
    "# .join() para o \", \" - [\"um\", \"dois\", \"três\", \"quatro\"]\n",
    "palavras_3 = [\"um\", \"dois\", \"três\", \"quatro\"]\n",
    "frase_3 = \", \".join(palavras_3)\n",
    "print(frase_3)"
   ]
  },
  {
   "cell_type": "markdown",
   "id": "ebbd78be",
   "metadata": {},
   "source": [
    "## Compreensão de listas\n",
    "\n",
    "Às vezes, construir uma simples lista pode tomar algumas linhas de código. Por exemplo, digamos que nós precisaremos criar uma lista com os números inteiros de $1$ até $1000$, qual seria a melhor forma?\n",
    "\n",
    "</br></br></br></br></br></br></br></br></br>\n",
    "\n",
    "```Python\n",
    "lista = []\n",
    "for i in range(1, 1001):\n",
    "    lista.append(i)\n",
    "```\n",
    "\n",
    "</br></br>\n",
    "\n",
    "E se para criar uma lista de números inteiros **pares** de $1$ até $1000$?\n",
    "\n",
    "</br></br></br></br></br></br></br></br></br>\n",
    "\n",
    "```Python\n",
    "lista_pares = []\n",
    "for i in range(1, 1001):\n",
    "    if i % 2 == 0:\n",
    "        lista_pares.append(i)\n",
    "```\n",
    "\n",
    "</br></br>\n",
    "\n",
    "Python (e algumas outras linguagens de programação) suporta compreensão de lista (*list comprehensions*) que é uma forma concisa para se construir listas.\n",
    "\n",
    "```Python\n",
    "# list comprehension para números de 1 até 1000\n",
    "lista = [i for i in range(1, 1001)]\n",
    "```\n",
    "\n",
    "- Com a simples sintaxe `[expressão for item in lista]`, podemos criar, dada uma primeira lista, uma nova lista fazendo algumas modificações em cada um dos elementos da lista antiga.\n",
    "\n",
    "```Python\n",
    "lista = [1, 2, 3, 4]\n",
    "\n",
    "# list comprehension para [10, 20, 30, 40]\n",
    "lista_vezes_dez = [i * 10 for i in lista]\n",
    "```\n",
    "\n",
    "- Podemos também filtrar os elementos que queremos colocar na nova lista com o comando `if`.\n",
    "\n",
    "```Python\n",
    "lista = [1, 2, 3, 4, 5, 6, 7, 8, 9, 10]\n",
    "\n",
    "# list comprehension para [2, 4, 6, 8, 10]\n",
    "lista_pares = [i for i in lista if i % 2 == 0]\n",
    "```"
   ]
  },
  {
   "cell_type": "code",
   "execution_count": 28,
   "id": "6498f175",
   "metadata": {},
   "outputs": [
    {
     "name": "stdout",
     "output_type": "stream",
     "text": [
      "[1, 2, 3, 4, 5, 6, 7, 8, 9, 10, 11, 12, 13, 14, 15, 16, 17, 18, 19, 20, 21, 22, 23, 24, 25, 26, 27, 28, 29, 30, 31, 32, 33, 34, 35, 36, 37, 38, 39, 40, 41, 42, 43, 44, 45, 46, 47, 48, 49, 50, 51, 52, 53, 54, 55, 56, 57, 58, 59, 60, 61, 62, 63, 64, 65, 66, 67, 68, 69, 70, 71, 72, 73, 74, 75, 76, 77, 78, 79, 80, 81, 82, 83, 84, 85, 86, 87, 88, 89, 90, 91, 92, 93, 94, 95, 96, 97, 98, 99, 100]\n"
     ]
    }
   ],
   "source": [
    "# Criando listas com valores de 1 até 100\n",
    "lista = [i for i in range(1, 101)]\n",
    "    \n",
    "print(lista)"
   ]
  },
  {
   "cell_type": "code",
   "execution_count": 29,
   "id": "213b207b",
   "metadata": {},
   "outputs": [
    {
     "name": "stdout",
     "output_type": "stream",
     "text": [
      "[2, 4, 6, 8, 10, 12, 14, 16, 18, 20, 22, 24, 26, 28, 30, 32, 34, 36, 38, 40, 42, 44, 46, 48, 50, 52, 54, 56, 58, 60, 62, 64, 66, 68, 70, 72, 74, 76, 78, 80, 82, 84, 86, 88, 90, 92, 94, 96, 98, 100, 102, 104, 106, 108, 110, 112, 114, 116, 118, 120, 122, 124, 126, 128, 130, 132, 134, 136, 138, 140, 142, 144, 146, 148, 150, 152, 154, 156, 158, 160, 162, 164, 166, 168, 170, 172, 174, 176, 178, 180, 182, 184, 186, 188, 190, 192, 194, 196, 198, 200]\n"
     ]
    }
   ],
   "source": [
    "# Criando listas com valores multiplicados por 2\n",
    "lista = [i*2 for i in range(1, 101)]\n",
    "print(lista)"
   ]
  },
  {
   "cell_type": "code",
   "execution_count": 31,
   "id": "065fc58c",
   "metadata": {},
   "outputs": [
    {
     "name": "stdout",
     "output_type": "stream",
     "text": [
      "[1, 3, 5, 7, 9, 11, 13, 15, 17, 19, 21, 23, 25, 27, 29, 31, 33, 35, 37, 39, 41, 43, 45, 47, 49, 51, 53, 55, 57, 59, 61, 63, 65, 67, 69, 71, 73, 75, 77, 79, 81, 83, 85, 87, 89, 91, 93, 95, 97, 99]\n"
     ]
    }
   ],
   "source": [
    "# Criando lista de números ímpares\n",
    "lista = [i for i in range(1, 101) if i % 2 == 1]\n",
    "print(lista)"
   ]
  },
  {
   "cell_type": "markdown",
   "id": "8cafdd2e",
   "metadata": {},
   "source": [
    "## Representação em memória das listas\n",
    "\n",
    "Normalmente, quando atribuímos o valor de uma variável em outra com os tipos mais simples de Python (inteiros, floats ou strings) ocorre uma cópia do valor armazenado de uma das variáveis para a outra.\n",
    "\n",
    "```Python\n",
    "x = 10\n",
    "y = 10\n",
    "\n",
    "\"\"\"\n",
    "Representação da memória do computador:\n",
    "\n",
    " =====================         =====================\n",
    " |    |    |    |    |         |    |    |    |    |\n",
    " =====================    =>   =====================\n",
    " |    | 10 |    |    |         |    | 10 |    | 10 |\n",
    " =====================         =====================\n",
    "        ^(x)                          ^(x)       ^(y)\n",
    "\"\"\"\n",
    "\n",
    "\n",
    "\n",
    "# Equivalente:\n",
    "x = 10\n",
    "y = x\n",
    "\n",
    "\"\"\"\n",
    "Representação da memória do computador:\n",
    "\n",
    " =====================         =====================\n",
    " |    |    |    |    |         |    |    |    |    |\n",
    " =====================    =>   =====================\n",
    " |    | 10 |    |    |         |    | 10 |    | 10 |\n",
    " =====================         =====================\n",
    "        ^(x)                          ^(x)       ^(y)\n",
    "\"\"\"\n",
    "```\n",
    "\n",
    "Porém, com as listas **não funciona da mesma forma!**. Não são feitas cópias dos valores, em vez disso é dado apenas outro **identificador** ao mesmo espaço em memória.\n",
    "\n",
    "```Python\n",
    "x = [1, 2, 3]\n",
    "y = [1, 2, 3]\n",
    "\n",
    "\"\"\"\n",
    "Representação da memória do computador:\n",
    "\n",
    " ===============================      ===============================\n",
    " |         |         |         |      |         |         |         |\n",
    " ===============================  =>  ===============================\n",
    " | [1,2,3] |         |         |      | [1,2,3] |         | [1,2,3] |\n",
    " ===============================      ===============================\n",
    "      ^(x)                                ^(x)                 ^(y)\n",
    "\"\"\"\n",
    "\n",
    "# Não é equivalente:\n",
    "x = [1, 2, 3]\n",
    "y = x\n",
    "\n",
    "\"\"\"\n",
    "Representação da memória do computador:\n",
    "\n",
    " ===============================      ===============================\n",
    " |         |         |         |      |         |         |         |\n",
    " ===============================  =>  ===============================\n",
    " | [1,2,3] |         |         |      | [1,2,3] |         |         |\n",
    " ===============================      ===============================\n",
    "      ^(x)                                ^(x e y)\n",
    "\"\"\"\n",
    "```\n",
    "\n",
    "### O que isso implica?\n",
    "\n",
    "- Se temos dois identificadores e alteramos um elemento utilizando um identificador, isso é refletido no outro (ou outros) identificador.\n",
    "\n",
    "```Python\n",
    "x = [1, 2, 3, 4]\n",
    "y = x\n",
    "y[2] = 100\n",
    "\n",
    "print(x) # -> [1, 2, 100, 4]\n",
    "```\n",
    "\n",
    "- Se utilizamos uma lista como argumento de uma função, o parâmetro é apenas um novo identificador para a posição de memória. Ou seja, **modificações da lista feitas dentro da função se persistem fora dela!**\n",
    "\n",
    "```Python\n",
    "def altera_elemento(lista, pos, valor):\n",
    "    lista[pos] = valor\n",
    "    \n",
    "\n",
    "x = [1, 2, 3, 4]\n",
    "altera_elemento(x, 2, 100)\n",
    "\n",
    "print(x) # -> [1, 2, 100, 4]\n",
    "```\n",
    "\n",
    "Dessa forma, podemos utilizar funções sem retorno que modificam uma lista.\n",
    "\n",
    "- Em listas muito grandes, copiar elemento por elemento pode ser muito custoso computacionalmente. Por isso, utilizar apenas um identificador é uma solução muito mais eficiente. Porém, ela é mais sujeita a erros e precisamos **estar atentos!**"
   ]
  },
  {
   "cell_type": "code",
   "execution_count": 32,
   "id": "a3264ee3",
   "metadata": {},
   "outputs": [
    {
     "name": "stdout",
     "output_type": "stream",
     "text": [
      "x:  [1, 2, 3, 4]\n",
      "y:  [1, 2, 100, 4]\n"
     ]
    }
   ],
   "source": [
    "# modificação sem persistir\n",
    "x = [1, 2, 3, 4]\n",
    "y = [1, 2, 3, 4]\n",
    "\n",
    "y[2] = 100\n",
    "print(\"x: \", x)\n",
    "print(\"y: \", y)"
   ]
  },
  {
   "cell_type": "code",
   "execution_count": 33,
   "id": "a5c61487",
   "metadata": {},
   "outputs": [
    {
     "name": "stdout",
     "output_type": "stream",
     "text": [
      "x:  [1, 2, 100, 4]\n",
      "y:  [1, 2, 100, 4]\n"
     ]
    }
   ],
   "source": [
    "# modificação persistindo\n",
    "x = [1, 2, 3, 4]\n",
    "y = x\n",
    "\n",
    "y[2] = 100\n",
    "print(\"x: \", x)\n",
    "print(\"y: \", y)"
   ]
  },
  {
   "cell_type": "code",
   "execution_count": 35,
   "id": "9e3757ad",
   "metadata": {},
   "outputs": [
    {
     "name": "stdout",
     "output_type": "stream",
     "text": [
      "[1, 2, 3, 4]\n",
      "[1, 2, 100, 4]\n"
     ]
    }
   ],
   "source": [
    "# modificação em função sem retorno persistindo - altera_elemento(lista, pos, valor)\n",
    "def altera_elemento(lista, pos, valor):\n",
    "    lista[pos] = valor\n",
    "    \n",
    "x = [1, 2, 3, 4]\n",
    "print(x)\n",
    "altera_elemento(x, 2, 100)\n",
    "print(x)"
   ]
  },
  {
   "cell_type": "markdown",
   "id": "5f811358",
   "metadata": {},
   "source": [
    "## Exercício 1\n",
    "\n",
    "Faça um código que recebe uma string que será um sentimento. Em seguida você deve substituir a substring que indica o sentimento em `\"Eu amo Python\"` pela string digitada pelo usuário e imprimir a nova frase. O programa deve continuar substituindo a substring que indica o sentimento até que o usuário digite \"parar\"."
   ]
  },
  {
   "cell_type": "code",
   "execution_count": 38,
   "id": "d62ab225",
   "metadata": {},
   "outputs": [
    {
     "name": "stdout",
     "output_type": "stream",
     "text": [
      "odeio\n",
      "Eu odeio Python\n",
      "adoro\n",
      "Eu adoro Python\n",
      "parar\n"
     ]
    }
   ],
   "source": [
    "frase = \"Eu amo Python\"\n",
    "\n",
    "while True:\n",
    "    sentimento = input()\n",
    "    if sentimento == \"parar\":\n",
    "        break\n",
    "    \n",
    "    palavras = frase.split() # [\"Eu\", \"amo\", \"Python\"]\n",
    "    palavras[1] = sentimento # [\"Eu\", ????, \"Python\"]\n",
    "    frase = \" \".join(palavras) # \"Eu ???? Python\"\n",
    "    print(frase)"
   ]
  },
  {
   "cell_type": "markdown",
   "id": "a6a71618",
   "metadata": {},
   "source": [
    "## Exercício 2\n",
    "\n",
    "Gere uma lista com os $10$ primeiros quadrados perfeitos."
   ]
  },
  {
   "cell_type": "code",
   "execution_count": 36,
   "id": "6e7834d1",
   "metadata": {},
   "outputs": [
    {
     "name": "stdout",
     "output_type": "stream",
     "text": [
      "[1, 4, 9, 16, 25, 36, 49, 64, 81, 100]\n"
     ]
    }
   ],
   "source": [
    "lista = [i*i for i in range(1, 11)]\n",
    "print(lista)"
   ]
  },
  {
   "cell_type": "code",
   "execution_count": null,
   "id": "3d5d5af3",
   "metadata": {},
   "outputs": [],
   "source": []
  }
 ],
 "metadata": {
  "kernelspec": {
   "display_name": "Python 3",
   "language": "python",
   "name": "python3"
  },
  "language_info": {
   "codemirror_mode": {
    "name": "ipython",
    "version": 3
   },
   "file_extension": ".py",
   "mimetype": "text/x-python",
   "name": "python",
   "nbconvert_exporter": "python",
   "pygments_lexer": "ipython3",
   "version": "3.9.7"
  }
 },
 "nbformat": 4,
 "nbformat_minor": 5
}
