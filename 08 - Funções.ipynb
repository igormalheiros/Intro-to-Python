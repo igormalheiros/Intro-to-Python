{
 "cells": [
  {
   "cell_type": "markdown",
   "id": "05edff4c",
   "metadata": {},
   "source": [
    "# Introdução à Programação para Ciência de Dados\n",
    "\n",
    "### Aula 8: Funções\n",
    "\n",
    "**Professor:** Igor Malheiros"
   ]
  },
  {
   "cell_type": "markdown",
   "id": "9d7b7875",
   "metadata": {},
   "source": [
    "## Funções\n",
    "\n",
    "Em geral, os programadores não gostam de repetir trechos de códigos que já foram utilizados. Para evitar essas repetições, podemos salvar esse conjunto de comandos em uma **função** e sempre que quisermos utilizá-la só precisaremos chamá-las por um **identificador** que atribuímos a ela, evitando reescrever esses comandos. Essa **função** pode ser reutilizada em diversos contextos do nosso código.\n",
    "\n",
    "*Funções* são blocos de códigos geralmente projetados para realizar alguma tarefa específica. Geralmente, as funções recebem algum dado de entrada, realiza um processamento sobre ele e retorna um novo resultado. Uma vez que temos uma determinada *função* implementada, não precisamos repetir o mesmo código se precisarmos resolver a mesma tarefa novamente. Uma vez implementadas, as *funções* podem ser chamadas e reutilizadas ao longo do nosso programa.\n",
    "\n",
    "</br>\n",
    "</br>\n",
    "\n",
    "<img src=\"assets/function.png\">\n",
    "\n",
    "</br>\n",
    "</br>\n",
    "\n",
    "### Benefícios das funções\n",
    "- Tornar o código mais organizado e legível\n",
    "- Tornar o código mais fácil para debugar\n",
    "- Evita repetições ao longo do nosso código\n",
    "\n",
    "\n",
    "</br>\n",
    "</br>\n",
    "</br>\n",
    "\n",
    "Por exemplo, digamos que recebemos um conjunto de dados com diversos tipos de durações de viagem (moto, carro, ônibus, trem e avião). Esses tempos vêm numa formatação de três valores (*dias, horas e minutos*), mas gostaríamos de converter tudo para *segundos*.\n",
    "\n",
    "</br>\n",
    "</br>\n",
    "</br>\n",
    "\n",
    "Caso não utilizemos funções para esse problema, acabaremos repetindo diversas vezes a **expressão** que converte da formatação recebida para segundos em cada um dos tipos de viagem:\n",
    "\n",
    "```Python\n",
    "aviao_dias = 0\n",
    "aviao_horas = 3\n",
    "aviao_minutos = 45\n",
    "\n",
    "# primeira expressão\n",
    "aviao_segundos = (aviao_dias * 24 * 60 * 60) + (aviao_horas * 60 * 60) + (aviao_minutos * 60)\n",
    "\n",
    "trem_dias = 0\n",
    "trem_horas = 6\n",
    "trem_minutos = 20\n",
    "\n",
    "# segunda expressão\n",
    "trem_segundos = (trem_dias * 24 * 60 * 60) + (trem_horas * 60 * 60) + (trem_minutos * 60)\n",
    "\n",
    "onibus_dias = 0\n",
    "onibus_horas = 6\n",
    "onibus_minutos = 20\n",
    "\n",
    "# terceira expressão\n",
    "onibus_segundos = (onibus_dias * 24 * 60 * 60) + (onibus_horas * 60 * 60) + (onibus_minutos * 60)\n",
    "\n",
    "# ...\n",
    "```\n",
    "\n",
    "</br>\n",
    "\n",
    "Para evitar reescrever esse tipo de expressão, poderemos criar uma **função** que faz essa conversão e utilizá-la apenas quando precisarmos.\n",
    "\n",
    "## Funções nativas\n",
    "\n",
    "Durante as aulas anteriores, nós já utilizamos diversas funções, com diferentes propósitos. Por exemplo, `print()`, `input()`, `len()`, `int()`, `float()`. Essas funções já foram criadas pelos desenvolvedores da linguagem Python e já estão prontas para que possamos utilizá-las.\n",
    "\n",
    "Veja que as funções possuem uma sintaxe de chamada em comum. Ela possui um nome **identificador** seguido pelos `()`.\n",
    "\n",
    "Além disso, algumas funções podem receber **argumentos** que são valores que passamos entre os parênteses, e, dependendo desses valores o resultado da função será diferente. Algumas funções podem ter mais de um argumento (`replace()`) ou até mesmo nenhum argumento (`lower()`).\n",
    "\n",
    "Por último, algumas funções podem **retornar** algum valor quando terminam (`len()`, `int()`, `input()`) ou não (`print()`). Quando elas retornam algum valor, geralmente atribuímos esse valor em alguma variável ou utilizamos em alguma expressão ou chamada de outra função.\n",
    "\n",
    "```Python\n",
    "tamanho = len(\"casa\") \n",
    "# O argumento de len() é \"casa\" e seu retorno é o valor 4\n",
    "\n",
    "print(len(\"casa\"))\n",
    "# O argumento de len() é \"casa\" e seu retorno é o valor 4\n",
    "# 4 é argumento de print(), mas print não retorna nada\n",
    "```\n",
    "\n",
    "## Funções externas\n",
    "\n",
    "Algumas funções já foram desenvolvidas por outros programadores e podem ser disponibilizadas. Os desenvolvedores agrupam diversas funções de uma certa área de estudo em uma **biblioteca**. Por exemplo, temos biblioteca para funções matemáticas `math`, bibliotecas para trabalhar eficientemente com matrizes e álgebra linear `numpy` e biblioteca para trabalhar com dados `pandas`. Cada uma dessas bibliotecas fornecem diversas funções para serem utilizadas. Em breve estudaremos algumas delas.\n",
    "\n",
    "Para utilizarmos uma biblioteca, precisamos instalar no nosso ambiente de programação (todas bibliotecas que precisaremos durante a disciplina já vieram instaladas com o anaconda). Além disso, precisamos também dizer que utilizaremos elas através do comando `import`. Em seguida, qualquer função dessa biblioteca pode ser chamada pelo nome da biblioteca `.` e o nome da função.\n",
    "\n",
    "```Python\n",
    "import math\n",
    "\n",
    "raiz = math.sqrt(4) # calcula a raiz quadrada do número 4\n",
    "print(raiz)\n",
    "```\n",
    "\n",
    "Para conhecermos as funções de uma biblioteca, o mais indicado é ler a **documentação** da biblioteca. Geralmente disponibilizada nos sites oficiais dos desenvolvedores dessas bibliotecas.\n",
    "\n",
    "## Definindo funções\n",
    "\n",
    "Até agora, aprendemos como utilizar funções nativas ou externas. Porém, as linguagens de programação permitem que nós possamos **criar** nossas próprias funções. Dessa forma, podemos definir blocos de códigos que sabemos que vamos utilizar em partes diferentes, tornando nosso código mais legível, mais fácil de debugar e escrevendo menos linhas.\n",
    "\n",
    "Ao criar uma função, nós não a executamos. A definição de uma função, apenas diz que **podemos executar** aquele bloco de comandos. Para executar, devemos **chamar** a função.\n",
    "\n",
    "A definição da função deve vir **sempre** antes da sua chamada. Caso contrário, o programa não entenderá a referência ao nome da função.\n",
    "\n",
    "### Sintaxe geral \n",
    "\n",
    "```Python\n",
    "# Definindo uma função:\n",
    "def nome_da_funcao(parametros):\n",
    "    comandos\n",
    "    return resultado_da_funcao\n",
    "\n",
    "# Chamando a função\n",
    "resultado = nome_dafunção(argumento)\n",
    "```\n",
    " \n",
    "### Argumentos X Parâmetros\n",
    "\n",
    "Parâmetros: Quando definimos uma função\n",
    "\n",
    "Argumentos: Quando chamamos uma função\n",
    "\n",
    "Algumas funções podem **não ter parâmetros**, nesse caso, não são utilizados argumentos na sua chamada.\n",
    "\n",
    "### Retorno\n",
    "\n",
    "O retorno sinaliza o fim de uma função, nada abaixo do `return` será executado. Por isso, podemos ter interrupções abruptas da função caso alguma condição seja satisfeita (spoiler do exercício 2). \n",
    "\n",
    "Algumas funções podem não ter retorno. Por enquanto, esse caso será utilizado para quando quisermos imprimir algo. As funções sem retorno podem ter parâmetros ou não.\n",
    "\n",
    "\n",
    "```Python\n",
    "# Parâmetro r\n",
    "def area_circunferencia(r):\n",
    "    return 3.14 * r ** 2\n",
    "\n",
    "# Argumento 20\n",
    "area_pizza = area_circunferencia(20)\n",
    "print(\"O tamanho da pizza é:\", area_pizza)\n",
    "```"
   ]
  },
  {
   "cell_type": "code",
   "execution_count": 3,
   "id": "20ef4a97",
   "metadata": {},
   "outputs": [
    {
     "name": "stdout",
     "output_type": "stream",
     "text": [
      "16\n",
      "8\n",
      "20\n"
     ]
    }
   ],
   "source": [
    "# criando uma função que dobra o valor de entrada\n",
    "\n",
    "# Definação:\n",
    "def dobra(x):\n",
    "    return 2 * x\n",
    "\n",
    "# Chamadas:\n",
    "print(dobra(8))\n",
    "\n",
    "print(dobra(4))\n",
    "\n",
    "print(dobra(10))"
   ]
  },
  {
   "cell_type": "code",
   "execution_count": 4,
   "id": "cd957422",
   "metadata": {},
   "outputs": [
    {
     "name": "stdout",
     "output_type": "stream",
     "text": [
      "314.0\n"
     ]
    }
   ],
   "source": [
    "# criando uma função que calcula a área de uma \n",
    "# circunferência de raio `r`\n",
    "def area_circunferencia(r):\n",
    "    return 3.14 * r ** 2\n",
    "\n",
    "print(area_circunferencia(10))"
   ]
  },
  {
   "cell_type": "code",
   "execution_count": 5,
   "id": "aa4cd35a",
   "metadata": {},
   "outputs": [
    {
     "name": "stdout",
     "output_type": "stream",
     "text": [
      "6280.0\n"
     ]
    }
   ],
   "source": [
    "# criando uma função que calcula o volume de um cilindro de \n",
    "# raio `r` e altura `h`\n",
    "# area da circunferencia * a altura\n",
    "def volume_cilindro(r, h):\n",
    "    return area_circunferencia(r) * h\n",
    "\n",
    "print(volume_cilindro(10, 20))"
   ]
  },
  {
   "cell_type": "code",
   "execution_count": 7,
   "id": "2a43441a",
   "metadata": {},
   "outputs": [
    {
     "name": "stdout",
     "output_type": "stream",
     "text": [
      "50.0 %\n"
     ]
    }
   ],
   "source": [
    "# criando uma função que imprime o progresso\n",
    "# sem retorno\n",
    "def print_progresso(atual, total):\n",
    "    progresso = atual / total * 100\n",
    "    print(progresso, '%')\n",
    "    \n",
    "print_progresso(5, 10)"
   ]
  },
  {
   "cell_type": "code",
   "execution_count": 8,
   "id": "fb3597e4",
   "metadata": {},
   "outputs": [
    {
     "name": "stdout",
     "output_type": "stream",
     "text": [
      "Bom dia, posso ajudar?\n"
     ]
    }
   ],
   "source": [
    "# criando uma função que imprime sempre a mesma mensagem \n",
    "# (sem parâmetros e sem retorno)\n",
    "def print_bom_dia():\n",
    "    print(\"Bom dia, posso ajudar?\")\n",
    "\n",
    "print_bom_dia()"
   ]
  },
  {
   "cell_type": "markdown",
   "id": "b58417e9",
   "metadata": {},
   "source": [
    "## Exercício 1\n",
    "\n",
    "Crie uma função que calcula a área de um quadrado dado seu lado.\n",
    "\n",
    "Em seguida, cria uma função que calcula o volume de uma pirâmide de base quadrada dado seu lado da base e sua altura.\n",
    "\n",
    "$volume = \\dfrac{(lado * lado * altura)}{3}$"
   ]
  },
  {
   "cell_type": "code",
   "execution_count": 11,
   "id": "a49e40ed",
   "metadata": {},
   "outputs": [
    {
     "name": "stdout",
     "output_type": "stream",
     "text": [
      "4\n",
      "16.0\n"
     ]
    }
   ],
   "source": [
    "def area_quadrado(lado):\n",
    "    return lado * lado\n",
    "\n",
    "def volume(lado, altura):\n",
    "    return area_quadrado(lado) * altura / 3.0\n",
    "\n",
    "print(area_quadrado(2))\n",
    "print(volume(2, 12))"
   ]
  },
  {
   "cell_type": "markdown",
   "id": "f767105c",
   "metadata": {},
   "source": [
    "## Exercício 2\n",
    "\n",
    "Crie uma função que retorna `True` se o número for primo, caso contrário retorna `False`."
   ]
  },
  {
   "cell_type": "code",
   "execution_count": 12,
   "id": "994c6b66",
   "metadata": {},
   "outputs": [
    {
     "name": "stdout",
     "output_type": "stream",
     "text": [
      "True\n",
      "False\n",
      "True\n",
      "False\n",
      "True\n"
     ]
    }
   ],
   "source": [
    "# Primo se é divisível somente por 1 e ele mesmo\n",
    "# Não é Primo caso contrário\n",
    "\n",
    "def eh_primo(n):\n",
    "#     2 até n - 1\n",
    "    for i in range(2, n):\n",
    "        if n % i == 0:\n",
    "            return False\n",
    "        \n",
    "    return True\n",
    "\n",
    "print(eh_primo(3))\n",
    "print(eh_primo(4))\n",
    "print(eh_primo(7))\n",
    "print(eh_primo(9))\n",
    "print(eh_primo(11))"
   ]
  },
  {
   "cell_type": "markdown",
   "id": "a03e2937",
   "metadata": {},
   "source": [
    "## Exercício 3\n",
    "\n",
    "Crie uma função que transforma valores no formato *dias*, *horas* e *minutos* e transforma em *segundos*. Resolvendo o exemplo demonstrado no começo dessa aula."
   ]
  },
  {
   "cell_type": "code",
   "execution_count": 13,
   "id": "2191c40d",
   "metadata": {},
   "outputs": [
    {
     "name": "stdout",
     "output_type": "stream",
     "text": [
      "13500\n",
      "13500\n"
     ]
    }
   ],
   "source": [
    "def duracao_para_segundos(dias, horas, minutos):\n",
    "    return (dias * 24 * 60 * 60) + (horas * 60 * 60) + (minutos * 60)\n",
    "\n",
    "aviao_dias = 0\n",
    "aviao_horas = 3\n",
    "aviao_minutos = 45\n",
    "\n",
    "aviao_segundos_1 = (aviao_dias * 24 * 60 * 60) + (aviao_horas * 60 * 60) + (aviao_minutos * 60)\n",
    "aviao_segundos_2 = duracao_para_segundos(aviao_dias, aviao_horas, aviao_minutos)\n",
    "\n",
    "print(aviao_segundos_1)\n",
    "print(aviao_segundos_2)"
   ]
  },
  {
   "cell_type": "code",
   "execution_count": null,
   "id": "a58256de",
   "metadata": {},
   "outputs": [],
   "source": []
  },
  {
   "cell_type": "code",
   "execution_count": null,
   "id": "82ebcb88",
   "metadata": {},
   "outputs": [],
   "source": []
  }
 ],
 "metadata": {
  "kernelspec": {
   "display_name": "Python 3",
   "language": "python",
   "name": "python3"
  },
  "language_info": {
   "codemirror_mode": {
    "name": "ipython",
    "version": 3
   },
   "file_extension": ".py",
   "mimetype": "text/x-python",
   "name": "python",
   "nbconvert_exporter": "python",
   "pygments_lexer": "ipython3",
   "version": "3.9.7"
  }
 },
 "nbformat": 4,
 "nbformat_minor": 5
}
