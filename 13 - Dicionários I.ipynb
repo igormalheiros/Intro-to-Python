{
 "cells": [
  {
   "cell_type": "markdown",
   "id": "93900672",
   "metadata": {},
   "source": [
    "# Introdução à Programação para Ciência de Dados\n",
    "\n",
    "### Aula 13: Dicionários I\n",
    "\n",
    "**Professor:** Igor Malheiros"
   ]
  },
  {
   "cell_type": "markdown",
   "id": "e904d5f9",
   "metadata": {},
   "source": [
    "## Dicionários\n",
    "\n",
    "A última estrura de dados do tipo coleção que vamos estudar serão os dicionários. A linguagem Python também fornece implementações eficientes dessa estrutura de dados, simplificando a utilização dos programadores.\n",
    "\n",
    "Os dicionários são parecidos com os *sets*. Entretanto, existem diferenças entre as duas coleções e, por isso, devemos saber identificar quando utilizar cada uma delas.\n",
    "\n",
    "Em Python, os dicionários são muito populares, pois possuem implementações eficientes, facilidade de uso e são flexíveis para utilizar em diversas situações.\n",
    "\n",
    "Os dicionários funcionam com associações entre uma **chave** e um **valor**. Essa chave podem ser construídas com valores inteiros, *floats* ou *strings* e se associam à algum outro tipo de dado. Dessa forma, para acessarmos um determinado valor, em vez de localizarmos por um índice como nas listas, ou ter que iterar como nos *sets*, fazemos o acesso via sua **chave**.\n",
    "\n",
    "</br>\n",
    "</br>\n",
    "\n",
    "|\"Maria\"|\"José\" |\"João\" | \"Ana\" |\"Pedro\"|\"Luana\"|\n",
    "|:-----:|:-----:|:-----:|:-----:|:-----:|:-----:|\n",
    "|  7.5  |  6.7  |  8.2  |  8.8  |  9.5  |  7.0  |\n",
    "\n",
    "</br>\n",
    "</br>\n",
    "\n",
    "### Criando dicionários\n",
    "\n",
    "Para criarmos um dicionário utilizamos o operador de `{}` e passamos os elementos que queremos dentro dele seperados por `,`. Cada elemento é formado por um **par**, uma **chave** e um **valor** (nessa ordem!), que precisam ser separados por `:`.\n",
    "\n",
    "As chaves e valores **não precisam ser do mesmo tipo**.\n",
    "\n",
    "</br>\n",
    "\n",
    "```Python\n",
    "dic_vazio = {}\n",
    "\n",
    "dic_multiplos_dez = {1: 10, 2: 20, 3: 30, 4: 40}\n",
    "\n",
    "dic_str = {\"Eu amo\": \"Python\", \"Eu adoro\": \"C++\", \"Eu odeio\": \"Assembly\"}\n",
    "\n",
    "dic_mix = {1: \"Eu\", \"amo\": \"Python\", \"Odeio\": 3.14}\n",
    "\n",
    "dic_list_key = {[1,2]: 10, [3, 4]: 30} # Erro!\n",
    "dic_list_val = {1: [10, 100], 3: [30, 300]}\n",
    "```"
   ]
  },
  {
   "cell_type": "code",
   "execution_count": 16,
   "id": "493b0c29",
   "metadata": {},
   "outputs": [
    {
     "data": {
      "text/plain": [
       "{}"
      ]
     },
     "execution_count": 16,
     "metadata": {},
     "output_type": "execute_result"
    }
   ],
   "source": [
    "# dicionário vazio - {}\n",
    "d = {}\n",
    "d"
   ]
  },
  {
   "cell_type": "code",
   "execution_count": 17,
   "id": "61b61bb4",
   "metadata": {},
   "outputs": [
    {
     "data": {
      "text/plain": [
       "{1: 5, 2: 10, 3: 15}"
      ]
     },
     "execution_count": 17,
     "metadata": {},
     "output_type": "execute_result"
    }
   ],
   "source": [
    "# dicionário com key -> int, val -> int\n",
    "dict_ints = {1 : 5, 2 : 10, 3 : 15}\n",
    "dict_ints"
   ]
  },
  {
   "cell_type": "code",
   "execution_count": 20,
   "id": "333bfa70",
   "metadata": {},
   "outputs": [
    {
     "data": {
      "text/plain": [
       "{'Igor': 'Malheiros', 'Natan': 'Lucas', 'Jorge': 'Araujo'}"
      ]
     },
     "execution_count": 20,
     "metadata": {},
     "output_type": "execute_result"
    }
   ],
   "source": [
    "# dicionários com key -> string, val -> string\n",
    "dict_strings = {\"Igor\" : \"Malheiros\", \"Natan\" : \"Lucas\", \"Jorge\" : \"Araujo\"}\n",
    "dict_strings"
   ]
  },
  {
   "cell_type": "code",
   "execution_count": 21,
   "id": "32a8b370",
   "metadata": {},
   "outputs": [
    {
     "data": {
      "text/plain": [
       "{'abcd': 123, 10: 'efgh', 'pi': 3.14}"
      ]
     },
     "execution_count": 21,
     "metadata": {},
     "output_type": "execute_result"
    }
   ],
   "source": [
    "# dicionários com key -> mix, val -> mix\n",
    "dict_mix = {\"abcd\": 123, 10 : \"efgh\", \"pi\": 3.14}\n",
    "dict_mix"
   ]
  },
  {
   "cell_type": "code",
   "execution_count": 24,
   "id": "9743c8c0",
   "metadata": {},
   "outputs": [
    {
     "ename": "TypeError",
     "evalue": "unhashable type: 'set'",
     "output_type": "error",
     "traceback": [
      "\u001b[0;31m---------------------------------------------------------------------------\u001b[0m",
      "\u001b[0;31mTypeError\u001b[0m                                 Traceback (most recent call last)",
      "\u001b[0;32m/tmp/ipykernel_30918/2820277424.py\u001b[0m in \u001b[0;36m<module>\u001b[0;34m\u001b[0m\n\u001b[1;32m      1\u001b[0m \u001b[0;31m# dicionários com key -> list, val -> int\u001b[0m\u001b[0;34m\u001b[0m\u001b[0;34m\u001b[0m\u001b[0m\n\u001b[0;32m----> 2\u001b[0;31m \u001b[0mdict_list\u001b[0m \u001b[0;34m=\u001b[0m \u001b[0;34m{\u001b[0m\u001b[0mset\u001b[0m\u001b[0;34m(\u001b[0m\u001b[0;34m[\u001b[0m\u001b[0;36m1\u001b[0m\u001b[0;34m,\u001b[0m \u001b[0;36m2\u001b[0m\u001b[0;34m,\u001b[0m \u001b[0;36m3\u001b[0m\u001b[0;34m]\u001b[0m\u001b[0;34m)\u001b[0m\u001b[0;34m:\u001b[0m \u001b[0;36m4\u001b[0m\u001b[0;34m,\u001b[0m \u001b[0;36m5\u001b[0m \u001b[0;34m:\u001b[0m \u001b[0;36m2\u001b[0m\u001b[0;34m}\u001b[0m\u001b[0;34m\u001b[0m\u001b[0;34m\u001b[0m\u001b[0m\n\u001b[0m\u001b[1;32m      3\u001b[0m \u001b[0mdict_list\u001b[0m\u001b[0;34m\u001b[0m\u001b[0;34m\u001b[0m\u001b[0m\n",
      "\u001b[0;31mTypeError\u001b[0m: unhashable type: 'set'"
     ]
    }
   ],
   "source": [
    "# dicionários com key -> list, val -> int\n",
    "dict_list = {[1, 2, 3]: 4, 5 : 2}\n",
    "dict_list"
   ]
  },
  {
   "cell_type": "code",
   "execution_count": 25,
   "id": "55900a73",
   "metadata": {},
   "outputs": [
    {
     "data": {
      "text/plain": [
       "{1: [10, 20, 30], 2: [40, 50, 60]}"
      ]
     },
     "execution_count": 25,
     "metadata": {},
     "output_type": "execute_result"
    }
   ],
   "source": [
    "# dicionários com key -> int, val -> list\n",
    "dict_list = {1 : [10, 20, 30], 2 : [40, 50, 60]}\n",
    "dict_list"
   ]
  },
  {
   "cell_type": "markdown",
   "id": "3d3ad927",
   "metadata": {},
   "source": [
    "### Acessando elementos em um dicionário\n",
    "\n",
    "Para acessarmos um elemento do dicionário, utilizaremos o operador de `[]` com a chave do elemento que queremos acessar.\n",
    "\n",
    "</br>\n",
    "\n",
    "```Python\n",
    "dic_multiplos_dez = {1: 10, 2: 20, 3: 30, 4: 40}\n",
    "print(dic_multiplos_dez[1]) # -> 10\n",
    "print(dic_multiplos_dez[4]) # -> 40\n",
    "\n",
    "dic_mix = {1: \"Eu\", \"amo\": \"Python\", \"Odeio\": 3.14}\n",
    "print(dic_mix[1]) # -> \"Eu\"\n",
    "print(dic_mix[\"Odeio\"]) # -> 3.14\n",
    "```\n",
    "\n",
    "</br>\n",
    "\n",
    "É importante destacar que um dicionário **não possui** chaves duplicadas. Isso acontece para tirar ambiguidade no acesso dos elementos.\n",
    "\n",
    "### Modificando elementos em um dicionário\n",
    "\n",
    "Nos dicionários é possível modificar o **valor** de um elemento. Para isso, é necessário apenas fazer uma atribuição, similar ao que estamos acostumados com as listas.\n",
    "\n",
    "</br>\n",
    "\n",
    "```Python\n",
    "dic_multiplos_dez = {1: 10, 2: 20, 3: 30, 4: 40}\n",
    "dic_multiplos_dez[1] = 100 # -> {1: 100, 2: 20, 3: 30, 4: 40}\n",
    "dic_multiplos_dez[4] = 0.4 # -> {1: 100, 2: 20, 3: 30, 4: 0.4}\n",
    "```\n",
    "\n",
    "</br>\n",
    "\n",
    "**Não é possível modificar uma chave no dicionário!**\n",
    "\n",
    "### Adicionando um elemento em um dicionário\n",
    "\n",
    "Para adicionarmos um novo elemento, basta utilizarmos uma nova atribuição em uma chave não existente no dicionário.\n",
    "\n",
    "</br>\n",
    "\n",
    "```Python\n",
    "dic_multiplos_dez = {1: 10, 2: 20, 3: 30, 4: 40}\n",
    "dic_multiplos_dez[7] = 70 # -> {1: 10, 2: 20, 3: 30, 4: 40, 7: 70}\n",
    "dic_multiplos_dez[9] = 90 # -> {1: 10, 2: 20, 3: 30, 4: 40, 7: 70, 9: 90}\n",
    "```\n",
    "\n",
    "</br>\n",
    "\n",
    "É preciso ter atenção, pois utilizamos a mesma sintaxe para modificar um novo valor e para adicionar um novo valor!\n",
    "\n",
    "### Removendo um elemento em um dicionário\n",
    "\n",
    "Para remover um elemento do dicionário, isto é, uma chave e seu respectivo valor, utilizaremos o operador `del` seguido do acesso via chave do elemento que queremos modificar.\n",
    "\n",
    "</br>\n",
    "\n",
    "```Python\n",
    "dic_multiplos_dez = {1: 10, 2: 20, 3: 30, 4: 40}\n",
    "del dic_multiplos_dez[1] # -> {2: 20, 3: 30, 4: 40}\n",
    "del dic_multiplos_dez[4] # -> {2: 20, 3: 30}\n",
    "```\n",
    "\n",
    "</br>\n",
    "\n",
    "### Iterando em um dicionário\n",
    "\n",
    "Para iteramos em um dicionário, utilizaremos a sintaxe do `for`, similar à que já utilizamos para acessar outras coleções. Entretanto, é importante destacar que os valores assumidos pelo iterador são as **chaves** do dicionário. Outra importante observação é que as chaves não são armazenadas de maneira sequencial, por isso, nem sempre o iterador vai assumir os valores na mesma sequência em que as chaves foram adicionadas.\n",
    "\n",
    "```Python\n",
    "dic_multiplos_dez = {1: 10, 2: 20, 3: 30, 4: 40}\n",
    "\n",
    "for key in dic_multiplos_dez:\n",
    "    print(key, \"é uma chave\")\n",
    "```"
   ]
  },
  {
   "cell_type": "code",
   "execution_count": 27,
   "id": "9231f6e3",
   "metadata": {},
   "outputs": [
    {
     "name": "stdout",
     "output_type": "stream",
     "text": [
      "20\n",
      "40\n"
     ]
    }
   ],
   "source": [
    "# acessando elementos\n",
    "dic_multiplos_dez = {1: 10, 2: 20, 3: 30, 4: 40}\n",
    "\n",
    "print(dic_multiplos_dez[2])\n",
    "print(dic_multiplos_dez[4])"
   ]
  },
  {
   "cell_type": "code",
   "execution_count": 29,
   "id": "f8eaffc2",
   "metadata": {},
   "outputs": [
    {
     "name": "stdout",
     "output_type": "stream",
     "text": [
      "Eu\n",
      "Python\n"
     ]
    }
   ],
   "source": [
    "# acessando elementos\n",
    "dic_mix = {1: \"Eu\", \"amo\": \"Python\", \"Odeio\": 3.14}\n",
    "\n",
    "print(dic_mix[1])\n",
    "print(dic_mix[\"amo\"])"
   ]
  },
  {
   "cell_type": "code",
   "execution_count": 31,
   "id": "6c8be3d4",
   "metadata": {},
   "outputs": [
    {
     "name": "stdout",
     "output_type": "stream",
     "text": [
      "{1: 10, 2: 20, 3: 30, 4: 400}\n"
     ]
    }
   ],
   "source": [
    "# modificando elementos\n",
    "dic_multiplos_dez = {1: 10, 2: 20, 3: 30, 4: 40}\n",
    "\n",
    "dic_multiplos_dez[4] = 400\n",
    "\n",
    "print(dic_multiplos_dez)"
   ]
  },
  {
   "cell_type": "code",
   "execution_count": 32,
   "id": "1d4e7289",
   "metadata": {},
   "outputs": [
    {
     "name": "stdout",
     "output_type": "stream",
     "text": [
      "{1: 10, 2: 20, 3: 30, 4: 40, 6: 60}\n"
     ]
    }
   ],
   "source": [
    "# adicionando elementos\n",
    "dic_multiplos_dez = {1: 10, 2: 20, 3: 30, 4: 40}\n",
    "\n",
    "dic_multiplos_dez[6] = 60\n",
    "print(dic_multiplos_dez)"
   ]
  },
  {
   "cell_type": "code",
   "execution_count": 33,
   "id": "a3ff0069",
   "metadata": {},
   "outputs": [
    {
     "name": "stdout",
     "output_type": "stream",
     "text": [
      "{1: 10, 2: 20, 4: 40}\n"
     ]
    }
   ],
   "source": [
    "# removendo elementos\n",
    "dic_multiplos_dez = {1: 10, 2: 20, 3: 30, 4: 40}\n",
    "\n",
    "del dic_multiplos_dez[3]\n",
    "\n",
    "print(dic_multiplos_dez)"
   ]
  },
  {
   "cell_type": "code",
   "execution_count": 34,
   "id": "92966225",
   "metadata": {},
   "outputs": [
    {
     "name": "stdout",
     "output_type": "stream",
     "text": [
      "1 é uma chave\n",
      "2 é uma chave\n",
      "3 é uma chave\n",
      "4 é uma chave\n"
     ]
    }
   ],
   "source": [
    "# iterando em um dicionário\n",
    "dic_multiplos_dez = {1: 10, 2: 20, 3: 30, 4: 40}\n",
    "\n",
    "for key in dic_multiplos_dez:\n",
    "    print(key, \"é uma chave\")"
   ]
  },
  {
   "cell_type": "markdown",
   "id": "2b579b43",
   "metadata": {},
   "source": [
    "### Recuperando chaves em um dicionário\n",
    "\n",
    "Podemos utilizar a função `keys()` para criarmos uma lista com todas as chaves de um dicionário.\n",
    "\n",
    "```Python\n",
    "dic_multiplos_dez = {1: 10, 2: 20, 3: 30, 4: 40}\n",
    "keys = dic_multiplos_dez.keys()\n",
    "\n",
    "for key in keys:\n",
    "    print(key, \"é uma chave\")\n",
    "```\n",
    "\n",
    "### Recuperando valores em um dicionário\n",
    "\n",
    "Podemos utilizar a função `values()` para criarmos uma lista com todos os valores de um dicionário.\n",
    "\n",
    "```Python\n",
    "dic_multiplos_dez = {1: 10, 2: 20, 3: 30, 4: 40}\n",
    "values = dic_multiplos_dez.values()\n",
    "\n",
    "for value in values:\n",
    "    print(value, \"é um valor\")\n",
    "```"
   ]
  },
  {
   "cell_type": "code",
   "execution_count": 35,
   "id": "ea989633",
   "metadata": {},
   "outputs": [
    {
     "name": "stdout",
     "output_type": "stream",
     "text": [
      "dict_keys([1, 2, 3, 4])\n"
     ]
    }
   ],
   "source": [
    "# Chaves de um dicionário - keys()\n",
    "dic_multiplos_dez = {1: 10, 2: 20, 3: 30, 4: 40}\n",
    "keys = dic_multiplos_dez.keys()\n",
    "print(keys)"
   ]
  },
  {
   "cell_type": "code",
   "execution_count": 36,
   "id": "a7dd0c9e",
   "metadata": {},
   "outputs": [
    {
     "name": "stdout",
     "output_type": "stream",
     "text": [
      "dict_values([10, 20, 30, 40])\n"
     ]
    }
   ],
   "source": [
    "# Valores de um dicionário - values()\n",
    "dic_multiplos_dez = {1: 10, 2: 20, 3: 30, 4: 40}\n",
    "values = dic_multiplos_dez.values()\n",
    "print(values)"
   ]
  },
  {
   "cell_type": "markdown",
   "id": "be6c595a",
   "metadata": {},
   "source": [
    "## Exercício 1\n",
    "\n",
    "Construa um código que recebe cinco nomes de alunos e suas respectivas notas finais. Exiba na tela o nome do aluno e sua nota final em ordem lexográfica dos nomes.\n",
    "\n",
    "Utilize dicionários para resolver o problema"
   ]
  },
  {
   "cell_type": "code",
   "execution_count": 41,
   "id": "14fca41d",
   "metadata": {},
   "outputs": [
    {
     "name": "stdout",
     "output_type": "stream",
     "text": [
      "pedro\n",
      "7\n",
      "ana\n",
      "10\n",
      "joao\n",
      "5\n",
      "maria\n",
      "8\n",
      "jose\n",
      "9.5\n",
      "O aluno: ana tirou a nota 10.0\n",
      "O aluno: joao tirou a nota 5.0\n",
      "O aluno: jose tirou a nota 9.5\n",
      "O aluno: maria tirou a nota 8.0\n",
      "O aluno: pedro tirou a nota 7.0\n"
     ]
    }
   ],
   "source": [
    "d = {}\n",
    "l = []\n",
    "\n",
    "for i in range(5):\n",
    "    name = input()\n",
    "    score = float(input())\n",
    "    \n",
    "    d[name] = score\n",
    "    l.append(name)\n",
    "\n",
    "l.sort()\n",
    "\n",
    "for name in l:\n",
    "    print(\"O aluno:\", name, \"tirou a nota\", d[name])"
   ]
  },
  {
   "cell_type": "code",
   "execution_count": null,
   "id": "0f3ac581",
   "metadata": {},
   "outputs": [],
   "source": []
  }
 ],
 "metadata": {
  "kernelspec": {
   "display_name": "Python 3",
   "language": "python",
   "name": "python3"
  },
  "language_info": {
   "codemirror_mode": {
    "name": "ipython",
    "version": 3
   },
   "file_extension": ".py",
   "mimetype": "text/x-python",
   "name": "python",
   "nbconvert_exporter": "python",
   "pygments_lexer": "ipython3",
   "version": "3.9.7"
  }
 },
 "nbformat": 4,
 "nbformat_minor": 5
}
