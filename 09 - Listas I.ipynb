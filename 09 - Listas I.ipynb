{
 "cells": [
  {
   "cell_type": "markdown",
   "id": "0522cbec",
   "metadata": {},
   "source": [
    "# Introdução à Programação para Ciência de Dados\n",
    "\n",
    "### Aula 9: Listas I\n",
    "\n",
    "**Professor:** Igor Malheiros"
   ]
  },
  {
   "cell_type": "markdown",
   "id": "8d64f001",
   "metadata": {},
   "source": [
    "## Estruturas de Dados\n",
    "\n",
    "Até agora, o foco das nossas aulas foi no desenvolvimento de algoritmos para resolução de problemas. Eram definidos comandos, condições, repetições e funções para resolver algum problema apresentado. Entretanto, existe um outro lado muito importante na programação que é o estudo das **Estruturas de Dados**. Esse tópico foca em como organizar de forma apropriada os nossos dados para resolvermos um problema.\n",
    "\n",
    "Existem diversas formas de organizarmos nossos dados, utilizando as estruturas corretas nós podemos resolver um problema de maneira mais fácil e mais eficiente. Por isso, é fundamental conhecermos bem muitas estruturas de dados para identificarmos suas vantagens e desvantagens quando aplicadas em um determinado problema.\n",
    "\n",
    "## Coleções\n",
    "\n",
    "Até agora, com exceção das strings, as variáveis que utilizamos só podem possuir um valor de cada vez. Ou seja, quando utilizamos múltiplas atribuições em uma variável, o valor antigo é **sobrescrito** pelo valor novo.\n",
    "\n",
    "<br>\n",
    "<br>\n",
    "\n",
    "\n",
    "```Python\n",
    "x = 10 # primeiro valor escrito\n",
    "x = 75 # o valor antigo é sobrescrito pelo valor novo\n",
    "\n",
    "\"\"\"\n",
    "Representação da memória do computador:\n",
    "\n",
    " =====================         =====================\n",
    " |    |    |    |    |         |    |    |    |    |\n",
    " =====================    =>   =====================\n",
    " |    | 10 |    |    |         |    | 75 |    |    |\n",
    " =====================         =====================\n",
    "        ^(x)                          ^(x)       \n",
    "\"\"\"\n",
    "```\n",
    "\n",
    "<br>\n",
    "\n",
    "As **coleções** são estruturas de dados que permitem que **múltiplos valores sejam armazenados ao mesmo tempo** em uma variável.\n",
    "\n",
    "## Listas\n",
    "\n",
    "A primeira coleção que iremos estudar é a estrutura de dados chamada de **listas** que são nativas em Python. Uma lista é capaz de armazenar de maneira sequencial os dados. Similar às strings que armazenam caracteres de maneira sequencial, as listas podem armazenar qualquer tipo de dado de maneira sequencial. Os valores armazenados são chamados de **elementos** ou **itens** de uma lista.\n",
    "\n",
    "Para criarmos as listas, precisaremos utilizar o operador `[]` e inserir o conteúdo desejado dentro dele, separando os elementos por `,`.\n",
    "\n",
    "```Python\n",
    "l_1 = [1, 2, 3, 4, 5]\n",
    "l_2 = ['c', 'a', 's', 'a']\n",
    "l_3 = [\"Eu\", \"amo\", \"Python\"]\n",
    "```"
   ]
  },
  {
   "cell_type": "code",
   "execution_count": 10,
   "id": "0bf21991",
   "metadata": {},
   "outputs": [
    {
     "name": "stdout",
     "output_type": "stream",
     "text": [
      "[1, 2, 3, 4, 5]\n"
     ]
    }
   ],
   "source": [
    "# lista com inteiros\n",
    "l_1 = [1, 2, 3, 4, 5]\n",
    "print(l_1)"
   ]
  },
  {
   "cell_type": "code",
   "execution_count": 11,
   "id": "dd772ebb",
   "metadata": {},
   "outputs": [
    {
     "name": "stdout",
     "output_type": "stream",
     "text": [
      "['a', 'b', 'c', 'd']\n"
     ]
    }
   ],
   "source": [
    "# lista com caracteres\n",
    "l_2 = ['a', 'b', 'c', 'd']\n",
    "print(l_2)"
   ]
  },
  {
   "cell_type": "code",
   "execution_count": 12,
   "id": "11728de3",
   "metadata": {},
   "outputs": [
    {
     "name": "stdout",
     "output_type": "stream",
     "text": [
      "['Eu', 'amo', 'Python']\n"
     ]
    }
   ],
   "source": [
    "# listas com strings\n",
    "l_3 = [\"Eu\", \"amo\", \"Python\"]\n",
    "print(l_3)"
   ]
  },
  {
   "cell_type": "code",
   "execution_count": 13,
   "id": "3c1175ff",
   "metadata": {},
   "outputs": [
    {
     "name": "stdout",
     "output_type": "stream",
     "text": [
      "[1, 2, 2.5, 'Eu', '+']\n"
     ]
    }
   ],
   "source": [
    "# lista com tipos diferentes\n",
    "l_4 = [1, 2, 2.5, \"Eu\", '+']\n",
    "print(l_4)"
   ]
  },
  {
   "cell_type": "code",
   "execution_count": 14,
   "id": "41fbd8ef",
   "metadata": {},
   "outputs": [
    {
     "name": "stdout",
     "output_type": "stream",
     "text": [
      "[]\n"
     ]
    }
   ],
   "source": [
    "# lista vazia\n",
    "l_5 = []\n",
    "print(l_5)"
   ]
  },
  {
   "cell_type": "code",
   "execution_count": 15,
   "id": "119e7b30",
   "metadata": {},
   "outputs": [
    {
     "name": "stdout",
     "output_type": "stream",
     "text": [
      "[[1, 2, 3], [4, 5, 6], [7, 8, 9]]\n"
     ]
    }
   ],
   "source": [
    "# lista com outra lista dentro (aninhada) - 2D\n",
    "l_6 = [\n",
    "    [1, 2, 3],\n",
    "    [4, 5, 6],\n",
    "    [7, 8, 9]\n",
    "]\n",
    "\n",
    "print(l_6)"
   ]
  },
  {
   "cell_type": "markdown",
   "id": "78d16039",
   "metadata": {},
   "source": [
    "### Acessando elementos\n",
    "\n",
    "Podemos acessar um elemento de uma lista criada utilizando o operador `[]` com a posição desejada do elemento dentro dos colchetes. A contagem do primeiro elemento começa com a posição `0` e vai até o tamanho na lista `-1`, assim como nas strings.\n",
    "\n",
    "</br>\n",
    "</br>\n",
    "\n",
    "| 2 | 4 | 6 | 8 |  10 |  12 |\n",
    "|:-:|:-:|:-:|:-:|:---:|:---:|\n",
    "| 0 | 1 | 2 | 3 |  4  |  5  |\n",
    "\n",
    "</br>\n",
    "</br>\n",
    "\n",
    "As regras para acesso aos elementos das listas é a mesma que aprendemos em strings.\n",
    "\n",
    "</br>\n",
    "</br>\n",
    "\n",
    "```Python\n",
    "l = [2, 4, 6, 8, 10, 12]\n",
    "\n",
    "# acesso direto\n",
    "print(l[0]) # -> 2\n",
    "print(l[4]) # -> 10\n",
    "\n",
    "# acesso com variáveis ou expressões\n",
    "x = 3\n",
    "print(l[x]) # -> 8\n",
    "print(l[2*2]) # -> 10\n",
    "\n",
    "# acesso com índice negativo (invertido)\n",
    "print(l[-1]) # -> 12\n",
    "print(l[-3]) # -> 8\n",
    "\n",
    "# acessos fora dos limites causam erro \"index out of range\"\n",
    "print(l[6]) # -> Erro!\n",
    "print(l[2*4]) # -> Erro!\n",
    "print(l[-7]) # -> Erro!\n",
    "\n",
    "# acessando lista aninhada\n",
    "l_2D = [\n",
    "    [1, 2, 3],\n",
    "    [4, 5, 6],\n",
    "    [7, 8, 9]\n",
    "]\n",
    "\n",
    "l_2D[0][0] # -> 1\n",
    "l_2D[2][1] # -> 8\n",
    "l_2D[2][2] # -> 9\n",
    "\n",
    "l_2D[0] # -> [1, 2, 3]\n",
    "l_2D[2] # -> [7, 8, 9]\n",
    "```\n",
    "\n",
    "Além de acessar cada elemento, as listas são **mutáveis**! Por isso, é permitido que **possamos modificar** os elementos da lista! Diferente das strings.\n",
    "\n",
    "```Python\n",
    "# 1D\n",
    "l = [2, 4, 6, 8, 10, 12]\n",
    "l[0] = 100 # -> [100, 4, 6, 8, 10, 12]\n",
    "\n",
    "# 2D\n",
    "l_2D = [\n",
    "    [1, 2, 3],\n",
    "    [4, 5, 6],\n",
    "    [7, 8, 9]\n",
    "]\n",
    "\n",
    "l_2D[1][2] = 0 # -> [[1, 2, 3], [4, 5, 0], [7, 8, 9]]\n",
    "\n",
    "l_2D[1] = [0, 0, 0] # -> [[1, 2, 3], [0, 0, 0], [7, 8, 9]]\n",
    "```"
   ]
  },
  {
   "cell_type": "code",
   "execution_count": 16,
   "id": "ec450a2f",
   "metadata": {},
   "outputs": [],
   "source": [
    "l = [2, 4, 6, 8, 10, 12]\n",
    "\n",
    "l_2D = [\n",
    "    [1, 2, 3],\n",
    "    [4, 5, 6],\n",
    "    [7, 8, 9]\n",
    "]"
   ]
  },
  {
   "cell_type": "code",
   "execution_count": 18,
   "id": "0f1b5c37",
   "metadata": {},
   "outputs": [
    {
     "data": {
      "text/plain": [
       "4"
      ]
     },
     "execution_count": 18,
     "metadata": {},
     "output_type": "execute_result"
    }
   ],
   "source": [
    "# acesso direto\n",
    "l[1]"
   ]
  },
  {
   "cell_type": "code",
   "execution_count": 19,
   "id": "89a12ccf",
   "metadata": {},
   "outputs": [
    {
     "data": {
      "text/plain": [
       "4"
      ]
     },
     "execution_count": 19,
     "metadata": {},
     "output_type": "execute_result"
    }
   ],
   "source": [
    "# acesso direto 2D\n",
    "l_2D[1][0]"
   ]
  },
  {
   "cell_type": "code",
   "execution_count": 20,
   "id": "e2adede1",
   "metadata": {},
   "outputs": [
    {
     "data": {
      "text/plain": [
       "12"
      ]
     },
     "execution_count": 20,
     "metadata": {},
     "output_type": "execute_result"
    }
   ],
   "source": [
    "# acesso com expressões\n",
    "l[2+3]"
   ]
  },
  {
   "cell_type": "code",
   "execution_count": 22,
   "id": "084221a6",
   "metadata": {},
   "outputs": [
    {
     "data": {
      "text/plain": [
       "8"
      ]
     },
     "execution_count": 22,
     "metadata": {},
     "output_type": "execute_result"
    }
   ],
   "source": [
    "# acesso com índice negativo\n",
    "l[-3]"
   ]
  },
  {
   "cell_type": "code",
   "execution_count": 23,
   "id": "01fd3c48",
   "metadata": {},
   "outputs": [
    {
     "ename": "IndexError",
     "evalue": "list index out of range",
     "output_type": "error",
     "traceback": [
      "\u001b[0;31m---------------------------------------------------------------------------\u001b[0m",
      "\u001b[0;31mIndexError\u001b[0m                                Traceback (most recent call last)",
      "\u001b[0;32m/tmp/ipykernel_22962/1665218608.py\u001b[0m in \u001b[0;36m<module>\u001b[0;34m\u001b[0m\n\u001b[1;32m      1\u001b[0m \u001b[0;31m# erro de acesso\u001b[0m\u001b[0;34m\u001b[0m\u001b[0;34m\u001b[0m\u001b[0m\n\u001b[0;32m----> 2\u001b[0;31m \u001b[0ml\u001b[0m\u001b[0;34m[\u001b[0m\u001b[0;36m10\u001b[0m\u001b[0;34m]\u001b[0m\u001b[0;34m\u001b[0m\u001b[0;34m\u001b[0m\u001b[0m\n\u001b[0m",
      "\u001b[0;31mIndexError\u001b[0m: list index out of range"
     ]
    }
   ],
   "source": [
    "# erro de acesso\n",
    "l[10]"
   ]
  },
  {
   "cell_type": "code",
   "execution_count": 25,
   "id": "e1bf92ea",
   "metadata": {},
   "outputs": [
    {
     "data": {
      "text/plain": [
       "[2, 4, 6, 8, 10, 100]"
      ]
     },
     "execution_count": 25,
     "metadata": {},
     "output_type": "execute_result"
    }
   ],
   "source": [
    "# modificando o elemento\n",
    "l[-1] = 100\n",
    "l"
   ]
  },
  {
   "cell_type": "code",
   "execution_count": 26,
   "id": "44aaa701",
   "metadata": {},
   "outputs": [
    {
     "data": {
      "text/plain": [
       "[[1, 2, 3], [10, 5, 6], [7, 8, 9]]"
      ]
     },
     "execution_count": 26,
     "metadata": {},
     "output_type": "execute_result"
    }
   ],
   "source": [
    "# modificando o elemento 2D\n",
    "l_2D[1][0] = 10\n",
    "l_2D"
   ]
  },
  {
   "cell_type": "markdown",
   "id": "ef066bda",
   "metadata": {},
   "source": [
    "### Iterando em listas\n",
    "\n",
    "A forma mais comum de iterar sobre os elementos de uma lista é utilizando o laço `for`. A sintaxe também é similar à que utilizamos em strings quando iteramos caractere por caractere.\n",
    "\n",
    "</br>\n",
    "</br>\n",
    "\n",
    "```Python\n",
    "amigos = [\"Joao\", \"José\", \"Maria\", \"Ana\"]\n",
    "\n",
    "for amigo in amigos:\n",
    "    print(amigo, \" é meu (minha) amigo(a)!\")\n",
    "```\n",
    "\n",
    "</br>\n",
    "</br>\n",
    "\n",
    "O que acontece se a lista for vazia?\n",
    "\n",
    "</br>\n",
    "</br>\n",
    "\n",
    "```Python\n",
    "amigos = [] # =(\n",
    "\n",
    "for amigo in amigos:\n",
    "    print(amigo, \" é meu (minha) amigo(a)!\")\n",
    "```\n",
    "\n",
    "</br>\n",
    "</br>\n",
    "\n",
    "O que acontece se tivermos listas aninhadas?\n",
    "\n",
    "</br>\n",
    "</br>\n",
    "\n",
    "```Python\n",
    "amigos = [\"Joao\", \"José\", [\"Carlos\", \"Daniel\"] ,\"Maria\", \"Ana\"]\n",
    "\n",
    "for amigo in amigos:\n",
    "    print(amigo, \" é meu (minha) amigo(a)!\")\n",
    "```\n",
    "\n",
    "</br>\n",
    "</br>"
   ]
  },
  {
   "cell_type": "code",
   "execution_count": 29,
   "id": "6a833180",
   "metadata": {},
   "outputs": [
    {
     "name": "stdout",
     "output_type": "stream",
     "text": [
      "Joao  é meu (minha) amigo(a)!\n",
      "José  é meu (minha) amigo(a)!\n",
      "Maria  é meu (minha) amigo(a)!\n",
      "Ana  é meu (minha) amigo(a)!\n"
     ]
    }
   ],
   "source": [
    "# Iterando em lista comum [\"Joao\", \"José\", \"Maria\", \"Ana\"]\n",
    "amigos = [\"Joao\", \"José\", \"Maria\", \"Ana\"]\n",
    "\n",
    "for amigo in amigos:\n",
    "    print(amigo, \" é meu (minha) amigo(a)!\")"
   ]
  },
  {
   "cell_type": "code",
   "execution_count": 30,
   "id": "558fd33e",
   "metadata": {},
   "outputs": [],
   "source": [
    "# Iterando em vazia[]\n",
    "amigos = []\n",
    "\n",
    "for amigo in amigos:\n",
    "    print(amigo, \" é meu (minha) amigo(a)!\")"
   ]
  },
  {
   "cell_type": "code",
   "execution_count": 31,
   "id": "b49d0b8a",
   "metadata": {},
   "outputs": [
    {
     "name": "stdout",
     "output_type": "stream",
     "text": [
      "Joao  é meu (minha) amigo(a)!\n",
      "José  é meu (minha) amigo(a)!\n",
      "['Carlos', 'Daniel']  é meu (minha) amigo(a)!\n",
      "Maria  é meu (minha) amigo(a)!\n",
      "Ana  é meu (minha) amigo(a)!\n"
     ]
    }
   ],
   "source": [
    "# Iterando em lista aninhada  [\"Joao\", \"José\", [\"Carlos\", \"Daniel\"] ,\"Maria\", \"Ana\"]\n",
    "\n",
    "amigos = [\"Joao\", \"José\", [\"Carlos\", \"Daniel\"] ,\"Maria\", \"Ana\"]\n",
    "\n",
    "for amigo in amigos:\n",
    "    print(amigo, \" é meu (minha) amigo(a)!\")"
   ]
  },
  {
   "cell_type": "markdown",
   "id": "5b659839",
   "metadata": {},
   "source": [
    "### Operadores e Funções em listas\n",
    "\n",
    "- `+`: concatena duas listas.\n",
    "```Python\n",
    "[1,2,3] + [4, 5, 6] # -> [1, 2, 3, 4, 5, 6]\n",
    "[1,2,3] + [6] # -> [1, 2, 3, 6]\n",
    "[1,2,3] + [] # -> [1, 2, 3]\n",
    "```\n",
    "\n",
    "- `*`: repete os elementos de uma lista $n$ vezes.\n",
    "```Python\n",
    "[0] * 4 # -> [0, 0, 0, 0]\n",
    "[1, 2, 3] * 3 # -> [1, 2, 3, 1, 2, 3, 1, 2, 3]\n",
    "```\n",
    "\n",
    "- `[:]`: operador de fatiamento (slicing) em listas (similar ao que vimos nas strings)\n",
    "```Python\n",
    "l = ['a', 'b', 'c', 'd', 'e', 'f']\n",
    "l[1:3] # -> ['b', 'c']\n",
    "l[:4]  # -> ['a', 'b', 'c', 'd']\n",
    "l[3:]  # -> ['d', 'e', 'f']\n",
    "```\n",
    "\n",
    "- `in`: retorna `True` se o elemento existir na lista, ou `False` caso contrário.\n",
    "```Python\n",
    "l = [1, 5, 10]\n",
    "4 in l # -> False\n",
    "5 in l # -> True\n",
    "```\n",
    "\n",
    "- `len()`: retorna a quantidade de elementos na lista.\n",
    "\n",
    "```Python\n",
    "len([1,2,3,4]) # -> 4\n",
    "len([]) # -> 0\n",
    "```\n",
    "\n",
    "- `append()`: insere um elemento no final da lista.\n",
    "```Python\n",
    "l = []\n",
    "l.append(4) # -> [4]\n",
    "l.append(10) # -> [4, 10]\n",
    "l.append('x') # -> [4, 10, x]\n",
    "```\n",
    "\n",
    "- `insert()`: insere um elemento em uma determinada posição.\n",
    "```Python\n",
    "l = [1, 2, 3]\n",
    "l.insert(0, 'x') # -> ['x', 1, 2, 3]\n",
    "l.insert(2, 100) # -> [0, 1, 100, 2, 3]\n",
    "```\n",
    "\n",
    "- `pop()`: remove um elemento em uma determinada posição.\n",
    "```Python\n",
    "l = [1, 2, 3]\n",
    "l.pop(0) # -> [2, 3]\n",
    "l.pop(1) # -> [2]\n",
    "```\n",
    "\n",
    "- `remove()`: remove um elemento pelo valor (um de cada vez).\n",
    "```Python\n",
    "l = [1, 2, 3, 2]\n",
    "l.remove(3) # -> [1, 2, 2]\n",
    "l.remove(2) # -> [1, 2]\n",
    "```\n",
    "\n",
    "- `count()`: retorna a quantidade de elementos iguais ao argumento que existem na lista.\n",
    "```Python\n",
    "l = [1, 2, 3, 2]\n",
    "l.count(3) # -> 1\n",
    "l.count(2) # -> 2\n",
    "```\n",
    "\n",
    "- `reverse()`: inverte a ordem da lista.\n",
    "```Python\n",
    "l = [1, 2, 3, 2]\n",
    "l.reverse() # -> [2, 3, 2, 1]\n",
    "```\n",
    "\n",
    "- `sort()`: ordena a lista. Essa função é utilizada em listas com elementos do mesmo tipo, caso os valores sejam numéricos, a lista fica em ordem crescente, caso a lista seja de caracteres ou strings, a lista fica em ordem alfabética, porém letras maiúsculas A-Z vem antes das minúsculas a-z.\n",
    "\n",
    "```Python\n",
    "l_n = [1, 2, 3, 2]\n",
    "l_n.sort() # -> [1, 2, 2, 3]\n",
    "\n",
    "l_s = [\"casa\", \"home\", \"Python\", \"Dados\"]\n",
    "l_s.sort() # -> ['Dados', 'Python', 'casa', 'home']\n",
    "```\n",
    "\n",
    "- `sum()`: soma os valores da lista, **usado em listas com valores numéricos**.\n",
    "```Python\n",
    "l_1 = [1, 2, 4]\n",
    "l_2 = [1, 'x', 4]\n",
    "sum(l_1) # -> 7\n",
    "sum(l_2) # -> Erro!\n",
    "```\n",
    "\n",
    "- `max()`: retorna o maior valor da lista, **usado em listas com elementos de mesmo tipo**.\n",
    "```Python\n",
    "l_1 = [1, 2, 4]\n",
    "l_2 = [1, 'x', 4]\n",
    "max(l_1) # -> 4\n",
    "max(l_2) # -> Erro!\n",
    "```\n",
    "\n",
    "- `min()`: retorna o menor valor da lista,**usado em listas com elementos de mesmo tipo**.\n",
    "```Python\n",
    "l_1 = [1, 2, 4]\n",
    "l_2 = [1, 'x', 4]\n",
    "min(l_1) # -> 1\n",
    "min(l_2) # -> Erro!\n",
    "```"
   ]
  },
  {
   "cell_type": "markdown",
   "id": "0b5597de",
   "metadata": {},
   "source": [
    "## Exercício 1\n",
    "\n",
    "Dada uma lista de números, troque os valores dessa lista que estejam em índices pares para o valor `0`.\n",
    "\n",
    "*input:*\n",
    "\n",
    "```Python\n",
    "lista = [1, 10, 5, 9, -1, 44, 18]\n",
    "```\n",
    "\n",
    "*output:*\n",
    "\n",
    "```Python\n",
    "lista = [0, 10, 0, 9, 0, 44, 0]\n",
    "```"
   ]
  },
  {
   "cell_type": "code",
   "execution_count": 36,
   "id": "d0e885f1",
   "metadata": {},
   "outputs": [
    {
     "data": {
      "text/plain": [
       "[0, 10, 0, 9, 0, 44, 0]"
      ]
     },
     "execution_count": 36,
     "metadata": {},
     "output_type": "execute_result"
    }
   ],
   "source": [
    "lista = [1, 10, 5, 9, -1, 44, 18]\n",
    "\n",
    "tamanho = len(lista)\n",
    "\n",
    "for i in range(0, tamanho):\n",
    "    if i % 2 == 0:\n",
    "        lista[i] = 0\n",
    "        \n",
    "lista"
   ]
  },
  {
   "cell_type": "markdown",
   "id": "543a118d",
   "metadata": {},
   "source": [
    "## Exercício 2\n",
    "\n",
    "Dada uma lista 2D de números, tal que a quantidade de linhas seja igual a quantidade de colunas, troque os valores da diagonal principal para o valor `0`.\n",
    "\n",
    "*input:*\n",
    "```Python\n",
    "lista = [[5, 2, 7, 8, 5],\n",
    "         [6, 1, 3, 9, 4], \n",
    "         [5, 4, 1, 4, 2],\n",
    "         [3, 5, 9, 4, 9],\n",
    "         [8, 2, 1, 6, 5]]\n",
    "```\n",
    "\n",
    "\n",
    "\n",
    "*output:*\n",
    "```Python\n",
    "lista = [[0, 2, 7, 8, 5],\n",
    "         [6, 0, 3, 9, 4], \n",
    "         [5, 4, 0, 4, 2],\n",
    "         [3, 5, 9, 0, 9],\n",
    "         [8, 2, 1, 6, 0]]\n",
    "```"
   ]
  },
  {
   "cell_type": "code",
   "execution_count": 37,
   "id": "496e1bb3",
   "metadata": {},
   "outputs": [
    {
     "data": {
      "text/plain": [
       "[[0, 2, 7, 8, 5],\n",
       " [6, 0, 3, 9, 4],\n",
       " [5, 4, 0, 4, 2],\n",
       " [3, 5, 9, 0, 9],\n",
       " [8, 2, 1, 6, 0]]"
      ]
     },
     "execution_count": 37,
     "metadata": {},
     "output_type": "execute_result"
    }
   ],
   "source": [
    "lista = [[5, 2, 7, 8, 5],\n",
    "         [6, 1, 3, 9, 4], \n",
    "         [5, 4, 1, 4, 2],\n",
    "         [3, 5, 9, 4, 9],\n",
    "         [8, 2, 1, 6, 5]]\n",
    "\n",
    "tamanho = len(lista)\n",
    "\n",
    "for i in range(0, tamanho):\n",
    "    for j in range(0, tamanho):\n",
    "        if i == j:\n",
    "            lista[i][j] = 0\n",
    "            \n",
    "lista"
   ]
  },
  {
   "cell_type": "markdown",
   "id": "0eb71b0b",
   "metadata": {},
   "source": [
    "## Exercício 3\n",
    "\n",
    "Dada uma lista de números, calcule a média dos valores dessa lista.\n",
    "\n",
    "*input:*\n",
    "```Python\n",
    "lista = [5, 2, 10, 8, 5]\n",
    "```\n",
    "\n",
    "\n",
    "\n",
    "*output:*\n",
    "```Python\n",
    "6.0\n",
    "```"
   ]
  },
  {
   "cell_type": "code",
   "execution_count": 38,
   "id": "a4c7fabd",
   "metadata": {},
   "outputs": [
    {
     "name": "stdout",
     "output_type": "stream",
     "text": [
      "6.0\n"
     ]
    }
   ],
   "source": [
    "lista = [5, 2, 10, 8, 5]\n",
    "\n",
    "print(sum(lista)/len(lista))"
   ]
  },
  {
   "cell_type": "code",
   "execution_count": null,
   "id": "6faddce7",
   "metadata": {},
   "outputs": [],
   "source": []
  }
 ],
 "metadata": {
  "kernelspec": {
   "display_name": "Python 3",
   "language": "python",
   "name": "python3"
  },
  "language_info": {
   "codemirror_mode": {
    "name": "ipython",
    "version": 3
   },
   "file_extension": ".py",
   "mimetype": "text/x-python",
   "name": "python",
   "nbconvert_exporter": "python",
   "pygments_lexer": "ipython3",
   "version": "3.9.7"
  }
 },
 "nbformat": 4,
 "nbformat_minor": 5
}
