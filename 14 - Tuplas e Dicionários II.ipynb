{
 "cells": [
  {
   "cell_type": "markdown",
   "id": "d6be83c3",
   "metadata": {},
   "source": [
    "# Introdução à Programação para Ciência de Dados\n",
    "\n",
    "### Aula 14: Tuplas e Dicionários II\n",
    "\n",
    "**Professor:** Igor Malheiros"
   ]
  },
  {
   "cell_type": "markdown",
   "id": "84a8595a",
   "metadata": {},
   "source": [
    "## Tuplas\n",
    "\n",
    "As tuplas são estruturas de dados do tipo coleção que armazenam múltiplos valores de forma **sequencial**. Em geral, as tuplas funcionam de forma **similar às listas**, com a limitação em que os dados de uma tupla **não podem ser modificados**.\n",
    "\n",
    "### Criando Tuplas\n",
    "\n",
    "Para criarmos uma tupla utilizamos o operador de `()` e passamos os elementos que queremos dentro dele separados por `,`. Os dados podem ser de diferentes tipos.\n",
    "\n",
    "```Python\n",
    "tuple_0 = () # equivalente a tuple()\n",
    "tuple_1 = (1, 5, 7, 9, 3)\n",
    "tuple_2 = (\"laranja\", \"banana\", \"abacaxi\")\n",
    "tuple_3 = (True, False, False)\n",
    "tuple_4 = (\"abc\", 34, True)\n",
    "```\n",
    "\n",
    "</br>\n",
    "\n",
    "### Acessando elementos nas Tuplas\n",
    "\n",
    "Os acessos aos elementos de uma tupla é feito de forma posicional, assim como estamos acostumados a fazer nas listas.\n",
    "\n",
    "```Python\n",
    "tuple_1 = (1, 5, 7, 9, 3)\n",
    "tuple_1[0] # -> 1\n",
    "tuple_1[3] # -> 9\n",
    "tuple_1[-1] # -> 3\n",
    "```\n",
    "\n",
    "</br>\n",
    "\n",
    "**Não é possível alterar um elemento da tupla.**\n",
    "\n",
    "```Python\n",
    "tuple_1 = (1, 5, 7, 9, 3)\n",
    "tuple_1[0] = 10 # -> Erro!\n",
    "```\n",
    "\n",
    "</br>\n",
    "\n",
    "### Desmembrando Tuplas\n",
    "\n",
    "É possível desmembrar uma tupla em múltiplas variáveis.\n",
    "\n",
    "```Python\n",
    "tupla = (\"Banana\", 2.5)\n",
    "fruta, preco = tupla # fruta = \"Banana\" e preco = 2.5\n",
    "```"
   ]
  },
  {
   "cell_type": "code",
   "execution_count": 10,
   "id": "dcb8e672",
   "metadata": {},
   "outputs": [
    {
     "data": {
      "text/plain": [
       "()"
      ]
     },
     "execution_count": 10,
     "metadata": {},
     "output_type": "execute_result"
    }
   ],
   "source": [
    "# inicializando tupla vazia - ()\n",
    "tupla_0 = ()\n",
    "tupla_0"
   ]
  },
  {
   "cell_type": "code",
   "execution_count": 11,
   "id": "2d892386",
   "metadata": {},
   "outputs": [
    {
     "data": {
      "text/plain": [
       "()"
      ]
     },
     "execution_count": 11,
     "metadata": {},
     "output_type": "execute_result"
    }
   ],
   "source": [
    "# inicializando tupla vazia - tuple()\n",
    "tupla_0 = tuple()\n",
    "tupla_0"
   ]
  },
  {
   "cell_type": "code",
   "execution_count": 12,
   "id": "098eea88",
   "metadata": {},
   "outputs": [
    {
     "data": {
      "text/plain": [
       "(1, 2, 3, 4)"
      ]
     },
     "execution_count": 12,
     "metadata": {},
     "output_type": "execute_result"
    }
   ],
   "source": [
    "# Tupla com inteiros\n",
    "tupla_1 = (1, 2, 3, 4)\n",
    "tupla_1"
   ]
  },
  {
   "cell_type": "code",
   "execution_count": 14,
   "id": "635d0dd4",
   "metadata": {},
   "outputs": [
    {
     "data": {
      "text/plain": [
       "('Eu', 'Amo', 'Python')"
      ]
     },
     "execution_count": 14,
     "metadata": {},
     "output_type": "execute_result"
    }
   ],
   "source": [
    "# Tupla com strings\n",
    "tupla_2 = (\"Eu\", \"Amo\", \"Python\")\n",
    "tupla_2"
   ]
  },
  {
   "cell_type": "code",
   "execution_count": 15,
   "id": "3b7d9f0a",
   "metadata": {},
   "outputs": [
    {
     "data": {
      "text/plain": [
       "(True, 1.2, 'Eu')"
      ]
     },
     "execution_count": 15,
     "metadata": {},
     "output_type": "execute_result"
    }
   ],
   "source": [
    "# Tupla heterogenea\n",
    "tupla_3 = (True, 1.2, \"Eu\")\n",
    "tupla_3"
   ]
  },
  {
   "cell_type": "code",
   "execution_count": 17,
   "id": "bb7f0951",
   "metadata": {},
   "outputs": [
    {
     "data": {
      "text/plain": [
       "(1, 2, 3, 4, 4)"
      ]
     },
     "execution_count": 17,
     "metadata": {},
     "output_type": "execute_result"
    }
   ],
   "source": [
    "# Lista para tupla - tuple([1, 2, 3, 4])\n",
    "l = [1, 2, 3, 4, 4]\n",
    "t = tuple(l)\n",
    "t"
   ]
  },
  {
   "cell_type": "code",
   "execution_count": 19,
   "id": "0344cc83",
   "metadata": {},
   "outputs": [
    {
     "data": {
      "text/plain": [
       "4"
      ]
     },
     "execution_count": 19,
     "metadata": {},
     "output_type": "execute_result"
    }
   ],
   "source": [
    "# Acessando elementos da tupla\n",
    "t[-1]"
   ]
  },
  {
   "cell_type": "code",
   "execution_count": 20,
   "id": "ec0ff2c0",
   "metadata": {},
   "outputs": [
    {
     "ename": "TypeError",
     "evalue": "'tuple' object does not support item assignment",
     "output_type": "error",
     "traceback": [
      "\u001b[0;31m---------------------------------------------------------------------------\u001b[0m",
      "\u001b[0;31mTypeError\u001b[0m                                 Traceback (most recent call last)",
      "\u001b[0;32m/tmp/ipykernel_23567/12731456.py\u001b[0m in \u001b[0;36m<module>\u001b[0;34m\u001b[0m\n\u001b[1;32m      1\u001b[0m \u001b[0;31m# Modificando elemento da tupla - Erro!\u001b[0m\u001b[0;34m\u001b[0m\u001b[0;34m\u001b[0m\u001b[0m\n\u001b[0;32m----> 2\u001b[0;31m \u001b[0mt\u001b[0m\u001b[0;34m[\u001b[0m\u001b[0;36m0\u001b[0m\u001b[0;34m]\u001b[0m \u001b[0;34m=\u001b[0m \u001b[0;36m10\u001b[0m\u001b[0;34m\u001b[0m\u001b[0;34m\u001b[0m\u001b[0m\n\u001b[0m\u001b[1;32m      3\u001b[0m \u001b[0mt\u001b[0m\u001b[0;34m\u001b[0m\u001b[0;34m\u001b[0m\u001b[0m\n",
      "\u001b[0;31mTypeError\u001b[0m: 'tuple' object does not support item assignment"
     ]
    }
   ],
   "source": [
    "# Modificando elemento da tupla - Erro!\n",
    "t[0] = 10\n",
    "t"
   ]
  },
  {
   "cell_type": "code",
   "execution_count": 25,
   "id": "75760899",
   "metadata": {},
   "outputs": [
    {
     "name": "stdout",
     "output_type": "stream",
     "text": [
      "5.0\n",
      "<class 'tuple'>\n",
      "<class 'list'>\n",
      "Banana 2.5\n"
     ]
    }
   ],
   "source": [
    "# Desmembrando uma tupla\n",
    "tupla = (\"Banana\", 2.5)\n",
    "fruta, preco = tupla\n",
    "\n",
    "total = 2 * tupla[1]\n",
    "print(total)\n",
    "\n",
    "print(type(tupla))\n",
    "print(type([1, 2, 3]))\n",
    "print(fruta, preco)"
   ]
  },
  {
   "cell_type": "markdown",
   "id": "0a73497e",
   "metadata": {},
   "source": [
    "### Criando dicionários com lista de tuplas\n",
    "\n",
    "Outra forma de criar um dicionário é utilizando a função `dict()` que recebe como argumento uma lista em que cada elemento é uma **tupla** com dois valores. O primeiro elemento da tupla será a chave e o segundo elemento será o valor associado.\n",
    "\n",
    "</br>\n",
    "\n",
    "```Python\n",
    "tuple_list = [(1, 10), (2, 20), (3,30)]\n",
    "dic_by_tuple = dict(tuple_list)\n",
    "\n",
    "# Equivalente:\n",
    "dic = {1: 10, 2: 20, 3: 30}\n",
    "``` \n",
    "\n",
    "### Recuperando chaves e valores em um dicionário\n",
    "\n",
    "\n",
    "Além das funções `keys()` e `values()` que vimos na aula passada, os dicionários em Python suportam a função `items()` que vai retornar uma lista em que cada elemento é uma tupla com os valores das chaves e seus respectivos valores.\n",
    "\n",
    "```Python\n",
    "dic_multiplos_dez = {1: 10, 2: 20, 3: 30, 4: 40}\n",
    "itens = dic_multiplos_dez.items() # [(1, 10), (2, 20), (3, 30), (4, 40)]\n",
    "```\n",
    "\n",
    "### Iterando nos itens de um dicionário\n",
    "\n",
    "Utilizando a função `items()` e a propriedade de desmembramento das Tuplas, é possível iterar de uma só vez entre os valores e chaves de um dicionário.\n",
    "\n",
    "```Python\n",
    "frutas_dic = {\"Banana\" : 2.5, \"Abacate\" : 7.4, \"Laranja\": 1.8, \"Melancia\": 6.3}\n",
    "frutas_itens = frutas_dic.items()\n",
    "\n",
    "for fruta, preco in fruta_itens:\n",
    "    print(\"A fruta\", fruta, \"custa\", preco)\n",
    "```"
   ]
  },
  {
   "cell_type": "code",
   "execution_count": 26,
   "id": "47d5176b",
   "metadata": {},
   "outputs": [
    {
     "data": {
      "text/plain": [
       "{1: 10, 2: 20, 3: 30, 4: 40}"
      ]
     },
     "execution_count": 26,
     "metadata": {},
     "output_type": "execute_result"
    }
   ],
   "source": [
    "# Lista de tuplas para dicionário\n",
    "list_tuples = [(1, 10), (2, 20), (3, 30), (4, 40)]\n",
    "d = dict(list_tuples)\n",
    "d"
   ]
  },
  {
   "cell_type": "code",
   "execution_count": 30,
   "id": "61ae3286",
   "metadata": {},
   "outputs": [
    {
     "data": {
      "text/plain": [
       "dict_items([(1, 10), (2, 20), (3, 30), (4, 40)])"
      ]
     },
     "execution_count": 30,
     "metadata": {},
     "output_type": "execute_result"
    }
   ],
   "source": [
    "# Dicionário para lista de tuplas - items()\n",
    "itens = d.items()\n",
    "itens"
   ]
  },
  {
   "cell_type": "code",
   "execution_count": 33,
   "id": "57bb83dd",
   "metadata": {},
   "outputs": [
    {
     "name": "stdout",
     "output_type": "stream",
     "text": [
      "A fruta Banana custa 2.5\n",
      "A fruta Abacate custa 7.4\n",
      "A fruta Laranja custa 1.8\n",
      "A fruta Melancia custa 6.3\n"
     ]
    }
   ],
   "source": [
    "# Iterando no dicionário via lista de tupla\n",
    "frutas_dic = {\"Banana\" : 2.5, \"Abacate\" : 7.4, \"Laranja\": 1.8, \"Melancia\": 6.3}\n",
    "\n",
    "itens = frutas_dic.items()\n",
    "\n",
    "for fruta, preco in itens:\n",
    "    print(\"A fruta\", fruta, \"custa\", preco)"
   ]
  },
  {
   "cell_type": "markdown",
   "id": "f60e3fce",
   "metadata": {},
   "source": [
    "## Dicionários II\n",
    "\n",
    "### Contagem de frequência\n",
    "\n",
    "Uma das utilizações mais conhecidas para os dicionários em Python é para problemas relacionados à contagem de frequência. Por exemplo, quantos alunos tiraram $10$ na prova, ou quantas vezes um produto qualquer foi vendido.\n",
    "\n",
    "</br></br>\n",
    "\n",
    "*Dada uma string, conte quantas vezes cada caracter apareceu.*\n",
    "\n",
    "</br></br></br></br></br></br>\n",
    "\n",
    "\n",
    "```Python\n",
    "string = input()\n",
    "dic_freq = dict()\n",
    "\n",
    "for char in string:\n",
    "    if char in dic_freq:\n",
    "        dic_freq[char] += 1\n",
    "    else:\n",
    "        dic_freq[char] = 1\n",
    "```\n",
    "\n",
    "</br>\n",
    "\n",
    "O tipo de problema em que procura se uma chave em um dicionário, caso seja encontrada retornar o valor ou caso não seja encontrado retornar um valor *default* é recorrente em Python. Por isso, os desenvolvedores da linguagem criaram uma maneira simplificada de resolver traduzir essas quatro linhas utilizando apenas uma função.\n",
    "\n",
    "A função `get(key, default_value)` é uma função utilizada em dicionários que procura uma chave na coleção. Caso a chave exista, o valor associado é retornado, e, caso contrário o valor default é retornado. Dessa forma, podemos reescrever o código acima da seguinte forma:\n",
    "\n",
    "</br>\n",
    "\n",
    "```Python\n",
    "string = input()\n",
    "dic_freq = dict()\n",
    "\n",
    "for char in string:\n",
    "    dic_freq[char] = dic_freq.get(char, 0) + 1\n",
    "```"
   ]
  },
  {
   "cell_type": "code",
   "execution_count": 34,
   "id": "7e5ff8a1",
   "metadata": {},
   "outputs": [
    {
     "data": {
      "text/plain": [
       "{'E': 4,\n",
       " 'U': 2,\n",
       " 'A': 3,\n",
       " 'M': 2,\n",
       " 'O': 3,\n",
       " 'I': 2,\n",
       " 'T': 3,\n",
       " 'P': 1,\n",
       " 'Y': 1,\n",
       " 'H': 1,\n",
       " 'N': 2,\n",
       " 'D': 1,\n",
       " 'S': 1,\n",
       " 'C': 2}"
      ]
     },
     "execution_count": 34,
     "metadata": {},
     "output_type": "execute_result"
    }
   ],
   "source": [
    "# Contagem de caracteres tradicional\n",
    "string = \"EUAMOMUITOPYTHONEDATASCIENCE\"\n",
    "d = dict()\n",
    "\n",
    "for c in string:\n",
    "    if c in d:\n",
    "        d[c] += 1\n",
    "    else:\n",
    "        d[c] = 1\n",
    "d"
   ]
  },
  {
   "cell_type": "code",
   "execution_count": 35,
   "id": "6d42fc9d",
   "metadata": {},
   "outputs": [
    {
     "data": {
      "text/plain": [
       "{'E': 4,\n",
       " 'U': 2,\n",
       " 'A': 3,\n",
       " 'M': 2,\n",
       " 'O': 3,\n",
       " 'I': 2,\n",
       " 'T': 3,\n",
       " 'P': 1,\n",
       " 'Y': 1,\n",
       " 'H': 1,\n",
       " 'N': 2,\n",
       " 'D': 1,\n",
       " 'S': 1,\n",
       " 'C': 2}"
      ]
     },
     "execution_count": 35,
     "metadata": {},
     "output_type": "execute_result"
    }
   ],
   "source": [
    "# Contagem de caracteres - get()\n",
    "string = \"EUAMOMUITOPYTHONEDATASCIENCE\"\n",
    "\n",
    "d = dict()\n",
    "\n",
    "for c in string:\n",
    "    d[c] = d.get(c, 0) + 1\n",
    "\n",
    "d"
   ]
  },
  {
   "cell_type": "markdown",
   "id": "f4de1ac4",
   "metadata": {},
   "source": [
    "## Exercício 1\n",
    "\n",
    "Construa um código que recebe uma string e identifica qual ou quais foram os caracteres que menos apareceram nessa string."
   ]
  },
  {
   "cell_type": "code",
   "execution_count": 43,
   "id": "c0ef30db",
   "metadata": {},
   "outputs": [
    {
     "name": "stdout",
     "output_type": "stream",
     "text": [
      "P aparece 1 vezes\n",
      "Y aparece 1 vezes\n",
      "H aparece 1 vezes\n",
      "D aparece 1 vezes\n",
      "S aparece 1 vezes\n"
     ]
    }
   ],
   "source": [
    "string = \"EUAMOMUITOPYTHONEDATASCIENCE\"\n",
    "\n",
    "d = dict()\n",
    "\n",
    "for c in string:\n",
    "    d[c] = d.get(c, 0) + 1\n",
    "    \n",
    "m = min(d.values())\n",
    "\n",
    "itens = d.items()\n",
    "\n",
    "for key, value in itens:\n",
    "    if value == m:\n",
    "        print(key, \"aparece\", value, \"vezes\")"
   ]
  },
  {
   "cell_type": "code",
   "execution_count": null,
   "id": "aeb09ec8",
   "metadata": {},
   "outputs": [],
   "source": []
  }
 ],
 "metadata": {
  "kernelspec": {
   "display_name": "Python 3",
   "language": "python",
   "name": "python3"
  },
  "language_info": {
   "codemirror_mode": {
    "name": "ipython",
    "version": 3
   },
   "file_extension": ".py",
   "mimetype": "text/x-python",
   "name": "python",
   "nbconvert_exporter": "python",
   "pygments_lexer": "ipython3",
   "version": "3.9.7"
  }
 },
 "nbformat": 4,
 "nbformat_minor": 5
}
