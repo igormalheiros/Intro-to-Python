{
 "cells": [
  {
   "cell_type": "markdown",
   "id": "2e45ca9a",
   "metadata": {},
   "source": [
    "# Introdução à Programação para Ciência de Dados\n",
    "\n",
    "### Aula 11: Sets I\n",
    "\n",
    "**Professor:** Igor Malheiros"
   ]
  },
  {
   "cell_type": "markdown",
   "id": "e29dc1c0",
   "metadata": {},
   "source": [
    "## Sets\n",
    "\n",
    "Um *set*, ou conjunto, é outra estrutura de dados do tipo de coleção nativa de Python. O *set* nos permite armazenar diversos valores em uma única variável, assim como as listas.\n",
    "\n",
    "Entretanto, existem diferenças **importantes** entre *sets* e listas que precisam de bastante atenção. Além disso, é fundamental entendermos em quais situações é melhor utilizar *sets* em vez de listas.\n",
    "\n",
    "### Criando *sets*\n",
    "\n",
    "Para criarmos um *set* utilizamos o operador de `{}` e passamos os elementos que queremos dentro dele seperados por `,`.\n",
    "\n",
    "Os elementos, **não precisam ser do mesmo tipo**.\n",
    "\n",
    "```Python\n",
    "conjunto_num = {1, 2, 3, 4}\n",
    "\n",
    "conjunto_str = {\"Eu\", \"amo\", \"Python\"}\n",
    "\n",
    "conjunto_mix = {1, 2, \"Python\"}\n",
    "\n",
    "conjunto_mix_list = {1, [2, 3], \"Python\"} # Erro!\n",
    "conjunto_conjunto = {{1, 2}, {3, 4}} # Erro!\n",
    "```\n",
    "</br>\n",
    "\n",
    "Outra forma de criar um *set* é utilizando a função `set()` que recebe como argumento uma lista.\n",
    "\n",
    "</br>\n",
    "\n",
    "```Python\n",
    "conjunto_vazio = set()\n",
    "\n",
    "# conjunto_num = {1, 2, 3, 4}:\n",
    "conjunto_num = set([1, 2, 3, 4])\n",
    "\n",
    "# conjunto_mix = {1, 2, \"Python\"}:\n",
    "conjunto_mix = set([1, 2, \"Python\"])\n",
    "```\n",
    "\n",
    "### Dados **não ordenados**\n",
    "\n",
    "Os *sets* armazenam os dados de forma **não sequencial**. Por isso, **não é possível fazer operações de indexação e, consequentemente, de *slicing***.\n",
    "\n",
    "```Python\n",
    "conjunto_num = {1, 2, 3, 4}\n",
    "print(conjunto_num[0]) # Erro!\n",
    "```\n",
    "</br>\n",
    "\n",
    "Podemos iterar em um *set* com o loop `for`. Porém, **não é garantido** que a ordem em que os elementos foi declarado vai ser a mesma ordem de valores em que o iterador vai assumir.\n",
    "\n",
    "```Python\n",
    "conjunto_num = {1, 2, 3, 4, 10, -4, 20}\n",
    "for num in conjunto_num:\n",
    "    print(num)\n",
    "    \n",
    "# Não é garantida a mesma ordem declarada no momento do print (1, 2, 3, 4, 10, -4, 20)\n",
    "```"
   ]
  },
  {
   "cell_type": "code",
   "execution_count": 6,
   "id": "7ce5dee1",
   "metadata": {},
   "outputs": [
    {
     "name": "stdout",
     "output_type": "stream",
     "text": [
      "set()\n"
     ]
    }
   ],
   "source": [
    "# set vazio - set()\n",
    "conjunto_vazio = set()\n",
    "print(conjunto_vazio)"
   ]
  },
  {
   "cell_type": "code",
   "execution_count": 3,
   "id": "78d5e578",
   "metadata": {},
   "outputs": [
    {
     "name": "stdout",
     "output_type": "stream",
     "text": [
      "{1, 2, 3, 4}\n"
     ]
    }
   ],
   "source": [
    "# set de int - {1, 2, 3, 4}\n",
    "conjunto_int = {1, 2, 3, 4}\n",
    "print(conjunto_int)"
   ]
  },
  {
   "cell_type": "code",
   "execution_count": 4,
   "id": "4b23d85f",
   "metadata": {
    "scrolled": true
   },
   "outputs": [
    {
     "name": "stdout",
     "output_type": "stream",
     "text": [
      "{1, 2, 3, 4}\n"
     ]
    }
   ],
   "source": [
    "# set de int - set([1, 2, 3, 4])\n",
    "conjunto_int = set([1, 2, 3, 4])\n",
    "print(conjunto_int)\n"
   ]
  },
  {
   "cell_type": "code",
   "execution_count": 7,
   "id": "e394e419",
   "metadata": {},
   "outputs": [
    {
     "ename": "TypeError",
     "evalue": "'set' object is not subscriptable",
     "output_type": "error",
     "traceback": [
      "\u001b[0;31m---------------------------------------------------------------------------\u001b[0m",
      "\u001b[0;31mTypeError\u001b[0m                                 Traceback (most recent call last)",
      "\u001b[0;32m/tmp/ipykernel_28976/3106620510.py\u001b[0m in \u001b[0;36m<module>\u001b[0;34m\u001b[0m\n\u001b[1;32m      1\u001b[0m \u001b[0;31m# Erro de acesso\u001b[0m\u001b[0;34m\u001b[0m\u001b[0;34m\u001b[0m\u001b[0m\n\u001b[0;32m----> 2\u001b[0;31m \u001b[0mprint\u001b[0m\u001b[0;34m(\u001b[0m\u001b[0mconjunto_int\u001b[0m\u001b[0;34m[\u001b[0m\u001b[0;36m0\u001b[0m\u001b[0;34m]\u001b[0m\u001b[0;34m)\u001b[0m\u001b[0;34m\u001b[0m\u001b[0;34m\u001b[0m\u001b[0m\n\u001b[0m",
      "\u001b[0;31mTypeError\u001b[0m: 'set' object is not subscriptable"
     ]
    }
   ],
   "source": [
    "# Erro de acesso\n",
    "print(conjunto_int[0])"
   ]
  },
  {
   "cell_type": "code",
   "execution_count": 10,
   "id": "00ae98b0",
   "metadata": {},
   "outputs": [
    {
     "name": "stdout",
     "output_type": "stream",
     "text": [
      "1\n",
      "2\n",
      "3\n",
      "4\n",
      "20\n",
      "10\n",
      "-4\n"
     ]
    }
   ],
   "source": [
    "# Iterando em um set\n",
    "conjunto = {1, 2, 3, 4, 10, -4, 20}\n",
    "\n",
    "for num in conjunto:\n",
    "    print(num)\n",
    "    "
   ]
  },
  {
   "cell_type": "markdown",
   "id": "bda4e897",
   "metadata": {},
   "source": [
    "### Não contém elementos repetidos\n",
    "\n",
    "Os *sets* **não admitem elementos duplicados**. Por isso, podem ser úteis para construir coleções de elementos únicos.\n",
    "\n",
    "```Python\n",
    "conjunto_num = {1, 2, 1, 2, 3, 4, 5, 4} # -> {1, 2, 3, 4, 5}\n",
    "\n",
    "conjunto_mix = {1, 2, \"Eu\", 2, \"Eu\"} # -> {1, 2, \"Eu\"}\n",
    "```"
   ]
  },
  {
   "cell_type": "code",
   "execution_count": 11,
   "id": "9629f7a6",
   "metadata": {},
   "outputs": [
    {
     "name": "stdout",
     "output_type": "stream",
     "text": [
      "{1, 2, 3, 4}\n"
     ]
    }
   ],
   "source": [
    "# Removendo repetições - {1, 2, 1, 3, 2, 4}\n",
    "conjunto_num = {1, 2, 1, 3, 2, 4}\n",
    "print(conjunto_num)"
   ]
  },
  {
   "cell_type": "code",
   "execution_count": 12,
   "id": "0ad3a28b",
   "metadata": {},
   "outputs": [
    {
     "name": "stdout",
     "output_type": "stream",
     "text": [
      "{1, 2, 3, 4}\n"
     ]
    }
   ],
   "source": [
    "# Removendo elementos repetidos de uma lista\n",
    "l = [1, 2, 1, 3, 1, 2, 3, 4]\n",
    "s = set(l)\n",
    "print(s)"
   ]
  },
  {
   "cell_type": "markdown",
   "id": "851dccba",
   "metadata": {},
   "source": [
    "### Coleção mutável\n",
    "\n",
    "Os *sets* são **mutáveis**, ou seja, é possível adicionar e remover elementos de um *set* assim como nas listas. Entretanto, **não é possível modificar** um elemento de um *set*, o que poderíamos fazer é removê-lo e adicionar um novo elemento.\n",
    "\n",
    "Além disso, é necessário que cada elemento **seja mutável**. Por isso, não é admitido listas ou outros conjuntos como elementos de um *set*.\n",
    "\n",
    "```Python\n",
    "conjunto = {1, 2, 3, 4}\n",
    "\n",
    "conjunto.add(10) # -> {1, 2, 3, 4, 10}\n",
    "conjunto.add(\"Eu\") # -> {1, 2, 3, 4, 10, \"Eu\"}\n",
    "\n",
    "conjunto.remove(10) # -> {1, 2, 3, 4, \"Eu\"}\n",
    "conjunto.remove(\"Eu\") # -> {1, 2, 3, 4}\n",
    "\n",
    "conjunto_listas = {[1, 2, 3], [4, 5]} # -> Erro!\n",
    "conjunto_conjuntos = {{1, 2, 3}, {4, 5}} # -> Erro!\n",
    "```"
   ]
  },
  {
   "cell_type": "code",
   "execution_count": 14,
   "id": "84437610",
   "metadata": {},
   "outputs": [],
   "source": [
    "conjunto = {1, 2, 3, 4}"
   ]
  },
  {
   "cell_type": "code",
   "execution_count": 15,
   "id": "925723a2",
   "metadata": {},
   "outputs": [
    {
     "name": "stdout",
     "output_type": "stream",
     "text": [
      "1\n",
      "2\n",
      "3\n",
      "4\n",
      "10\n"
     ]
    }
   ],
   "source": [
    "# adicionando - 10\n",
    "conjunto.add(10)\n",
    "for el in conjunto:\n",
    "    print(el)"
   ]
  },
  {
   "cell_type": "code",
   "execution_count": 16,
   "id": "28783a03",
   "metadata": {},
   "outputs": [
    {
     "name": "stdout",
     "output_type": "stream",
     "text": [
      "1\n",
      "2\n",
      "3\n",
      "4\n",
      "10\n",
      "Eu\n"
     ]
    }
   ],
   "source": [
    "# adicionando - \"Eu\"\n",
    "conjunto.add(\"Eu\")\n",
    "for el in conjunto:\n",
    "    print(el)"
   ]
  },
  {
   "cell_type": "code",
   "execution_count": 17,
   "id": "94580632",
   "metadata": {},
   "outputs": [
    {
     "data": {
      "text/plain": [
       "{1, 2, 3, 4, 'Eu'}"
      ]
     },
     "execution_count": 17,
     "metadata": {},
     "output_type": "execute_result"
    }
   ],
   "source": [
    "# removendo - 10\n",
    "conjunto.remove(10)\n",
    "conjunto"
   ]
  },
  {
   "cell_type": "code",
   "execution_count": 18,
   "id": "8b098b60",
   "metadata": {},
   "outputs": [
    {
     "data": {
      "text/plain": [
       "{1, 2, 3, 4}"
      ]
     },
     "execution_count": 18,
     "metadata": {},
     "output_type": "execute_result"
    }
   ],
   "source": [
    "# removendo - \"Eu\"\n",
    "conjunto.remove(\"Eu\")\n",
    "conjunto"
   ]
  },
  {
   "cell_type": "code",
   "execution_count": 19,
   "id": "3a1a8df4",
   "metadata": {},
   "outputs": [
    {
     "ename": "TypeError",
     "evalue": "unhashable type: 'list'",
     "output_type": "error",
     "traceback": [
      "\u001b[0;31m---------------------------------------------------------------------------\u001b[0m",
      "\u001b[0;31mTypeError\u001b[0m                                 Traceback (most recent call last)",
      "\u001b[0;32m/tmp/ipykernel_28976/2537931362.py\u001b[0m in \u001b[0;36m<module>\u001b[0;34m\u001b[0m\n\u001b[1;32m      1\u001b[0m \u001b[0;31m# Erro conjunto de listas\u001b[0m\u001b[0;34m\u001b[0m\u001b[0;34m\u001b[0m\u001b[0m\n\u001b[0;32m----> 2\u001b[0;31m \u001b[0mconjunto_listas\u001b[0m \u001b[0;34m=\u001b[0m \u001b[0;34m{\u001b[0m\u001b[0;34m[\u001b[0m\u001b[0;36m1\u001b[0m\u001b[0;34m,\u001b[0m \u001b[0;36m2\u001b[0m\u001b[0;34m,\u001b[0m \u001b[0;36m3\u001b[0m\u001b[0;34m]\u001b[0m\u001b[0;34m,\u001b[0m \u001b[0;34m[\u001b[0m\u001b[0;36m4\u001b[0m\u001b[0;34m,\u001b[0m \u001b[0;36m5\u001b[0m\u001b[0;34m]\u001b[0m\u001b[0;34m}\u001b[0m\u001b[0;34m\u001b[0m\u001b[0;34m\u001b[0m\u001b[0m\n\u001b[0m",
      "\u001b[0;31mTypeError\u001b[0m: unhashable type: 'list'"
     ]
    }
   ],
   "source": [
    "# Erro conjunto de listas\n",
    "conjunto_listas = {[1, 2, 3], [4, 5]}"
   ]
  },
  {
   "cell_type": "code",
   "execution_count": 20,
   "id": "7e7d2036",
   "metadata": {},
   "outputs": [
    {
     "ename": "TypeError",
     "evalue": "unhashable type: 'set'",
     "output_type": "error",
     "traceback": [
      "\u001b[0;31m---------------------------------------------------------------------------\u001b[0m",
      "\u001b[0;31mTypeError\u001b[0m                                 Traceback (most recent call last)",
      "\u001b[0;32m/tmp/ipykernel_28976/954172305.py\u001b[0m in \u001b[0;36m<module>\u001b[0;34m\u001b[0m\n\u001b[1;32m      1\u001b[0m \u001b[0;31m# Erro conjunto de conjuntos\u001b[0m\u001b[0;34m\u001b[0m\u001b[0;34m\u001b[0m\u001b[0m\n\u001b[0;32m----> 2\u001b[0;31m \u001b[0mconjunto_listas\u001b[0m \u001b[0;34m=\u001b[0m \u001b[0;34m{\u001b[0m\u001b[0;34m{\u001b[0m\u001b[0;36m1\u001b[0m\u001b[0;34m,\u001b[0m \u001b[0;36m2\u001b[0m\u001b[0;34m,\u001b[0m \u001b[0;36m3\u001b[0m\u001b[0;34m}\u001b[0m\u001b[0;34m,\u001b[0m \u001b[0;34m{\u001b[0m\u001b[0;36m4\u001b[0m\u001b[0;34m,\u001b[0m \u001b[0;36m5\u001b[0m\u001b[0;34m}\u001b[0m\u001b[0;34m}\u001b[0m\u001b[0;34m\u001b[0m\u001b[0;34m\u001b[0m\u001b[0m\n\u001b[0m",
      "\u001b[0;31mTypeError\u001b[0m: unhashable type: 'set'"
     ]
    }
   ],
   "source": [
    "# Erro conjunto de conjuntos\n",
    "conjunto_listas = {{1, 2, 3}, {4, 5}}"
   ]
  },
  {
   "cell_type": "markdown",
   "id": "d04a822c",
   "metadata": {},
   "source": [
    "## Exercício 1\n",
    "\n",
    "Construa uma função que recebe uma lista com emails dos usuários que acessaram um determinado sistema durante uma semana. Sua função deve retornar quem foram esses usuários. Em seguida, imprima o total de usuários que acessou o sistema e seus e-mails de forma ordenada.\n",
    "\n",
    "**Exemplo**\n",
    "\n",
    "*input:*\n",
    "\n",
    "```\n",
    "['carlos@gmail.com', 'jose@hotmail.com', 'ana@ufpb.br', 'jose@hotmail.com', 'silva.maria@gmail.com', 'carlos@gmail.com', 'bruno@gmail.com', 'silva.maria@gmail.com', 'carvalho.rodrigo@ufpb.br', 'laura@gmail.com', 'carlos@gmail.com']\n",
    "```\n",
    "\n",
    "*output:*\n",
    "\n",
    "```\n",
    "Total de usuários: 7\n",
    "\n",
    "Usuários:\n",
    "['ana@ufpb.br', 'bruno@gmail.com', 'carlos@gmail.com', 'carvalho.rodrigo@ufpb.br', 'jose@hotmail.com', 'laura@gmail.com', 'silva.maria@gmail.com']\n",
    "```"
   ]
  },
  {
   "cell_type": "code",
   "execution_count": 27,
   "id": "f5f557f2",
   "metadata": {},
   "outputs": [
    {
     "name": "stdout",
     "output_type": "stream",
     "text": [
      "Total de usuários: 7\n",
      "['ana@ufpb.br', 'bruno@gmail.com', 'carlos@gmail.com', 'carvalho.rodrigo@ufpb.br', 'jose@hotmail.com', 'laura@gmail.com', 'silva.maria@gmail.com']\n"
     ]
    }
   ],
   "source": [
    "def get_users(lista):\n",
    "    conjunto = set(lista)\n",
    "    lista_sem_duplicatas = list(conjunto)\n",
    "    return lista_sem_duplicatas\n",
    "\n",
    "lista = [\n",
    "    'carlos@gmail.com', \n",
    "    'jose@hotmail.com',\n",
    "    'ana@ufpb.br', \n",
    "    'jose@hotmail.com', \n",
    "    'silva.maria@gmail.com', \n",
    "    'carlos@gmail.com', \n",
    "    'bruno@gmail.com', \n",
    "    'silva.maria@gmail.com', \n",
    "    'carvalho.rodrigo@ufpb.br', \n",
    "    'laura@gmail.com', \n",
    "    'carlos@gmail.com'\n",
    "]\n",
    "\n",
    "l = get_users(lista)\n",
    "l.sort()\n",
    "\n",
    "print(\"Total de usuários:\", len(l))\n",
    "print(l)"
   ]
  },
  {
   "cell_type": "code",
   "execution_count": 28,
   "id": "8c1de3b4",
   "metadata": {},
   "outputs": [
    {
     "data": {
      "text/plain": [
       "False"
      ]
     },
     "execution_count": 28,
     "metadata": {},
     "output_type": "execute_result"
    }
   ],
   "source": [
    "set() == {}"
   ]
  },
  {
   "cell_type": "code",
   "execution_count": null,
   "id": "5bc880c6",
   "metadata": {},
   "outputs": [],
   "source": []
  }
 ],
 "metadata": {
  "kernelspec": {
   "display_name": "Python 3",
   "language": "python",
   "name": "python3"
  },
  "language_info": {
   "codemirror_mode": {
    "name": "ipython",
    "version": 3
   },
   "file_extension": ".py",
   "mimetype": "text/x-python",
   "name": "python",
   "nbconvert_exporter": "python",
   "pygments_lexer": "ipython3",
   "version": "3.9.7"
  }
 },
 "nbformat": 4,
 "nbformat_minor": 5
}
