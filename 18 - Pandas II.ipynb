{
 "cells": [
  {
   "cell_type": "markdown",
   "id": "d869f960",
   "metadata": {},
   "source": [
    "# Introdução à Programação para Ciência de Dados\n",
    "\n",
    "### Aula 18: Pandas II\n",
    "\n",
    "**Professor:** Igor Malheiros"
   ]
  },
  {
   "cell_type": "markdown",
   "id": "27973952",
   "metadata": {},
   "source": [
    "## Construindo tabela via .csv\n",
    "\n",
    "A maneira mais comum para processar uma tabela no Pandas é tomando como entrada uma planilha. O Pandas oferece suporte para leitura direta de extensões como `.csv`, `.json`, `.html`. Durante esse curso, focaremos na leitura de planilhas com extensão `.csv`.\n",
    "\n",
    "Os arquivos `.csv` (*comma-separated values*) são arquivos de textos cujas colunas são separadas por vírgulas e cada linha por uma quebra de linha. Quando abrimos um arquivo `.csv` por algum programa de edição de planilhas, o que o software faz é formatar o texto lido e apresentá-lo de forma mais simples para o usuário. O Pandas fornece uma função chamada `read_csv()` que tem o mesmo comportamento, ou seja, vai ler o arquivo de texto e formatá-lo para melhor apresentação e processamento. Essa função retorna uma estrutura de dados do tipo **DataFrame** com as informações do arquivo lido.\n",
    "\n",
    "</br></br>\n",
    "\n",
    "```\n",
    "# Arquivo \"auto.csv\" cru\n",
    "\n",
    "Focus,1198,11.90\n",
    "F-150,2136,5.53\n",
    "Fusion,1492,8.50\n",
    "Taurus,1652,7.65\n",
    "```\n",
    "</br></br>\n",
    "\n",
    "```Python\n",
    "import pandas as pd\n",
    "\n",
    "# Lendo arquivo \"auto.csv\"\n",
    "df = pd.read_csv(\"auto.csv\")\n",
    "```\n",
    "\n",
    "|     |     |       |\n",
    "|:---:|:---:|:-----:|\n",
    "Focus | 1198 | 11.90|\n",
    "F-150 | 2136 | 5.53 |\n",
    "Fusion| 1492 | 8.50 |\n",
    "Taurus| 1652 |7.65  |\n",
    "\n",
    "</br></br>\n",
    "\n",
    "É importante destacar que se o arquivo não estiver no mesmo diretório em que o seu arquivo Python `.py` ou seu notebook `ipynb`, devemos passar seu caminho relativo arquivo `.csv`. Por exemplo, se o arquivo `\"auto.csv\"` estiver dentro de um outro diretório chamado `\"data\"`, teríamos que utilizar `\"data/auto.csv\"`."
   ]
  },
  {
   "cell_type": "code",
   "execution_count": 1,
   "id": "27721b11",
   "metadata": {},
   "outputs": [],
   "source": [
    "import pandas as pd\n",
    "import numpy as np"
   ]
  },
  {
   "cell_type": "code",
   "execution_count": 2,
   "id": "ee8edd48",
   "metadata": {},
   "outputs": [
    {
     "data": {
      "text/html": [
       "<div>\n",
       "<style scoped>\n",
       "    .dataframe tbody tr th:only-of-type {\n",
       "        vertical-align: middle;\n",
       "    }\n",
       "\n",
       "    .dataframe tbody tr th {\n",
       "        vertical-align: top;\n",
       "    }\n",
       "\n",
       "    .dataframe thead th {\n",
       "        text-align: right;\n",
       "    }\n",
       "</style>\n",
       "<table border=\"1\" class=\"dataframe\">\n",
       "  <thead>\n",
       "    <tr style=\"text-align: right;\">\n",
       "      <th></th>\n",
       "      <th>modelo</th>\n",
       "      <th>massa (kg)</th>\n",
       "      <th>C (km/litro)</th>\n",
       "    </tr>\n",
       "  </thead>\n",
       "  <tbody>\n",
       "    <tr>\n",
       "      <th>0</th>\n",
       "      <td>Focus</td>\n",
       "      <td>1198</td>\n",
       "      <td>11.90</td>\n",
       "    </tr>\n",
       "    <tr>\n",
       "      <th>1</th>\n",
       "      <td>Crown Victoria</td>\n",
       "      <td>1715</td>\n",
       "      <td>6.80</td>\n",
       "    </tr>\n",
       "    <tr>\n",
       "      <th>2</th>\n",
       "      <td>Expedition</td>\n",
       "      <td>2530</td>\n",
       "      <td>5.53</td>\n",
       "    </tr>\n",
       "    <tr>\n",
       "      <th>3</th>\n",
       "      <td>Explorer</td>\n",
       "      <td>2014</td>\n",
       "      <td>6.38</td>\n",
       "    </tr>\n",
       "    <tr>\n",
       "      <th>4</th>\n",
       "      <td>F-150</td>\n",
       "      <td>2136</td>\n",
       "      <td>5.53</td>\n",
       "    </tr>\n",
       "    <tr>\n",
       "      <th>5</th>\n",
       "      <td>Fusion</td>\n",
       "      <td>1492</td>\n",
       "      <td>8.50</td>\n",
       "    </tr>\n",
       "    <tr>\n",
       "      <th>6</th>\n",
       "      <td>Taurus</td>\n",
       "      <td>1652</td>\n",
       "      <td>7.65</td>\n",
       "    </tr>\n",
       "    <tr>\n",
       "      <th>7</th>\n",
       "      <td>Fit</td>\n",
       "      <td>1168</td>\n",
       "      <td>13.60</td>\n",
       "    </tr>\n",
       "    <tr>\n",
       "      <th>8</th>\n",
       "      <td>Accord</td>\n",
       "      <td>1492</td>\n",
       "      <td>9.78</td>\n",
       "    </tr>\n",
       "    <tr>\n",
       "      <th>9</th>\n",
       "      <td>CR-V</td>\n",
       "      <td>1602</td>\n",
       "      <td>8.93</td>\n",
       "    </tr>\n",
       "    <tr>\n",
       "      <th>10</th>\n",
       "      <td>Civic</td>\n",
       "      <td>1192</td>\n",
       "      <td>11.90</td>\n",
       "    </tr>\n",
       "    <tr>\n",
       "      <th>11</th>\n",
       "      <td>Ridgeline</td>\n",
       "      <td>2045</td>\n",
       "      <td>6.38</td>\n",
       "    </tr>\n",
       "  </tbody>\n",
       "</table>\n",
       "</div>"
      ],
      "text/plain": [
       "            modelo  massa (kg)  C (km/litro)\n",
       "0            Focus        1198         11.90\n",
       "1   Crown Victoria        1715          6.80\n",
       "2       Expedition        2530          5.53\n",
       "3         Explorer        2014          6.38\n",
       "4            F-150        2136          5.53\n",
       "5           Fusion        1492          8.50\n",
       "6           Taurus        1652          7.65\n",
       "7              Fit        1168         13.60\n",
       "8           Accord        1492          9.78\n",
       "9             CR-V        1602          8.93\n",
       "10           Civic        1192         11.90\n",
       "11       Ridgeline        2045          6.38"
      ]
     },
     "execution_count": 2,
     "metadata": {},
     "output_type": "execute_result"
    }
   ],
   "source": [
    "# Lendo arquivo csv\n",
    "df = pd.read_csv(\"data/auto.csv\")\n",
    "df"
   ]
  },
  {
   "cell_type": "code",
   "execution_count": 5,
   "id": "1210c268",
   "metadata": {},
   "outputs": [
    {
     "data": {
      "text/html": [
       "<div>\n",
       "<style scoped>\n",
       "    .dataframe tbody tr th:only-of-type {\n",
       "        vertical-align: middle;\n",
       "    }\n",
       "\n",
       "    .dataframe tbody tr th {\n",
       "        vertical-align: top;\n",
       "    }\n",
       "\n",
       "    .dataframe thead th {\n",
       "        text-align: right;\n",
       "    }\n",
       "</style>\n",
       "<table border=\"1\" class=\"dataframe\">\n",
       "  <thead>\n",
       "    <tr style=\"text-align: right;\">\n",
       "      <th></th>\n",
       "      <th>massa (kg)</th>\n",
       "      <th>C (km/litro)</th>\n",
       "    </tr>\n",
       "    <tr>\n",
       "      <th>modelo</th>\n",
       "      <th></th>\n",
       "      <th></th>\n",
       "    </tr>\n",
       "  </thead>\n",
       "  <tbody>\n",
       "    <tr>\n",
       "      <th>Focus</th>\n",
       "      <td>1198</td>\n",
       "      <td>11.90</td>\n",
       "    </tr>\n",
       "    <tr>\n",
       "      <th>Crown Victoria</th>\n",
       "      <td>1715</td>\n",
       "      <td>6.80</td>\n",
       "    </tr>\n",
       "    <tr>\n",
       "      <th>Expedition</th>\n",
       "      <td>2530</td>\n",
       "      <td>5.53</td>\n",
       "    </tr>\n",
       "    <tr>\n",
       "      <th>Explorer</th>\n",
       "      <td>2014</td>\n",
       "      <td>6.38</td>\n",
       "    </tr>\n",
       "    <tr>\n",
       "      <th>F-150</th>\n",
       "      <td>2136</td>\n",
       "      <td>5.53</td>\n",
       "    </tr>\n",
       "    <tr>\n",
       "      <th>Fusion</th>\n",
       "      <td>1492</td>\n",
       "      <td>8.50</td>\n",
       "    </tr>\n",
       "    <tr>\n",
       "      <th>Taurus</th>\n",
       "      <td>1652</td>\n",
       "      <td>7.65</td>\n",
       "    </tr>\n",
       "    <tr>\n",
       "      <th>Fit</th>\n",
       "      <td>1168</td>\n",
       "      <td>13.60</td>\n",
       "    </tr>\n",
       "    <tr>\n",
       "      <th>Accord</th>\n",
       "      <td>1492</td>\n",
       "      <td>9.78</td>\n",
       "    </tr>\n",
       "    <tr>\n",
       "      <th>CR-V</th>\n",
       "      <td>1602</td>\n",
       "      <td>8.93</td>\n",
       "    </tr>\n",
       "    <tr>\n",
       "      <th>Civic</th>\n",
       "      <td>1192</td>\n",
       "      <td>11.90</td>\n",
       "    </tr>\n",
       "    <tr>\n",
       "      <th>Ridgeline</th>\n",
       "      <td>2045</td>\n",
       "      <td>6.38</td>\n",
       "    </tr>\n",
       "  </tbody>\n",
       "</table>\n",
       "</div>"
      ],
      "text/plain": [
       "                massa (kg)  C (km/litro)\n",
       "modelo                                  \n",
       "Focus                 1198         11.90\n",
       "Crown Victoria        1715          6.80\n",
       "Expedition            2530          5.53\n",
       "Explorer              2014          6.38\n",
       "F-150                 2136          5.53\n",
       "Fusion                1492          8.50\n",
       "Taurus                1652          7.65\n",
       "Fit                   1168         13.60\n",
       "Accord                1492          9.78\n",
       "CR-V                  1602          8.93\n",
       "Civic                 1192         11.90\n",
       "Ridgeline             2045          6.38"
      ]
     },
     "execution_count": 5,
     "metadata": {},
     "output_type": "execute_result"
    }
   ],
   "source": [
    "# Para utilizar alguma das colunas como índice,\n",
    "# precisamos utilizar o parametro `index_col=[n]`\n",
    "# Em que `n` é a posição da coluna em que\n",
    "# utilizaremos como nome da linha\n",
    "df = pd.read_csv(\"data/auto.csv\", index_col=[0])\n",
    "df"
   ]
  },
  {
   "cell_type": "markdown",
   "id": "4bbf3361",
   "metadata": {},
   "source": [
    "## Removendo dados do DataFrame\n",
    "\n",
    "Um importante processamento que podemos utilizar nas tabelas é remover informações, sejam elas linhas ou colunas.\n",
    "\n",
    "### Removendo colunas\n",
    "\n",
    "Para remover as colunas de um DataFrame, basta utilizarmos a função `drop()`. Essa função recebe como parâmetro uma lista com os nomes das colunas que desejamos remover e utilizaremos o parâmetro `axis='columns'` para determinar que estamos removendo colunas.\n",
    "\n",
    "### Removendo linhas\n",
    "\n",
    "Para remover as linhas de um DataFrame, também utilizamos a função `drop()`. Passaremos também uma lista com os nomes das linhas que desejamos remover, entretanto, utilizaremos o parâmetro `axis='rows'` para determinar que estamos removendo linhas do DataFrame.\n",
    "\n",
    "É importante destacar que por padrão o `drop()` vai retornar uma nova tabela, deixando a tabela original intacta. Se quisermos realmente modificar a tabela que estamos manipulando, precisamos utilizar o parâmetro `inplace=True`."
   ]
  },
  {
   "cell_type": "code",
   "execution_count": 9,
   "id": "78e26f7a",
   "metadata": {},
   "outputs": [
    {
     "data": {
      "text/html": [
       "<div>\n",
       "<style scoped>\n",
       "    .dataframe tbody tr th:only-of-type {\n",
       "        vertical-align: middle;\n",
       "    }\n",
       "\n",
       "    .dataframe tbody tr th {\n",
       "        vertical-align: top;\n",
       "    }\n",
       "\n",
       "    .dataframe thead th {\n",
       "        text-align: right;\n",
       "    }\n",
       "</style>\n",
       "<table border=\"1\" class=\"dataframe\">\n",
       "  <thead>\n",
       "    <tr style=\"text-align: right;\">\n",
       "      <th></th>\n",
       "      <th>C (km/litro)</th>\n",
       "    </tr>\n",
       "    <tr>\n",
       "      <th>modelo</th>\n",
       "      <th></th>\n",
       "    </tr>\n",
       "  </thead>\n",
       "  <tbody>\n",
       "    <tr>\n",
       "      <th>Focus</th>\n",
       "      <td>11.90</td>\n",
       "    </tr>\n",
       "    <tr>\n",
       "      <th>Crown Victoria</th>\n",
       "      <td>6.80</td>\n",
       "    </tr>\n",
       "    <tr>\n",
       "      <th>Expedition</th>\n",
       "      <td>5.53</td>\n",
       "    </tr>\n",
       "    <tr>\n",
       "      <th>Explorer</th>\n",
       "      <td>6.38</td>\n",
       "    </tr>\n",
       "    <tr>\n",
       "      <th>F-150</th>\n",
       "      <td>5.53</td>\n",
       "    </tr>\n",
       "    <tr>\n",
       "      <th>Fusion</th>\n",
       "      <td>8.50</td>\n",
       "    </tr>\n",
       "    <tr>\n",
       "      <th>Taurus</th>\n",
       "      <td>7.65</td>\n",
       "    </tr>\n",
       "    <tr>\n",
       "      <th>Fit</th>\n",
       "      <td>13.60</td>\n",
       "    </tr>\n",
       "    <tr>\n",
       "      <th>Accord</th>\n",
       "      <td>9.78</td>\n",
       "    </tr>\n",
       "    <tr>\n",
       "      <th>CR-V</th>\n",
       "      <td>8.93</td>\n",
       "    </tr>\n",
       "    <tr>\n",
       "      <th>Civic</th>\n",
       "      <td>11.90</td>\n",
       "    </tr>\n",
       "    <tr>\n",
       "      <th>Ridgeline</th>\n",
       "      <td>6.38</td>\n",
       "    </tr>\n",
       "  </tbody>\n",
       "</table>\n",
       "</div>"
      ],
      "text/plain": [
       "                C (km/litro)\n",
       "modelo                      \n",
       "Focus                  11.90\n",
       "Crown Victoria          6.80\n",
       "Expedition              5.53\n",
       "Explorer                6.38\n",
       "F-150                   5.53\n",
       "Fusion                  8.50\n",
       "Taurus                  7.65\n",
       "Fit                    13.60\n",
       "Accord                  9.78\n",
       "CR-V                    8.93\n",
       "Civic                  11.90\n",
       "Ridgeline               6.38"
      ]
     },
     "execution_count": 9,
     "metadata": {},
     "output_type": "execute_result"
    }
   ],
   "source": [
    "# Removendo coluna\n",
    "dff = df.drop(['massa (kg)'], axis='columns')\n",
    "dff"
   ]
  },
  {
   "cell_type": "code",
   "execution_count": 10,
   "id": "3fadb3f5",
   "metadata": {},
   "outputs": [
    {
     "data": {
      "text/html": [
       "<div>\n",
       "<style scoped>\n",
       "    .dataframe tbody tr th:only-of-type {\n",
       "        vertical-align: middle;\n",
       "    }\n",
       "\n",
       "    .dataframe tbody tr th {\n",
       "        vertical-align: top;\n",
       "    }\n",
       "\n",
       "    .dataframe thead th {\n",
       "        text-align: right;\n",
       "    }\n",
       "</style>\n",
       "<table border=\"1\" class=\"dataframe\">\n",
       "  <thead>\n",
       "    <tr style=\"text-align: right;\">\n",
       "      <th></th>\n",
       "      <th>C (km/litro)</th>\n",
       "    </tr>\n",
       "    <tr>\n",
       "      <th>modelo</th>\n",
       "      <th></th>\n",
       "    </tr>\n",
       "  </thead>\n",
       "  <tbody>\n",
       "    <tr>\n",
       "      <th>Focus</th>\n",
       "      <td>11.90</td>\n",
       "    </tr>\n",
       "    <tr>\n",
       "      <th>Crown Victoria</th>\n",
       "      <td>6.80</td>\n",
       "    </tr>\n",
       "    <tr>\n",
       "      <th>Expedition</th>\n",
       "      <td>5.53</td>\n",
       "    </tr>\n",
       "    <tr>\n",
       "      <th>Explorer</th>\n",
       "      <td>6.38</td>\n",
       "    </tr>\n",
       "    <tr>\n",
       "      <th>F-150</th>\n",
       "      <td>5.53</td>\n",
       "    </tr>\n",
       "    <tr>\n",
       "      <th>Fusion</th>\n",
       "      <td>8.50</td>\n",
       "    </tr>\n",
       "    <tr>\n",
       "      <th>Taurus</th>\n",
       "      <td>7.65</td>\n",
       "    </tr>\n",
       "    <tr>\n",
       "      <th>Fit</th>\n",
       "      <td>13.60</td>\n",
       "    </tr>\n",
       "    <tr>\n",
       "      <th>Accord</th>\n",
       "      <td>9.78</td>\n",
       "    </tr>\n",
       "    <tr>\n",
       "      <th>CR-V</th>\n",
       "      <td>8.93</td>\n",
       "    </tr>\n",
       "    <tr>\n",
       "      <th>Civic</th>\n",
       "      <td>11.90</td>\n",
       "    </tr>\n",
       "    <tr>\n",
       "      <th>Ridgeline</th>\n",
       "      <td>6.38</td>\n",
       "    </tr>\n",
       "  </tbody>\n",
       "</table>\n",
       "</div>"
      ],
      "text/plain": [
       "                C (km/litro)\n",
       "modelo                      \n",
       "Focus                  11.90\n",
       "Crown Victoria          6.80\n",
       "Expedition              5.53\n",
       "Explorer                6.38\n",
       "F-150                   5.53\n",
       "Fusion                  8.50\n",
       "Taurus                  7.65\n",
       "Fit                    13.60\n",
       "Accord                  9.78\n",
       "CR-V                    8.93\n",
       "Civic                  11.90\n",
       "Ridgeline               6.38"
      ]
     },
     "execution_count": 10,
     "metadata": {},
     "output_type": "execute_result"
    }
   ],
   "source": [
    "# Removendo coluna in place\n",
    "df.drop([\"massa (kg)\"], axis='columns', inplace=True)\n",
    "df"
   ]
  },
  {
   "cell_type": "code",
   "execution_count": 13,
   "id": "8a65ad83",
   "metadata": {},
   "outputs": [
    {
     "data": {
      "text/html": [
       "<div>\n",
       "<style scoped>\n",
       "    .dataframe tbody tr th:only-of-type {\n",
       "        vertical-align: middle;\n",
       "    }\n",
       "\n",
       "    .dataframe tbody tr th {\n",
       "        vertical-align: top;\n",
       "    }\n",
       "\n",
       "    .dataframe thead th {\n",
       "        text-align: right;\n",
       "    }\n",
       "</style>\n",
       "<table border=\"1\" class=\"dataframe\">\n",
       "  <thead>\n",
       "    <tr style=\"text-align: right;\">\n",
       "      <th></th>\n",
       "      <th>C (km/litro)</th>\n",
       "    </tr>\n",
       "    <tr>\n",
       "      <th>modelo</th>\n",
       "      <th></th>\n",
       "    </tr>\n",
       "  </thead>\n",
       "  <tbody>\n",
       "    <tr>\n",
       "      <th>Crown Victoria</th>\n",
       "      <td>6.80</td>\n",
       "    </tr>\n",
       "    <tr>\n",
       "      <th>Expedition</th>\n",
       "      <td>5.53</td>\n",
       "    </tr>\n",
       "    <tr>\n",
       "      <th>Explorer</th>\n",
       "      <td>6.38</td>\n",
       "    </tr>\n",
       "    <tr>\n",
       "      <th>F-150</th>\n",
       "      <td>5.53</td>\n",
       "    </tr>\n",
       "    <tr>\n",
       "      <th>Fusion</th>\n",
       "      <td>8.50</td>\n",
       "    </tr>\n",
       "    <tr>\n",
       "      <th>Taurus</th>\n",
       "      <td>7.65</td>\n",
       "    </tr>\n",
       "    <tr>\n",
       "      <th>Accord</th>\n",
       "      <td>9.78</td>\n",
       "    </tr>\n",
       "    <tr>\n",
       "      <th>CR-V</th>\n",
       "      <td>8.93</td>\n",
       "    </tr>\n",
       "    <tr>\n",
       "      <th>Civic</th>\n",
       "      <td>11.90</td>\n",
       "    </tr>\n",
       "    <tr>\n",
       "      <th>Ridgeline</th>\n",
       "      <td>6.38</td>\n",
       "    </tr>\n",
       "  </tbody>\n",
       "</table>\n",
       "</div>"
      ],
      "text/plain": [
       "                C (km/litro)\n",
       "modelo                      \n",
       "Crown Victoria          6.80\n",
       "Expedition              5.53\n",
       "Explorer                6.38\n",
       "F-150                   5.53\n",
       "Fusion                  8.50\n",
       "Taurus                  7.65\n",
       "Accord                  9.78\n",
       "CR-V                    8.93\n",
       "Civic                  11.90\n",
       "Ridgeline               6.38"
      ]
     },
     "execution_count": 13,
     "metadata": {},
     "output_type": "execute_result"
    }
   ],
   "source": [
    "# Removendo linha\n",
    "dff = df.drop(['Fit', 'Focus'], axis='rows')\n",
    "dff"
   ]
  },
  {
   "cell_type": "code",
   "execution_count": 14,
   "id": "bc964d0b",
   "metadata": {},
   "outputs": [
    {
     "data": {
      "text/html": [
       "<div>\n",
       "<style scoped>\n",
       "    .dataframe tbody tr th:only-of-type {\n",
       "        vertical-align: middle;\n",
       "    }\n",
       "\n",
       "    .dataframe tbody tr th {\n",
       "        vertical-align: top;\n",
       "    }\n",
       "\n",
       "    .dataframe thead th {\n",
       "        text-align: right;\n",
       "    }\n",
       "</style>\n",
       "<table border=\"1\" class=\"dataframe\">\n",
       "  <thead>\n",
       "    <tr style=\"text-align: right;\">\n",
       "      <th></th>\n",
       "      <th>C (km/litro)</th>\n",
       "    </tr>\n",
       "    <tr>\n",
       "      <th>modelo</th>\n",
       "      <th></th>\n",
       "    </tr>\n",
       "  </thead>\n",
       "  <tbody>\n",
       "    <tr>\n",
       "      <th>Crown Victoria</th>\n",
       "      <td>6.80</td>\n",
       "    </tr>\n",
       "    <tr>\n",
       "      <th>Expedition</th>\n",
       "      <td>5.53</td>\n",
       "    </tr>\n",
       "    <tr>\n",
       "      <th>Explorer</th>\n",
       "      <td>6.38</td>\n",
       "    </tr>\n",
       "    <tr>\n",
       "      <th>F-150</th>\n",
       "      <td>5.53</td>\n",
       "    </tr>\n",
       "    <tr>\n",
       "      <th>Fusion</th>\n",
       "      <td>8.50</td>\n",
       "    </tr>\n",
       "    <tr>\n",
       "      <th>Taurus</th>\n",
       "      <td>7.65</td>\n",
       "    </tr>\n",
       "    <tr>\n",
       "      <th>Accord</th>\n",
       "      <td>9.78</td>\n",
       "    </tr>\n",
       "    <tr>\n",
       "      <th>CR-V</th>\n",
       "      <td>8.93</td>\n",
       "    </tr>\n",
       "    <tr>\n",
       "      <th>Civic</th>\n",
       "      <td>11.90</td>\n",
       "    </tr>\n",
       "    <tr>\n",
       "      <th>Ridgeline</th>\n",
       "      <td>6.38</td>\n",
       "    </tr>\n",
       "  </tbody>\n",
       "</table>\n",
       "</div>"
      ],
      "text/plain": [
       "                C (km/litro)\n",
       "modelo                      \n",
       "Crown Victoria          6.80\n",
       "Expedition              5.53\n",
       "Explorer                6.38\n",
       "F-150                   5.53\n",
       "Fusion                  8.50\n",
       "Taurus                  7.65\n",
       "Accord                  9.78\n",
       "CR-V                    8.93\n",
       "Civic                  11.90\n",
       "Ridgeline               6.38"
      ]
     },
     "execution_count": 14,
     "metadata": {},
     "output_type": "execute_result"
    }
   ],
   "source": [
    "# Removendo linhas inplace\n",
    "df.drop(['Fit', 'Focus'], axis='rows', inplace=True)\n",
    "df"
   ]
  },
  {
   "cell_type": "code",
   "execution_count": 15,
   "id": "9c1bf3e9",
   "metadata": {},
   "outputs": [
    {
     "data": {
      "text/html": [
       "<div>\n",
       "<style scoped>\n",
       "    .dataframe tbody tr th:only-of-type {\n",
       "        vertical-align: middle;\n",
       "    }\n",
       "\n",
       "    .dataframe tbody tr th {\n",
       "        vertical-align: top;\n",
       "    }\n",
       "\n",
       "    .dataframe thead th {\n",
       "        text-align: right;\n",
       "    }\n",
       "</style>\n",
       "<table border=\"1\" class=\"dataframe\">\n",
       "  <thead>\n",
       "    <tr style=\"text-align: right;\">\n",
       "      <th></th>\n",
       "      <th>massa (kg)</th>\n",
       "      <th>C (km/litro)</th>\n",
       "    </tr>\n",
       "    <tr>\n",
       "      <th>modelo</th>\n",
       "      <th></th>\n",
       "      <th></th>\n",
       "    </tr>\n",
       "  </thead>\n",
       "  <tbody>\n",
       "    <tr>\n",
       "      <th>Focus</th>\n",
       "      <td>1198</td>\n",
       "      <td>11.90</td>\n",
       "    </tr>\n",
       "    <tr>\n",
       "      <th>Crown Victoria</th>\n",
       "      <td>1715</td>\n",
       "      <td>6.80</td>\n",
       "    </tr>\n",
       "    <tr>\n",
       "      <th>Expedition</th>\n",
       "      <td>2530</td>\n",
       "      <td>5.53</td>\n",
       "    </tr>\n",
       "    <tr>\n",
       "      <th>Explorer</th>\n",
       "      <td>2014</td>\n",
       "      <td>6.38</td>\n",
       "    </tr>\n",
       "    <tr>\n",
       "      <th>F-150</th>\n",
       "      <td>2136</td>\n",
       "      <td>5.53</td>\n",
       "    </tr>\n",
       "    <tr>\n",
       "      <th>Fusion</th>\n",
       "      <td>1492</td>\n",
       "      <td>8.50</td>\n",
       "    </tr>\n",
       "    <tr>\n",
       "      <th>Taurus</th>\n",
       "      <td>1652</td>\n",
       "      <td>7.65</td>\n",
       "    </tr>\n",
       "    <tr>\n",
       "      <th>Fit</th>\n",
       "      <td>1168</td>\n",
       "      <td>13.60</td>\n",
       "    </tr>\n",
       "    <tr>\n",
       "      <th>Accord</th>\n",
       "      <td>1492</td>\n",
       "      <td>9.78</td>\n",
       "    </tr>\n",
       "    <tr>\n",
       "      <th>CR-V</th>\n",
       "      <td>1602</td>\n",
       "      <td>8.93</td>\n",
       "    </tr>\n",
       "    <tr>\n",
       "      <th>Civic</th>\n",
       "      <td>1192</td>\n",
       "      <td>11.90</td>\n",
       "    </tr>\n",
       "    <tr>\n",
       "      <th>Ridgeline</th>\n",
       "      <td>2045</td>\n",
       "      <td>6.38</td>\n",
       "    </tr>\n",
       "  </tbody>\n",
       "</table>\n",
       "</div>"
      ],
      "text/plain": [
       "                massa (kg)  C (km/litro)\n",
       "modelo                                  \n",
       "Focus                 1198         11.90\n",
       "Crown Victoria        1715          6.80\n",
       "Expedition            2530          5.53\n",
       "Explorer              2014          6.38\n",
       "F-150                 2136          5.53\n",
       "Fusion                1492          8.50\n",
       "Taurus                1652          7.65\n",
       "Fit                   1168         13.60\n",
       "Accord                1492          9.78\n",
       "CR-V                  1602          8.93\n",
       "Civic                 1192         11.90\n",
       "Ridgeline             2045          6.38"
      ]
     },
     "execution_count": 15,
     "metadata": {},
     "output_type": "execute_result"
    }
   ],
   "source": [
    "# Carregando o DataFrame mais uma vez\n",
    "df = pd.read_csv(\"data/auto.csv\", index_col=[0])\n",
    "df"
   ]
  },
  {
   "cell_type": "markdown",
   "id": "05f72445",
   "metadata": {},
   "source": [
    "## Adicionando dados ao DataFrame\n",
    "\n",
    "O Pandas também fornece funções para adicionarmos linhas e colunas ao nosso DataFrame.\n",
    "\n",
    "### Adicionando colunas\n",
    "\n",
    "Para adicionarmos uma nova coluna ao DataFrame, basta criamos uma nova Serie, pois cada coluna em um DataFrame é uma Serie. Em seguida, precisamos acessar uma nova coluna que estamos criando no DataFrame e atribuir o valor da Serie criada, similar ao que acontece com os dicionários em Python.\n",
    "\n",
    "</br></br>\n",
    "\n",
    "```Python\n",
    "serie_marca = pd.Series(\n",
    "    ['Ford', 'Ford', 'Ford', 'Ford', 'Ford', 'Ford', 'Ford', 'Honda', 'Honda', 'Honda', 'Honda', 'Honda'],\n",
    "    index=['Focus', 'Crown Victoria', 'Expedition', 'Explorer', 'F-150', 'Fusion', 'Taurus', 'Fit', 'Accord', 'CR-V', 'Civic', 'Ridgeline'],\n",
    "    name='marcas'\n",
    ")\n",
    "df['marca'] = serie_marca\n",
    "```\n",
    "\n",
    "</br></br>\n",
    "\n",
    "Poderíamos utilizar o operador de broadcast para fazer uma atribuição de mesmo valor em uma nova coluna criada.\n",
    "\n",
    "</br></br>\n",
    "\n",
    "```Python\n",
    "df['numero de rodas'] = 4\n",
    "```\n",
    "\n",
    "</br></br>\n",
    "\n",
    "### Adicionando linhas\n",
    "\n",
    "Para criarmos uma nova linha no DataFrame, nós também vamos criar primeiro uma Serie. Porém, essa Serie será criada como um dicionário, onde cada chave é o nome de uma das colunas e o valor é o dado inserido naquela coluna. Em seguida, atribuímos via `loc[]` a nova Serie que criamos.\n",
    "\n",
    "</br></br>\n",
    "\n",
    "```Python\n",
    "serie_fox = pd.Series({\n",
    "    'massa (kg)': 1.009,\n",
    "    'C (km/litro)': 7.8,\n",
    "    'marca': 'volkswagen',\n",
    "    'numero de rodas': 4\n",
    "}, name='Fox')\n",
    "\n",
    "df.loc['Fox'] = serie_fox\n",
    "```\n",
    "\n",
    "</br></br>\n",
    "\n",
    "## Modificações\n",
    "\n",
    "### Modificando colunas/linhas\n",
    "\n",
    "Podemos utilizar a mesma sintaxe de adicionar uma coluna/linha para modificar uma coluna/linha já existente. Isso significa que para modificar uma coluna/linha devemos criar uma nova Serie e atribuí-la à coluna/linha já existente, similar aos dicionários de Python.\n",
    "\n",
    "</br></br>\n",
    "\n",
    "```Python\n",
    "serie_fox = pd.Series({\n",
    "    'massa (kg)': 1.100,\n",
    "    'C (km/litro)': 8.5,\n",
    "    'marca': 'volkswagen',\n",
    "    'numero de rodas': 4\n",
    "}, name='Fox')\n",
    "\n",
    "df.loc['Fox'] = serie_fox\n",
    "```\n",
    "\n",
    "</br></br>\n",
    "\n",
    "\n",
    "### Modificando Nomes das Colunas/Linhas\n",
    "\n",
    "É possível renomear os nomes das colunas e das linhas com a função `rename()`. Essa função recebe como parâmetro `columns=dic_c`, onde `dic_c` é um dicionário em que as chaves são os nomes antigos das colunas e os valores associados são os novos nomes das colunas, e `index={dic_i}`, onde `dic_i` é um dicionário em que as chaves são os nomes antigos das linhas e os valores associados são os novos nomes das linhas.\n",
    "\n",
    "A função `rename()` não modifica o DataFrame por padrão. Se quisermos modificá-lo, precisamos utilizar o parâmetro `inplace=True`.\n",
    "\n",
    "</br></br>\n",
    "\n",
    "```Python\n",
    "df.rename(\n",
    "    columns={\n",
    "        'massa (kg)': 'Massa',\n",
    "        'C (km/litro)': 'Km/L'\n",
    "    },\n",
    "    index={\n",
    "        'Fox': 'FOX'\n",
    "    }\n",
    ")\n",
    "```"
   ]
  },
  {
   "cell_type": "code",
   "execution_count": 18,
   "id": "a2f59f66",
   "metadata": {},
   "outputs": [
    {
     "data": {
      "text/html": [
       "<div>\n",
       "<style scoped>\n",
       "    .dataframe tbody tr th:only-of-type {\n",
       "        vertical-align: middle;\n",
       "    }\n",
       "\n",
       "    .dataframe tbody tr th {\n",
       "        vertical-align: top;\n",
       "    }\n",
       "\n",
       "    .dataframe thead th {\n",
       "        text-align: right;\n",
       "    }\n",
       "</style>\n",
       "<table border=\"1\" class=\"dataframe\">\n",
       "  <thead>\n",
       "    <tr style=\"text-align: right;\">\n",
       "      <th></th>\n",
       "      <th>massa (kg)</th>\n",
       "      <th>C (km/litro)</th>\n",
       "      <th>marcas</th>\n",
       "    </tr>\n",
       "    <tr>\n",
       "      <th>modelo</th>\n",
       "      <th></th>\n",
       "      <th></th>\n",
       "      <th></th>\n",
       "    </tr>\n",
       "  </thead>\n",
       "  <tbody>\n",
       "    <tr>\n",
       "      <th>Focus</th>\n",
       "      <td>1198</td>\n",
       "      <td>11.90</td>\n",
       "      <td>Ford</td>\n",
       "    </tr>\n",
       "    <tr>\n",
       "      <th>Crown Victoria</th>\n",
       "      <td>1715</td>\n",
       "      <td>6.80</td>\n",
       "      <td>Ford</td>\n",
       "    </tr>\n",
       "    <tr>\n",
       "      <th>Expedition</th>\n",
       "      <td>2530</td>\n",
       "      <td>5.53</td>\n",
       "      <td>Ford</td>\n",
       "    </tr>\n",
       "    <tr>\n",
       "      <th>Explorer</th>\n",
       "      <td>2014</td>\n",
       "      <td>6.38</td>\n",
       "      <td>Ford</td>\n",
       "    </tr>\n",
       "    <tr>\n",
       "      <th>F-150</th>\n",
       "      <td>2136</td>\n",
       "      <td>5.53</td>\n",
       "      <td>Ford</td>\n",
       "    </tr>\n",
       "    <tr>\n",
       "      <th>Fusion</th>\n",
       "      <td>1492</td>\n",
       "      <td>8.50</td>\n",
       "      <td>Ford</td>\n",
       "    </tr>\n",
       "    <tr>\n",
       "      <th>Taurus</th>\n",
       "      <td>1652</td>\n",
       "      <td>7.65</td>\n",
       "      <td>Ford</td>\n",
       "    </tr>\n",
       "    <tr>\n",
       "      <th>Fit</th>\n",
       "      <td>1168</td>\n",
       "      <td>13.60</td>\n",
       "      <td>Honda</td>\n",
       "    </tr>\n",
       "    <tr>\n",
       "      <th>Accord</th>\n",
       "      <td>1492</td>\n",
       "      <td>9.78</td>\n",
       "      <td>Honda</td>\n",
       "    </tr>\n",
       "    <tr>\n",
       "      <th>CR-V</th>\n",
       "      <td>1602</td>\n",
       "      <td>8.93</td>\n",
       "      <td>Honda</td>\n",
       "    </tr>\n",
       "    <tr>\n",
       "      <th>Civic</th>\n",
       "      <td>1192</td>\n",
       "      <td>11.90</td>\n",
       "      <td>Honda</td>\n",
       "    </tr>\n",
       "    <tr>\n",
       "      <th>Ridgeline</th>\n",
       "      <td>2045</td>\n",
       "      <td>6.38</td>\n",
       "      <td>Honda</td>\n",
       "    </tr>\n",
       "  </tbody>\n",
       "</table>\n",
       "</div>"
      ],
      "text/plain": [
       "                massa (kg)  C (km/litro) marcas\n",
       "modelo                                         \n",
       "Focus                 1198         11.90   Ford\n",
       "Crown Victoria        1715          6.80   Ford\n",
       "Expedition            2530          5.53   Ford\n",
       "Explorer              2014          6.38   Ford\n",
       "F-150                 2136          5.53   Ford\n",
       "Fusion                1492          8.50   Ford\n",
       "Taurus                1652          7.65   Ford\n",
       "Fit                   1168         13.60  Honda\n",
       "Accord                1492          9.78  Honda\n",
       "CR-V                  1602          8.93  Honda\n",
       "Civic                 1192         11.90  Honda\n",
       "Ridgeline             2045          6.38  Honda"
      ]
     },
     "execution_count": 18,
     "metadata": {},
     "output_type": "execute_result"
    }
   ],
   "source": [
    "# Adicionando uma nova coluna por uma Serie\n",
    "serie_marca = pd.Series(\n",
    "    ['Ford', 'Ford', 'Ford', 'Ford', 'Ford', 'Ford', 'Ford', 'Honda', 'Honda', 'Honda', 'Honda', 'Honda'],\n",
    "    index=['Focus', 'Crown Victoria', 'Expedition', 'Explorer', 'F-150', 'Fusion', 'Taurus', 'Fit', 'Accord', 'CR-V', 'Civic', 'Ridgeline'],\n",
    "    name='marcas'\n",
    ")\n",
    "df['marcas'] = serie_marca\n",
    "df"
   ]
  },
  {
   "cell_type": "code",
   "execution_count": 19,
   "id": "7ba46637",
   "metadata": {},
   "outputs": [
    {
     "data": {
      "text/html": [
       "<div>\n",
       "<style scoped>\n",
       "    .dataframe tbody tr th:only-of-type {\n",
       "        vertical-align: middle;\n",
       "    }\n",
       "\n",
       "    .dataframe tbody tr th {\n",
       "        vertical-align: top;\n",
       "    }\n",
       "\n",
       "    .dataframe thead th {\n",
       "        text-align: right;\n",
       "    }\n",
       "</style>\n",
       "<table border=\"1\" class=\"dataframe\">\n",
       "  <thead>\n",
       "    <tr style=\"text-align: right;\">\n",
       "      <th></th>\n",
       "      <th>massa (kg)</th>\n",
       "      <th>C (km/litro)</th>\n",
       "      <th>marcas</th>\n",
       "      <th>Número de rodas</th>\n",
       "    </tr>\n",
       "    <tr>\n",
       "      <th>modelo</th>\n",
       "      <th></th>\n",
       "      <th></th>\n",
       "      <th></th>\n",
       "      <th></th>\n",
       "    </tr>\n",
       "  </thead>\n",
       "  <tbody>\n",
       "    <tr>\n",
       "      <th>Focus</th>\n",
       "      <td>1198</td>\n",
       "      <td>11.90</td>\n",
       "      <td>Ford</td>\n",
       "      <td>4</td>\n",
       "    </tr>\n",
       "    <tr>\n",
       "      <th>Crown Victoria</th>\n",
       "      <td>1715</td>\n",
       "      <td>6.80</td>\n",
       "      <td>Ford</td>\n",
       "      <td>4</td>\n",
       "    </tr>\n",
       "    <tr>\n",
       "      <th>Expedition</th>\n",
       "      <td>2530</td>\n",
       "      <td>5.53</td>\n",
       "      <td>Ford</td>\n",
       "      <td>4</td>\n",
       "    </tr>\n",
       "    <tr>\n",
       "      <th>Explorer</th>\n",
       "      <td>2014</td>\n",
       "      <td>6.38</td>\n",
       "      <td>Ford</td>\n",
       "      <td>4</td>\n",
       "    </tr>\n",
       "    <tr>\n",
       "      <th>F-150</th>\n",
       "      <td>2136</td>\n",
       "      <td>5.53</td>\n",
       "      <td>Ford</td>\n",
       "      <td>4</td>\n",
       "    </tr>\n",
       "    <tr>\n",
       "      <th>Fusion</th>\n",
       "      <td>1492</td>\n",
       "      <td>8.50</td>\n",
       "      <td>Ford</td>\n",
       "      <td>4</td>\n",
       "    </tr>\n",
       "    <tr>\n",
       "      <th>Taurus</th>\n",
       "      <td>1652</td>\n",
       "      <td>7.65</td>\n",
       "      <td>Ford</td>\n",
       "      <td>4</td>\n",
       "    </tr>\n",
       "    <tr>\n",
       "      <th>Fit</th>\n",
       "      <td>1168</td>\n",
       "      <td>13.60</td>\n",
       "      <td>Honda</td>\n",
       "      <td>4</td>\n",
       "    </tr>\n",
       "    <tr>\n",
       "      <th>Accord</th>\n",
       "      <td>1492</td>\n",
       "      <td>9.78</td>\n",
       "      <td>Honda</td>\n",
       "      <td>4</td>\n",
       "    </tr>\n",
       "    <tr>\n",
       "      <th>CR-V</th>\n",
       "      <td>1602</td>\n",
       "      <td>8.93</td>\n",
       "      <td>Honda</td>\n",
       "      <td>4</td>\n",
       "    </tr>\n",
       "    <tr>\n",
       "      <th>Civic</th>\n",
       "      <td>1192</td>\n",
       "      <td>11.90</td>\n",
       "      <td>Honda</td>\n",
       "      <td>4</td>\n",
       "    </tr>\n",
       "    <tr>\n",
       "      <th>Ridgeline</th>\n",
       "      <td>2045</td>\n",
       "      <td>6.38</td>\n",
       "      <td>Honda</td>\n",
       "      <td>4</td>\n",
       "    </tr>\n",
       "  </tbody>\n",
       "</table>\n",
       "</div>"
      ],
      "text/plain": [
       "                massa (kg)  C (km/litro) marcas  Número de rodas\n",
       "modelo                                                          \n",
       "Focus                 1198         11.90   Ford                4\n",
       "Crown Victoria        1715          6.80   Ford                4\n",
       "Expedition            2530          5.53   Ford                4\n",
       "Explorer              2014          6.38   Ford                4\n",
       "F-150                 2136          5.53   Ford                4\n",
       "Fusion                1492          8.50   Ford                4\n",
       "Taurus                1652          7.65   Ford                4\n",
       "Fit                   1168         13.60  Honda                4\n",
       "Accord                1492          9.78  Honda                4\n",
       "CR-V                  1602          8.93  Honda                4\n",
       "Civic                 1192         11.90  Honda                4\n",
       "Ridgeline             2045          6.38  Honda                4"
      ]
     },
     "execution_count": 19,
     "metadata": {},
     "output_type": "execute_result"
    }
   ],
   "source": [
    "# Adicionando uma nova coluna com um valor padrão\n",
    "df['Número de rodas'] = 4\n",
    "df"
   ]
  },
  {
   "cell_type": "code",
   "execution_count": 23,
   "id": "b774a008",
   "metadata": {},
   "outputs": [
    {
     "data": {
      "text/html": [
       "<div>\n",
       "<style scoped>\n",
       "    .dataframe tbody tr th:only-of-type {\n",
       "        vertical-align: middle;\n",
       "    }\n",
       "\n",
       "    .dataframe tbody tr th {\n",
       "        vertical-align: top;\n",
       "    }\n",
       "\n",
       "    .dataframe thead th {\n",
       "        text-align: right;\n",
       "    }\n",
       "</style>\n",
       "<table border=\"1\" class=\"dataframe\">\n",
       "  <thead>\n",
       "    <tr style=\"text-align: right;\">\n",
       "      <th></th>\n",
       "      <th>massa (kg)</th>\n",
       "      <th>C (km/litro)</th>\n",
       "      <th>marcas</th>\n",
       "      <th>Número de rodas</th>\n",
       "    </tr>\n",
       "    <tr>\n",
       "      <th>modelo</th>\n",
       "      <th></th>\n",
       "      <th></th>\n",
       "      <th></th>\n",
       "      <th></th>\n",
       "    </tr>\n",
       "  </thead>\n",
       "  <tbody>\n",
       "    <tr>\n",
       "      <th>Focus</th>\n",
       "      <td>1198.000</td>\n",
       "      <td>11.90</td>\n",
       "      <td>Ford</td>\n",
       "      <td>4.0</td>\n",
       "    </tr>\n",
       "    <tr>\n",
       "      <th>Crown Victoria</th>\n",
       "      <td>1715.000</td>\n",
       "      <td>6.80</td>\n",
       "      <td>Ford</td>\n",
       "      <td>4.0</td>\n",
       "    </tr>\n",
       "    <tr>\n",
       "      <th>Expedition</th>\n",
       "      <td>2530.000</td>\n",
       "      <td>5.53</td>\n",
       "      <td>Ford</td>\n",
       "      <td>4.0</td>\n",
       "    </tr>\n",
       "    <tr>\n",
       "      <th>Explorer</th>\n",
       "      <td>2014.000</td>\n",
       "      <td>6.38</td>\n",
       "      <td>Ford</td>\n",
       "      <td>4.0</td>\n",
       "    </tr>\n",
       "    <tr>\n",
       "      <th>F-150</th>\n",
       "      <td>2136.000</td>\n",
       "      <td>5.53</td>\n",
       "      <td>Ford</td>\n",
       "      <td>4.0</td>\n",
       "    </tr>\n",
       "    <tr>\n",
       "      <th>Fusion</th>\n",
       "      <td>1492.000</td>\n",
       "      <td>8.50</td>\n",
       "      <td>Ford</td>\n",
       "      <td>4.0</td>\n",
       "    </tr>\n",
       "    <tr>\n",
       "      <th>Taurus</th>\n",
       "      <td>1652.000</td>\n",
       "      <td>7.65</td>\n",
       "      <td>Ford</td>\n",
       "      <td>4.0</td>\n",
       "    </tr>\n",
       "    <tr>\n",
       "      <th>Fit</th>\n",
       "      <td>1168.000</td>\n",
       "      <td>13.60</td>\n",
       "      <td>Honda</td>\n",
       "      <td>4.0</td>\n",
       "    </tr>\n",
       "    <tr>\n",
       "      <th>Accord</th>\n",
       "      <td>1492.000</td>\n",
       "      <td>9.78</td>\n",
       "      <td>Honda</td>\n",
       "      <td>4.0</td>\n",
       "    </tr>\n",
       "    <tr>\n",
       "      <th>CR-V</th>\n",
       "      <td>1602.000</td>\n",
       "      <td>8.93</td>\n",
       "      <td>Honda</td>\n",
       "      <td>4.0</td>\n",
       "    </tr>\n",
       "    <tr>\n",
       "      <th>Civic</th>\n",
       "      <td>1192.000</td>\n",
       "      <td>11.90</td>\n",
       "      <td>Honda</td>\n",
       "      <td>4.0</td>\n",
       "    </tr>\n",
       "    <tr>\n",
       "      <th>Ridgeline</th>\n",
       "      <td>2045.000</td>\n",
       "      <td>6.38</td>\n",
       "      <td>Honda</td>\n",
       "      <td>4.0</td>\n",
       "    </tr>\n",
       "    <tr>\n",
       "      <th>Fox</th>\n",
       "      <td>1.009</td>\n",
       "      <td>7.80</td>\n",
       "      <td>volkswagen</td>\n",
       "      <td>4.0</td>\n",
       "    </tr>\n",
       "  </tbody>\n",
       "</table>\n",
       "</div>"
      ],
      "text/plain": [
       "                massa (kg)  C (km/litro)      marcas  Número de rodas\n",
       "modelo                                                               \n",
       "Focus             1198.000         11.90        Ford              4.0\n",
       "Crown Victoria    1715.000          6.80        Ford              4.0\n",
       "Expedition        2530.000          5.53        Ford              4.0\n",
       "Explorer          2014.000          6.38        Ford              4.0\n",
       "F-150             2136.000          5.53        Ford              4.0\n",
       "Fusion            1492.000          8.50        Ford              4.0\n",
       "Taurus            1652.000          7.65        Ford              4.0\n",
       "Fit               1168.000         13.60       Honda              4.0\n",
       "Accord            1492.000          9.78       Honda              4.0\n",
       "CR-V              1602.000          8.93       Honda              4.0\n",
       "Civic             1192.000         11.90       Honda              4.0\n",
       "Ridgeline         2045.000          6.38       Honda              4.0\n",
       "Fox                  1.009          7.80  volkswagen              4.0"
      ]
     },
     "execution_count": 23,
     "metadata": {},
     "output_type": "execute_result"
    }
   ],
   "source": [
    "# Adicionando uma nova linha\n",
    "serie_fox = pd.Series({\n",
    "    'massa (kg)': 1.009,\n",
    "    'C (km/litro)': 7.8,\n",
    "    'marcas': 'volkswagen',\n",
    "    'Número de rodas': 4\n",
    "}, name='Fox')\n",
    "\n",
    "df.loc['Fox'] = serie_fox\n",
    "df"
   ]
  },
  {
   "cell_type": "code",
   "execution_count": 25,
   "id": "48aa9c5f",
   "metadata": {},
   "outputs": [
    {
     "data": {
      "text/html": [
       "<div>\n",
       "<style scoped>\n",
       "    .dataframe tbody tr th:only-of-type {\n",
       "        vertical-align: middle;\n",
       "    }\n",
       "\n",
       "    .dataframe tbody tr th {\n",
       "        vertical-align: top;\n",
       "    }\n",
       "\n",
       "    .dataframe thead th {\n",
       "        text-align: right;\n",
       "    }\n",
       "</style>\n",
       "<table border=\"1\" class=\"dataframe\">\n",
       "  <thead>\n",
       "    <tr style=\"text-align: right;\">\n",
       "      <th></th>\n",
       "      <th>massa (kg)</th>\n",
       "      <th>C (km/litro)</th>\n",
       "      <th>marcas</th>\n",
       "      <th>Número de rodas</th>\n",
       "    </tr>\n",
       "    <tr>\n",
       "      <th>modelo</th>\n",
       "      <th></th>\n",
       "      <th></th>\n",
       "      <th></th>\n",
       "      <th></th>\n",
       "    </tr>\n",
       "  </thead>\n",
       "  <tbody>\n",
       "    <tr>\n",
       "      <th>Focus</th>\n",
       "      <td>1198.0</td>\n",
       "      <td>11.90</td>\n",
       "      <td>Ford</td>\n",
       "      <td>4.0</td>\n",
       "    </tr>\n",
       "    <tr>\n",
       "      <th>Crown Victoria</th>\n",
       "      <td>1715.0</td>\n",
       "      <td>6.80</td>\n",
       "      <td>Ford</td>\n",
       "      <td>4.0</td>\n",
       "    </tr>\n",
       "    <tr>\n",
       "      <th>Expedition</th>\n",
       "      <td>2530.0</td>\n",
       "      <td>5.53</td>\n",
       "      <td>Ford</td>\n",
       "      <td>4.0</td>\n",
       "    </tr>\n",
       "    <tr>\n",
       "      <th>Explorer</th>\n",
       "      <td>2014.0</td>\n",
       "      <td>6.38</td>\n",
       "      <td>Ford</td>\n",
       "      <td>4.0</td>\n",
       "    </tr>\n",
       "    <tr>\n",
       "      <th>F-150</th>\n",
       "      <td>2136.0</td>\n",
       "      <td>5.53</td>\n",
       "      <td>Ford</td>\n",
       "      <td>4.0</td>\n",
       "    </tr>\n",
       "    <tr>\n",
       "      <th>Fusion</th>\n",
       "      <td>1492.0</td>\n",
       "      <td>8.50</td>\n",
       "      <td>Ford</td>\n",
       "      <td>4.0</td>\n",
       "    </tr>\n",
       "    <tr>\n",
       "      <th>Taurus</th>\n",
       "      <td>1652.0</td>\n",
       "      <td>7.65</td>\n",
       "      <td>Ford</td>\n",
       "      <td>4.0</td>\n",
       "    </tr>\n",
       "    <tr>\n",
       "      <th>Fit</th>\n",
       "      <td>1168.0</td>\n",
       "      <td>13.60</td>\n",
       "      <td>Honda</td>\n",
       "      <td>4.0</td>\n",
       "    </tr>\n",
       "    <tr>\n",
       "      <th>Accord</th>\n",
       "      <td>1492.0</td>\n",
       "      <td>9.78</td>\n",
       "      <td>Honda</td>\n",
       "      <td>4.0</td>\n",
       "    </tr>\n",
       "    <tr>\n",
       "      <th>CR-V</th>\n",
       "      <td>1602.0</td>\n",
       "      <td>8.93</td>\n",
       "      <td>Honda</td>\n",
       "      <td>4.0</td>\n",
       "    </tr>\n",
       "    <tr>\n",
       "      <th>Civic</th>\n",
       "      <td>1192.0</td>\n",
       "      <td>11.90</td>\n",
       "      <td>Honda</td>\n",
       "      <td>4.0</td>\n",
       "    </tr>\n",
       "    <tr>\n",
       "      <th>Ridgeline</th>\n",
       "      <td>2045.0</td>\n",
       "      <td>6.38</td>\n",
       "      <td>Honda</td>\n",
       "      <td>4.0</td>\n",
       "    </tr>\n",
       "    <tr>\n",
       "      <th>Fox</th>\n",
       "      <td>1100.0</td>\n",
       "      <td>8.50</td>\n",
       "      <td>volkswagen</td>\n",
       "      <td>4.0</td>\n",
       "    </tr>\n",
       "  </tbody>\n",
       "</table>\n",
       "</div>"
      ],
      "text/plain": [
       "                massa (kg)  C (km/litro)      marcas  Número de rodas\n",
       "modelo                                                               \n",
       "Focus               1198.0         11.90        Ford              4.0\n",
       "Crown Victoria      1715.0          6.80        Ford              4.0\n",
       "Expedition          2530.0          5.53        Ford              4.0\n",
       "Explorer            2014.0          6.38        Ford              4.0\n",
       "F-150               2136.0          5.53        Ford              4.0\n",
       "Fusion              1492.0          8.50        Ford              4.0\n",
       "Taurus              1652.0          7.65        Ford              4.0\n",
       "Fit                 1168.0         13.60       Honda              4.0\n",
       "Accord              1492.0          9.78       Honda              4.0\n",
       "CR-V                1602.0          8.93       Honda              4.0\n",
       "Civic               1192.0         11.90       Honda              4.0\n",
       "Ridgeline           2045.0          6.38       Honda              4.0\n",
       "Fox                 1100.0          8.50  volkswagen              4.0"
      ]
     },
     "execution_count": 25,
     "metadata": {},
     "output_type": "execute_result"
    }
   ],
   "source": [
    "# Modificando uma linha existente\n",
    "serie2_fox = pd.Series({\n",
    "    'massa (kg)': 1100,\n",
    "    'C (km/litro)': 8.5,\n",
    "    'marcas': 'volkswagen',\n",
    "    'Número de rodas': 4\n",
    "}, name='Fox')\n",
    "\n",
    "df.loc['Fox'] = serie2_fox\n",
    "df"
   ]
  },
  {
   "cell_type": "code",
   "execution_count": 26,
   "id": "d622ea44",
   "metadata": {},
   "outputs": [
    {
     "data": {
      "text/html": [
       "<div>\n",
       "<style scoped>\n",
       "    .dataframe tbody tr th:only-of-type {\n",
       "        vertical-align: middle;\n",
       "    }\n",
       "\n",
       "    .dataframe tbody tr th {\n",
       "        vertical-align: top;\n",
       "    }\n",
       "\n",
       "    .dataframe thead th {\n",
       "        text-align: right;\n",
       "    }\n",
       "</style>\n",
       "<table border=\"1\" class=\"dataframe\">\n",
       "  <thead>\n",
       "    <tr style=\"text-align: right;\">\n",
       "      <th></th>\n",
       "      <th>Massa</th>\n",
       "      <th>Consumo</th>\n",
       "      <th>Marcas</th>\n",
       "      <th>Número de rodas</th>\n",
       "    </tr>\n",
       "    <tr>\n",
       "      <th>modelo</th>\n",
       "      <th></th>\n",
       "      <th></th>\n",
       "      <th></th>\n",
       "      <th></th>\n",
       "    </tr>\n",
       "  </thead>\n",
       "  <tbody>\n",
       "    <tr>\n",
       "      <th>Focus</th>\n",
       "      <td>1198.0</td>\n",
       "      <td>11.90</td>\n",
       "      <td>Ford</td>\n",
       "      <td>4.0</td>\n",
       "    </tr>\n",
       "    <tr>\n",
       "      <th>Crown Victoria</th>\n",
       "      <td>1715.0</td>\n",
       "      <td>6.80</td>\n",
       "      <td>Ford</td>\n",
       "      <td>4.0</td>\n",
       "    </tr>\n",
       "    <tr>\n",
       "      <th>Expedition</th>\n",
       "      <td>2530.0</td>\n",
       "      <td>5.53</td>\n",
       "      <td>Ford</td>\n",
       "      <td>4.0</td>\n",
       "    </tr>\n",
       "    <tr>\n",
       "      <th>Explorer</th>\n",
       "      <td>2014.0</td>\n",
       "      <td>6.38</td>\n",
       "      <td>Ford</td>\n",
       "      <td>4.0</td>\n",
       "    </tr>\n",
       "    <tr>\n",
       "      <th>F-150</th>\n",
       "      <td>2136.0</td>\n",
       "      <td>5.53</td>\n",
       "      <td>Ford</td>\n",
       "      <td>4.0</td>\n",
       "    </tr>\n",
       "    <tr>\n",
       "      <th>Fusion</th>\n",
       "      <td>1492.0</td>\n",
       "      <td>8.50</td>\n",
       "      <td>Ford</td>\n",
       "      <td>4.0</td>\n",
       "    </tr>\n",
       "    <tr>\n",
       "      <th>Taurus</th>\n",
       "      <td>1652.0</td>\n",
       "      <td>7.65</td>\n",
       "      <td>Ford</td>\n",
       "      <td>4.0</td>\n",
       "    </tr>\n",
       "    <tr>\n",
       "      <th>Fit</th>\n",
       "      <td>1168.0</td>\n",
       "      <td>13.60</td>\n",
       "      <td>Honda</td>\n",
       "      <td>4.0</td>\n",
       "    </tr>\n",
       "    <tr>\n",
       "      <th>Accord</th>\n",
       "      <td>1492.0</td>\n",
       "      <td>9.78</td>\n",
       "      <td>Honda</td>\n",
       "      <td>4.0</td>\n",
       "    </tr>\n",
       "    <tr>\n",
       "      <th>CR-V</th>\n",
       "      <td>1602.0</td>\n",
       "      <td>8.93</td>\n",
       "      <td>Honda</td>\n",
       "      <td>4.0</td>\n",
       "    </tr>\n",
       "    <tr>\n",
       "      <th>Civic</th>\n",
       "      <td>1192.0</td>\n",
       "      <td>11.90</td>\n",
       "      <td>Honda</td>\n",
       "      <td>4.0</td>\n",
       "    </tr>\n",
       "    <tr>\n",
       "      <th>Ridgeline</th>\n",
       "      <td>2045.0</td>\n",
       "      <td>6.38</td>\n",
       "      <td>Honda</td>\n",
       "      <td>4.0</td>\n",
       "    </tr>\n",
       "    <tr>\n",
       "      <th>FOX</th>\n",
       "      <td>1100.0</td>\n",
       "      <td>8.50</td>\n",
       "      <td>volkswagen</td>\n",
       "      <td>4.0</td>\n",
       "    </tr>\n",
       "  </tbody>\n",
       "</table>\n",
       "</div>"
      ],
      "text/plain": [
       "                 Massa  Consumo      Marcas  Número de rodas\n",
       "modelo                                                      \n",
       "Focus           1198.0    11.90        Ford              4.0\n",
       "Crown Victoria  1715.0     6.80        Ford              4.0\n",
       "Expedition      2530.0     5.53        Ford              4.0\n",
       "Explorer        2014.0     6.38        Ford              4.0\n",
       "F-150           2136.0     5.53        Ford              4.0\n",
       "Fusion          1492.0     8.50        Ford              4.0\n",
       "Taurus          1652.0     7.65        Ford              4.0\n",
       "Fit             1168.0    13.60       Honda              4.0\n",
       "Accord          1492.0     9.78       Honda              4.0\n",
       "CR-V            1602.0     8.93       Honda              4.0\n",
       "Civic           1192.0    11.90       Honda              4.0\n",
       "Ridgeline       2045.0     6.38       Honda              4.0\n",
       "FOX             1100.0     8.50  volkswagen              4.0"
      ]
     },
     "execution_count": 26,
     "metadata": {},
     "output_type": "execute_result"
    }
   ],
   "source": [
    "# Modificando os nomes das linhas e colunas\n",
    "df.rename(\n",
    "    columns={\n",
    "        'massa (kg)': 'Massa',\n",
    "        'C (km/litro)': 'Consumo',\n",
    "        'marcas': 'Marcas'\n",
    "    },index={\n",
    "        'Fox':'FOX'\n",
    "    }, inplace=True)\n",
    "df"
   ]
  },
  {
   "cell_type": "markdown",
   "id": "09cea208",
   "metadata": {},
   "source": [
    "## Estatísticas\n",
    "\n",
    "Dado uma Serie, é possível extrair algumas informações estatísticas com funções disponibilizadas pelo Pandas. Isso pode ser muito útil para analisarmos os dados de uma coluna inteira.\n",
    "\n",
    "- `df['c'].min()` - Retorna o valor mínimo para coluna `c`\n",
    "\n",
    "- `df['c'].argmin()` - Retorna a posição da linha com valor mínimo para coluna `c`\n",
    "\n",
    "- `df['c'].max()` - Retorna o valor máximo para coluna `c`\n",
    "\n",
    "- `df['c'].argmax()` - Retorna a posição da linha com valor máximo para coluna `c`\n",
    "\n",
    "- `df['c'].sum()` - Retorna a soma dos valores para coluna `c`\n",
    "\n",
    "- `df['c'].mean()` - Retorna a média dos valores para coluna `c`\n",
    "\n",
    "- `df['c'].std()` - Retorna o desvio padrão dos valores para coluna `c`\n",
    "\n",
    "- `df['c'].median()` - Retorna a mediana dos valores para coluna `c`"
   ]
  },
  {
   "cell_type": "code",
   "execution_count": 27,
   "id": "4b4d2a0d",
   "metadata": {},
   "outputs": [
    {
     "data": {
      "text/plain": [
       "1100.0"
      ]
     },
     "execution_count": 27,
     "metadata": {},
     "output_type": "execute_result"
    }
   ],
   "source": [
    "# Valor mínimo\n",
    "df['Massa'].min()"
   ]
  },
  {
   "cell_type": "code",
   "execution_count": 28,
   "id": "e9d8ec8f",
   "metadata": {},
   "outputs": [
    {
     "data": {
      "text/plain": [
       "12"
      ]
     },
     "execution_count": 28,
     "metadata": {},
     "output_type": "execute_result"
    }
   ],
   "source": [
    "# Posição da linha de valor mínimo\n",
    "df['Massa'].argmin()"
   ]
  },
  {
   "cell_type": "code",
   "execution_count": 29,
   "id": "6571f8c1",
   "metadata": {},
   "outputs": [
    {
     "data": {
      "text/plain": [
       "2530.0"
      ]
     },
     "execution_count": 29,
     "metadata": {},
     "output_type": "execute_result"
    }
   ],
   "source": [
    "# Valor máximo\n",
    "df['Massa'].max()"
   ]
  },
  {
   "cell_type": "code",
   "execution_count": 31,
   "id": "8b5404ed",
   "metadata": {},
   "outputs": [
    {
     "data": {
      "text/plain": [
       "2"
      ]
     },
     "execution_count": 31,
     "metadata": {},
     "output_type": "execute_result"
    }
   ],
   "source": [
    "# Posição da linha de valor máximo\n",
    "df['Massa'].argmax()"
   ]
  },
  {
   "cell_type": "code",
   "execution_count": 32,
   "id": "a664e4a9",
   "metadata": {},
   "outputs": [
    {
     "data": {
      "text/plain": [
       "21336.0"
      ]
     },
     "execution_count": 32,
     "metadata": {},
     "output_type": "execute_result"
    }
   ],
   "source": [
    "# Soma dos valores\n",
    "df['Massa'].sum()"
   ]
  },
  {
   "cell_type": "code",
   "execution_count": 33,
   "id": "568d2527",
   "metadata": {},
   "outputs": [
    {
     "data": {
      "text/plain": [
       "1641.2307692307693"
      ]
     },
     "execution_count": 33,
     "metadata": {},
     "output_type": "execute_result"
    }
   ],
   "source": [
    "# Média dos valores\n",
    "df['Massa'].mean()"
   ]
  },
  {
   "cell_type": "code",
   "execution_count": 34,
   "id": "35afefb5",
   "metadata": {},
   "outputs": [
    {
     "data": {
      "text/plain": [
       "438.1276742849725"
      ]
     },
     "execution_count": 34,
     "metadata": {},
     "output_type": "execute_result"
    }
   ],
   "source": [
    "# Desvio padrão\n",
    "df['Massa'].std()"
   ]
  },
  {
   "cell_type": "code",
   "execution_count": 35,
   "id": "3c73eb4f",
   "metadata": {},
   "outputs": [
    {
     "data": {
      "text/plain": [
       "1602.0"
      ]
     },
     "execution_count": 35,
     "metadata": {},
     "output_type": "execute_result"
    }
   ],
   "source": [
    "# Mediana\n",
    "df['Massa'].median()"
   ]
  },
  {
   "cell_type": "markdown",
   "id": "055a70ab",
   "metadata": {},
   "source": [
    "## Matplotlib\n",
    "\n",
    "O Matplotlib é mais uma biblioteca de Python muito utilizada pelos cientistas de dados. Essa biblioteca fornece ferramentas voltadas para **visualização de dados**.\n",
    "\n",
    "### Plot\n",
    "\n",
    "O gráfico mais simples da Matplotlib são os gráficos Plot que vão traçar em um plano cartesiano associações entre duas listas (ou arrays Numpy, ou valores numéricos das Series), onde a primeira lista será o eixo $x$ e a segundo o eixo $y$.\n",
    "\n",
    "A função que utilizaremos é a `plt.plot()`, deveremos passar duas listas(arrays Numpy, ou Series) de mesmo tamanho. Além disso, podemos modificar a cor da linha traçada, seu desenho, adicionar títulos e legendas.\n",
    "\n",
    "Por último, podemos traçar mais de uma linha por gráfico."
   ]
  },
  {
   "cell_type": "code",
   "execution_count": 36,
   "id": "eae33480",
   "metadata": {},
   "outputs": [],
   "source": [
    "import matplotlib.pyplot as plt"
   ]
  },
  {
   "cell_type": "code",
   "execution_count": 37,
   "id": "43167fec",
   "metadata": {},
   "outputs": [
    {
     "name": "stdout",
     "output_type": "stream",
     "text": [
      "[0, 1, 2, 3, 4, 5, 6, 7, 8, 9]\n",
      "[0, 1, 2, 3, 4, 5, 6, 7, 8, 9]\n"
     ]
    },
    {
     "data": {
      "text/plain": [
       "[<matplotlib.lines.Line2D at 0x7f9ec9a67e20>]"
      ]
     },
     "execution_count": 37,
     "metadata": {},
     "output_type": "execute_result"
    },
    {
     "data": {
      "image/png": "[encoded data removed]",
      "text/plain": [
       "<Figure size 432x288 with 1 Axes>"
      ]
     },
     "metadata": {
      "needs_background": "light"
     },
     "output_type": "display_data"
    }
   ],
   "source": [
    "# Traçando uma reta (y = x)\n",
    "x = [i for i in range(10)]\n",
    "print(x)\n",
    "y = x\n",
    "print(y)\n",
    "plt.plot(x, y)"
   ]
  },
  {
   "cell_type": "code",
   "execution_count": 38,
   "id": "3ecaa959",
   "metadata": {},
   "outputs": [
    {
     "name": "stdout",
     "output_type": "stream",
     "text": [
      "[0, 1, 2, 3, 4, 5, 6, 7, 8, 9]\n",
      "[0, 1, 4, 9, 16, 25, 36, 49, 64, 81]\n"
     ]
    },
    {
     "data": {
      "text/plain": [
       "[<matplotlib.lines.Line2D at 0x7f9ec91c6a60>]"
      ]
     },
     "execution_count": 38,
     "metadata": {},
     "output_type": "execute_result"
    },
    {
     "data": {
      "image/png": "[encoded data removed]",
      "text/plain": [
       "<Figure size 432x288 with 1 Axes>"
      ]
     },
     "metadata": {
      "needs_background": "light"
     },
     "output_type": "display_data"
    }
   ],
   "source": [
    "# Traçando uma curva (y = x^2)\n",
    "# plt.plot(x, y)\n",
    "x2 = [i for i in range(10)]\n",
    "print(x2)\n",
    "y2 = [i**2 for i in x2]\n",
    "print(y2)\n",
    "plt.plot(x2, y2)"
   ]
  },
  {
   "cell_type": "code",
   "execution_count": 39,
   "id": "dd407a9f",
   "metadata": {},
   "outputs": [
    {
     "data": {
      "text/plain": [
       "[<matplotlib.lines.Line2D at 0x7f9ec913aa90>]"
      ]
     },
     "execution_count": 39,
     "metadata": {},
     "output_type": "execute_result"
    },
    {
     "data": {
      "image/png": "[encoded data removed]",
      "text/plain": [
       "<Figure size 432x288 with 1 Axes>"
      ]
     },
     "metadata": {
      "needs_background": "light"
     },
     "output_type": "display_data"
    }
   ],
   "source": [
    "# Alterando a cor\n",
    "# r -> red\n",
    "# b -> blue\n",
    "# g -> green\n",
    "# y -> yellow\n",
    "plt.plot(x2, y2, 'y')"
   ]
  },
  {
   "cell_type": "code",
   "execution_count": 40,
   "id": "d02b433e",
   "metadata": {},
   "outputs": [
    {
     "data": {
      "text/plain": [
       "[<matplotlib.lines.Line2D at 0x7f9ec90a2cd0>]"
      ]
     },
     "execution_count": 40,
     "metadata": {},
     "output_type": "execute_result"
    },
    {
     "data": {
      "image/png": "[encoded data removed]",
      "text/plain": [
       "<Figure size 432x288 with 1 Axes>"
      ]
     },
     "metadata": {
      "needs_background": "light"
     },
     "output_type": "display_data"
    }
   ],
   "source": [
    "# Alterando o estilo da linha - -. :\n",
    "plt.plot(x2, y2, 'r:')"
   ]
  },
  {
   "cell_type": "code",
   "execution_count": 41,
   "id": "d35aa6ff",
   "metadata": {},
   "outputs": [
    {
     "data": {
      "text/plain": [
       "[<matplotlib.lines.Line2D at 0x7f9ec901e100>]"
      ]
     },
     "execution_count": 41,
     "metadata": {},
     "output_type": "execute_result"
    },
    {
     "data": {
      "image/png": "[encoded data removed]",
      "text/plain": [
       "<Figure size 432x288 with 1 Axes>"
      ]
     },
     "metadata": {
      "needs_background": "light"
     },
     "output_type": "display_data"
    }
   ],
   "source": [
    "# Múltiplos gráficos\n",
    "plt.plot(x, y, 'b')\n",
    "plt.plot(x2, y2, 'r:')"
   ]
  },
  {
   "cell_type": "code",
   "execution_count": 42,
   "id": "73d891c9",
   "metadata": {},
   "outputs": [
    {
     "data": {
      "text/plain": [
       "[<matplotlib.lines.Line2D at 0x7f9ec900a670>]"
      ]
     },
     "execution_count": 42,
     "metadata": {},
     "output_type": "execute_result"
    },
    {
     "data": {
      "image/png": "[encoded data removed]",
      "text/plain": [
       "<Figure size 432x288 with 1 Axes>"
      ]
     },
     "metadata": {
      "needs_background": "light"
     },
     "output_type": "display_data"
    }
   ],
   "source": [
    "# Título plt.title()\n",
    "plt.title(\"Comparações entre funções\")\n",
    "plt.plot(x, y, 'b')\n",
    "plt.plot(x2, y2, 'r:')"
   ]
  },
  {
   "cell_type": "code",
   "execution_count": 43,
   "id": "5abeac33",
   "metadata": {},
   "outputs": [
    {
     "data": {
      "text/plain": [
       "<matplotlib.legend.Legend at 0x7f9ec8f6ebb0>"
      ]
     },
     "execution_count": 43,
     "metadata": {},
     "output_type": "execute_result"
    },
    {
     "data": {
      "image/png": "[encoded data removed]",
      "text/plain": [
       "<Figure size 432x288 with 1 Axes>"
      ]
     },
     "metadata": {
      "needs_background": "light"
     },
     "output_type": "display_data"
    }
   ],
   "source": [
    "# Legenda interna - label = '', plt.legend()\n",
    "plt.title(\"Comparações entre funções\")\n",
    "plt.plot(x, y, 'b', label='y = x')\n",
    "plt.plot(x2, y2, 'r:', label='y = x^2')\n",
    "plt.legend()"
   ]
  },
  {
   "cell_type": "markdown",
   "id": "66d5bde6",
   "metadata": {},
   "source": [
    "### Histogramas\n",
    "\n",
    "Outro tipo de gráfico muito importante são os histogramas. Esses gráficos expressam a frequência em que determinado valor aconteceu em uma lista. Para criarmos esse tipo de gráfico, utilizaremos a função `plt.hist()` que vai receber apenas uma lista (ou array Numpy, ou Serie).\n",
    "\n",
    "Podemos modificar sua cor e adicionar títulos."
   ]
  },
  {
   "cell_type": "code",
   "execution_count": 44,
   "id": "92867a0c",
   "metadata": {},
   "outputs": [
    {
     "data": {
      "text/plain": [
       "Text(0.5, 1.0, 'Histograma')"
      ]
     },
     "execution_count": 44,
     "metadata": {},
     "output_type": "execute_result"
    },
    {
     "data": {
      "image/png": "[encoded data removed]",
      "text/plain": [
       "<Figure size 432x288 with 1 Axes>"
      ]
     },
     "metadata": {
      "needs_background": "light"
     },
     "output_type": "display_data"
    }
   ],
   "source": [
    "# Exemplo histograma\n",
    "data = [1, 2, 1, 4, 6, 6, 4, 1]\n",
    "plt.hist(data, color='b')\n",
    "plt.title(\"Histograma\")"
   ]
  },
  {
   "cell_type": "markdown",
   "id": "869c4b12",
   "metadata": {},
   "source": [
    "## Exercício 1\n",
    "\n",
    "- Qual modelo de carro com menor massa?\n",
    "- Qual modelo de carro mais econômico?"
   ]
  },
  {
   "cell_type": "code",
   "execution_count": 53,
   "id": "68993e98",
   "metadata": {},
   "outputs": [
    {
     "name": "stdout",
     "output_type": "stream",
     "text": [
      "FOX\n",
      "Fit\n"
     ]
    }
   ],
   "source": [
    "linha_menor_massa = df['Massa'].argmin()\n",
    "print(df.iloc[linha_menor_massa].name)\n",
    "\n",
    "linha_maior_consumo = df['Consumo'].argmax()\n",
    "print(df.iloc[linha_maior_consumo].name)"
   ]
  },
  {
   "cell_type": "markdown",
   "id": "8e93f586",
   "metadata": {},
   "source": [
    "## Exercício 2\n",
    "\n",
    "Construa uma subtabela apenas com veículos de massa menor do que `2000`. Qual a média de consumos desses veículos?"
   ]
  },
  {
   "cell_type": "code",
   "execution_count": 57,
   "id": "3728c96c",
   "metadata": {},
   "outputs": [
    {
     "data": {
      "text/plain": [
       "9.72888888888889"
      ]
     },
     "execution_count": 57,
     "metadata": {},
     "output_type": "execute_result"
    }
   ],
   "source": [
    "dff = df[df['Massa'] < 2000]\n",
    "dff['Consumo'].mean()"
   ]
  },
  {
   "cell_type": "markdown",
   "id": "0c9d0434",
   "metadata": {},
   "source": [
    "## Exercício 3\n",
    "\n",
    "Construa um histograma da marca dos veículos."
   ]
  },
  {
   "cell_type": "code",
   "execution_count": 61,
   "id": "3deac70e",
   "metadata": {},
   "outputs": [
    {
     "data": {
      "text/plain": [
       "Text(0.5, 1.0, 'Histograma Marcas')"
      ]
     },
     "execution_count": 61,
     "metadata": {},
     "output_type": "execute_result"
    },
    {
     "data": {
      "image/png": "[encoded data removed]",
      "text/plain": [
       "<Figure size 432x288 with 1 Axes>"
      ]
     },
     "metadata": {
      "needs_background": "light"
     },
     "output_type": "display_data"
    }
   ],
   "source": [
    "plt.hist(df['Marcas'], color='b')\n",
    "plt.title(\"Histograma Marcas\")"
   ]
  },
  {
   "cell_type": "code",
   "execution_count": null,
   "id": "3dec60f8",
   "metadata": {},
   "outputs": [],
   "source": []
  }
 ],
 "metadata": {
  "kernelspec": {
   "display_name": "Python 3",
   "language": "python",
   "name": "python3"
  },
  "language_info": {
   "codemirror_mode": {
    "name": "ipython",
    "version": 3
   },
   "file_extension": ".py",
   "mimetype": "text/x-python",
   "name": "python",
   "nbconvert_exporter": "python",
   "pygments_lexer": "ipython3",
   "version": "3.9.7"
  }
 },
 "nbformat": 4,
 "nbformat_minor": 5
}
