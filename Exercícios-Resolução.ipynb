{
 "cells": [
  {
   "cell_type": "code",
   "execution_count": 4,
   "id": "c647dc8a",
   "metadata": {},
   "outputs": [
    {
     "name": "stdout",
     "output_type": "stream",
     "text": [
      "True\n",
      "True\n"
     ]
    }
   ],
   "source": [
    "# Exercício 0\n",
    "# Faça um código que troca o valor de duas variáveis\n",
    "\n",
    "a = 1\n",
    "b = 10\n",
    "\n",
    "a, b = b, a\n",
    "\n",
    "print(a == 10)\n",
    "print(b == 1)"
   ]
  },
  {
   "cell_type": "raw",
   "id": "b375c99a",
   "metadata": {},
   "source": []
  },
  {
   "cell_type": "code",
   "execution_count": 1,
   "id": "cc0be9fa",
   "metadata": {},
   "outputs": [
    {
     "name": "stdout",
     "output_type": "stream",
     "text": [
      "True\n",
      "True\n",
      "True\n"
     ]
    }
   ],
   "source": [
    "# Exercício 1\n",
    "# Implemente uma função que recebe o número de horas trabalhadas por um funcionário, \n",
    "# o valor que recebe por hora e retorna o salário desse funcionário\n",
    "\n",
    "# Função:\n",
    "def calcula_salario(total, valor_hora):\n",
    "    return total * valor_hora\n",
    "\n",
    "    \n",
    "# Testes:\n",
    "print(calcula_salario(100, 5.5) == 550.0)\n",
    "\n",
    "print(calcula_salario(200, 20.50) == 4100.0)\n",
    "\n",
    "print(calcula_salario(145, 15.55) == 2254.75)"
   ]
  },
  {
   "cell_type": "code",
   "execution_count": 5,
   "id": "03d1eb6e",
   "metadata": {},
   "outputs": [
    {
     "name": "stdout",
     "output_type": "stream",
     "text": [
      "True\n",
      "True\n",
      "True\n"
     ]
    }
   ],
   "source": [
    "# Exercício 2\n",
    "# Implemente uma função que recebe uma lista e inverte ele própria sem utilizar a função reverse()\n",
    "\n",
    "# Função:\n",
    "def inverte(lista):\n",
    "    i = 0\n",
    "    j = len(lista) - 1\n",
    "    \n",
    "    while i < j:\n",
    "        lista[i], lista[j] = lista[j], lista[i]\n",
    "        i += 1\n",
    "        j -= 1\n",
    "        \n",
    "    return\n",
    "\n",
    "    \n",
    "# Testes:\n",
    "l1 = [1, 2, 3, 4, 5]\n",
    "l2 = [1]\n",
    "l3 = [1, 2, 3, 3, 2, 1]\n",
    "\n",
    "inverte(l1)\n",
    "inverte(l2)\n",
    "inverte(l3)\n",
    "print(l1 == [5, 4, 3, 2, 1])\n",
    "\n",
    "print(l2 == [1])\n",
    "\n",
    "print(l3 == [1, 2, 3, 3, 2, 1])"
   ]
  },
  {
   "cell_type": "code",
   "execution_count": 10,
   "id": "57b5f7b6",
   "metadata": {},
   "outputs": [
    {
     "name": "stdout",
     "output_type": "stream",
     "text": [
      "True\n",
      "True\n",
      "True\n"
     ]
    }
   ],
   "source": [
    "# Exercício 3\n",
    "# Implemente uma função que intrelaça duas listas\n",
    "\n",
    "# Função:\n",
    "def intrelaca(list_1, list_2):\n",
    "    list_3 = []\n",
    "    len_3 = len(list_1) + len(list_2)\n",
    "    i = 0\n",
    "    j = 0\n",
    "    \n",
    "    while (i + j) < len_3:\n",
    "        if i < len(list_1):\n",
    "            list_3.append(list_1[i])\n",
    "            i += 1\n",
    "        if j < len(list_2):\n",
    "            list_3.append(list_2[j])\n",
    "            j += 1\n",
    "    \n",
    "    return list_3\n",
    "\n",
    "# Testes:\n",
    "print(intrelaca([1, 3, 5], [2, 4, 6]) == [1, 2, 3, 4, 5, 6])\n",
    "\n",
    "print(intrelaca(['a', 'b', 'c'], ['A', 'B', 'C']) == ['a', 'A', 'b', 'B', 'c', 'C'])\n",
    "\n",
    "print(intrelaca([1], [2, 4, 6]) == [1, 2, 4, 6])"
   ]
  },
  {
   "cell_type": "code",
   "execution_count": 32,
   "id": "44af77d0",
   "metadata": {},
   "outputs": [
    {
     "name": "stdout",
     "output_type": "stream",
     "text": [
      "True\n",
      "True\n",
      "True\n"
     ]
    }
   ],
   "source": [
    "# Exercício 4\n",
    "# Implemente uma função que recebe duas listas, a primeira com a distância dos jogadores de um time A (que ataca)\n",
    "# até a linha do gol e uma segunda lista com as distância dos jogadores do time B (que defende)\n",
    "# até a mesma linha do gol. A função deve determinar se existe algum jogador do time A em posição de impedimento\n",
    "\n",
    "# Um jogador não está impedido se:\n",
    "# - ele está na mesma linha que o penúltimo adversário ou\n",
    "# - ele está na mesma linha que os dois últimos adversários.\n",
    "\n",
    "# Funcao:\n",
    "def esta_impedido(time_A, time_B):\n",
    "    jogador_a = min(time_A)\n",
    "    cnt = 0\n",
    "    for jogador_b in time_B:\n",
    "        if jogador_b <= jogador_a:\n",
    "            cnt += 1 \n",
    "\n",
    "    if cnt < 2:\n",
    "        return True\n",
    "    return False\n",
    "\n",
    "# Testes:\n",
    "\n",
    "print(esta_impedido([500, 700], [700, 500, 500]) == False)\n",
    "\n",
    "print(esta_impedido([200, 400], [200, 1000]) == True)\n",
    "\n",
    "print(esta_impedido([530, 510, 490], [480, 470, 50, 310]) == False)"
   ]
  },
  {
   "cell_type": "code",
   "execution_count": 35,
   "id": "18ec5d1e",
   "metadata": {},
   "outputs": [
    {
     "name": "stdout",
     "output_type": "stream",
     "text": [
      "True\n",
      "True\n",
      "True\n"
     ]
    }
   ],
   "source": [
    "# Exercício 5\n",
    "# Em um jogo de dardos, a pontuação por arremesso é calculada pela distância em que se jogou o dardo\n",
    "# multiplicado pelo valor marcado na região que o dardo atingiu. Implemente uma função que recebe duas listas\n",
    "# que indica os arremessos de dois jogadores, cada arremesso é representado por uma tupla (distancia, valor).\n",
    "# A função deve determinar qual jogador ganhou ou se foi empate.\n",
    "\n",
    "# Função:\n",
    "def quem_ganhou(jogador_1, jogador_2):\n",
    "    pontuacao_1 = 0\n",
    "    pontuacao_2 = 0\n",
    "    \n",
    "    for dist, score in jogador_1:\n",
    "        pontuacao_1 += (dist * score)\n",
    "        \n",
    "    for dist, score in jogador_2:\n",
    "        pontuacao_2 += (dist * score)\n",
    "        \n",
    "    if (pontuacao_1 > pontuacao_2):\n",
    "        return \"Jogador 1\"\n",
    "    elif(pontuacao_2 > pontuacao_1):\n",
    "        return \"Jogador 2\"\n",
    "    return \"Empate\"\n",
    "    \n",
    "# Testes:\n",
    "\n",
    "print(quem_ganhou([(10, 50), (5, 20), (2, 30)], [(10, 10), (5, 10), (2, 50)]) == \"Jogador 1\")\n",
    "\n",
    "print(quem_ganhou([(10, 10), (5, 10), (2, 50)], [(10, 50), (5, 20), (2, 30)]) == \"Jogador 2\")\n",
    "\n",
    "print(quem_ganhou([(10, 10), (5, 10), (2, 50)], [(10, 10), (5, 10), (2, 50)]) == \"Empate\")"
   ]
  },
  {
   "cell_type": "code",
   "execution_count": 39,
   "id": "2101d168",
   "metadata": {},
   "outputs": [
    {
     "name": "stdout",
     "output_type": "stream",
     "text": [
      "['Flavio']\n",
      "True\n",
      "['Flavio', 'Maria']\n",
      "True\n",
      "['Flavio', 'Joao', 'Maria']\n",
      "True\n"
     ]
    }
   ],
   "source": [
    "# Exercício 6\n",
    "# Implemente uma função que recebe uma lista de tuplas do tipo (Nome do aluno, nota) e retorna uma lista com\n",
    "# qual o aluno obteve a maior nota, em caso de empate a lista deve ter o nome de todos os alunos que \n",
    "# obtiveram a maior nota. A lista deve estar ordenada lexograficamente\n",
    "\n",
    "# Funcao:\n",
    "def maior_nota(lista):\n",
    "    dic = dict(lista)\n",
    "    maior_nota = max(dic.values())\n",
    "    \n",
    "    alunos = [key for key, value in dic.items() if value == maior_nota]\n",
    "    alunos.sort()\n",
    "    \n",
    "    return alunos\n",
    "\n",
    "\n",
    "# Testes:\n",
    "print(maior_nota([(\"Joao\", 6.7), (\"Maria\", 5.4), (\"Flavio\", 8.5)]) == [\"Flavio\"])\n",
    "\n",
    "print(maior_nota([(\"Joao\", 6.7), (\"Maria\", 8.5), (\"Flavio\", 8.5)]) == [\"Flavio\", \"Maria\"])\n",
    "\n",
    "print(maior_nota([(\"Joao\", 8.5), (\"Maria\", 8.5), (\"Flavio\", 8.5)]) == [\"Flavio\", \"Joao\", \"Maria\"])"
   ]
  },
  {
   "cell_type": "code",
   "execution_count": 50,
   "id": "f28bb970",
   "metadata": {},
   "outputs": [
    {
     "name": "stdout",
     "output_type": "stream",
     "text": [
      "{100: 5, 50: 1, 20: 1, 5: 1, 1: 1}\n"
     ]
    }
   ],
   "source": [
    "# Exercício 7\n",
    "# Implemente uma função que recebe um valor inteiro que representa uma quantia em dinheiro e determina\n",
    "# a quantidade mínima de notas possíveis para representar esse valor, notas disponíveis\n",
    "# (100, 50, 20, 10 , 5, 2, 1). Exiba quanto de cada nota foi utilizada\n",
    "\n",
    "cedulas = [100, 50, 20, 10, 5, 2, 1]\n",
    "\n",
    "# Função:\n",
    "def passa_cedulas(valor):\n",
    "    dic = {}\n",
    "    \n",
    "    for cedula in cedulas:\n",
    "        if valor >= cedula:\n",
    "            dic[cedula] = valor // cedula\n",
    "            valor -= (dic[cedula] * cedula)\n",
    "\n",
    "    print(dic)\n",
    "\n",
    "passa_cedulas(576)"
   ]
  },
  {
   "cell_type": "code",
   "execution_count": null,
   "id": "7dba9f37",
   "metadata": {},
   "outputs": [],
   "source": []
  }
 ],
 "metadata": {
  "kernelspec": {
   "display_name": "Python 3",
   "language": "python",
   "name": "python3"
  },
  "language_info": {
   "codemirror_mode": {
    "name": "ipython",
    "version": 3
   },
   "file_extension": ".py",
   "mimetype": "text/x-python",
   "name": "python",
   "nbconvert_exporter": "python",
   "pygments_lexer": "ipython3",
   "version": "3.9.7"
  }
 },
 "nbformat": 4,
 "nbformat_minor": 5
}
