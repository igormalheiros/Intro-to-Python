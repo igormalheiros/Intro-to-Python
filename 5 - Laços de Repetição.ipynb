{
 "cells": [
  {
   "cell_type": "markdown",
   "id": "d1ee0f49",
   "metadata": {},
   "source": [
    "# Introdução à Programação para Ciência de Dados\n",
    "\n",
    "### Aula 5: Laços de Repetição\n",
    "\n",
    "**Professor:** Igor Malheiros"
   ]
  },
  {
   "cell_type": "markdown",
   "id": "3ffcc640",
   "metadata": {},
   "source": [
    "## Laços de repetição\n",
    "\n",
    "### Laços e Iterações\n",
    "\n",
    "Nesta aula iremos aprender como executar blocos de instruções repetidamente, sem precisar duplicar código. Em geral, os computadores são muito bons para repetir instruções. Os laços repetem um bloco de comandos até que uma expressão seja avaliada como falsa, chamamos isso de *condição de parada* de um laço (ou *loop*) de repetição.\n",
    "\n",
    "Fazendo uma associação com uma receita de bolo que utilizamos em aulas passadas. Nós podemos imaginar um determinado passo da receita que diz:\n",
    "\n",
    "<br>\n",
    "<br>\n",
    "<br>\n",
    "\n",
    "*Misture os ingredientes até que a massa fique homogênea*.\n",
    "\n",
    "<br>\n",
    "<br>\n",
    "<br>\n",
    "\n",
    "Nesse caso, nossa condição de parada seria **até que a massa fique homogênea** e, enquanto essa condição não seja avaliada como verdadeira, ou seja, enquanto a massa não estiver homogênea, nós devemos continuar misturando os ingredientes. **Misture os ingredientes** é comando que será repetido.\n",
    "\n",
    "<img src=\"assets/loop-flow.png\">\n",
    "\n",
    "Cada vez que uma repetição é executada dentro do laço, nós dizemos que uma **iteração** do laço aconteceu.\n",
    "\n",
    "Devemos sempre estar atentos à condição de parada. Caso ela seja sempre *falsa*, significa que os comandos **nunca** serão executados, ou que não houve **nenhuma** iteração! Caso a condição de parada seja sempre *verdadeira*, significa que os comandos serão executados **infinitamente**, ou que teremos **infinitas** iterações. Chamamos esse último caso de **loops infinitos**.\n",
    "\n",
    "Em geral, ambos os casos são *bugs* gerados pelo programador, exceto em algumas exceções. O ideal é que o laço se repita, mas uma quantidade finita de vezes, assim, podemos utilizar alguma variável que vai pouco a pouco sendo alterada e que possamos avaliá-la na condição de parada.\n",
    "\n",
    "## While\n",
    "\n",
    "Uma das formas de construirmos os laços de repetição em Python é utilizando o comando `while`. Ele vai repetir um bloco de comandos **enquanto** uma dada condição seja verdadeira.\n",
    "\n",
    "A condição de repetição deve ser um valor ou expressão booleana. Porém, o ideal é que essa condição em algum momento seja `False` para evitar uma repetição infinita.\n",
    "\n",
    "```Python\n",
    "contador = 5\n",
    "\n",
    "while contador > 0:\n",
    "    print(contador)\n",
    "    contador = contador - 1\n",
    "    \n",
    "print(\"Boom!\")\n",
    "```\n",
    "\n",
    "Dentro do `while` nós podemos utilizar o comando `continue` que vai levar o fluxo do programa imediatamente para a avaliação da condição do `while`.\n",
    "\n",
    "Além disso, nós também podemos utilizar o comando `break` que vai interromper imediatamente o laço de repetição."
   ]
  },
  {
   "cell_type": "code",
   "execution_count": 1,
   "id": "da7bee93",
   "metadata": {},
   "outputs": [],
   "source": [
    "# Exemplo contador"
   ]
  },
  {
   "cell_type": "code",
   "execution_count": 2,
   "id": "1517ab20",
   "metadata": {},
   "outputs": [],
   "source": [
    "# Exemplo while não executado"
   ]
  },
  {
   "cell_type": "code",
   "execution_count": 3,
   "id": "c2668256",
   "metadata": {},
   "outputs": [],
   "source": [
    "# Exemplo while infinito"
   ]
  },
  {
   "cell_type": "code",
   "execution_count": 4,
   "id": "38816667",
   "metadata": {},
   "outputs": [],
   "source": [
    "# Utilizando continue"
   ]
  },
  {
   "cell_type": "code",
   "execution_count": 5,
   "id": "b9620a01",
   "metadata": {},
   "outputs": [],
   "source": [
    "# Utilizando break"
   ]
  },
  {
   "cell_type": "markdown",
   "id": "9ac793ab",
   "metadata": {},
   "source": [
    "## For\n",
    "\n",
    "Outra forma de construirmos os laços de repetição em Python é utilizando o comando `for`. Ele também vai repetir um bloco de comandos, mas nós iremos definir exatamente os elementos que queremos iterar em vez de utilizarmos uma condição de parada.\n",
    "\n",
    "Dessa forma, o `for` fornece mais controle do que o `while` do bloco de comandos que está sendo repetido, visto que conhecemos os valores que o laço vai iterar. Embora possamos sempre substituir `while` por `for` e vice-versa, existem situações em que é mais conveniente o uso do `while` e outras em que é mais conveniente o uso do `for`.\n",
    "\n",
    "Por enquanto utilizaremos a função `range()` para definir um intervalo de números inteiros que iremos iterar. Uma variável de controle definida junto ao comando `for` vai assumir o valor de cada elemento definido pela função `range()` uma vez em cada iteração."
   ]
  },
  {
   "cell_type": "code",
   "execution_count": 6,
   "id": "66f4da24",
   "metadata": {},
   "outputs": [],
   "source": [
    "# for com range(stop)"
   ]
  },
  {
   "cell_type": "code",
   "execution_count": 7,
   "id": "062c3050",
   "metadata": {},
   "outputs": [],
   "source": [
    "# for com range(start, stop)"
   ]
  },
  {
   "cell_type": "code",
   "execution_count": 8,
   "id": "e3f42253",
   "metadata": {},
   "outputs": [],
   "source": [
    "# for com range(start, stop, step)"
   ]
  },
  {
   "cell_type": "code",
   "execution_count": 11,
   "id": "641c6fec",
   "metadata": {},
   "outputs": [],
   "source": [
    "# for invertido"
   ]
  },
  {
   "cell_type": "markdown",
   "id": "3dc94a4c",
   "metadata": {},
   "source": [
    "## Exercício 1\n",
    "\n",
    "Faça um programa que lê um número inteiro $n$ digitado pelo usuário e imprime a soma dos valores de $1$ até $n$."
   ]
  },
  {
   "cell_type": "code",
   "execution_count": null,
   "id": "0771badf",
   "metadata": {},
   "outputs": [],
   "source": []
  },
  {
   "cell_type": "markdown",
   "id": "3ef2f7db",
   "metadata": {},
   "source": [
    "## Exercício 2\n",
    "\n",
    "Faça um programa que lê um número inteiro $n$ digitado pelo usuário e imprime os valores pares de $1$ até $n$."
   ]
  },
  {
   "cell_type": "code",
   "execution_count": null,
   "id": "918890c5",
   "metadata": {},
   "outputs": [],
   "source": []
  },
  {
   "cell_type": "markdown",
   "id": "a13b339f",
   "metadata": {},
   "source": [
    "## Exercício 3\n",
    "\n",
    "Faça um programa que lê um número inteiro $n$ e imprime quantos dígitos $n$ possui."
   ]
  },
  {
   "cell_type": "code",
   "execution_count": null,
   "id": "00149515",
   "metadata": {},
   "outputs": [],
   "source": []
  }
 ],
 "metadata": {
  "kernelspec": {
   "display_name": "Python 3",
   "language": "python",
   "name": "python3"
  },
  "language_info": {
   "codemirror_mode": {
    "name": "ipython",
    "version": 3
   },
   "file_extension": ".py",
   "mimetype": "text/x-python",
   "name": "python",
   "nbconvert_exporter": "python",
   "pygments_lexer": "ipython3",
   "version": "3.9.7"
  }
 },
 "nbformat": 4,
 "nbformat_minor": 5
}
